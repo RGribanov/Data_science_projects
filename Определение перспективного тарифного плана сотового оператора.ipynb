{
 "cells": [
  {
   "cell_type": "markdown",
   "metadata": {},
   "source": [
    "# План работ\n",
    "1. Импортируем необходимые дял работы библиотеки\n",
    "2. Подключимся к файлу данных, размещённому по следующему адресу: `/datasets/users_behavior.csv`.\n",
    "3. Произведём разделение исходных данные на обучающую, валидационную и тестовую выборки.\n",
    "4. Проведём исследование качества разных моделей, изменяя гиперпараметры.\n",
    "5. Проверим качество модели на тестовой выборке, с подобранными гиперпараметрами.\n",
    "6. Проведём проверку модели на вменяемость."
   ]
  },
  {
   "cell_type": "markdown",
   "metadata": {},
   "source": [
    "# Рекомендация тарифов"
   ]
  },
  {
   "cell_type": "markdown",
   "metadata": {},
   "source": [
    "В вашем распоряжении данные о поведении клиентов, которые уже перешли на эти тарифы (из проекта курса «Статистический анализ данных»). Нужно построить модель для задачи классификации, которая выберет подходящий тариф. Предобработка данных не понадобится — вы её уже сделали.\n",
    "\n",
    "Постройте модель с максимально большим значением *accuracy*. Чтобы сдать проект успешно, нужно довести долю правильных ответов по крайней мере до 0.75. Проверьте *accuracy* на тестовой выборке самостоятельно.\n",
    "\n",
    "**Описание данных:**\n",
    "- `сalls` — количество звонков,\n",
    "- `minutes` — суммарная длительность звонков в минутах,\n",
    "- `messages` — количество sms-сообщений,\n",
    "- `mb_used` — израсходованный интернет-трафик в Мб,\n",
    "- `is_ultra` — каким тарифом пользовался в течение месяца («Ультра» — 1, «Смарт» — 0)."
   ]
  },
  {
   "cell_type": "markdown",
   "metadata": {},
   "source": [
    "## Откройте и изучите файл"
   ]
  },
  {
   "cell_type": "markdown",
   "metadata": {},
   "source": [
    "### Подключаем библиотеки"
   ]
  },
  {
   "cell_type": "code",
   "execution_count": 1,
   "metadata": {},
   "outputs": [],
   "source": [
    "import pandas as pd\n",
    "import numpy as np\n",
    "from sklearn.model_selection import train_test_split\n",
    "from sklearn.tree import DecisionTreeClassifier\n",
    "from sklearn.ensemble import RandomForestClassifier\n",
    "from sklearn.model_selection import GridSearchCV  # Автоматический подбор гиперпараметров\n",
    "from sklearn.linear_model import LogisticRegression\n",
    "from sklearn.metrics import accuracy_score, matthews_corrcoef\n",
    "from sklearn.dummy import DummyClassifier\n",
    "from imblearn.over_sampling import RandomOverSampler, SMOTE\n",
    "from imblearn.under_sampling import RandomUnderSampler, NearMiss\n",
    "from collections import Counter\n",
    "from sklearn.preprocessing import StandardScaler\n",
    "from sklearn.pipeline import Pipeline\n",
    "\n",
    "import matplotlib.pyplot as plt  \n",
    "import pandas as pd  \n",
    "import seaborn as sns"
   ]
  },
  {
   "cell_type": "markdown",
   "metadata": {},
   "source": [
    "### Подключаемся к файлу"
   ]
  },
  {
   "cell_type": "code",
   "execution_count": 2,
   "metadata": {},
   "outputs": [],
   "source": [
    "try:\n",
    "    df = pd.read_csv('/datasets/users_behavior.csv')\n",
    "except:\n",
    "    df = pd.read_csv('users_behavior.csv')"
   ]
  },
  {
   "cell_type": "markdown",
   "metadata": {},
   "source": [
    "### Проводим первичный анализ DataFrame"
   ]
  },
  {
   "cell_type": "markdown",
   "metadata": {},
   "source": [
    "- Использование `shape()` позволяет оценить размеры таблицы с данными (количество строк и столбцов);<br>\n",
    "- Использование `head()` и `tail()` позволяет визуально посмотреть на данные таблицы;<br>\n",
    "- Использование `info()` позволяет получить информацию о структуре данных; информацию об индексах; названиях столбцов; количества нулевых значений; типы данных и какие типы данных входят в df.<br>\n",
    "- Использование `duplicated()` позволяет проверить наличие в данных полных дублей, которые могут внести негативные искажения в качество и точности конечного результата исследования.<br> \n",
    "\n",
    "Вышеперечисленные методы анализа данных, в первую очередь требуется для того, чтобы выбрать тактику работы с таблицей - придётся ли обработывать данные, прежде чем начать их анализировать и использовать в ML обучении."
   ]
  },
  {
   "cell_type": "code",
   "execution_count": 3,
   "metadata": {},
   "outputs": [
    {
     "data": {
      "text/plain": [
       "(3214, 5)"
      ]
     },
     "execution_count": 3,
     "metadata": {},
     "output_type": "execute_result"
    }
   ],
   "source": [
    "# Определяем размерах таблицы с данными (количество строк и столбцов) в DataFrame\n",
    "df.shape"
   ]
  },
  {
   "cell_type": "code",
   "execution_count": 4,
   "metadata": {},
   "outputs": [
    {
     "data": {
      "text/html": [
       "<div>\n",
       "<style scoped>\n",
       "    .dataframe tbody tr th:only-of-type {\n",
       "        vertical-align: middle;\n",
       "    }\n",
       "\n",
       "    .dataframe tbody tr th {\n",
       "        vertical-align: top;\n",
       "    }\n",
       "\n",
       "    .dataframe thead th {\n",
       "        text-align: right;\n",
       "    }\n",
       "</style>\n",
       "<table border=\"1\" class=\"dataframe\">\n",
       "  <thead>\n",
       "    <tr style=\"text-align: right;\">\n",
       "      <th></th>\n",
       "      <th>calls</th>\n",
       "      <th>minutes</th>\n",
       "      <th>messages</th>\n",
       "      <th>mb_used</th>\n",
       "      <th>is_ultra</th>\n",
       "    </tr>\n",
       "  </thead>\n",
       "  <tbody>\n",
       "    <tr>\n",
       "      <th>0</th>\n",
       "      <td>40.0</td>\n",
       "      <td>311.90</td>\n",
       "      <td>83.0</td>\n",
       "      <td>19915.42</td>\n",
       "      <td>0</td>\n",
       "    </tr>\n",
       "    <tr>\n",
       "      <th>1</th>\n",
       "      <td>85.0</td>\n",
       "      <td>516.75</td>\n",
       "      <td>56.0</td>\n",
       "      <td>22696.96</td>\n",
       "      <td>0</td>\n",
       "    </tr>\n",
       "    <tr>\n",
       "      <th>2</th>\n",
       "      <td>77.0</td>\n",
       "      <td>467.66</td>\n",
       "      <td>86.0</td>\n",
       "      <td>21060.45</td>\n",
       "      <td>0</td>\n",
       "    </tr>\n",
       "    <tr>\n",
       "      <th>3</th>\n",
       "      <td>106.0</td>\n",
       "      <td>745.53</td>\n",
       "      <td>81.0</td>\n",
       "      <td>8437.39</td>\n",
       "      <td>1</td>\n",
       "    </tr>\n",
       "    <tr>\n",
       "      <th>4</th>\n",
       "      <td>66.0</td>\n",
       "      <td>418.74</td>\n",
       "      <td>1.0</td>\n",
       "      <td>14502.75</td>\n",
       "      <td>0</td>\n",
       "    </tr>\n",
       "  </tbody>\n",
       "</table>\n",
       "</div>"
      ],
      "text/plain": [
       "   calls  minutes  messages   mb_used  is_ultra\n",
       "0   40.0   311.90      83.0  19915.42         0\n",
       "1   85.0   516.75      56.0  22696.96         0\n",
       "2   77.0   467.66      86.0  21060.45         0\n",
       "3  106.0   745.53      81.0   8437.39         1\n",
       "4   66.0   418.74       1.0  14502.75         0"
      ]
     },
     "execution_count": 4,
     "metadata": {},
     "output_type": "execute_result"
    }
   ],
   "source": [
    "# Выводим первые 5 строк\n",
    "df.head()"
   ]
  },
  {
   "cell_type": "code",
   "execution_count": 5,
   "metadata": {},
   "outputs": [
    {
     "data": {
      "text/html": [
       "<div>\n",
       "<style scoped>\n",
       "    .dataframe tbody tr th:only-of-type {\n",
       "        vertical-align: middle;\n",
       "    }\n",
       "\n",
       "    .dataframe tbody tr th {\n",
       "        vertical-align: top;\n",
       "    }\n",
       "\n",
       "    .dataframe thead th {\n",
       "        text-align: right;\n",
       "    }\n",
       "</style>\n",
       "<table border=\"1\" class=\"dataframe\">\n",
       "  <thead>\n",
       "    <tr style=\"text-align: right;\">\n",
       "      <th></th>\n",
       "      <th>calls</th>\n",
       "      <th>minutes</th>\n",
       "      <th>messages</th>\n",
       "      <th>mb_used</th>\n",
       "      <th>is_ultra</th>\n",
       "    </tr>\n",
       "  </thead>\n",
       "  <tbody>\n",
       "    <tr>\n",
       "      <th>3209</th>\n",
       "      <td>122.0</td>\n",
       "      <td>910.98</td>\n",
       "      <td>20.0</td>\n",
       "      <td>35124.90</td>\n",
       "      <td>1</td>\n",
       "    </tr>\n",
       "    <tr>\n",
       "      <th>3210</th>\n",
       "      <td>25.0</td>\n",
       "      <td>190.36</td>\n",
       "      <td>0.0</td>\n",
       "      <td>3275.61</td>\n",
       "      <td>0</td>\n",
       "    </tr>\n",
       "    <tr>\n",
       "      <th>3211</th>\n",
       "      <td>97.0</td>\n",
       "      <td>634.44</td>\n",
       "      <td>70.0</td>\n",
       "      <td>13974.06</td>\n",
       "      <td>0</td>\n",
       "    </tr>\n",
       "    <tr>\n",
       "      <th>3212</th>\n",
       "      <td>64.0</td>\n",
       "      <td>462.32</td>\n",
       "      <td>90.0</td>\n",
       "      <td>31239.78</td>\n",
       "      <td>0</td>\n",
       "    </tr>\n",
       "    <tr>\n",
       "      <th>3213</th>\n",
       "      <td>80.0</td>\n",
       "      <td>566.09</td>\n",
       "      <td>6.0</td>\n",
       "      <td>29480.52</td>\n",
       "      <td>1</td>\n",
       "    </tr>\n",
       "  </tbody>\n",
       "</table>\n",
       "</div>"
      ],
      "text/plain": [
       "      calls  minutes  messages   mb_used  is_ultra\n",
       "3209  122.0   910.98      20.0  35124.90         1\n",
       "3210   25.0   190.36       0.0   3275.61         0\n",
       "3211   97.0   634.44      70.0  13974.06         0\n",
       "3212   64.0   462.32      90.0  31239.78         0\n",
       "3213   80.0   566.09       6.0  29480.52         1"
      ]
     },
     "execution_count": 5,
     "metadata": {},
     "output_type": "execute_result"
    }
   ],
   "source": [
    "# Выводим последние 5 строк\n",
    "df.tail()"
   ]
  },
  {
   "cell_type": "code",
   "execution_count": 6,
   "metadata": {},
   "outputs": [
    {
     "name": "stdout",
     "output_type": "stream",
     "text": [
      "<class 'pandas.core.frame.DataFrame'>\n",
      "RangeIndex: 3214 entries, 0 to 3213\n",
      "Data columns (total 5 columns):\n",
      " #   Column    Non-Null Count  Dtype  \n",
      "---  ------    --------------  -----  \n",
      " 0   calls     3214 non-null   float64\n",
      " 1   minutes   3214 non-null   float64\n",
      " 2   messages  3214 non-null   float64\n",
      " 3   mb_used   3214 non-null   float64\n",
      " 4   is_ultra  3214 non-null   int64  \n",
      "dtypes: float64(4), int64(1)\n",
      "memory usage: 125.7 KB\n"
     ]
    }
   ],
   "source": [
    "# Определяем наличие нулевых значений и типы данных\n",
    "df.info()"
   ]
  },
  {
   "cell_type": "code",
   "execution_count": 7,
   "metadata": {},
   "outputs": [
    {
     "name": "stdout",
     "output_type": "stream",
     "text": [
      "Найдено 0 полных дубликатов.\n"
     ]
    }
   ],
   "source": [
    "# Проверяем количество полных дубликатов\n",
    "duplicated = df.duplicated().sum()\n",
    "print(f'Найдено {duplicated} полных дубликатов.')"
   ]
  },
  {
   "cell_type": "code",
   "execution_count": 8,
   "metadata": {},
   "outputs": [
    {
     "name": "stdout",
     "output_type": "stream",
     "text": [
      "Доля клиентов, подключённых к тарифному плану \"Ультра\" составляет: 30.65%, от общего количества записей в данных.\n"
     ]
    }
   ],
   "source": [
    "# Проводим проверку на наличие дисбаланса в данных\n",
    "df_sum = df['is_ultra'].sum()\n",
    "df_count = df['is_ultra'].count()\n",
    "print(f'Доля клиентов, подключённых к тарифному плану \"Ультра\" составляет: {(df_sum / df_count * 100):.2f}%, \\\n",
    "от общего количества записей в данных.')"
   ]
  },
  {
   "cell_type": "markdown",
   "metadata": {},
   "source": [
    "**Полученный результат 30,65% свидетельствует о несбалансированности данных**"
   ]
  },
  {
   "cell_type": "markdown",
   "metadata": {},
   "source": [
    "**Сформируем и выведем тепловую карту корреляции признаков DataFrame.**"
   ]
  },
  {
   "cell_type": "code",
   "execution_count": 9,
   "metadata": {},
   "outputs": [
    {
     "data": {
      "image/png": "[encoded data removed]",
      "text/plain": [
       "<Figure size 1000x400 with 2 Axes>"
      ]
     },
     "metadata": {},
     "output_type": "display_data"
    }
   ],
   "source": [
    "plt.figure(figsize=(10, 4))  # Задаём размер тепловой карты\n",
    "sns.heatmap(df.corr(), # \n",
    "            annot=True, # Отображение цифровых значений\n",
    "            fmt=\".2f\",   # Округляем значения\n",
    "            linewidth=.5, # Задём расстояние между ячейками\n",
    "            cmap=\"BuPu\")  # Задаём цветовую схему (crest, YlGnBu, Blues, BuPu, Greens)\n",
    "plt.title('Тепловая карта корреляции признаков \\n')\n",
    "plt.grid(True)\n",
    "plt.show()"
   ]
  },
  {
   "cell_type": "markdown",
   "metadata": {},
   "source": [
    "`Звонки` и `минуты` имеют сильную зависимость между собой, их **коэффициент корреляции равен 0.98** что говорит о сильной положительной зависимости этих факторов друг от друга. С учётом наличия сильной связи между этими признаками можно говорить о наличии `мультиколлениарности в DataFrame`."
   ]
  },
  {
   "cell_type": "markdown",
   "metadata": {},
   "source": [
    "- По результатам анализа данных, установлено что, в направленных для анализа данных отсутствуют пропуски данных, отсутсвуют дубликаты значений и типы данных определены корректно, что в свою очередь свидетельствует о том, что данные корректные и их можно использовать в исследовательской работе.<br>\n",
    "- В направленных для анализа данные имеется целевой признак, который нужно предсказать по остальным признакам, — тип тарифа `is_ultra`. Подобные задачи относятся к классу «`обучение с учителем`» (от англ. supervised learning). В текущей задаче целевой признак принимает значение 0 или 1, т.е. `является бинарным значением` и в соответствии с этим, будет решаться `категориальная` задача классификации.\n",
    "- С учётом **30.65%** доли клиентов, подключённых к тарифному плану \"Ультра\" от общего количества записей в данных, делается вывод о наличии `Несбалансированной` задачи классификации.\n",
    "- Баланс классов в исследовании проанализирован и принято решение отказаться от использования методов балансировки классов, т.к. получаемый результат уступает результатам получаемых без их использования. \n",
    "- Для проверки корреляции признаков были использованы коээфициенты корреляции Мэтьюса.\n",
    "- Этапы по устранению Мультиколлинеарности не применялись, т.к. в конечном итоге из-за низких показателей полученных в модели Линейной регрессии (менее 0,75) от использования её в дальнейшем исследовании пришлось отказаться."
   ]
  },
  {
   "cell_type": "markdown",
   "metadata": {},
   "source": [
    "## Разбейте данные на выборки"
   ]
  },
  {
   "cell_type": "code",
   "execution_count": 10,
   "metadata": {},
   "outputs": [],
   "source": [
    "# Создаём переменную features (особенности), которая не содержит целевого столбца is_ultra\n",
    "features = df.drop(['is_ultra'], axis=1)\n",
    "# Создаём переменную target (цель), которая содержит только с целевой столбцец данных is_ultra \n",
    "target = df['is_ultra']"
   ]
  },
  {
   "cell_type": "code",
   "execution_count": 11,
   "metadata": {},
   "outputs": [
    {
     "name": "stdout",
     "output_type": "stream",
     "text": [
      "Counter({0: 2229, 1: 985})\n"
     ]
    }
   ],
   "source": [
    "# Используем объект Counter, чтобы подсчитать представителей каждого класса\n",
    "counter = Counter(target)\n",
    "print(counter)"
   ]
  },
  {
   "cell_type": "markdown",
   "metadata": {},
   "source": [
    "**Полученный результат {{0: 2229, 1:985}}, подтверждает несбалансированность данных.**"
   ]
  },
  {
   "cell_type": "markdown",
   "metadata": {},
   "source": [
    "### Разделяем исходные данные на обучающую, валидационную и тестовую выборки."
   ]
  },
  {
   "cell_type": "markdown",
   "metadata": {},
   "source": [
    "По условиям задачи разбиваем выборки на три части: обучающую, валидационную и тестовую. Размеры тестового и валидационного наборов делаем равными. "
   ]
  },
  {
   "cell_type": "code",
   "execution_count": 12,
   "metadata": {},
   "outputs": [],
   "source": [
    "# Создаём функцию разделения выборки на три части\n",
    "# Воспроизводимость результатов разбиения выборки на обучающую (тренировочную) / тестовую / валидационную мы обеспечили (фиксированием значения \n",
    "# \"random_state\"), значит при всех последующих запусках нашего кода подвыборки будут идентичными.\n",
    "def train_valid_test_split(features, target, train_size, random_state=12345):\n",
    "    \"\"\"\n",
    "    Функция разделяет выборку на три части: тренировочную, валидационную и тестовую.\n",
    "\n",
    "    Args:\n",
    "        features: Входные данные (признаки).\n",
    "        target: Целевые значения.\n",
    "        train_size: Размер тренировочной выборки (доля от 1.0).\n",
    "        random_state: Состояние генератора случайных чисел для воспроизводимости.\n",
    "\n",
    "    Returns:\n",
    "        X_train: Тренировочные признаки.\n",
    "        y_train: Тренировочные целевые значения.\n",
    "        X_valid: Валидационные признаки.\n",
    "        y_valid: Валидационные целевые значения.\n",
    "        X_test: Тестовые признаки.\n",
    "        y_test: Тестовые целевые значения.\n",
    "    \"\"\"\n",
    "    # Определяем долю для валидационной и тестовой выборок\n",
    "    valid_test = 1 / 2\n",
    "    # Разделяем данные на тренировочную и остальные выборки\n",
    "    X_train, X_others, y_train, y_others = train_test_split(features, \n",
    "                                                    target,\n",
    "                                                    stratify=target, # Сохраняем пропорции целевого столбца\n",
    "                                                    train_size=train_size, \n",
    "                                                    random_state=random_state)\n",
    "    # Разделяем остальные данные на валидационную и тестовую выборки\n",
    "    X_valid, X_test, y_valid, y_test = train_test_split(X_others, \n",
    "                                                    y_others,\n",
    "                                                    stratify=y_others, # Сохраняем пропорции целевого столбца\n",
    "                                                    train_size=valid_test, # Доля для валидационной выборки\n",
    "                                                    random_state=random_state)\n",
    "    # Возвращаем три части выборки\n",
    "    return X_train, y_train, X_valid, y_valid, X_test, y_test"
   ]
  },
  {
   "cell_type": "code",
   "execution_count": 13,
   "metadata": {},
   "outputs": [],
   "source": [
    "# Вызываем функцию разделения на тренировочну, валидную и тестовую выборки\n",
    "# Валидная и тестовая выборки имеют равные размеры\n",
    "X_train, y_train, X_valid, y_valid, X_test, y_test = \\\n",
    "                train_valid_test_split(features, target, train_size=0.6)"
   ]
  },
  {
   "cell_type": "markdown",
   "metadata": {},
   "source": [
    "### Анализируем созданные наборы данных \n",
    "\n",
    "После разбиения данных на выборки проанализируем получившиеся размеры и размерности выборок. \"Цифры\" по выборкам показывают верно ли мы произвели \"разделение\" данных.\n",
    "\n",
    "X_train.shape[0] – «покажет» количество строк в тренировочной выборке, а X_train.shape[1] - количество столбцов в ней же. Ну а X_train.shape – выведет размерность train'а в виде кортежа с 2мя значениями (первое число – количество строк, второе – столбцов)."
   ]
  },
  {
   "cell_type": "code",
   "execution_count": 14,
   "metadata": {},
   "outputs": [
    {
     "name": "stdout",
     "output_type": "stream",
     "text": [
      "1928\n",
      "1928\n",
      "643\n",
      "643\n",
      "643\n",
      "643\n"
     ]
    }
   ],
   "source": [
    "# Проверяем размерность тренировочной, валидной и тестовой выборок\n",
    "variables = [X_train, y_train, X_valid, y_valid, X_test, y_test]\n",
    "for i in variables:\n",
    "    print(i.shape[0])"
   ]
  },
  {
   "cell_type": "code",
   "execution_count": 15,
   "metadata": {},
   "outputs": [
    {
     "name": "stdout",
     "output_type": "stream",
     "text": [
      "Доля клиентов, подключённых к тарифному плану \"Ультра\" составляет: 30.65%.\n",
      "Доля клиентов, подключённых к тарифному плану \"Ультра\" составляет: 30.64%.\n",
      "Доля клиентов, подключённых к тарифному плану \"Ультра\" составляет: 30.64%.\n"
     ]
    }
   ],
   "source": [
    "# Проверяем размерность тренировочной, валидной и тестовой выборок\n",
    "variables = [y_train, y_valid, y_test]\n",
    "for i in variables:\n",
    "#     print(i.head())\n",
    "    # Проводим проверку на наличие дисбаланса в данных\n",
    "    df_sum = i.sum()\n",
    "    df_count = i.count()\n",
    "    print(f'Доля клиентов, подключённых к тарифному плану \"Ультра\" составляет: {(df_sum / df_count * 100):.2f}%.')\n"
   ]
  },
  {
   "cell_type": "code",
   "execution_count": 16,
   "metadata": {},
   "outputs": [
    {
     "name": "stdout",
     "output_type": "stream",
     "text": [
      "y_train содержит: Counter({0: 1337, 1: 591})\n",
      "y_valid содержит: Counter({0: 446, 1: 197})\n",
      "y_test содержит: Counter({0: 446, 1: 197})\n"
     ]
    }
   ],
   "source": [
    "# Используем объект Counter, чтобы подсчитать представителей каждого класса и удостовериться, \n",
    "# что преобразованный набор данных был создан правильно.\n",
    "samples = {'y_train': y_train, 'y_valid': y_valid, 'y_test': y_test}\n",
    "for key, meaning in samples.items():\n",
    "    counter = Counter(meaning)\n",
    "    print(f'{key} содержит: {counter}')"
   ]
  },
  {
   "cell_type": "markdown",
   "metadata": {},
   "source": [
    "Созданные наборы данных **разделились равномерно** по количеству строк и по доли значений целевого столбца. Полученное соотношение Counter({0: 1337, 1: 591}) и доля 30.65% на тренировочной выборке указывает на **несбалансированность тренировочной выборки**."
   ]
  },
  {
   "cell_type": "markdown",
   "metadata": {},
   "source": [
    "**Передискредитизируем классы с использованием, одного из подходов по устранению несбалансированности**\n",
    "- Случайная передискретизация\n",
    "- Случайная недостаточная выборка\n",
    "- SMOTE (метод синтетической передискретизации меньшинства)"
   ]
  },
  {
   "cell_type": "code",
   "execution_count": 17,
   "metadata": {},
   "outputs": [],
   "source": [
    "# # Произвольная избыточная выборка (увеличение) класса меньшинств для тренировочной выборки\n",
    "# ros = RandomOverSampler(random_state=42)\n",
    "# X_train, y_train= ros.fit_resample(X_train, y_train)\n",
    "# # Проверяем количество записей после чрезмерной выборки\n",
    "# print(sorted(Counter(y_train).items()))"
   ]
  },
  {
   "cell_type": "code",
   "execution_count": 18,
   "metadata": {},
   "outputs": [],
   "source": [
    "# # Случайным образом по выборке выбирается класс большинства для тренировочной выборки. \n",
    "# # Уменьшаем класс большинства до размера класса меньшинства\n",
    "# rus = RandomUnderSampler(random_state=42)\n",
    "# X_train, y_train= rus.fit_resample(X_train, y_train)\n",
    "# # Проверяем количество записей после неполной выборки\n",
    "# print(sorted(Counter(y_train).items()))"
   ]
  },
  {
   "cell_type": "code",
   "execution_count": 19,
   "metadata": {},
   "outputs": [],
   "source": [
    "# # Под выборкой находится класс большинства для тренировочной выборки\n",
    "# # Уменьшаем класс большинства до размера класса меньшинстваю\n",
    "# nearmiss = NearMiss(version=3)\n",
    "# X_train, y_train = nearmiss.fit_resample(X_train, y_train)\n",
    "# # Проверяем количество записей после чрезмерной выборки\n",
    "# print(sorted(Counter(y_train).items()))"
   ]
  },
  {
   "cell_type": "code",
   "execution_count": 20,
   "metadata": {},
   "outputs": [],
   "source": [
    "# # Увеличим количество малого класса для тренировочной выборки\n",
    "# oversample = SMOTE()\n",
    "# X_train, y_train = oversample.fit_resample(X_train, y_train)\n",
    "# # Проверяем количество записей после чрезмерной выборки\n",
    "# print(sorted(Counter(y_train).items()))"
   ]
  },
  {
   "cell_type": "markdown",
   "metadata": {},
   "source": [
    "**От использования передискредитизации отказываемся, т.к. точность в любом из этих метов меньше, чем точность получаемая без их использования.**"
   ]
  },
  {
   "cell_type": "code",
   "execution_count": 21,
   "metadata": {},
   "outputs": [
    {
     "name": "stdout",
     "output_type": "stream",
     "text": [
      "Counter({0: 1337, 1: 591})\n"
     ]
    }
   ],
   "source": [
    "# Используем объект Counter, чтобы подсчитать представителей каждого класса и удостовериться, \n",
    "# что набор данных был создан правильно:\n",
    "counter = Counter(y_train)\n",
    "print(counter)"
   ]
  },
  {
   "cell_type": "code",
   "execution_count": 22,
   "metadata": {},
   "outputs": [
    {
     "name": "stdout",
     "output_type": "stream",
     "text": [
      "1928\n",
      "1928\n"
     ]
    }
   ],
   "source": [
    "# Проверяем размерность тренировочной выборки после уравновешивания меньшего класса\n",
    "variables = [X_train, y_train]\n",
    "for i in variables:\n",
    "    print(i.shape[0])"
   ]
  },
  {
   "cell_type": "markdown",
   "metadata": {},
   "source": [
    "## Исследуйте модели"
   ]
  },
  {
   "cell_type": "markdown",
   "metadata": {},
   "source": [
    "### Меняя гиперпараметры проведём исследование качества разных моделей.\n",
    "\n",
    "В рамках текущего проекта будут использованы 3 модели машинного обучения, а именно: \n",
    "- DecisionTreeClassifier (Дерево решений);\n",
    "- RandomForestClassifier (Случайный лес);\n",
    "- LogisticRegression (Логистическая регрессия)\n",
    "\n",
    "Для каждой из моделей будет проведён подбор гиперпараметров, оптимальных для решения поставленной задачи.\n",
    "\n",
    "**Гиперпараметры** — это параметры, которые задаются до начала обучения модели и не обновляются в процессе обучения. Они определяют структуру модели и процесс обучения, и их правильный выбор может значительно повлиять на производительность модели.\n",
    "\n",
    "**Подбор гиперпараметров** — это процесс поиска наилучших значений гиперпараметров для модели, чтобы достичь максимальной производительности на валидационной выборке.\n",
    "\n",
    "Подбор гиперпараметров является важным этапом в процессе разработки модели машинного обучения. Правильный выбор гиперпараметров может значительно улучшить производительность модели и ее способность обобщать на новых данных. Использование метода Grid Search, может помочь в автоматизации этого процесса и нахождении наилучших значений гиперпараметров для конкретной задачи.\n",
    "\n",
    "В рамках текущего исследования для подбора гиперпараметров ML моделей, будет использоваться Grid Search. **Grid Search (Поиск по сетке)**: Осуществляет перебор всех возможных комбинаций заданных гиперпараметров.\n",
    "\n",
    "В рамках текущего проекта метрикой качества моделей будет использоваться **Accuracy**.\n",
    "\n",
    "`Accuracy (точность)` — это одна из наиболее распространенных метрик для оценки производительности моделей машинного обучения, особенно в задачах классификации. Она измеряет долю правильно классифицированных экземпляров по отношению ко всем экземплярам в наборе данных. Точность является полезной метрикой, когда классы в данных сбалансированы, то есть количество экземпляров каждого класса примерно одинаково. В таких случаях высокая точность может указывать на хорошую производительность модели.\n",
    "\n",
    "Формально, точность (**accuracy**) определяется как:\n",
    "$$\n",
    "\\text{Accuracy} = \\frac{\\text{Количество правильно классифицированных экземпляров}}{\\text{Общее количество экземляров}}\n",
    "$$\n",
    "Например, у вас есть модель, которая классифицирует 100 объектов, из которых 80 были правильно классифицированы, а 20 — неправильно. В этом случае точность будет:\n",
    "$$\n",
    "\\text{Accuracy} = \\frac{\\text{80}}{\\text{100}} = {\\text{0.8} \\text{ или } \\text{80%}}\n",
    "$$\n",
    "`Чем выше значение Accuracy, тем точнее модель классифицирует целевые значения`."
   ]
  },
  {
   "cell_type": "markdown",
   "metadata": {},
   "source": [
    "#### DecisionTreeClassifier (Дерево решений)"
   ]
  },
  {
   "cell_type": "markdown",
   "metadata": {},
   "source": [
    "**Подберём гиперпараметры для Дерева решений**\n",
    "- `splitter`: Определяет стратегию, используемую для выбора разделения узлов в дереве:\n",
    "    - `best`: Выбирает наилучшее разделение на каждом узле. Это означает, что алгоритм будет искать разделение, которое минимизирует функцию потерь (например, энтропию или индекс Джини) наилучшим образом.\n",
    "    - `random`: Выбирает случайное разделение среди всех возможных. Это может помочь улучшить разнообразие деревьев, особенно в ансамблевых методах, таких как случайный лес.\n",
    "- `max_depth`: Максимальная глубина дерева. Ограничение глубины помогает избежать переобучения.\n",
    "- `max_leaf_nodes`: Ограничивает максимальное количество листовых узлов в дереве. Если этот параметр установлен, дерево будет расти до тех пор, пока не достигнет указанного количества листовых узлов.\n",
    "- `min_samples_split`: Минимальное количество образцов, необходимых для разделения узла. Увеличение этого значения может помочь предотвратить переобучение.\n",
    "- `min_samples_leaf`: Минимальное количество образцов, которые должны находиться в листовом узле. Это также помогает контролировать переобучение.\n",
    "- `max_features`: Максимальное количество признаков, которые будут рассматриваться при поиске наилучшего разделения. Это может помочь улучшить обобщающую способность модели."
   ]
  },
  {
   "cell_type": "code",
   "execution_count": 23,
   "metadata": {},
   "outputs": [],
   "source": [
    "params = {'splitter': ['best', 'random'],\n",
    "          'max_leaf_nodes': list(range(2, 100)), \n",
    "          'min_samples_split': [2, 3, 4]}"
   ]
  },
  {
   "cell_type": "code",
   "execution_count": 24,
   "metadata": {},
   "outputs": [
    {
     "name": "stdout",
     "output_type": "stream",
     "text": [
      "Fitting 3 folds for each of 588 candidates, totalling 1764 fits\n"
     ]
    },
    {
     "data": {
      "text/html": [
       "<style>#sk-container-id-1 {\n",
       "  /* Definition of color scheme common for light and dark mode */\n",
       "  --sklearn-color-text: black;\n",
       "  --sklearn-color-line: gray;\n",
       "  /* Definition of color scheme for unfitted estimators */\n",
       "  --sklearn-color-unfitted-level-0: #fff5e6;\n",
       "  --sklearn-color-unfitted-level-1: #f6e4d2;\n",
       "  --sklearn-color-unfitted-level-2: #ffe0b3;\n",
       "  --sklearn-color-unfitted-level-3: chocolate;\n",
       "  /* Definition of color scheme for fitted estimators */\n",
       "  --sklearn-color-fitted-level-0: #f0f8ff;\n",
       "  --sklearn-color-fitted-level-1: #d4ebff;\n",
       "  --sklearn-color-fitted-level-2: #b3dbfd;\n",
       "  --sklearn-color-fitted-level-3: cornflowerblue;\n",
       "\n",
       "  /* Specific color for light theme */\n",
       "  --sklearn-color-text-on-default-background: var(--sg-text-color, var(--theme-code-foreground, var(--jp-content-font-color1, black)));\n",
       "  --sklearn-color-background: var(--sg-background-color, var(--theme-background, var(--jp-layout-color0, white)));\n",
       "  --sklearn-color-border-box: var(--sg-text-color, var(--theme-code-foreground, var(--jp-content-font-color1, black)));\n",
       "  --sklearn-color-icon: #696969;\n",
       "\n",
       "  @media (prefers-color-scheme: dark) {\n",
       "    /* Redefinition of color scheme for dark theme */\n",
       "    --sklearn-color-text-on-default-background: var(--sg-text-color, var(--theme-code-foreground, var(--jp-content-font-color1, white)));\n",
       "    --sklearn-color-background: var(--sg-background-color, var(--theme-background, var(--jp-layout-color0, #111)));\n",
       "    --sklearn-color-border-box: var(--sg-text-color, var(--theme-code-foreground, var(--jp-content-font-color1, white)));\n",
       "    --sklearn-color-icon: #878787;\n",
       "  }\n",
       "}\n",
       "\n",
       "#sk-container-id-1 {\n",
       "  color: var(--sklearn-color-text);\n",
       "}\n",
       "\n",
       "#sk-container-id-1 pre {\n",
       "  padding: 0;\n",
       "}\n",
       "\n",
       "#sk-container-id-1 input.sk-hidden--visually {\n",
       "  border: 0;\n",
       "  clip: rect(1px 1px 1px 1px);\n",
       "  clip: rect(1px, 1px, 1px, 1px);\n",
       "  height: 1px;\n",
       "  margin: -1px;\n",
       "  overflow: hidden;\n",
       "  padding: 0;\n",
       "  position: absolute;\n",
       "  width: 1px;\n",
       "}\n",
       "\n",
       "#sk-container-id-1 div.sk-dashed-wrapped {\n",
       "  border: 1px dashed var(--sklearn-color-line);\n",
       "  margin: 0 0.4em 0.5em 0.4em;\n",
       "  box-sizing: border-box;\n",
       "  padding-bottom: 0.4em;\n",
       "  background-color: var(--sklearn-color-background);\n",
       "}\n",
       "\n",
       "#sk-container-id-1 div.sk-container {\n",
       "  /* jupyter's `normalize.less` sets `[hidden] { display: none; }`\n",
       "     but bootstrap.min.css set `[hidden] { display: none !important; }`\n",
       "     so we also need the `!important` here to be able to override the\n",
       "     default hidden behavior on the sphinx rendered scikit-learn.org.\n",
       "     See: https://github.com/scikit-learn/scikit-learn/issues/21755 */\n",
       "  display: inline-block !important;\n",
       "  position: relative;\n",
       "}\n",
       "\n",
       "#sk-container-id-1 div.sk-text-repr-fallback {\n",
       "  display: none;\n",
       "}\n",
       "\n",
       "div.sk-parallel-item,\n",
       "div.sk-serial,\n",
       "div.sk-item {\n",
       "  /* draw centered vertical line to link estimators */\n",
       "  background-image: linear-gradient(var(--sklearn-color-text-on-default-background), var(--sklearn-color-text-on-default-background));\n",
       "  background-size: 2px 100%;\n",
       "  background-repeat: no-repeat;\n",
       "  background-position: center center;\n",
       "}\n",
       "\n",
       "/* Parallel-specific style estimator block */\n",
       "\n",
       "#sk-container-id-1 div.sk-parallel-item::after {\n",
       "  content: \"\";\n",
       "  width: 100%;\n",
       "  border-bottom: 2px solid var(--sklearn-color-text-on-default-background);\n",
       "  flex-grow: 1;\n",
       "}\n",
       "\n",
       "#sk-container-id-1 div.sk-parallel {\n",
       "  display: flex;\n",
       "  align-items: stretch;\n",
       "  justify-content: center;\n",
       "  background-color: var(--sklearn-color-background);\n",
       "  position: relative;\n",
       "}\n",
       "\n",
       "#sk-container-id-1 div.sk-parallel-item {\n",
       "  display: flex;\n",
       "  flex-direction: column;\n",
       "}\n",
       "\n",
       "#sk-container-id-1 div.sk-parallel-item:first-child::after {\n",
       "  align-self: flex-end;\n",
       "  width: 50%;\n",
       "}\n",
       "\n",
       "#sk-container-id-1 div.sk-parallel-item:last-child::after {\n",
       "  align-self: flex-start;\n",
       "  width: 50%;\n",
       "}\n",
       "\n",
       "#sk-container-id-1 div.sk-parallel-item:only-child::after {\n",
       "  width: 0;\n",
       "}\n",
       "\n",
       "/* Serial-specific style estimator block */\n",
       "\n",
       "#sk-container-id-1 div.sk-serial {\n",
       "  display: flex;\n",
       "  flex-direction: column;\n",
       "  align-items: center;\n",
       "  background-color: var(--sklearn-color-background);\n",
       "  padding-right: 1em;\n",
       "  padding-left: 1em;\n",
       "}\n",
       "\n",
       "\n",
       "/* Toggleable style: style used for estimator/Pipeline/ColumnTransformer box that is\n",
       "clickable and can be expanded/collapsed.\n",
       "- Pipeline and ColumnTransformer use this feature and define the default style\n",
       "- Estimators will overwrite some part of the style using the `sk-estimator` class\n",
       "*/\n",
       "\n",
       "/* Pipeline and ColumnTransformer style (default) */\n",
       "\n",
       "#sk-container-id-1 div.sk-toggleable {\n",
       "  /* Default theme specific background. It is overwritten whether we have a\n",
       "  specific estimator or a Pipeline/ColumnTransformer */\n",
       "  background-color: var(--sklearn-color-background);\n",
       "}\n",
       "\n",
       "/* Toggleable label */\n",
       "#sk-container-id-1 label.sk-toggleable__label {\n",
       "  cursor: pointer;\n",
       "  display: block;\n",
       "  width: 100%;\n",
       "  margin-bottom: 0;\n",
       "  padding: 0.5em;\n",
       "  box-sizing: border-box;\n",
       "  text-align: center;\n",
       "}\n",
       "\n",
       "#sk-container-id-1 label.sk-toggleable__label-arrow:before {\n",
       "  /* Arrow on the left of the label */\n",
       "  content: \"▸\";\n",
       "  float: left;\n",
       "  margin-right: 0.25em;\n",
       "  color: var(--sklearn-color-icon);\n",
       "}\n",
       "\n",
       "#sk-container-id-1 label.sk-toggleable__label-arrow:hover:before {\n",
       "  color: var(--sklearn-color-text);\n",
       "}\n",
       "\n",
       "/* Toggleable content - dropdown */\n",
       "\n",
       "#sk-container-id-1 div.sk-toggleable__content {\n",
       "  max-height: 0;\n",
       "  max-width: 0;\n",
       "  overflow: hidden;\n",
       "  text-align: left;\n",
       "  /* unfitted */\n",
       "  background-color: var(--sklearn-color-unfitted-level-0);\n",
       "}\n",
       "\n",
       "#sk-container-id-1 div.sk-toggleable__content.fitted {\n",
       "  /* fitted */\n",
       "  background-color: var(--sklearn-color-fitted-level-0);\n",
       "}\n",
       "\n",
       "#sk-container-id-1 div.sk-toggleable__content pre {\n",
       "  margin: 0.2em;\n",
       "  border-radius: 0.25em;\n",
       "  color: var(--sklearn-color-text);\n",
       "  /* unfitted */\n",
       "  background-color: var(--sklearn-color-unfitted-level-0);\n",
       "}\n",
       "\n",
       "#sk-container-id-1 div.sk-toggleable__content.fitted pre {\n",
       "  /* unfitted */\n",
       "  background-color: var(--sklearn-color-fitted-level-0);\n",
       "}\n",
       "\n",
       "#sk-container-id-1 input.sk-toggleable__control:checked~div.sk-toggleable__content {\n",
       "  /* Expand drop-down */\n",
       "  max-height: 200px;\n",
       "  max-width: 100%;\n",
       "  overflow: auto;\n",
       "}\n",
       "\n",
       "#sk-container-id-1 input.sk-toggleable__control:checked~label.sk-toggleable__label-arrow:before {\n",
       "  content: \"▾\";\n",
       "}\n",
       "\n",
       "/* Pipeline/ColumnTransformer-specific style */\n",
       "\n",
       "#sk-container-id-1 div.sk-label input.sk-toggleable__control:checked~label.sk-toggleable__label {\n",
       "  color: var(--sklearn-color-text);\n",
       "  background-color: var(--sklearn-color-unfitted-level-2);\n",
       "}\n",
       "\n",
       "#sk-container-id-1 div.sk-label.fitted input.sk-toggleable__control:checked~label.sk-toggleable__label {\n",
       "  background-color: var(--sklearn-color-fitted-level-2);\n",
       "}\n",
       "\n",
       "/* Estimator-specific style */\n",
       "\n",
       "/* Colorize estimator box */\n",
       "#sk-container-id-1 div.sk-estimator input.sk-toggleable__control:checked~label.sk-toggleable__label {\n",
       "  /* unfitted */\n",
       "  background-color: var(--sklearn-color-unfitted-level-2);\n",
       "}\n",
       "\n",
       "#sk-container-id-1 div.sk-estimator.fitted input.sk-toggleable__control:checked~label.sk-toggleable__label {\n",
       "  /* fitted */\n",
       "  background-color: var(--sklearn-color-fitted-level-2);\n",
       "}\n",
       "\n",
       "#sk-container-id-1 div.sk-label label.sk-toggleable__label,\n",
       "#sk-container-id-1 div.sk-label label {\n",
       "  /* The background is the default theme color */\n",
       "  color: var(--sklearn-color-text-on-default-background);\n",
       "}\n",
       "\n",
       "/* On hover, darken the color of the background */\n",
       "#sk-container-id-1 div.sk-label:hover label.sk-toggleable__label {\n",
       "  color: var(--sklearn-color-text);\n",
       "  background-color: var(--sklearn-color-unfitted-level-2);\n",
       "}\n",
       "\n",
       "/* Label box, darken color on hover, fitted */\n",
       "#sk-container-id-1 div.sk-label.fitted:hover label.sk-toggleable__label.fitted {\n",
       "  color: var(--sklearn-color-text);\n",
       "  background-color: var(--sklearn-color-fitted-level-2);\n",
       "}\n",
       "\n",
       "/* Estimator label */\n",
       "\n",
       "#sk-container-id-1 div.sk-label label {\n",
       "  font-family: monospace;\n",
       "  font-weight: bold;\n",
       "  display: inline-block;\n",
       "  line-height: 1.2em;\n",
       "}\n",
       "\n",
       "#sk-container-id-1 div.sk-label-container {\n",
       "  text-align: center;\n",
       "}\n",
       "\n",
       "/* Estimator-specific */\n",
       "#sk-container-id-1 div.sk-estimator {\n",
       "  font-family: monospace;\n",
       "  border: 1px dotted var(--sklearn-color-border-box);\n",
       "  border-radius: 0.25em;\n",
       "  box-sizing: border-box;\n",
       "  margin-bottom: 0.5em;\n",
       "  /* unfitted */\n",
       "  background-color: var(--sklearn-color-unfitted-level-0);\n",
       "}\n",
       "\n",
       "#sk-container-id-1 div.sk-estimator.fitted {\n",
       "  /* fitted */\n",
       "  background-color: var(--sklearn-color-fitted-level-0);\n",
       "}\n",
       "\n",
       "/* on hover */\n",
       "#sk-container-id-1 div.sk-estimator:hover {\n",
       "  /* unfitted */\n",
       "  background-color: var(--sklearn-color-unfitted-level-2);\n",
       "}\n",
       "\n",
       "#sk-container-id-1 div.sk-estimator.fitted:hover {\n",
       "  /* fitted */\n",
       "  background-color: var(--sklearn-color-fitted-level-2);\n",
       "}\n",
       "\n",
       "/* Specification for estimator info (e.g. \"i\" and \"?\") */\n",
       "\n",
       "/* Common style for \"i\" and \"?\" */\n",
       "\n",
       ".sk-estimator-doc-link,\n",
       "a:link.sk-estimator-doc-link,\n",
       "a:visited.sk-estimator-doc-link {\n",
       "  float: right;\n",
       "  font-size: smaller;\n",
       "  line-height: 1em;\n",
       "  font-family: monospace;\n",
       "  background-color: var(--sklearn-color-background);\n",
       "  border-radius: 1em;\n",
       "  height: 1em;\n",
       "  width: 1em;\n",
       "  text-decoration: none !important;\n",
       "  margin-left: 1ex;\n",
       "  /* unfitted */\n",
       "  border: var(--sklearn-color-unfitted-level-1) 1pt solid;\n",
       "  color: var(--sklearn-color-unfitted-level-1);\n",
       "}\n",
       "\n",
       ".sk-estimator-doc-link.fitted,\n",
       "a:link.sk-estimator-doc-link.fitted,\n",
       "a:visited.sk-estimator-doc-link.fitted {\n",
       "  /* fitted */\n",
       "  border: var(--sklearn-color-fitted-level-1) 1pt solid;\n",
       "  color: var(--sklearn-color-fitted-level-1);\n",
       "}\n",
       "\n",
       "/* On hover */\n",
       "div.sk-estimator:hover .sk-estimator-doc-link:hover,\n",
       ".sk-estimator-doc-link:hover,\n",
       "div.sk-label-container:hover .sk-estimator-doc-link:hover,\n",
       ".sk-estimator-doc-link:hover {\n",
       "  /* unfitted */\n",
       "  background-color: var(--sklearn-color-unfitted-level-3);\n",
       "  color: var(--sklearn-color-background);\n",
       "  text-decoration: none;\n",
       "}\n",
       "\n",
       "div.sk-estimator.fitted:hover .sk-estimator-doc-link.fitted:hover,\n",
       ".sk-estimator-doc-link.fitted:hover,\n",
       "div.sk-label-container:hover .sk-estimator-doc-link.fitted:hover,\n",
       ".sk-estimator-doc-link.fitted:hover {\n",
       "  /* fitted */\n",
       "  background-color: var(--sklearn-color-fitted-level-3);\n",
       "  color: var(--sklearn-color-background);\n",
       "  text-decoration: none;\n",
       "}\n",
       "\n",
       "/* Span, style for the box shown on hovering the info icon */\n",
       ".sk-estimator-doc-link span {\n",
       "  display: none;\n",
       "  z-index: 9999;\n",
       "  position: relative;\n",
       "  font-weight: normal;\n",
       "  right: .2ex;\n",
       "  padding: .5ex;\n",
       "  margin: .5ex;\n",
       "  width: min-content;\n",
       "  min-width: 20ex;\n",
       "  max-width: 50ex;\n",
       "  color: var(--sklearn-color-text);\n",
       "  box-shadow: 2pt 2pt 4pt #999;\n",
       "  /* unfitted */\n",
       "  background: var(--sklearn-color-unfitted-level-0);\n",
       "  border: .5pt solid var(--sklearn-color-unfitted-level-3);\n",
       "}\n",
       "\n",
       ".sk-estimator-doc-link.fitted span {\n",
       "  /* fitted */\n",
       "  background: var(--sklearn-color-fitted-level-0);\n",
       "  border: var(--sklearn-color-fitted-level-3);\n",
       "}\n",
       "\n",
       ".sk-estimator-doc-link:hover span {\n",
       "  display: block;\n",
       "}\n",
       "\n",
       "/* \"?\"-specific style due to the `<a>` HTML tag */\n",
       "\n",
       "#sk-container-id-1 a.estimator_doc_link {\n",
       "  float: right;\n",
       "  font-size: 1rem;\n",
       "  line-height: 1em;\n",
       "  font-family: monospace;\n",
       "  background-color: var(--sklearn-color-background);\n",
       "  border-radius: 1rem;\n",
       "  height: 1rem;\n",
       "  width: 1rem;\n",
       "  text-decoration: none;\n",
       "  /* unfitted */\n",
       "  color: var(--sklearn-color-unfitted-level-1);\n",
       "  border: var(--sklearn-color-unfitted-level-1) 1pt solid;\n",
       "}\n",
       "\n",
       "#sk-container-id-1 a.estimator_doc_link.fitted {\n",
       "  /* fitted */\n",
       "  border: var(--sklearn-color-fitted-level-1) 1pt solid;\n",
       "  color: var(--sklearn-color-fitted-level-1);\n",
       "}\n",
       "\n",
       "/* On hover */\n",
       "#sk-container-id-1 a.estimator_doc_link:hover {\n",
       "  /* unfitted */\n",
       "  background-color: var(--sklearn-color-unfitted-level-3);\n",
       "  color: var(--sklearn-color-background);\n",
       "  text-decoration: none;\n",
       "}\n",
       "\n",
       "#sk-container-id-1 a.estimator_doc_link.fitted:hover {\n",
       "  /* fitted */\n",
       "  background-color: var(--sklearn-color-fitted-level-3);\n",
       "}\n",
       "</style><div id=\"sk-container-id-1\" class=\"sk-top-container\"><div class=\"sk-text-repr-fallback\"><pre>DecisionTreeClassifier(max_leaf_nodes=66, random_state=42, splitter=&#x27;random&#x27;)</pre><b>In a Jupyter environment, please rerun this cell to show the HTML representation or trust the notebook. <br />On GitHub, the HTML representation is unable to render, please try loading this page with nbviewer.org.</b></div><div class=\"sk-container\" hidden><div class=\"sk-item\"><div class=\"sk-estimator fitted sk-toggleable\"><input class=\"sk-toggleable__control sk-hidden--visually\" id=\"sk-estimator-id-1\" type=\"checkbox\" checked><label for=\"sk-estimator-id-1\" class=\"sk-toggleable__label fitted sk-toggleable__label-arrow fitted\">&nbsp;&nbsp;DecisionTreeClassifier<a class=\"sk-estimator-doc-link fitted\" rel=\"noreferrer\" target=\"_blank\" href=\"https://scikit-learn.org/1.5/modules/generated/sklearn.tree.DecisionTreeClassifier.html\">?<span>Documentation for DecisionTreeClassifier</span></a><span class=\"sk-estimator-doc-link fitted\">i<span>Fitted</span></span></label><div class=\"sk-toggleable__content fitted\"><pre>DecisionTreeClassifier(max_leaf_nodes=66, random_state=42, splitter=&#x27;random&#x27;)</pre></div> </div></div></div></div>"
      ],
      "text/plain": [
       "DecisionTreeClassifier(max_leaf_nodes=66, random_state=42, splitter='random')"
      ]
     },
     "execution_count": 24,
     "metadata": {},
     "output_type": "execute_result"
    }
   ],
   "source": [
    "# Подбираем параметры под Дерево решений\n",
    "grid_search_cv = GridSearchCV(DecisionTreeClassifier(random_state=42), \n",
    "                              params, \n",
    "                              verbose=1, \n",
    "                              cv=3)\n",
    "grid_search_cv.fit(X_train, y_train)\n",
    "grid_search_cv.best_estimator_"
   ]
  },
  {
   "cell_type": "code",
   "execution_count": 25,
   "metadata": {},
   "outputs": [],
   "source": [
    "def decision_tree(features_x, target_x, number_trees=101, criterion='gini', splitter='best'):\n",
    "    \"\"\"\n",
    "    Функция принимает валидационную и тестовую выборки применяет переданные гиперпараметры и выводит итоговую информацию \n",
    "    \"\"\"\n",
    "    # обучаем модель с заданной глубиной дерева\n",
    "    best_model = None\n",
    "    best_result = 0\n",
    "    best_depth = 0\n",
    "    matthews = 0\n",
    "    for depth in range(1, number_trees):\n",
    "        #  Настраиваем гиперпараметры модели\n",
    "        model = DecisionTreeClassifier(criterion=criterion, \n",
    "                                       splitter=splitter,\n",
    "                                       random_state=42,\n",
    "                                       max_leaf_nodes=66, \n",
    "                                       min_samples_split=3,\n",
    "#                                        max_features='sqrt',\n",
    "#                                        max_leaf_nodes=5000,\n",
    "                                       max_depth=depth) \n",
    "        model.fit(X_train, y_train)  # Обучаем модель на тренировочной выборке\n",
    "        # Проводим проверку качества модели на выборке \n",
    "        predictions_valid = model.predict(features_x)  # Получаем предсказание модели\n",
    "        result = accuracy_score(target_x, predictions_valid) # Подсчитываем качество модели на валидационной выборке\n",
    "        if best_result < result:\n",
    "            best_model = model\n",
    "            best_result = result\n",
    "            matthews = matthews_corrcoef(predictions_valid, target_x)\n",
    "            best_depth = depth\n",
    "\n",
    "    print(f'Лучшая глубина дерева для выборки = {best_depth}, \\\n",
    "с максимальной точностью {best_result}. Коэффициент корреляции Мэтьюса: {matthews:.3f}')\n",
    "\n",
    "    return best_model  # Возвращаем наилучшую модель"
   ]
  },
  {
   "cell_type": "code",
   "execution_count": 26,
   "metadata": {},
   "outputs": [
    {
     "name": "stdout",
     "output_type": "stream",
     "text": [
      "Лучшая глубина дерева для выборки = 9, с максимальной точностью 0.7978227060653188. Коэффициент корреляции Мэтьюса: 0.494\n"
     ]
    }
   ],
   "source": [
    "# Обучаем модель на объединённых данных и сохраняем её в переменной\n",
    "best_model_dt = decision_tree(X_valid, y_valid)"
   ]
  },
  {
   "cell_type": "code",
   "execution_count": 27,
   "metadata": {},
   "outputs": [
    {
     "name": "stdout",
     "output_type": "stream",
     "text": [
      "Лучшая глубина дерева для выборки = 10, с максимальной точностью 0.8009331259720062. Коэффициент корреляции Мэтьюса: 0.505\n"
     ]
    }
   ],
   "source": [
    "# Обучаем модель на объединённых данных и сохраняем её в переменной\n",
    "best_model_dt = decision_tree(X_valid, y_valid, criterion='entropy')"
   ]
  },
  {
   "cell_type": "code",
   "execution_count": 28,
   "metadata": {},
   "outputs": [
    {
     "name": "stdout",
     "output_type": "stream",
     "text": [
      "Лучшая глубина дерева для выборки = 13, с максимальной точностью 0.8180404354587869. Коэффициент корреляции Мэтьюса: 0.548\n"
     ]
    }
   ],
   "source": [
    "# Обучаем модель на объединённых данных и сохраняем её в переменной\n",
    "best_model_dt = decision_tree(X_valid, y_valid, splitter='random')"
   ]
  },
  {
   "cell_type": "markdown",
   "metadata": {},
   "source": [
    "#### RandomForestClassifier (Случайный лес)"
   ]
  },
  {
   "cell_type": "markdown",
   "metadata": {},
   "source": [
    "**Подберём гиперпараметры для Случайного леса.**\n",
    "- `criterion`: Определяет функцию, используемую для оценки качества разделения узлов в деревьях, входящих в случайный лес. В RandomForestClassifier доступны следующие значения для этого параметра:\n",
    "    - `gini`: Использует индекс Джини для оценки качества разделения. Это наиболее распространенный критерий для классификации, который измеряет степень \"чистоты\" узла. Чем меньше индекс Джини, тем более однородным является узел.\n",
    "    - `entropy`: Использует энтропию для оценки качества разделения. Этот критерий основан на концепции информации и измеряет уровень неопределенности в узле. Чем выше энтропия, тем более разнообразными являются классы в узле.\n",
    "- `n_estimators`: Количество деревьев в лесу. Увеличение этого значения может улучшить производительность, но также увеличивает время обучения.\n",
    "- `max_depth`: Максимальная глубина каждого дерева. Как и в случае с деревьями решений, это помогает контролировать переобучение.\n",
    "- `min_samples_leaf`: Минимальное количество образцов в листовом узле.\n",
    "- `min_samples_split`: Минимальное количество образцов для разделения узла.\n",
    "- `max_features`: Максимальное количество признаков, которые будут использоваться для поиска наилучшего разделения. Это может помочь улучшить разнообразие деревьев в лесу."
   ]
  },
  {
   "cell_type": "code",
   "execution_count": 29,
   "metadata": {},
   "outputs": [],
   "source": [
    "parametrs = {'criterion':['gini', 'entropy'], \n",
    "             'max_depth': range (1, 21, 2),\n",
    "             'min_samples_leaf': range (1, 8),\n",
    "             'min_samples_split': range (2, 12, 2)}"
   ]
  },
  {
   "cell_type": "code",
   "execution_count": 30,
   "metadata": {},
   "outputs": [
    {
     "data": {
      "text/plain": [
       "{'criterion': 'gini',\n",
       " 'max_depth': 9,\n",
       " 'min_samples_leaf': 2,\n",
       " 'min_samples_split': 8}"
      ]
     },
     "execution_count": 30,
     "metadata": {},
     "output_type": "execute_result"
    }
   ],
   "source": [
    "# Подбираем параметры под Случайный лес\n",
    "grid = GridSearchCV(RandomForestClassifier(random_state=42), \n",
    "                    parametrs, \n",
    "                    scoring = 'accuracy',\n",
    "                    error_score='raise',\n",
    "                    n_jobs=-1, \n",
    "                    cv=3)\n",
    "\n",
    "# parametrs - Указываем параметры, с которыми мы хотим поэкспериментировать, а также значения для этих параметров.\n",
    "# scoring - Подсчет очков\n",
    "# cv - параметр обозначает перекрестную проверку и определяет, сколько сгибов модель использует для проверки своих \n",
    "# результатов. По умолчанию для этого параметра cv = 5, чтобы он выполнялся немного быстрее, установим наше значение 3\n",
    "# n_jobs - Количество заданий для параллельного выполнения. Настройка n_jobs значение -1 означает, что модель использует \n",
    "# все процессоры на вашем компьютере\n",
    "\n",
    "grid.fit(X_train, y_train)\n",
    "grid.best_params_  # Выводим лучшие гиперпараметры"
   ]
  },
  {
   "cell_type": "code",
   "execution_count": 31,
   "metadata": {},
   "outputs": [],
   "source": [
    "def random_forest(features_x, target_x, number_trees=101, criterion='gini'):\n",
    "    \"\"\"\n",
    "    Функция принимает валидационную и тестовую выборки применяет переданные гиперпараметры и выводит итоговую информацию \n",
    "    \"\"\"\n",
    "    best_model = None\n",
    "    best_result = 0\n",
    "    best_est = 0\n",
    "    matthews = 0\n",
    "    for est in range(1, number_trees):\n",
    "        # обучаем модель с заданным количеством деревьев\n",
    "        model = RandomForestClassifier(criterion=criterion, \n",
    "                                       random_state=42, \n",
    "                                       n_estimators=est, \n",
    "                                       max_depth=9,\n",
    "                                       min_samples_leaf=2,\n",
    "                                       min_samples_split=8)\n",
    "        model.fit(X_train, y_train) # обучаем модель на тренировочной выборке\n",
    "        predictions_valid = model.predict(X_test)  # Получаем предсказание модели\n",
    "        result = model.score(features_x, target_x) # подсчитываем качество модели на валидационной выборке\n",
    "        matthews = matthews_corrcoef(predictions_valid, y_test)\n",
    "        if result > best_result:\n",
    "            best_model = model # сохраняем наилучшую модель\n",
    "            best_result = result  # сохраняем наилучшее значение метрики accuracy на валидационных данных\n",
    "            best_est = est  # Сохраняем наилучшее количество деревьев\n",
    "\n",
    "    print(f\"Точность (accuracy) наилучшей модели на выборке составляет: {best_result}, наилучшие результаты \\n\\\n",
    "    достигаются при использовании {best_est} деревьев. Коэффициент корреляции Мэтьюса: {matthews:.3f}\")\n",
    "\n",
    "    return best_model  # Возвращаем наилучшую модель"
   ]
  },
  {
   "cell_type": "code",
   "execution_count": 32,
   "metadata": {},
   "outputs": [
    {
     "name": "stdout",
     "output_type": "stream",
     "text": [
      "Точность (accuracy) наилучшей модели на выборке составляет: 0.8242612752721618, наилучшие результаты \n",
      "    достигаются при использовании 18 деревьев. Коэффициент корреляции Мэтьюса: 0.526\n"
     ]
    }
   ],
   "source": [
    "# Обучаем модель на объединённых данных и сохраняем её в переменной\n",
    "best_model_rf = random_forest(X_valid, y_valid, criterion='gini')"
   ]
  },
  {
   "cell_type": "code",
   "execution_count": 33,
   "metadata": {},
   "outputs": [
    {
     "name": "stdout",
     "output_type": "stream",
     "text": [
      "Точность (accuracy) наилучшей модели на выборке составляет: 0.8258164852255054, наилучшие результаты \n",
      "    достигаются при использовании 15 деревьев. Коэффициент корреляции Мэтьюса: 0.533\n"
     ]
    }
   ],
   "source": [
    "# Обучаем модель на объединённых данных и сохраняем её в переменной\n",
    "best_model_rf = random_forest(X_valid, y_valid, criterion='entropy')"
   ]
  },
  {
   "cell_type": "markdown",
   "metadata": {},
   "source": [
    "#### LogisticRegression (Логистическая регрессия)"
   ]
  },
  {
   "cell_type": "markdown",
   "metadata": {},
   "source": [
    "**Подберём гиперпараметры для Логистической регрессии**\n",
    "\n",
    "- `C`: Обратная величина регуляризации. Меньшие значения означают более сильную регуляризацию, что может помочь предотвратить переобучение.\n",
    "- `penalty`: Тип регуляризации, который будет использоваться. Возможные значения: 'l1', 'l2', и 'elasticnet'.\n",
    "- `solver`: Алгоритм оптимизации, используемый для обучения модели. Например, 'liblinear', 'lbfgs', 'newton-cg', и другие.\n",
    "- `max_iter`: Максимальное количество итераций для алгоритма оптимизации. Увеличение этого значения может помочь достичь сходимости."
   ]
  },
  {
   "cell_type": "code",
   "execution_count": 34,
   "metadata": {},
   "outputs": [
    {
     "name": "stdout",
     "output_type": "stream",
     "text": [
      "{'logisticregression__C': 1, 'logisticregression__penalty': 'l2', 'logisticregression__solver': 'liblinear'}\n"
     ]
    }
   ],
   "source": [
    "# Масштабируем данные\n",
    "scaler = StandardScaler()\n",
    "\n",
    "# Определяем параметры для GridSearchCV\n",
    "parameter = {\n",
    "    'logisticregression__penalty': ['l1', 'l2'], \n",
    "    'logisticregression__C': [1, 10, 100, 1000],\n",
    "    'logisticregression__solver': ['liblinear']  # Используем решатель, поддерживающий l1\n",
    "}\n",
    "\n",
    "# Создаем пайплайн\n",
    "pipeline = Pipeline([\n",
    "    ('scaler', scaler),\n",
    "    ('logisticregression', LogisticRegression(random_state=42, max_iter=200))  # Увеличиваем max_iter\n",
    "])\n",
    "\n",
    "# Настраиваем GridSearchCV\n",
    "grid_search = GridSearchCV(pipeline,  \n",
    "                           param_grid=parameter,\n",
    "                           scoring='accuracy',\n",
    "                           cv=5,\n",
    "                           verbose=0)\n",
    "\n",
    "# Обучаем модель\n",
    "grid_search.fit(X_train, y_train)\n",
    "\n",
    "# Выводим лучшие гиперпараметры\n",
    "print(grid_search.best_params_)"
   ]
  },
  {
   "cell_type": "code",
   "execution_count": 35,
   "metadata": {},
   "outputs": [],
   "source": [
    "def logistic_regression(features_x, target_x, solver='lbfgs'):\n",
    "    \"\"\"\n",
    "    Функция принимает валидационную и тестовую выборки применяет переданные гиперпараметры и выводит \n",
    "    итоговую информацию о точности работы модели\n",
    "    \"\"\"\n",
    "     # Настраиваем модель\n",
    "    model = LogisticRegression(random_state=42, \n",
    "                               solver=solver,\n",
    "                               C=1, \n",
    "                               penalty='l2', \n",
    "                               max_iter=10000)\n",
    "    model.fit(X_train, y_train) # обучаем модель на тренировочной выборке\n",
    "    result = model.score(features_x, target_x) # подсчитываем качество модели на валидационной выборке\n",
    "\n",
    "    print(f\"Точность (accuracy) наилучшей модели на выборке составляет: {result}\")"
   ]
  },
  {
   "cell_type": "code",
   "execution_count": 36,
   "metadata": {},
   "outputs": [
    {
     "name": "stdout",
     "output_type": "stream",
     "text": [
      "Точность (accuracy) наилучшей модели на выборке составляет: 0.7387247278382582\n"
     ]
    }
   ],
   "source": [
    "logistic_regression(X_valid, y_valid, solver='lbfgs')"
   ]
  },
  {
   "cell_type": "code",
   "execution_count": 37,
   "metadata": {},
   "outputs": [
    {
     "name": "stdout",
     "output_type": "stream",
     "text": [
      "Точность (accuracy) наилучшей модели на выборке составляет: 0.7387247278382582\n"
     ]
    }
   ],
   "source": [
    "logistic_regression(X_valid, y_valid, solver='newton-cg')"
   ]
  },
  {
   "cell_type": "code",
   "execution_count": 38,
   "metadata": {},
   "outputs": [
    {
     "name": "stdout",
     "output_type": "stream",
     "text": [
      "Точность (accuracy) наилучшей модели на выборке составляет: 0.7122861586314152\n"
     ]
    }
   ],
   "source": [
    "logistic_regression(X_valid, y_valid, solver='sag')"
   ]
  },
  {
   "cell_type": "code",
   "execution_count": 39,
   "metadata": {},
   "outputs": [
    {
     "name": "stdout",
     "output_type": "stream",
     "text": [
      "Точность (accuracy) наилучшей модели на выборке составляет: 0.7107309486780715\n"
     ]
    }
   ],
   "source": [
    "logistic_regression(X_valid, y_valid, solver='saga')"
   ]
  },
  {
   "cell_type": "markdown",
   "metadata": {},
   "source": [
    "Значения гиперпараметра solved (sag, saga) показали значения не более 0,73 по этой причине исключены из дальнейшего анализа. Значение гиперпараметра solved (`lbfgs`, `newton-cg`) **показывают одинаковый наилучший результат 0.7387247278382582** и могут быть использованы для дальнейшего исследования."
   ]
  },
  {
   "cell_type": "markdown",
   "metadata": {},
   "source": [
    "### Краткие выводы исследования"
   ]
  },
  {
   "cell_type": "markdown",
   "metadata": {},
   "source": [
    "При сравнении 3-х обученных моделей (Дерево решений, Случайный лес и Логистическая регрессия), следующие наилучшие результаты работы ML моделей были получены на валидационных выборках: \n",
    "- `Дерево решений` 0.8180404354587869;\n",
    "- `Случайного леса` 0.8258164852255054;\n",
    "- `Логистическая регрессия` 0.7387247278382582. \n",
    "\n",
    "`Все проверенные ML модели` с подобранными гиперпараметрами, которые показали значения выше 0.75, могут говорить `о применимости всех моделей` для проведение анализа на `тестовой выборке`."
   ]
  },
  {
   "cell_type": "markdown",
   "metadata": {},
   "source": [
    "Здесь отлично: подобрали для всех наших моделей лучшие гиперпараметры (в данном случае - максимизирующие метрику accuracy_score). Также здесь мы ещё и определили САМУЮ лучшую модель. На валидации ею оказалась модель \"случайного леса\". \n",
    "\n",
    "После того, как гиперпараметры на валидации подобраны - тестируем модели на тестовых данных. По результатам тестирования на тестовой выборке выбираем модель, которую сможем передать в продакшн, как конечный результат проведённого исследования. "
   ]
  },
  {
   "cell_type": "markdown",
   "metadata": {},
   "source": [
    "## Проверьте модель на тестовой выборке\n",
    "\n",
    "Для тестирования используем гиперпараметры настройки моделей, которые показали лучший результат на проверке Валидационной выборке."
   ]
  },
  {
   "cell_type": "code",
   "execution_count": 40,
   "metadata": {},
   "outputs": [
    {
     "name": "stdout",
     "output_type": "stream",
     "text": [
      "Accuracy наилучшей модели на тестовой выборке составляет: 0.8102643856920684.\n",
      "Коэффициент корреляции Мэтьюса: 0.526\n"
     ]
    }
   ],
   "source": [
    "# Проверяем Дерево решений на тестовой выбоке\n",
    "model = DecisionTreeClassifier(criterion='gini', \n",
    "                               splitter='random',\n",
    "                               random_state=42,\n",
    "                               max_leaf_nodes=66, \n",
    "                               min_samples_split=3,\n",
    "                               max_depth=12) \n",
    "model.fit(X_train, y_train)  # Обучаем модель на тренировочной выборке\n",
    "# Проводим проверку качества модели на выборке \n",
    "predictions_valid = model.predict(X_test)  # Получаем предсказание модели\n",
    "result = accuracy_score(y_test, predictions_valid) # Подсчитываем качество модели на тестовой выборке\n",
    "matthews = matthews_corrcoef(predictions_valid, y_test)\n",
    "print(f'Accuracy наилучшей модели на тестовой выборке составляет: {result}.\\\n",
    "\\nКоэффициент корреляции Мэтьюса: {matthews:.3f}')"
   ]
  },
  {
   "cell_type": "code",
   "execution_count": 41,
   "metadata": {},
   "outputs": [
    {
     "name": "stdout",
     "output_type": "stream",
     "text": [
      "Accuracy наилучшей модели на тестовой выборке составляет: 0.8133748055987559.\n",
      "Коэффициент корреляции Мэтьюса: 0.537\n"
     ]
    }
   ],
   "source": [
    "# Проверяем модель Случайного леса на тестовой выборке\n",
    "model = RandomForestClassifier(criterion='entropy', \n",
    "                               random_state=42, \n",
    "                               n_estimators=15, \n",
    "                               max_depth=9,\n",
    "                               min_samples_leaf=2,\n",
    "                               min_samples_split=8)\n",
    "model.fit(X_train, y_train) # обучаем модель на тренировочной выборке\n",
    "predictions_valid = model.predict(X_test)  # Получаем предсказание модели\n",
    "result = model.score(X_test, y_test) # подсчитываем качество модели на тестовой выборке\n",
    "matthews = matthews_corrcoef(predictions_valid, y_test)\n",
    "print(f'Accuracy наилучшей модели на тестовой выборке составляет: {result}.\\\n",
    "\\nКоэффициент корреляции Мэтьюса: {matthews:.3f}')"
   ]
  },
  {
   "cell_type": "markdown",
   "metadata": {},
   "source": [
    "## (бонус) Проверьте модели на адекватность"
   ]
  },
  {
   "cell_type": "markdown",
   "metadata": {},
   "source": [
    "Построим тревиальную модель и получим значение её работы."
   ]
  },
  {
   "cell_type": "code",
   "execution_count": 42,
   "metadata": {},
   "outputs": [
    {
     "name": "stdout",
     "output_type": "stream",
     "text": [
      "Точность (accuracy) тревиальной модели составляет: 0.693528313627878\n"
     ]
    }
   ],
   "source": [
    "dummy_clf = DummyClassifier(strategy=\"most_frequent\")\n",
    "dummy_clf.fit(features, target)\n",
    "result = dummy_clf.score(features, target)\n",
    "print(f'Точность (accuracy) тревиальной модели составляет: {result}')"
   ]
  },
  {
   "cell_type": "markdown",
   "metadata": {},
   "source": [
    "Для проверки модели на адекватность, использовали простейшую (dummy) модель: `DummyClassifier` (для нашей задачи бинарной классификации). **DummyClassifier** \"предсказывает\" наиболее часто встречающийся класс. Здесь мы получаем контрольную accuracy, чтобы сравнить её с результатом работы самой лучшей модели. \n",
    "\n",
    "В качестве альтернативного варианта проверки корректности работы модели, проведём сравнение используемых классов в предоставленных данных. Самый часто встречающийся класс в наших данных (это `is_ultra` == 0). Таких значений 2.229 в нашем датафрейме. Всего же значений в датафрейме 3.214. Значит самый часто встречающийся класс \"занимает\" 69% (2229 / 3214 == 0.693528313627878). Мы получили контрольные данные для сравнительной оценки, построенной нами \"лучшей\" модели."
   ]
  },
  {
   "cell_type": "markdown",
   "metadata": {},
   "source": [
    "Наилучшие значения точности (accuracy) были получены на моделе Случайного леса (RandomForestClassifier) и составляют 0.8180404354587869.\n",
    "\n",
    "При сравнении полученного результата 0.8133748055987559 с результатом работы тревиальной модели 0.693528313627878 очевидно, что полученный результат, лучше результата работы тревиальной модели, что в свою очередь свидетельствует о корректности работы модели Случайного леса и подобранных гиперпараметров.\n",
    "\n",
    "**Согласно результатам проведённого исследования, наиболее перспективным тарифом является тариф Ультра.**"
   ]
  },
  {
   "cell_type": "markdown",
   "metadata": {},
   "source": [
    "## Улучшение полученного результата"
   ]
  },
  {
   "cell_type": "markdown",
   "metadata": {},
   "source": [
    "В рамках текущего проекта, в соответствии с заданием, использовались 3 выборки данных, а именно: Тренировочная, Валидационная и Тестовая. \n",
    "\n",
    "Учитывая что, мы использовали train для обучения модели, а valid - для поиска лучших значений гиперпараметров (Лучшие параметры нашли). Почему бы наши модели с выбранными гиперпараметрами не обучить на *общей* (тренировочной + валидационной) выборках. При общем подходе, чем больше данных, тем *лучше* модели смогут обучиться и теоритически, ранее полученный результат может быть улучшен. И по итогам, подобного дообученния модель, уже финально проверим на тестовой выборке (test)."
   ]
  },
  {
   "cell_type": "markdown",
   "metadata": {},
   "source": [
    "### Объединение Тренировочной и Валидационной выборок.\n",
    "\n",
    "После разбиения первоначальных выборок (`features` и `target`), для исследования исспользовались дефрагментированные новые выборки `X_train`, `y_train`, `X_valid`, `y_valid`, `X_test`, `y_test`.\n",
    "\n",
    "В рамках улучшения итогового показателя, объеденим между собой `X_train` и `X_valid`, а так же `y_train` и `y_valid`, чтобы получилось 2 выборки Новая Тренировочная и Целевые показатели Тренировочной выборки.\n",
    "\n",
    "Тестовые выборки `X_test` и `y_test` оставляем неизменными."
   ]
  },
  {
   "cell_type": "code",
   "execution_count": 43,
   "metadata": {},
   "outputs": [
    {
     "name": "stdout",
     "output_type": "stream",
     "text": [
      "1928\n",
      "1928\n",
      "643\n",
      "643\n"
     ]
    }
   ],
   "source": [
    "# Получаем текущую размерность выборок \n",
    "for i in [X_train, y_train, X_valid, y_valid]:\n",
    "    print(i.shape[0])"
   ]
  },
  {
   "cell_type": "code",
   "execution_count": 44,
   "metadata": {},
   "outputs": [],
   "source": [
    "# Объединяем тренировочную и валидационную выборки с формированием новых переменных\n",
    "X_combined = pd.concat([pd.DataFrame(X_train), pd.DataFrame(X_valid)])\n",
    "y_combined = pd.concat([pd.DataFrame(y_train), pd.DataFrame(y_valid)]).values.ravel()  # Преобразуем y в одномерный массив"
   ]
  },
  {
   "cell_type": "markdown",
   "metadata": {},
   "source": [
    "### Обучение на объединённых выборках"
   ]
  },
  {
   "cell_type": "code",
   "execution_count": 45,
   "metadata": {},
   "outputs": [],
   "source": [
    "# Используем лучшие гиперпараметры, найденные ранее\n",
    "best_params = {\n",
    "    'criterion': 'entropy',\n",
    "    'max_depth': 9,\n",
    "    'min_samples_leaf': 2,\n",
    "    'min_samples_split': 8,\n",
    "}"
   ]
  },
  {
   "cell_type": "code",
   "execution_count": 46,
   "metadata": {},
   "outputs": [],
   "source": [
    "def train_combined_model(features_combined, target_combined, number_trees=101):\n",
    "    \"\"\"\n",
    "    Функция обучает модель на объединённых данных и выводит итоговую информацию\n",
    "    \"\"\"\n",
    "    best_model = None\n",
    "    best_result = 0\n",
    "    best_est = 0\n",
    "    matthews = 0\n",
    "    \n",
    "    for est in range(1, number_trees):\n",
    "        # Обучаем модель с заданным количеством деревьев\n",
    "        model = RandomForestClassifier(criterion=best_params['criterion'], \n",
    "                                       random_state=42, \n",
    "                                       n_estimators=est, \n",
    "                                       max_depth=best_params['max_depth'],\n",
    "                                       min_samples_leaf=best_params['min_samples_leaf'],\n",
    "                                       min_samples_split=best_params['min_samples_split'])\n",
    "        model.fit(features_combined, target_combined)  # Обучаем модель на объединённых данных\n",
    "        \n",
    "        # Получаем предсказание модели на валидационной выборке\n",
    "        predictions_valid = model.predict(X_valid)  \n",
    "        result = accuracy_score(y_valid, predictions_valid)  # Подсчитываем качество модели на валидационной выборке\n",
    "        matthews = matthews_corrcoef(y_valid, predictions_valid)  # Коэффициент корреляции Мэтьюса\n",
    "        \n",
    "        if result > best_result:\n",
    "            best_model = model  # Сохраняем наилучшую модель\n",
    "            best_result = result  # Сохраняем наилучшее значение метрики accuracy на валидационных данных\n",
    "            best_est = est  # Сохраняем наилучшее количество деревьев\n",
    "\n",
    "    print(f\"Точность (accuracy) наилучшей модели на выборке составляет: {best_result}, наилучшие результаты \\n\\\n",
    "    достигаются при использовании {best_est} деревьев. Коэффициент корреляции Мэтьюса: {matthews:.3f}\")\n",
    "    \n",
    "    return best_model  # Возвращаем наилучшую модель"
   ]
  },
  {
   "cell_type": "code",
   "execution_count": 47,
   "metadata": {},
   "outputs": [
    {
     "name": "stdout",
     "output_type": "stream",
     "text": [
      "Точность (accuracy) наилучшей модели на выборке составляет: 0.8724727838258165, наилучшие результаты \n",
      "    достигаются при использовании 7 деревьев. Коэффициент корреляции Мэтьюса: 0.665\n"
     ]
    }
   ],
   "source": [
    "# Обучаем модель на объединённых данных и сохраняем её в переменной\n",
    "best_model_result = train_combined_model(X_combined, y_combined, number_trees=101)"
   ]
  },
  {
   "cell_type": "markdown",
   "metadata": {},
   "source": [
    "### Проверка дообученной модели на Тестовой выборке"
   ]
  },
  {
   "cell_type": "code",
   "execution_count": 48,
   "metadata": {},
   "outputs": [
    {
     "name": "stdout",
     "output_type": "stream",
     "text": [
      "Точность (accuracy) на тестовой выборке: 0.834\n",
      "Коэффициент корреляции Мэтьюса: 0.589\n"
     ]
    }
   ],
   "source": [
    "def evaluate_model(model, X_test, y_test):\n",
    "    \"\"\"\n",
    "    Функция для оценки модели на тестовой выборке\n",
    "    \"\"\"\n",
    "    # Получаем предсказания на тестовой выборке\n",
    "    predictions_test = model.predict(X_test)\n",
    "    \n",
    "    # Вычисляем точность\n",
    "    accuracy = accuracy_score(y_test, predictions_test)\n",
    "    \n",
    "    # Вычисляем коэффициент корреляции Мэтьюса\n",
    "    matthews = matthews_corrcoef(y_test, predictions_test)\n",
    "    \n",
    "    print(f\"Точность (accuracy) на тестовой выборке: {accuracy:.3f}\")\n",
    "    print(f\"Коэффициент корреляции Мэтьюса: {matthews:.3f}\")\n",
    "\n",
    "# Проверяем модель на тестовой выборке\n",
    "evaluate_model(best_model_result, X_test, y_test)"
   ]
  },
  {
   "cell_type": "code",
   "execution_count": 49,
   "metadata": {},
   "outputs": [
    {
     "name": "stdout",
     "output_type": "stream",
     "text": [
      "Улучшение модели: новая точность (accuracy) составляет 0.834, что выше предыдущей точности 0.813 на 2.43%.\n"
     ]
    }
   ],
   "source": [
    "# Предположим, что вы уже получили accuracy на дообученной модели\n",
    "new_accuracy = accuracy_score(y_test, best_model_result.predict(X_test))  # Получаем новую точность на тестовой выборке\n",
    "\n",
    "# Сравниваем новую точность с предыдущей\n",
    "previous_accuracy = 0.8133748055987559  # Предыдущая точность\n",
    "\n",
    "if new_accuracy > previous_accuracy:\n",
    "    print(f\"Улучшение модели: новая точность (accuracy) составляет {new_accuracy:.3f}, что выше предыдущей точности {previous_accuracy:.3f} \\\n",
    "на {1 - previous_accuracy/new_accuracy:.2%}.\")\n",
    "else:\n",
    "    print(f\"Модель не улучшилась: новая точность (accuracy) составляет {new_accuracy:.3f}, \\\n",
    "что не превышает предыдущую точность {previous_accuracy:.3f}.\")"
   ]
  },
  {
   "cell_type": "markdown",
   "metadata": {},
   "source": [
    "После дообучения модели на объединенной выборке (тренировочной и валидационной) была проведена оценка производительности модели на тестовой выборке. Ранее полученная точность (accuracy) на валидационной выборке составила `0.813`.\n",
    "\n",
    "После дообучения модели, новая точность на тестовой выборке составила `0.834`.\n",
    "\n",
    "Сравнение результатов:\n",
    "- Предыдущая точность (accuracy): `0.813`\n",
    "- Новая точность (accuracy): `0.834`\n",
    "\n",
    "Вывод:\n",
    "- Т.к. новая точность выше предыдущей, можно сделать вывод, что дообучение модели привело к улучшению её производительности. Это может свидетельствовать о том, что модель лучше справляется с задачей классификации, что может быть связано с более полным использованием информации из объединенной выборки. Что в свою очередь указывает на то, что модель стала более эффективной в предсказании классов на тестовой выборке.\""
   ]
  },
  {
   "cell_type": "markdown",
   "metadata": {},
   "source": [
    "## Чек-лист готовности проекта"
   ]
  },
  {
   "cell_type": "markdown",
   "metadata": {},
   "source": [
    "Поставьте 'x' в выполненных пунктах. Далее нажмите Shift+Enter."
   ]
  },
  {
   "cell_type": "markdown",
   "metadata": {},
   "source": [
    "- [x] Jupyter Notebook открыт\n",
    "- [x] Весь код исполняется без ошибок\n",
    "- [x] Ячейки с кодом расположены в порядке исполнения\n",
    "- [x] Выполнено задание 1: данные загружены и изучены\n",
    "- [x] Выполнено задание 2: данные разбиты на три выборки\n",
    "- [x] Выполнено задание 3: проведено исследование моделей\n",
    "    - [x] Рассмотрено больше одной модели\n",
    "    - [x] Рассмотрено хотя бы 3 значения гипепараметров для какой-нибудь модели\n",
    "    - [x] Написаны выводы по результатам исследования\n",
    "- [x] Выполнено задание 3: Проведено тестирование\n",
    "- [x] Удалось достичь accuracy не меньше 0.75\n"
   ]
  },
  {
   "cell_type": "code",
   "execution_count": null,
   "metadata": {},
   "outputs": [],
   "source": []
  }
 ],
 "metadata": {
  "ExecuteTimeLog": [
   {
    "duration": 440,
    "start_time": "2023-04-02T21:00:49.587Z"
   },
   {
    "duration": 79,
    "start_time": "2023-04-02T21:01:26.439Z"
   },
   {
    "duration": 3,
    "start_time": "2023-04-02T21:01:37.904Z"
   },
   {
    "duration": 73,
    "start_time": "2023-04-02T21:01:38.467Z"
   },
   {
    "duration": 26,
    "start_time": "2023-04-02T21:01:39.081Z"
   },
   {
    "duration": 11,
    "start_time": "2023-04-02T21:01:48.922Z"
   },
   {
    "duration": 15,
    "start_time": "2023-04-02T21:02:00.337Z"
   },
   {
    "duration": 16,
    "start_time": "2023-04-02T21:02:09.800Z"
   },
   {
    "duration": 9,
    "start_time": "2023-04-02T21:03:24.059Z"
   },
   {
    "duration": 408,
    "start_time": "2023-04-03T16:02:31.601Z"
   },
   {
    "duration": 70,
    "start_time": "2023-04-03T16:02:32.010Z"
   },
   {
    "duration": 7,
    "start_time": "2023-04-03T16:02:32.081Z"
   },
   {
    "duration": 24,
    "start_time": "2023-04-03T16:02:32.090Z"
   },
   {
    "duration": 22,
    "start_time": "2023-04-03T16:02:32.115Z"
   },
   {
    "duration": 32,
    "start_time": "2023-04-03T16:02:32.138Z"
   },
   {
    "duration": 3,
    "start_time": "2023-04-03T16:09:12.140Z"
   },
   {
    "duration": 9,
    "start_time": "2023-04-03T16:10:39.366Z"
   },
   {
    "duration": 11,
    "start_time": "2023-04-03T16:10:52.976Z"
   },
   {
    "duration": 10,
    "start_time": "2023-04-03T16:10:54.939Z"
   },
   {
    "duration": 10,
    "start_time": "2023-04-03T16:13:07.402Z"
   },
   {
    "duration": 4,
    "start_time": "2023-04-03T16:42:55.722Z"
   },
   {
    "duration": 4,
    "start_time": "2023-04-03T16:44:27.779Z"
   },
   {
    "duration": 102,
    "start_time": "2023-04-03T16:45:28.502Z"
   },
   {
    "duration": 71,
    "start_time": "2023-04-03T16:45:32.938Z"
   },
   {
    "duration": 3,
    "start_time": "2023-04-03T16:46:29.974Z"
   },
   {
    "duration": 3,
    "start_time": "2023-04-03T16:47:13.819Z"
   },
   {
    "duration": 7,
    "start_time": "2023-04-03T16:47:36.471Z"
   },
   {
    "duration": 713,
    "start_time": "2023-04-03T16:48:06.458Z"
   },
   {
    "duration": 5,
    "start_time": "2023-04-03T16:48:11.210Z"
   },
   {
    "duration": 6,
    "start_time": "2023-04-03T16:48:17.717Z"
   },
   {
    "duration": 3,
    "start_time": "2023-04-03T16:50:23.956Z"
   },
   {
    "duration": 7,
    "start_time": "2023-04-03T17:45:49.080Z"
   },
   {
    "duration": 5,
    "start_time": "2023-04-03T17:45:49.320Z"
   },
   {
    "duration": 5,
    "start_time": "2023-04-03T17:45:54.205Z"
   },
   {
    "duration": 5,
    "start_time": "2023-04-03T17:45:54.821Z"
   },
   {
    "duration": 6,
    "start_time": "2023-04-03T17:46:50.525Z"
   },
   {
    "duration": 7,
    "start_time": "2023-04-03T17:48:04.561Z"
   },
   {
    "duration": 6,
    "start_time": "2023-04-03T17:48:05.051Z"
   },
   {
    "duration": 4,
    "start_time": "2023-04-03T17:50:18.906Z"
   },
   {
    "duration": 4,
    "start_time": "2023-04-03T17:51:07.414Z"
   },
   {
    "duration": 6,
    "start_time": "2023-04-03T17:51:40.477Z"
   },
   {
    "duration": 4,
    "start_time": "2023-04-03T17:51:40.811Z"
   },
   {
    "duration": 4,
    "start_time": "2023-04-03T17:51:41.174Z"
   },
   {
    "duration": 12,
    "start_time": "2023-04-03T17:52:13.551Z"
   },
   {
    "duration": 6,
    "start_time": "2023-04-03T17:52:25.002Z"
   },
   {
    "duration": 51,
    "start_time": "2023-04-03T17:52:32.454Z"
   },
   {
    "duration": 5,
    "start_time": "2023-04-03T17:52:35.580Z"
   },
   {
    "duration": 11,
    "start_time": "2023-04-03T17:52:54.636Z"
   },
   {
    "duration": 9,
    "start_time": "2023-04-03T17:52:58.103Z"
   },
   {
    "duration": 6,
    "start_time": "2023-04-03T17:53:05.502Z"
   },
   {
    "duration": 7,
    "start_time": "2023-04-03T17:53:12.755Z"
   },
   {
    "duration": 6,
    "start_time": "2023-04-03T17:54:04.669Z"
   },
   {
    "duration": 5,
    "start_time": "2023-04-03T17:54:05.173Z"
   },
   {
    "duration": 6,
    "start_time": "2023-04-03T17:54:50.304Z"
   },
   {
    "duration": 5,
    "start_time": "2023-04-03T17:54:51.405Z"
   },
   {
    "duration": 4,
    "start_time": "2023-04-03T17:54:52.140Z"
   },
   {
    "duration": 4,
    "start_time": "2023-04-03T17:55:08.379Z"
   },
   {
    "duration": 5,
    "start_time": "2023-04-03T17:55:16.387Z"
   },
   {
    "duration": 5,
    "start_time": "2023-04-03T17:55:16.797Z"
   },
   {
    "duration": 4,
    "start_time": "2023-04-03T17:55:17.330Z"
   },
   {
    "duration": 3,
    "start_time": "2023-04-03T17:55:26.044Z"
   },
   {
    "duration": 5,
    "start_time": "2023-04-03T17:56:02.316Z"
   },
   {
    "duration": 6,
    "start_time": "2023-04-03T17:56:02.713Z"
   },
   {
    "duration": 5,
    "start_time": "2023-04-03T17:56:03.135Z"
   },
   {
    "duration": 4,
    "start_time": "2023-04-03T17:56:12.848Z"
   },
   {
    "duration": 5,
    "start_time": "2023-04-03T17:57:33.653Z"
   },
   {
    "duration": 4,
    "start_time": "2023-04-03T17:57:34.038Z"
   },
   {
    "duration": 4,
    "start_time": "2023-04-03T17:59:03.851Z"
   },
   {
    "duration": 6,
    "start_time": "2023-04-03T17:59:04.704Z"
   },
   {
    "duration": 4,
    "start_time": "2023-04-03T17:59:05.634Z"
   },
   {
    "duration": 5,
    "start_time": "2023-04-03T18:00:40.838Z"
   },
   {
    "duration": 4,
    "start_time": "2023-04-03T18:03:53.344Z"
   },
   {
    "duration": 40,
    "start_time": "2023-04-03T18:10:21.527Z"
   },
   {
    "duration": 11,
    "start_time": "2023-04-03T18:10:45.459Z"
   },
   {
    "duration": 5,
    "start_time": "2023-04-03T18:10:58.040Z"
   },
   {
    "duration": 26,
    "start_time": "2023-04-03T18:13:38.678Z"
   },
   {
    "duration": 3,
    "start_time": "2023-04-03T18:13:58.303Z"
   },
   {
    "duration": 35,
    "start_time": "2023-04-03T18:14:02.474Z"
   },
   {
    "duration": 98,
    "start_time": "2023-04-03T18:17:06.568Z"
   },
   {
    "duration": 1366,
    "start_time": "2023-04-03T18:17:12.701Z"
   },
   {
    "duration": 1297,
    "start_time": "2023-04-03T18:21:44.337Z"
   },
   {
    "duration": 1261,
    "start_time": "2023-04-03T18:21:54.576Z"
   },
   {
    "duration": 1338,
    "start_time": "2023-04-03T18:23:05.870Z"
   },
   {
    "duration": 1229,
    "start_time": "2023-04-03T18:23:53.506Z"
   },
   {
    "duration": 1260,
    "start_time": "2023-04-03T18:25:43.780Z"
   },
   {
    "duration": 312,
    "start_time": "2023-04-03T18:27:37.287Z"
   },
   {
    "duration": 1294,
    "start_time": "2023-04-03T18:27:47.584Z"
   },
   {
    "duration": 22389,
    "start_time": "2023-04-03T18:27:56.404Z"
   },
   {
    "duration": 1246,
    "start_time": "2023-04-03T18:29:47.617Z"
   },
   {
    "duration": 4187,
    "start_time": "2023-04-03T18:30:32.577Z"
   },
   {
    "duration": 23872,
    "start_time": "2023-04-03T18:32:06.742Z"
   },
   {
    "duration": 21410,
    "start_time": "2023-04-03T18:33:03.110Z"
   },
   {
    "duration": 21203,
    "start_time": "2023-04-03T18:34:04.860Z"
   },
   {
    "duration": 21219,
    "start_time": "2023-04-03T18:35:02.570Z"
   },
   {
    "duration": 516,
    "start_time": "2023-04-03T18:39:40.574Z"
   },
   {
    "duration": 586,
    "start_time": "2023-04-03T18:40:02.716Z"
   },
   {
    "duration": 1306,
    "start_time": "2023-04-03T18:40:11.094Z"
   },
   {
    "duration": 523,
    "start_time": "2023-04-03T18:41:11.972Z"
   },
   {
    "duration": 555,
    "start_time": "2023-04-03T18:43:38.940Z"
   },
   {
    "duration": 253,
    "start_time": "2023-04-03T18:43:56.247Z"
   },
   {
    "duration": 1118,
    "start_time": "2023-04-03T18:45:03.932Z"
   },
   {
    "duration": 21044,
    "start_time": "2023-04-03T18:45:05.052Z"
   },
   {
    "duration": 500,
    "start_time": "2023-04-03T18:45:26.098Z"
   },
   {
    "duration": 1115,
    "start_time": "2023-04-03T18:46:40.613Z"
   },
   {
    "duration": 21423,
    "start_time": "2023-04-03T18:47:00.768Z"
   },
   {
    "duration": 1165,
    "start_time": "2023-04-03T18:51:56.419Z"
   },
   {
    "duration": 21478,
    "start_time": "2023-04-03T18:51:57.589Z"
   },
   {
    "duration": 921,
    "start_time": "2023-04-03T18:52:19.069Z"
   },
   {
    "duration": 579,
    "start_time": "2023-04-03T18:52:31.319Z"
   },
   {
    "duration": 557,
    "start_time": "2023-04-03T18:52:39.233Z"
   },
   {
    "duration": 401,
    "start_time": "2023-04-03T18:52:44.998Z"
   },
   {
    "duration": 513,
    "start_time": "2023-04-03T18:52:51.086Z"
   },
   {
    "duration": 95,
    "start_time": "2023-04-03T18:52:56.600Z"
   },
   {
    "duration": 489,
    "start_time": "2023-04-03T18:53:03.109Z"
   },
   {
    "duration": 227,
    "start_time": "2023-04-03T18:53:28.071Z"
   },
   {
    "duration": 344,
    "start_time": "2023-04-03T18:53:34.650Z"
   },
   {
    "duration": 21826,
    "start_time": "2023-04-03T18:54:17.478Z"
   },
   {
    "duration": 20982,
    "start_time": "2023-04-03T18:55:05.536Z"
   },
   {
    "duration": 21235,
    "start_time": "2023-04-03T18:56:22.989Z"
   },
   {
    "duration": 4,
    "start_time": "2023-04-03T19:09:39.817Z"
   },
   {
    "duration": 1108,
    "start_time": "2023-04-03T19:09:40.800Z"
   },
   {
    "duration": 1158,
    "start_time": "2023-04-03T19:10:14.114Z"
   },
   {
    "duration": 1104,
    "start_time": "2023-04-03T19:11:10.241Z"
   },
   {
    "duration": 5,
    "start_time": "2023-04-03T19:12:29.005Z"
   },
   {
    "duration": 5,
    "start_time": "2023-04-03T19:12:50.840Z"
   },
   {
    "duration": 21464,
    "start_time": "2023-04-03T19:13:07.553Z"
   },
   {
    "duration": 21491,
    "start_time": "2023-04-03T19:13:36.649Z"
   },
   {
    "duration": 6,
    "start_time": "2023-04-03T19:13:58.142Z"
   },
   {
    "duration": 4,
    "start_time": "2023-04-03T19:15:06.368Z"
   },
   {
    "duration": 488,
    "start_time": "2023-04-03T19:15:27.511Z"
   },
   {
    "duration": 508,
    "start_time": "2023-04-03T19:15:47.191Z"
   },
   {
    "duration": 585,
    "start_time": "2023-04-03T19:18:16.506Z"
   },
   {
    "duration": 5,
    "start_time": "2023-04-03T19:19:36.527Z"
   },
   {
    "duration": 4,
    "start_time": "2023-04-03T19:19:45.766Z"
   },
   {
    "duration": 3,
    "start_time": "2023-04-03T19:19:54.950Z"
   },
   {
    "duration": 256,
    "start_time": "2023-04-03T19:19:59.548Z"
   },
   {
    "duration": 21427,
    "start_time": "2023-04-03T19:20:02.879Z"
   },
   {
    "duration": 4,
    "start_time": "2023-04-03T19:20:24.307Z"
   },
   {
    "duration": 1179,
    "start_time": "2023-04-03T19:20:24.313Z"
   },
   {
    "duration": 1208,
    "start_time": "2023-04-03T19:20:25.496Z"
   },
   {
    "duration": 21632,
    "start_time": "2023-04-03T19:20:26.706Z"
   },
   {
    "duration": 650,
    "start_time": "2023-04-03T19:20:48.340Z"
   },
   {
    "duration": 5,
    "start_time": "2023-04-03T19:21:09.917Z"
   },
   {
    "duration": 21622,
    "start_time": "2023-04-03T19:21:10.609Z"
   },
   {
    "duration": 22197,
    "start_time": "2023-04-03T19:21:32.233Z"
   },
   {
    "duration": 6,
    "start_time": "2023-04-03T19:27:10.285Z"
   },
   {
    "duration": 1225,
    "start_time": "2023-04-03T19:28:52.454Z"
   },
   {
    "duration": 29,
    "start_time": "2023-04-03T19:28:53.682Z"
   },
   {
    "duration": 12,
    "start_time": "2023-04-03T19:28:53.714Z"
   },
   {
    "duration": 14,
    "start_time": "2023-04-03T19:28:53.729Z"
   },
   {
    "duration": 14,
    "start_time": "2023-04-03T19:28:53.745Z"
   },
   {
    "duration": 28,
    "start_time": "2023-04-03T19:28:53.761Z"
   },
   {
    "duration": 5,
    "start_time": "2023-04-03T19:28:53.792Z"
   },
   {
    "duration": 22,
    "start_time": "2023-04-03T19:28:53.799Z"
   },
   {
    "duration": 8,
    "start_time": "2023-04-03T19:28:53.823Z"
   },
   {
    "duration": 4,
    "start_time": "2023-04-03T19:28:53.836Z"
   },
   {
    "duration": 5,
    "start_time": "2023-04-03T19:28:53.842Z"
   },
   {
    "duration": 7,
    "start_time": "2023-04-03T19:28:53.849Z"
   },
   {
    "duration": 31,
    "start_time": "2023-04-03T19:28:53.858Z"
   },
   {
    "duration": 1185,
    "start_time": "2023-04-03T19:28:53.891Z"
   },
   {
    "duration": 11,
    "start_time": "2023-04-03T19:28:55.078Z"
   },
   {
    "duration": 21143,
    "start_time": "2023-04-03T19:28:55.093Z"
   },
   {
    "duration": 4,
    "start_time": "2023-04-03T19:29:16.237Z"
   },
   {
    "duration": 750,
    "start_time": "2023-04-03T19:29:16.242Z"
   },
   {
    "duration": 1213,
    "start_time": "2023-04-03T19:29:16.998Z"
   },
   {
    "duration": 21317,
    "start_time": "2023-04-03T19:29:18.213Z"
   },
   {
    "duration": 463,
    "start_time": "2023-04-03T19:29:39.532Z"
   },
   {
    "duration": 5,
    "start_time": "2023-04-03T19:34:30.737Z"
   },
   {
    "duration": 1167,
    "start_time": "2023-04-03T19:34:31.200Z"
   },
   {
    "duration": 5,
    "start_time": "2023-04-03T19:35:21.790Z"
   },
   {
    "duration": 1421,
    "start_time": "2023-04-03T19:35:22.261Z"
   },
   {
    "duration": 6,
    "start_time": "2023-04-03T19:35:37.394Z"
   },
   {
    "duration": 112,
    "start_time": "2023-04-03T19:35:38.060Z"
   },
   {
    "duration": 4,
    "start_time": "2023-04-03T19:36:13.942Z"
   },
   {
    "duration": 1103,
    "start_time": "2023-04-03T19:36:14.931Z"
   },
   {
    "duration": 5,
    "start_time": "2023-04-03T19:36:22.900Z"
   },
   {
    "duration": 1376,
    "start_time": "2023-04-03T19:36:23.697Z"
   },
   {
    "duration": 7,
    "start_time": "2023-04-03T19:37:46.687Z"
   },
   {
    "duration": 19,
    "start_time": "2023-04-03T19:37:47.002Z"
   },
   {
    "duration": 6,
    "start_time": "2023-04-03T19:38:06.158Z"
   },
   {
    "duration": 21,
    "start_time": "2023-04-03T19:38:06.510Z"
   },
   {
    "duration": 4,
    "start_time": "2023-04-03T19:38:12.340Z"
   },
   {
    "duration": 1094,
    "start_time": "2023-04-03T19:38:12.957Z"
   },
   {
    "duration": 1362,
    "start_time": "2023-04-03T19:38:42.997Z"
   },
   {
    "duration": 1389,
    "start_time": "2023-04-03T19:38:54.643Z"
   },
   {
    "duration": 1166,
    "start_time": "2023-04-03T19:39:04.354Z"
   },
   {
    "duration": 6,
    "start_time": "2023-04-03T19:42:58.592Z"
   },
   {
    "duration": 5,
    "start_time": "2023-04-03T19:43:44.955Z"
   },
   {
    "duration": 21758,
    "start_time": "2023-04-03T19:43:45.397Z"
   },
   {
    "duration": 25120,
    "start_time": "2023-04-03T19:44:07.158Z"
   },
   {
    "duration": 5,
    "start_time": "2023-04-03T19:44:56.957Z"
   },
   {
    "duration": 653,
    "start_time": "2023-04-03T19:44:57.334Z"
   },
   {
    "duration": 694,
    "start_time": "2023-04-03T19:44:57.990Z"
   },
   {
    "duration": 5,
    "start_time": "2023-04-03T19:45:26.516Z"
   },
   {
    "duration": 21364,
    "start_time": "2023-04-03T19:45:26.784Z"
   },
   {
    "duration": 24775,
    "start_time": "2023-04-03T19:45:48.150Z"
   },
   {
    "duration": 8,
    "start_time": "2023-04-03T19:47:30.568Z"
   },
   {
    "duration": 1176,
    "start_time": "2023-04-03T19:47:30.806Z"
   },
   {
    "duration": 1456,
    "start_time": "2023-04-03T19:47:31.984Z"
   },
   {
    "duration": 4,
    "start_time": "2023-04-03T19:50:04.077Z"
   },
   {
    "duration": 1038,
    "start_time": "2023-04-03T19:50:04.352Z"
   },
   {
    "duration": 18,
    "start_time": "2023-04-03T19:51:00.109Z"
   },
   {
    "duration": 2692,
    "start_time": "2023-04-03T19:51:22.706Z"
   },
   {
    "duration": 22,
    "start_time": "2023-04-03T19:51:38.611Z"
   },
   {
    "duration": 289,
    "start_time": "2023-04-03T19:52:04.068Z"
   },
   {
    "duration": 323,
    "start_time": "2023-04-03T19:52:13.494Z"
   },
   {
    "duration": 1173,
    "start_time": "2023-04-03T19:57:58.607Z"
   },
   {
    "duration": 963,
    "start_time": "2023-04-03T19:58:02.936Z"
   },
   {
    "duration": 24748,
    "start_time": "2023-04-03T19:59:02.809Z"
   },
   {
    "duration": 20965,
    "start_time": "2023-04-03T19:59:36.160Z"
   },
   {
    "duration": 3,
    "start_time": "2023-04-03T20:10:45.862Z"
   },
   {
    "duration": 16,
    "start_time": "2023-04-03T20:10:46.996Z"
   },
   {
    "duration": 4,
    "start_time": "2023-04-03T20:11:07.981Z"
   },
   {
    "duration": 15,
    "start_time": "2023-04-03T20:11:09.710Z"
   },
   {
    "duration": 4,
    "start_time": "2023-04-03T20:11:14.307Z"
   },
   {
    "duration": 367,
    "start_time": "2023-04-03T20:11:14.928Z"
   },
   {
    "duration": 3,
    "start_time": "2023-04-03T20:11:33.295Z"
   },
   {
    "duration": 13,
    "start_time": "2023-04-03T20:11:33.823Z"
   },
   {
    "duration": 22,
    "start_time": "2023-04-03T20:11:49.190Z"
   },
   {
    "duration": 14,
    "start_time": "2023-04-03T20:11:50.452Z"
   },
   {
    "duration": 15,
    "start_time": "2023-04-03T20:12:24.370Z"
   },
   {
    "duration": 15,
    "start_time": "2023-04-03T20:12:28.703Z"
   },
   {
    "duration": 4,
    "start_time": "2023-04-03T20:12:41.088Z"
   },
   {
    "duration": 14,
    "start_time": "2023-04-03T20:12:41.798Z"
   },
   {
    "duration": 19,
    "start_time": "2023-04-03T20:12:42.231Z"
   },
   {
    "duration": 18,
    "start_time": "2023-04-03T20:12:42.675Z"
   },
   {
    "duration": 17,
    "start_time": "2023-04-03T20:12:43.156Z"
   },
   {
    "duration": 406,
    "start_time": "2023-04-03T20:12:43.828Z"
   },
   {
    "duration": 4,
    "start_time": "2023-04-03T20:13:09.351Z"
   },
   {
    "duration": 14,
    "start_time": "2023-04-03T20:13:10.009Z"
   },
   {
    "duration": 13,
    "start_time": "2023-04-03T20:13:10.746Z"
   },
   {
    "duration": 14,
    "start_time": "2023-04-03T20:13:11.384Z"
   },
   {
    "duration": 16,
    "start_time": "2023-04-03T20:13:11.944Z"
   },
   {
    "duration": 17,
    "start_time": "2023-04-03T20:13:12.520Z"
   },
   {
    "duration": 4,
    "start_time": "2023-04-03T20:13:27.034Z"
   },
   {
    "duration": 476,
    "start_time": "2023-04-03T20:13:27.420Z"
   },
   {
    "duration": 4198,
    "start_time": "2023-04-03T20:13:27.899Z"
   },
   {
    "duration": 200,
    "start_time": "2023-04-03T20:13:32.100Z"
   },
   {
    "duration": 296,
    "start_time": "2023-04-03T20:13:32.302Z"
   },
   {
    "duration": 362,
    "start_time": "2023-04-03T20:13:32.601Z"
   },
   {
    "duration": 1107,
    "start_time": "2023-04-04T15:46:08.837Z"
   },
   {
    "duration": 62,
    "start_time": "2023-04-04T15:46:09.946Z"
   },
   {
    "duration": 9,
    "start_time": "2023-04-04T15:46:10.010Z"
   },
   {
    "duration": 13,
    "start_time": "2023-04-04T15:46:10.022Z"
   },
   {
    "duration": 11,
    "start_time": "2023-04-04T15:46:10.037Z"
   },
   {
    "duration": 19,
    "start_time": "2023-04-04T15:46:10.050Z"
   },
   {
    "duration": 4,
    "start_time": "2023-04-04T15:46:10.071Z"
   },
   {
    "duration": 27,
    "start_time": "2023-04-04T15:46:10.078Z"
   },
   {
    "duration": 7,
    "start_time": "2023-04-04T15:46:10.106Z"
   },
   {
    "duration": 4,
    "start_time": "2023-04-04T15:46:10.116Z"
   },
   {
    "duration": 10,
    "start_time": "2023-04-04T15:46:10.122Z"
   },
   {
    "duration": 8,
    "start_time": "2023-04-04T15:46:10.133Z"
   },
   {
    "duration": 6,
    "start_time": "2023-04-04T15:46:10.142Z"
   },
   {
    "duration": 1215,
    "start_time": "2023-04-04T15:46:10.149Z"
   },
   {
    "duration": 1536,
    "start_time": "2023-04-04T15:46:11.365Z"
   },
   {
    "duration": 6,
    "start_time": "2023-04-04T15:46:12.903Z"
   },
   {
    "duration": 22106,
    "start_time": "2023-04-04T15:46:12.911Z"
   },
   {
    "duration": 25815,
    "start_time": "2023-04-04T15:46:35.019Z"
   },
   {
    "duration": 4,
    "start_time": "2023-04-04T15:47:00.836Z"
   },
   {
    "duration": 1372,
    "start_time": "2023-04-04T15:47:00.842Z"
   },
   {
    "duration": 6690,
    "start_time": "2023-04-04T15:47:02.216Z"
   },
   {
    "duration": 98,
    "start_time": "2023-04-04T15:47:08.908Z"
   },
   {
    "duration": 316,
    "start_time": "2023-04-04T15:47:09.012Z"
   },
   {
    "duration": 354,
    "start_time": "2023-04-04T15:47:09.329Z"
   },
   {
    "duration": 2,
    "start_time": "2023-04-04T15:47:09.685Z"
   },
   {
    "duration": 26,
    "start_time": "2023-04-04T15:47:09.688Z"
   },
   {
    "duration": 2,
    "start_time": "2023-04-04T15:47:09.716Z"
   },
   {
    "duration": 3,
    "start_time": "2023-04-04T16:06:42.667Z"
   },
   {
    "duration": 28,
    "start_time": "2023-04-04T16:06:42.672Z"
   },
   {
    "duration": 5,
    "start_time": "2023-04-04T16:06:42.702Z"
   },
   {
    "duration": 15,
    "start_time": "2023-04-04T16:06:42.710Z"
   },
   {
    "duration": 14,
    "start_time": "2023-04-04T16:06:42.728Z"
   },
   {
    "duration": 14,
    "start_time": "2023-04-04T16:06:42.744Z"
   },
   {
    "duration": 23,
    "start_time": "2023-04-04T16:06:42.760Z"
   },
   {
    "duration": 18,
    "start_time": "2023-04-04T16:06:42.785Z"
   },
   {
    "duration": 6,
    "start_time": "2023-04-04T16:06:42.805Z"
   },
   {
    "duration": 13,
    "start_time": "2023-04-04T16:06:42.813Z"
   },
   {
    "duration": 11,
    "start_time": "2023-04-04T16:06:42.830Z"
   },
   {
    "duration": 13,
    "start_time": "2023-04-04T16:06:42.843Z"
   },
   {
    "duration": 5,
    "start_time": "2023-04-04T16:06:42.858Z"
   },
   {
    "duration": 1127,
    "start_time": "2023-04-04T16:06:42.865Z"
   },
   {
    "duration": 1372,
    "start_time": "2023-04-04T16:06:43.994Z"
   },
   {
    "duration": 5,
    "start_time": "2023-04-04T16:06:45.368Z"
   },
   {
    "duration": 21094,
    "start_time": "2023-04-04T16:06:45.374Z"
   },
   {
    "duration": 24781,
    "start_time": "2023-04-04T16:07:06.470Z"
   },
   {
    "duration": 3,
    "start_time": "2023-04-04T16:07:31.253Z"
   },
   {
    "duration": 445,
    "start_time": "2023-04-04T16:07:31.258Z"
   },
   {
    "duration": 1998,
    "start_time": "2023-04-04T16:07:31.706Z"
   },
   {
    "duration": 106,
    "start_time": "2023-04-04T16:07:33.706Z"
   },
   {
    "duration": 312,
    "start_time": "2023-04-04T16:07:33.814Z"
   },
   {
    "duration": 343,
    "start_time": "2023-04-04T16:07:34.128Z"
   },
   {
    "duration": 2,
    "start_time": "2023-04-04T16:07:34.473Z"
   },
   {
    "duration": 25,
    "start_time": "2023-04-04T16:07:34.477Z"
   },
   {
    "duration": 9,
    "start_time": "2023-04-04T16:07:34.503Z"
   },
   {
    "duration": 1188,
    "start_time": "2023-04-04T16:11:28.041Z"
   },
   {
    "duration": 119,
    "start_time": "2023-04-04T16:11:55.501Z"
   },
   {
    "duration": 8,
    "start_time": "2023-04-04T16:14:03.933Z"
   },
   {
    "duration": 6,
    "start_time": "2023-04-04T16:15:01.966Z"
   },
   {
    "duration": 5,
    "start_time": "2023-04-04T16:15:11.084Z"
   },
   {
    "duration": 488,
    "start_time": "2023-04-04T16:15:14.705Z"
   },
   {
    "duration": 5,
    "start_time": "2023-04-04T16:23:22.531Z"
   },
   {
    "duration": 29,
    "start_time": "2023-04-04T16:23:25.876Z"
   },
   {
    "duration": 1240,
    "start_time": "2023-04-04T16:28:33.059Z"
   },
   {
    "duration": 21481,
    "start_time": "2023-04-04T16:28:34.303Z"
   },
   {
    "duration": 326,
    "start_time": "2023-04-04T16:28:55.785Z"
   },
   {
    "duration": 3,
    "start_time": "2023-04-04T16:31:39.116Z"
   },
   {
    "duration": 5,
    "start_time": "2023-04-04T16:33:09.660Z"
   },
   {
    "duration": 5,
    "start_time": "2023-04-04T16:33:38.915Z"
   },
   {
    "duration": 6,
    "start_time": "2023-04-04T16:33:57.740Z"
   },
   {
    "duration": 5,
    "start_time": "2023-04-04T16:34:29.567Z"
   },
   {
    "duration": 11,
    "start_time": "2023-04-04T16:34:38.202Z"
   },
   {
    "duration": 5,
    "start_time": "2023-04-04T16:34:41.326Z"
   },
   {
    "duration": 2,
    "start_time": "2023-04-04T16:34:41.684Z"
   },
   {
    "duration": 16,
    "start_time": "2023-04-04T16:34:42.100Z"
   },
   {
    "duration": 3,
    "start_time": "2023-04-04T16:35:03.896Z"
   },
   {
    "duration": 2,
    "start_time": "2023-04-04T16:35:04.384Z"
   },
   {
    "duration": 14,
    "start_time": "2023-04-04T16:35:04.862Z"
   },
   {
    "duration": 6,
    "start_time": "2023-04-04T16:35:19.330Z"
   },
   {
    "duration": 7,
    "start_time": "2023-04-04T16:36:45.658Z"
   },
   {
    "duration": 6,
    "start_time": "2023-04-04T16:36:55.972Z"
   },
   {
    "duration": 6,
    "start_time": "2023-04-04T16:37:06.139Z"
   },
   {
    "duration": 6,
    "start_time": "2023-04-04T16:37:57.717Z"
   },
   {
    "duration": 7,
    "start_time": "2023-04-04T16:38:04.198Z"
   },
   {
    "duration": 5,
    "start_time": "2023-04-04T16:41:14.601Z"
   },
   {
    "duration": 10151,
    "start_time": "2023-04-04T16:41:58.723Z"
   },
   {
    "duration": 5,
    "start_time": "2023-04-04T16:42:50.672Z"
   },
   {
    "duration": 5,
    "start_time": "2023-04-04T16:42:56.405Z"
   },
   {
    "duration": 1144,
    "start_time": "2023-04-04T16:42:56.839Z"
   },
   {
    "duration": 1424,
    "start_time": "2023-04-04T16:42:57.985Z"
   },
   {
    "duration": 471,
    "start_time": "2023-04-04T16:42:59.411Z"
   },
   {
    "duration": 61,
    "start_time": "2023-04-04T16:43:30.889Z"
   },
   {
    "duration": 1111,
    "start_time": "2023-04-04T16:56:57.846Z"
   },
   {
    "duration": 25,
    "start_time": "2023-04-04T16:56:58.960Z"
   },
   {
    "duration": 10,
    "start_time": "2023-04-04T16:56:58.986Z"
   },
   {
    "duration": 16,
    "start_time": "2023-04-04T16:56:58.998Z"
   },
   {
    "duration": 18,
    "start_time": "2023-04-04T16:56:59.016Z"
   },
   {
    "duration": 11,
    "start_time": "2023-04-04T16:56:59.036Z"
   },
   {
    "duration": 4,
    "start_time": "2023-04-04T16:56:59.049Z"
   },
   {
    "duration": 8,
    "start_time": "2023-04-04T16:56:59.054Z"
   },
   {
    "duration": 6,
    "start_time": "2023-04-04T16:56:59.063Z"
   },
   {
    "duration": 4,
    "start_time": "2023-04-04T16:56:59.072Z"
   },
   {
    "duration": 30,
    "start_time": "2023-04-04T16:56:59.077Z"
   },
   {
    "duration": 13,
    "start_time": "2023-04-04T16:56:59.109Z"
   },
   {
    "duration": 8,
    "start_time": "2023-04-04T16:56:59.124Z"
   },
   {
    "duration": 1180,
    "start_time": "2023-04-04T16:56:59.134Z"
   },
   {
    "duration": 1473,
    "start_time": "2023-04-04T16:57:00.315Z"
   },
   {
    "duration": 584,
    "start_time": "2023-04-04T16:57:01.792Z"
   },
   {
    "duration": 5,
    "start_time": "2023-04-04T16:57:02.379Z"
   },
   {
    "duration": 21382,
    "start_time": "2023-04-04T16:57:02.385Z"
   },
   {
    "duration": 25310,
    "start_time": "2023-04-04T16:57:23.769Z"
   },
   {
    "duration": 4,
    "start_time": "2023-04-04T16:57:49.080Z"
   },
   {
    "duration": 422,
    "start_time": "2023-04-04T16:57:49.085Z"
   },
   {
    "duration": 2307,
    "start_time": "2023-04-04T16:57:49.509Z"
   },
   {
    "duration": 114,
    "start_time": "2023-04-04T16:57:51.909Z"
   },
   {
    "duration": 343,
    "start_time": "2023-04-04T16:57:52.026Z"
   },
   {
    "duration": 356,
    "start_time": "2023-04-04T16:57:52.370Z"
   },
   {
    "duration": 62,
    "start_time": "2023-04-04T16:57:52.728Z"
   },
   {
    "duration": 10630,
    "start_time": "2023-04-04T16:57:52.791Z"
   },
   {
    "duration": 480,
    "start_time": "2023-04-04T16:58:03.424Z"
   },
   {
    "duration": 9,
    "start_time": "2023-04-04T16:58:03.906Z"
   },
   {
    "duration": 7,
    "start_time": "2023-04-04T16:58:06.811Z"
   },
   {
    "duration": 2346,
    "start_time": "2023-04-04T17:06:58.654Z"
   },
   {
    "duration": 25,
    "start_time": "2023-04-04T17:07:01.003Z"
   },
   {
    "duration": 19,
    "start_time": "2023-04-04T17:07:01.030Z"
   },
   {
    "duration": 55,
    "start_time": "2023-04-04T17:07:01.051Z"
   },
   {
    "duration": 35,
    "start_time": "2023-04-04T17:07:01.108Z"
   },
   {
    "duration": 31,
    "start_time": "2023-04-04T17:07:01.145Z"
   },
   {
    "duration": 29,
    "start_time": "2023-04-04T17:07:01.178Z"
   },
   {
    "duration": 48,
    "start_time": "2023-04-04T17:07:01.209Z"
   },
   {
    "duration": 26,
    "start_time": "2023-04-04T17:07:01.259Z"
   },
   {
    "duration": 31,
    "start_time": "2023-04-04T17:07:01.287Z"
   },
   {
    "duration": 47,
    "start_time": "2023-04-04T17:07:01.320Z"
   },
   {
    "duration": 53,
    "start_time": "2023-04-04T17:07:01.369Z"
   },
   {
    "duration": 28,
    "start_time": "2023-04-04T17:07:01.424Z"
   },
   {
    "duration": 1170,
    "start_time": "2023-04-04T17:07:01.456Z"
   },
   {
    "duration": 1468,
    "start_time": "2023-04-04T17:07:02.629Z"
   },
   {
    "duration": 540,
    "start_time": "2023-04-04T17:07:04.099Z"
   },
   {
    "duration": 7,
    "start_time": "2023-04-04T17:07:04.641Z"
   },
   {
    "duration": 22017,
    "start_time": "2023-04-04T17:07:04.649Z"
   },
   {
    "duration": 25614,
    "start_time": "2023-04-04T17:07:26.668Z"
   },
   {
    "duration": 4,
    "start_time": "2023-04-04T17:07:52.284Z"
   },
   {
    "duration": 1485,
    "start_time": "2023-04-04T17:07:52.290Z"
   },
   {
    "duration": 2393,
    "start_time": "2023-04-04T17:07:53.868Z"
   },
   {
    "duration": 102,
    "start_time": "2023-04-04T17:07:56.264Z"
   },
   {
    "duration": 284,
    "start_time": "2023-04-04T17:07:56.368Z"
   },
   {
    "duration": 328,
    "start_time": "2023-04-04T17:07:56.654Z"
   },
   {
    "duration": 56,
    "start_time": "2023-04-04T17:07:56.983Z"
   },
   {
    "duration": 10292,
    "start_time": "2023-04-04T17:07:57.041Z"
   },
   {
    "duration": 6439,
    "start_time": "2023-04-04T17:08:07.336Z"
   },
   {
    "duration": 88,
    "start_time": "2023-04-04T17:08:13.776Z"
   },
   {
    "duration": 10,
    "start_time": "2023-04-04T17:54:44.032Z"
   },
   {
    "duration": 10,
    "start_time": "2023-04-04T17:55:12.532Z"
   },
   {
    "duration": 5,
    "start_time": "2023-04-04T17:59:34.846Z"
   },
   {
    "duration": 7,
    "start_time": "2023-04-04T18:00:00.006Z"
   },
   {
    "duration": 4,
    "start_time": "2023-04-04T18:07:14.822Z"
   },
   {
    "duration": 35,
    "start_time": "2023-04-04T18:07:17.361Z"
   },
   {
    "duration": 167,
    "start_time": "2023-04-04T18:07:18.564Z"
   },
   {
    "duration": 9,
    "start_time": "2023-04-04T18:07:19.594Z"
   },
   {
    "duration": 180,
    "start_time": "2023-04-04T18:07:20.406Z"
   },
   {
    "duration": 204,
    "start_time": "2023-04-04T18:07:21.264Z"
   },
   {
    "duration": 4,
    "start_time": "2023-04-04T18:08:00.435Z"
   },
   {
    "duration": 6,
    "start_time": "2023-04-04T18:09:08.705Z"
   },
   {
    "duration": 1217,
    "start_time": "2023-04-04T18:09:32.380Z"
   },
   {
    "duration": 25,
    "start_time": "2023-04-04T18:09:33.599Z"
   },
   {
    "duration": 9,
    "start_time": "2023-04-04T18:09:33.625Z"
   },
   {
    "duration": 13,
    "start_time": "2023-04-04T18:09:33.635Z"
   },
   {
    "duration": 12,
    "start_time": "2023-04-04T18:09:33.650Z"
   },
   {
    "duration": 22,
    "start_time": "2023-04-04T18:09:33.663Z"
   },
   {
    "duration": 4,
    "start_time": "2023-04-04T18:09:33.686Z"
   },
   {
    "duration": 24,
    "start_time": "2023-04-04T18:09:33.691Z"
   },
   {
    "duration": 6,
    "start_time": "2023-04-04T18:09:33.717Z"
   },
   {
    "duration": 7,
    "start_time": "2023-04-04T18:09:33.725Z"
   },
   {
    "duration": 6,
    "start_time": "2023-04-04T18:09:33.735Z"
   },
   {
    "duration": 5,
    "start_time": "2023-04-04T18:09:33.743Z"
   },
   {
    "duration": 11,
    "start_time": "2023-04-04T18:09:33.750Z"
   },
   {
    "duration": 1109,
    "start_time": "2023-04-04T18:09:33.764Z"
   },
   {
    "duration": 1475,
    "start_time": "2023-04-04T18:09:34.875Z"
   },
   {
    "duration": 462,
    "start_time": "2023-04-04T18:09:36.351Z"
   },
   {
    "duration": 5,
    "start_time": "2023-04-04T18:09:36.815Z"
   },
   {
    "duration": 21198,
    "start_time": "2023-04-04T18:09:36.823Z"
   },
   {
    "duration": 24845,
    "start_time": "2023-04-04T18:09:58.025Z"
   },
   {
    "duration": 4,
    "start_time": "2023-04-04T18:10:22.872Z"
   },
   {
    "duration": 45,
    "start_time": "2023-04-04T18:10:22.878Z"
   },
   {
    "duration": 157,
    "start_time": "2023-04-04T18:10:22.925Z"
   },
   {
    "duration": 9,
    "start_time": "2023-04-04T18:10:23.084Z"
   },
   {
    "duration": 193,
    "start_time": "2023-04-04T18:10:23.094Z"
   },
   {
    "duration": 220,
    "start_time": "2023-04-04T18:10:23.288Z"
   },
   {
    "duration": 61,
    "start_time": "2023-04-04T18:10:23.510Z"
   },
   {
    "duration": 10246,
    "start_time": "2023-04-04T18:10:23.572Z"
   },
   {
    "duration": 31,
    "start_time": "2023-04-04T18:10:33.820Z"
   },
   {
    "duration": 5,
    "start_time": "2023-04-04T18:10:33.852Z"
   },
   {
    "duration": 3,
    "start_time": "2023-04-04T18:21:03.845Z"
   },
   {
    "duration": 3,
    "start_time": "2023-04-04T18:21:08.380Z"
   },
   {
    "duration": 3,
    "start_time": "2023-04-04T18:21:12.673Z"
   },
   {
    "duration": 2,
    "start_time": "2023-04-04T18:21:16.588Z"
   },
   {
    "duration": 70,
    "start_time": "2023-04-04T18:23:52.644Z"
   },
   {
    "duration": 73,
    "start_time": "2023-04-04T18:24:02.317Z"
   },
   {
    "duration": 100,
    "start_time": "2023-04-04T18:24:14.076Z"
   },
   {
    "duration": 10,
    "start_time": "2023-04-04T19:20:26.074Z"
   },
   {
    "duration": 7,
    "start_time": "2023-04-04T19:34:28.727Z"
   },
   {
    "duration": 7,
    "start_time": "2023-04-04T19:34:36.180Z"
   },
   {
    "duration": 5,
    "start_time": "2023-04-04T19:34:50.771Z"
   },
   {
    "duration": 7,
    "start_time": "2023-04-04T19:36:20.230Z"
   },
   {
    "duration": 41,
    "start_time": "2023-04-04T19:42:14.296Z"
   },
   {
    "duration": 157,
    "start_time": "2023-04-04T19:42:16.867Z"
   },
   {
    "duration": 10,
    "start_time": "2023-04-04T19:42:18.131Z"
   },
   {
    "duration": 185,
    "start_time": "2023-04-04T19:42:19.426Z"
   },
   {
    "duration": 210,
    "start_time": "2023-04-04T19:42:20.365Z"
   },
   {
    "duration": 8,
    "start_time": "2023-04-05T15:29:44.061Z"
   },
   {
    "duration": 3,
    "start_time": "2023-04-05T15:31:58.665Z"
   },
   {
    "duration": 4,
    "start_time": "2023-04-05T15:35:48.543Z"
   },
   {
    "duration": 4,
    "start_time": "2023-04-05T15:39:55.131Z"
   },
   {
    "duration": 44,
    "start_time": "2023-04-05T15:41:41.547Z"
   },
   {
    "duration": 1228,
    "start_time": "2023-04-05T15:41:51.641Z"
   },
   {
    "duration": 3,
    "start_time": "2023-04-05T15:41:53.805Z"
   },
   {
    "duration": 3,
    "start_time": "2023-04-05T15:41:54.214Z"
   },
   {
    "duration": 4,
    "start_time": "2023-04-05T15:42:01.476Z"
   },
   {
    "duration": 80,
    "start_time": "2023-04-05T15:42:06.023Z"
   },
   {
    "duration": 65,
    "start_time": "2023-04-05T15:42:13.714Z"
   },
   {
    "duration": 9,
    "start_time": "2023-04-05T15:42:16.358Z"
   },
   {
    "duration": 13,
    "start_time": "2023-04-05T15:42:17.016Z"
   },
   {
    "duration": 10,
    "start_time": "2023-04-05T15:42:17.718Z"
   },
   {
    "duration": 13,
    "start_time": "2023-04-05T15:42:18.427Z"
   },
   {
    "duration": 7,
    "start_time": "2023-04-05T15:42:19.138Z"
   },
   {
    "duration": 5,
    "start_time": "2023-04-05T15:42:26.770Z"
   },
   {
    "duration": 4,
    "start_time": "2023-04-05T15:42:28.113Z"
   },
   {
    "duration": 4,
    "start_time": "2023-04-05T15:42:30.474Z"
   },
   {
    "duration": 11,
    "start_time": "2023-04-05T15:42:31.158Z"
   },
   {
    "duration": 3,
    "start_time": "2023-04-05T15:44:34.037Z"
   },
   {
    "duration": 10,
    "start_time": "2023-04-05T15:44:34.432Z"
   },
   {
    "duration": 7,
    "start_time": "2023-04-05T15:44:48.084Z"
   },
   {
    "duration": 4,
    "start_time": "2023-04-05T15:45:26.705Z"
   },
   {
    "duration": 5,
    "start_time": "2023-04-05T15:47:05.569Z"
   },
   {
    "duration": 4,
    "start_time": "2023-04-05T15:47:08.990Z"
   },
   {
    "duration": 5,
    "start_time": "2023-04-05T15:47:09.914Z"
   },
   {
    "duration": 4,
    "start_time": "2023-04-05T15:47:10.485Z"
   },
   {
    "duration": 4,
    "start_time": "2023-04-05T15:59:37.685Z"
   },
   {
    "duration": 4,
    "start_time": "2023-04-05T16:00:07.240Z"
   },
   {
    "duration": 21,
    "start_time": "2023-04-05T16:00:07.767Z"
   },
   {
    "duration": 9,
    "start_time": "2023-04-05T16:00:12.065Z"
   },
   {
    "duration": 4,
    "start_time": "2023-04-05T16:00:49.908Z"
   },
   {
    "duration": 23,
    "start_time": "2023-04-05T16:00:50.818Z"
   },
   {
    "duration": 9,
    "start_time": "2023-04-05T16:00:51.878Z"
   },
   {
    "duration": 4,
    "start_time": "2023-04-05T16:03:32.289Z"
   },
   {
    "duration": 6,
    "start_time": "2023-04-05T16:03:33.263Z"
   },
   {
    "duration": 18,
    "start_time": "2023-04-05T16:03:34.563Z"
   },
   {
    "duration": 5,
    "start_time": "2023-04-05T16:04:13.337Z"
   },
   {
    "duration": 4,
    "start_time": "2023-04-05T16:04:40.689Z"
   },
   {
    "duration": 4,
    "start_time": "2023-04-05T16:04:52.761Z"
   },
   {
    "duration": 8,
    "start_time": "2023-04-05T16:04:53.161Z"
   },
   {
    "duration": 4,
    "start_time": "2023-04-05T16:04:53.583Z"
   },
   {
    "duration": 4,
    "start_time": "2023-04-05T16:05:23.463Z"
   },
   {
    "duration": 6,
    "start_time": "2023-04-05T16:05:23.769Z"
   },
   {
    "duration": 5,
    "start_time": "2023-04-05T16:05:24.090Z"
   },
   {
    "duration": 4,
    "start_time": "2023-04-05T16:05:53.068Z"
   },
   {
    "duration": 28,
    "start_time": "2023-04-05T16:05:53.075Z"
   },
   {
    "duration": 4,
    "start_time": "2023-04-05T16:05:53.105Z"
   },
   {
    "duration": 16,
    "start_time": "2023-04-05T16:05:53.110Z"
   },
   {
    "duration": 11,
    "start_time": "2023-04-05T16:05:53.128Z"
   },
   {
    "duration": 28,
    "start_time": "2023-04-05T16:05:53.140Z"
   },
   {
    "duration": 8,
    "start_time": "2023-04-05T16:05:53.169Z"
   },
   {
    "duration": 9,
    "start_time": "2023-04-05T16:05:53.179Z"
   },
   {
    "duration": 8,
    "start_time": "2023-04-05T16:05:53.190Z"
   },
   {
    "duration": 4,
    "start_time": "2023-04-05T16:05:53.199Z"
   },
   {
    "duration": 17,
    "start_time": "2023-04-05T16:05:53.205Z"
   },
   {
    "duration": 4,
    "start_time": "2023-04-05T16:05:53.224Z"
   },
   {
    "duration": 4,
    "start_time": "2023-04-05T16:07:59.815Z"
   },
   {
    "duration": 9,
    "start_time": "2023-04-05T16:10:23.877Z"
   },
   {
    "duration": 5,
    "start_time": "2023-04-05T16:10:24.526Z"
   },
   {
    "duration": 6,
    "start_time": "2023-04-05T16:10:33.349Z"
   },
   {
    "duration": 4,
    "start_time": "2023-04-05T16:10:34.522Z"
   },
   {
    "duration": 7,
    "start_time": "2023-04-05T16:10:41.592Z"
   },
   {
    "duration": 5,
    "start_time": "2023-04-05T16:10:42.040Z"
   },
   {
    "duration": 7,
    "start_time": "2023-04-05T16:10:47.174Z"
   },
   {
    "duration": 4,
    "start_time": "2023-04-05T16:10:48.186Z"
   },
   {
    "duration": 4,
    "start_time": "2023-04-05T16:16:42.876Z"
   },
   {
    "duration": 7,
    "start_time": "2023-04-05T16:21:41.891Z"
   },
   {
    "duration": 3,
    "start_time": "2023-04-05T16:21:43.047Z"
   },
   {
    "duration": 3,
    "start_time": "2023-04-05T16:23:48.374Z"
   },
   {
    "duration": 2,
    "start_time": "2023-04-05T16:23:53.135Z"
   },
   {
    "duration": 2,
    "start_time": "2023-04-05T16:23:58.962Z"
   },
   {
    "duration": 3,
    "start_time": "2023-04-05T16:24:02.284Z"
   },
   {
    "duration": 5,
    "start_time": "2023-04-05T16:26:34.464Z"
   },
   {
    "duration": 5,
    "start_time": "2023-04-05T16:27:17.808Z"
   },
   {
    "duration": 1031,
    "start_time": "2023-04-05T16:27:58.675Z"
   },
   {
    "duration": 1240,
    "start_time": "2023-04-05T16:28:13.676Z"
   },
   {
    "duration": 481,
    "start_time": "2023-04-05T16:28:31.957Z"
   },
   {
    "duration": 5,
    "start_time": "2023-04-05T16:29:51.296Z"
   },
   {
    "duration": 21286,
    "start_time": "2023-04-05T16:30:06.625Z"
   },
   {
    "duration": 24891,
    "start_time": "2023-04-05T16:30:27.914Z"
   },
   {
    "duration": 4,
    "start_time": "2023-04-05T16:30:52.807Z"
   },
   {
    "duration": 26,
    "start_time": "2023-04-05T16:31:01.442Z"
   },
   {
    "duration": 180,
    "start_time": "2023-04-05T16:31:13.380Z"
   },
   {
    "duration": 13,
    "start_time": "2023-04-05T16:31:25.363Z"
   },
   {
    "duration": 177,
    "start_time": "2023-04-05T16:31:30.600Z"
   },
   {
    "duration": 221,
    "start_time": "2023-04-05T16:31:37.345Z"
   },
   {
    "duration": 75,
    "start_time": "2023-04-05T16:31:53.914Z"
   },
   {
    "duration": 10200,
    "start_time": "2023-04-05T16:32:10.728Z"
   },
   {
    "duration": 34,
    "start_time": "2023-04-05T16:32:20.931Z"
   },
   {
    "duration": 15,
    "start_time": "2023-04-05T16:33:23.772Z"
   },
   {
    "duration": 14,
    "start_time": "2023-04-05T16:33:48.201Z"
   },
   {
    "duration": 12,
    "start_time": "2023-04-05T16:34:07.551Z"
   },
   {
    "duration": 50,
    "start_time": "2023-04-05T16:34:08.044Z"
   },
   {
    "duration": 8,
    "start_time": "2023-04-05T16:34:10.364Z"
   },
   {
    "duration": 1092,
    "start_time": "2023-04-05T16:34:16.474Z"
   },
   {
    "duration": 26,
    "start_time": "2023-04-05T16:34:17.569Z"
   },
   {
    "duration": 8,
    "start_time": "2023-04-05T16:34:17.597Z"
   },
   {
    "duration": 14,
    "start_time": "2023-04-05T16:34:17.607Z"
   },
   {
    "duration": 10,
    "start_time": "2023-04-05T16:34:17.623Z"
   },
   {
    "duration": 12,
    "start_time": "2023-04-05T16:34:17.635Z"
   },
   {
    "duration": 6,
    "start_time": "2023-04-05T16:34:17.662Z"
   },
   {
    "duration": 5,
    "start_time": "2023-04-05T16:34:17.670Z"
   },
   {
    "duration": 5,
    "start_time": "2023-04-05T16:34:17.676Z"
   },
   {
    "duration": 5,
    "start_time": "2023-04-05T16:34:17.683Z"
   },
   {
    "duration": 4,
    "start_time": "2023-04-05T16:34:17.690Z"
   },
   {
    "duration": 6,
    "start_time": "2023-04-05T16:34:17.695Z"
   },
   {
    "duration": 13,
    "start_time": "2023-04-05T16:34:17.702Z"
   },
   {
    "duration": 4,
    "start_time": "2023-04-05T16:34:17.717Z"
   },
   {
    "duration": 4,
    "start_time": "2023-04-05T16:34:20.430Z"
   },
   {
    "duration": 8,
    "start_time": "2023-04-05T16:34:20.889Z"
   },
   {
    "duration": 21,
    "start_time": "2023-04-05T16:34:21.684Z"
   },
   {
    "duration": 71,
    "start_time": "2023-04-05T16:34:44.176Z"
   },
   {
    "duration": 1169,
    "start_time": "2023-04-05T16:34:49.044Z"
   },
   {
    "duration": 26,
    "start_time": "2023-04-05T16:34:50.215Z"
   },
   {
    "duration": 9,
    "start_time": "2023-04-05T16:34:50.243Z"
   },
   {
    "duration": 21,
    "start_time": "2023-04-05T16:34:50.254Z"
   },
   {
    "duration": 12,
    "start_time": "2023-04-05T16:34:50.278Z"
   },
   {
    "duration": 15,
    "start_time": "2023-04-05T16:34:50.292Z"
   },
   {
    "duration": 10,
    "start_time": "2023-04-05T16:34:50.310Z"
   },
   {
    "duration": 16,
    "start_time": "2023-04-05T16:34:50.323Z"
   },
   {
    "duration": 9,
    "start_time": "2023-04-05T16:34:50.341Z"
   },
   {
    "duration": 12,
    "start_time": "2023-04-05T16:34:50.352Z"
   },
   {
    "duration": 5,
    "start_time": "2023-04-05T16:34:50.366Z"
   },
   {
    "duration": 11,
    "start_time": "2023-04-05T16:34:50.373Z"
   },
   {
    "duration": 11,
    "start_time": "2023-04-05T16:34:50.386Z"
   },
   {
    "duration": 6,
    "start_time": "2023-04-05T16:34:50.400Z"
   },
   {
    "duration": 10,
    "start_time": "2023-04-05T16:34:50.408Z"
   },
   {
    "duration": 7,
    "start_time": "2023-04-05T16:34:53.196Z"
   },
   {
    "duration": 7,
    "start_time": "2023-04-05T16:34:53.711Z"
   },
   {
    "duration": 7,
    "start_time": "2023-04-05T16:35:29.561Z"
   },
   {
    "duration": 6,
    "start_time": "2023-04-05T16:35:51.942Z"
   },
   {
    "duration": 8,
    "start_time": "2023-04-05T16:36:06.628Z"
   },
   {
    "duration": 7,
    "start_time": "2023-04-05T16:36:16.588Z"
   },
   {
    "duration": 1261,
    "start_time": "2023-04-05T16:36:47.132Z"
   },
   {
    "duration": 7,
    "start_time": "2023-04-05T16:36:54.471Z"
   },
   {
    "duration": 41,
    "start_time": "2023-04-05T16:36:54.480Z"
   },
   {
    "duration": 5,
    "start_time": "2023-04-05T16:36:54.524Z"
   },
   {
    "duration": 34,
    "start_time": "2023-04-05T16:36:54.531Z"
   },
   {
    "duration": 25,
    "start_time": "2023-04-05T16:36:54.567Z"
   },
   {
    "duration": 21,
    "start_time": "2023-04-05T16:36:54.594Z"
   },
   {
    "duration": 7,
    "start_time": "2023-04-05T16:36:54.617Z"
   },
   {
    "duration": 16,
    "start_time": "2023-04-05T16:36:54.625Z"
   },
   {
    "duration": 19,
    "start_time": "2023-04-05T16:36:54.643Z"
   },
   {
    "duration": 12,
    "start_time": "2023-04-05T16:36:54.664Z"
   },
   {
    "duration": 18,
    "start_time": "2023-04-05T16:36:54.678Z"
   },
   {
    "duration": 15,
    "start_time": "2023-04-05T16:36:54.698Z"
   },
   {
    "duration": 31,
    "start_time": "2023-04-05T16:36:54.715Z"
   },
   {
    "duration": 7,
    "start_time": "2023-04-05T16:36:54.749Z"
   },
   {
    "duration": 8,
    "start_time": "2023-04-05T16:36:54.758Z"
   },
   {
    "duration": 6,
    "start_time": "2023-04-05T16:36:56.647Z"
   },
   {
    "duration": 1220,
    "start_time": "2023-04-05T16:36:56.962Z"
   },
   {
    "duration": 1098,
    "start_time": "2023-04-05T16:37:12.487Z"
   },
   {
    "duration": 27,
    "start_time": "2023-04-05T16:37:13.587Z"
   },
   {
    "duration": 9,
    "start_time": "2023-04-05T16:37:13.615Z"
   },
   {
    "duration": 13,
    "start_time": "2023-04-05T16:37:13.627Z"
   },
   {
    "duration": 10,
    "start_time": "2023-04-05T16:37:13.642Z"
   },
   {
    "duration": 22,
    "start_time": "2023-04-05T16:37:13.654Z"
   },
   {
    "duration": 6,
    "start_time": "2023-04-05T16:37:13.677Z"
   },
   {
    "duration": 6,
    "start_time": "2023-04-05T16:37:13.685Z"
   },
   {
    "duration": 6,
    "start_time": "2023-04-05T16:37:13.693Z"
   },
   {
    "duration": 8,
    "start_time": "2023-04-05T16:37:13.701Z"
   },
   {
    "duration": 4,
    "start_time": "2023-04-05T16:37:13.711Z"
   },
   {
    "duration": 5,
    "start_time": "2023-04-05T16:37:13.717Z"
   },
   {
    "duration": 5,
    "start_time": "2023-04-05T16:37:13.724Z"
   },
   {
    "duration": 32,
    "start_time": "2023-04-05T16:37:13.731Z"
   },
   {
    "duration": 18,
    "start_time": "2023-04-05T16:37:13.765Z"
   },
   {
    "duration": 1333,
    "start_time": "2023-04-05T16:37:13.784Z"
   },
   {
    "duration": 0,
    "start_time": "2023-04-05T16:37:15.119Z"
   },
   {
    "duration": 0,
    "start_time": "2023-04-05T16:37:15.121Z"
   },
   {
    "duration": 0,
    "start_time": "2023-04-05T16:37:15.123Z"
   },
   {
    "duration": 0,
    "start_time": "2023-04-05T16:37:15.124Z"
   },
   {
    "duration": 0,
    "start_time": "2023-04-05T16:37:15.126Z"
   },
   {
    "duration": 0,
    "start_time": "2023-04-05T16:37:15.127Z"
   },
   {
    "duration": 0,
    "start_time": "2023-04-05T16:37:15.128Z"
   },
   {
    "duration": 0,
    "start_time": "2023-04-05T16:37:15.129Z"
   },
   {
    "duration": 0,
    "start_time": "2023-04-05T16:37:15.130Z"
   },
   {
    "duration": 0,
    "start_time": "2023-04-05T16:37:15.132Z"
   },
   {
    "duration": 0,
    "start_time": "2023-04-05T16:37:15.134Z"
   },
   {
    "duration": 0,
    "start_time": "2023-04-05T16:37:15.135Z"
   },
   {
    "duration": 0,
    "start_time": "2023-04-05T16:37:15.136Z"
   },
   {
    "duration": 0,
    "start_time": "2023-04-05T16:37:15.137Z"
   },
   {
    "duration": 0,
    "start_time": "2023-04-05T16:37:15.138Z"
   },
   {
    "duration": 0,
    "start_time": "2023-04-05T16:37:15.139Z"
   },
   {
    "duration": 0,
    "start_time": "2023-04-05T16:37:15.140Z"
   },
   {
    "duration": 5,
    "start_time": "2023-04-05T16:37:56.355Z"
   },
   {
    "duration": 1207,
    "start_time": "2023-04-05T16:38:28.848Z"
   },
   {
    "duration": 28,
    "start_time": "2023-04-05T16:38:30.058Z"
   },
   {
    "duration": 10,
    "start_time": "2023-04-05T16:38:30.087Z"
   },
   {
    "duration": 20,
    "start_time": "2023-04-05T16:38:30.100Z"
   },
   {
    "duration": 10,
    "start_time": "2023-04-05T16:38:30.123Z"
   },
   {
    "duration": 24,
    "start_time": "2023-04-05T16:38:30.135Z"
   },
   {
    "duration": 12,
    "start_time": "2023-04-05T16:38:30.161Z"
   },
   {
    "duration": 12,
    "start_time": "2023-04-05T16:38:30.175Z"
   },
   {
    "duration": 31,
    "start_time": "2023-04-05T16:38:30.189Z"
   },
   {
    "duration": 15,
    "start_time": "2023-04-05T16:38:30.222Z"
   },
   {
    "duration": 7,
    "start_time": "2023-04-05T16:38:30.238Z"
   },
   {
    "duration": 16,
    "start_time": "2023-04-05T16:38:30.247Z"
   },
   {
    "duration": 38,
    "start_time": "2023-04-05T16:38:30.265Z"
   },
   {
    "duration": 29,
    "start_time": "2023-04-05T16:38:30.308Z"
   },
   {
    "duration": 18,
    "start_time": "2023-04-05T16:38:30.339Z"
   },
   {
    "duration": 18,
    "start_time": "2023-04-05T16:38:30.359Z"
   },
   {
    "duration": 23,
    "start_time": "2023-04-05T16:38:30.379Z"
   },
   {
    "duration": 1098,
    "start_time": "2023-04-05T16:38:30.403Z"
   },
   {
    "duration": 1262,
    "start_time": "2023-04-05T16:38:31.503Z"
   },
   {
    "duration": 494,
    "start_time": "2023-04-05T16:38:32.767Z"
   },
   {
    "duration": 5,
    "start_time": "2023-04-05T16:38:33.263Z"
   },
   {
    "duration": 20892,
    "start_time": "2023-04-05T16:38:33.270Z"
   },
   {
    "duration": 24602,
    "start_time": "2023-04-05T16:38:54.164Z"
   },
   {
    "duration": 5,
    "start_time": "2023-04-05T16:39:18.768Z"
   },
   {
    "duration": 52,
    "start_time": "2023-04-05T16:39:18.776Z"
   },
   {
    "duration": 202,
    "start_time": "2023-04-05T16:39:18.830Z"
   },
   {
    "duration": 27,
    "start_time": "2023-04-05T16:39:19.034Z"
   },
   {
    "duration": 218,
    "start_time": "2023-04-05T16:39:19.063Z"
   },
   {
    "duration": 232,
    "start_time": "2023-04-05T16:39:19.283Z"
   },
   {
    "duration": 84,
    "start_time": "2023-04-05T16:39:19.516Z"
   },
   {
    "duration": 10588,
    "start_time": "2023-04-05T16:39:19.602Z"
   },
   {
    "duration": 25,
    "start_time": "2023-04-05T16:39:30.192Z"
   },
   {
    "duration": 5,
    "start_time": "2023-04-05T16:39:30.219Z"
   },
   {
    "duration": 97,
    "start_time": "2023-04-05T16:44:47.419Z"
   },
   {
    "duration": 4,
    "start_time": "2023-04-05T16:45:11.919Z"
   },
   {
    "duration": 6,
    "start_time": "2023-04-05T16:45:18.892Z"
   },
   {
    "duration": 4,
    "start_time": "2023-04-05T16:45:20.119Z"
   },
   {
    "duration": 5,
    "start_time": "2023-04-05T16:45:51.624Z"
   },
   {
    "duration": 4,
    "start_time": "2023-04-05T16:45:51.851Z"
   },
   {
    "duration": 16,
    "start_time": "2023-04-05T17:12:12.473Z"
   },
   {
    "duration": 18,
    "start_time": "2023-04-05T17:12:18.311Z"
   },
   {
    "duration": 4,
    "start_time": "2023-04-05T17:27:30.615Z"
   },
   {
    "duration": 4,
    "start_time": "2023-04-05T17:27:41.144Z"
   },
   {
    "duration": 6,
    "start_time": "2023-04-05T17:28:02.932Z"
   },
   {
    "duration": 4,
    "start_time": "2023-04-05T17:28:03.651Z"
   },
   {
    "duration": 4,
    "start_time": "2023-04-05T17:28:54.761Z"
   },
   {
    "duration": 5,
    "start_time": "2023-04-05T17:29:26.365Z"
   },
   {
    "duration": 3,
    "start_time": "2023-04-05T17:29:26.581Z"
   },
   {
    "duration": 5,
    "start_time": "2023-04-05T17:30:07.012Z"
   },
   {
    "duration": 5,
    "start_time": "2023-04-05T17:30:08.823Z"
   },
   {
    "duration": 5,
    "start_time": "2023-04-05T17:33:52.102Z"
   },
   {
    "duration": 5,
    "start_time": "2023-04-05T17:34:18.132Z"
   },
   {
    "duration": 5,
    "start_time": "2023-04-05T17:35:09.733Z"
   },
   {
    "duration": 1048,
    "start_time": "2023-04-05T17:40:57.088Z"
   },
   {
    "duration": 1250,
    "start_time": "2023-04-05T17:40:58.207Z"
   },
   {
    "duration": 591,
    "start_time": "2023-04-05T17:40:59.461Z"
   },
   {
    "duration": 6,
    "start_time": "2023-04-05T17:41:06.302Z"
   },
   {
    "duration": 22150,
    "start_time": "2023-04-05T17:41:13.948Z"
   },
   {
    "duration": 26176,
    "start_time": "2023-04-05T17:41:36.101Z"
   },
   {
    "duration": 4,
    "start_time": "2023-04-05T17:42:25.519Z"
   },
   {
    "duration": 28,
    "start_time": "2023-04-05T17:42:31.875Z"
   },
   {
    "duration": 192,
    "start_time": "2023-04-05T17:42:32.820Z"
   },
   {
    "duration": 13,
    "start_time": "2023-04-05T17:42:42.131Z"
   },
   {
    "duration": 189,
    "start_time": "2023-04-05T17:42:43.017Z"
   },
   {
    "duration": 217,
    "start_time": "2023-04-05T17:42:44.223Z"
   },
   {
    "duration": 14,
    "start_time": "2023-04-05T17:44:08.553Z"
   },
   {
    "duration": 79,
    "start_time": "2023-04-05T17:44:16.730Z"
   },
   {
    "duration": 1040,
    "start_time": "2023-04-05T17:44:26.248Z"
   },
   {
    "duration": 15,
    "start_time": "2023-04-05T17:45:09.827Z"
   },
   {
    "duration": 6052,
    "start_time": "2023-04-05T17:46:04.262Z"
   },
   {
    "duration": 189,
    "start_time": "2023-04-05T17:47:22.290Z"
   },
   {
    "duration": 5,
    "start_time": "2023-04-05T18:01:53.013Z"
   },
   {
    "duration": 6,
    "start_time": "2023-04-05T18:09:22.512Z"
   },
   {
    "duration": 21,
    "start_time": "2023-04-05T18:09:26.259Z"
   },
   {
    "duration": 5,
    "start_time": "2023-04-05T18:09:38.720Z"
   },
   {
    "duration": 1054,
    "start_time": "2023-04-05T18:09:39.868Z"
   },
   {
    "duration": 27,
    "start_time": "2023-04-05T18:10:00.454Z"
   },
   {
    "duration": 1053,
    "start_time": "2023-04-05T18:10:04.648Z"
   },
   {
    "duration": 7,
    "start_time": "2023-04-05T18:10:18.325Z"
   },
   {
    "duration": 11091,
    "start_time": "2023-04-05T18:10:21.775Z"
   },
   {
    "duration": 13045,
    "start_time": "2023-04-05T18:10:41.612Z"
   },
   {
    "duration": 4785,
    "start_time": "2023-04-05T18:10:54.661Z"
   },
   {
    "duration": 10,
    "start_time": "2023-04-05T18:11:08.427Z"
   },
   {
    "duration": 5,
    "start_time": "2023-04-05T18:11:22.765Z"
   },
   {
    "duration": 1195,
    "start_time": "2023-04-05T18:26:03.428Z"
   },
   {
    "duration": 28,
    "start_time": "2023-04-05T18:26:04.625Z"
   },
   {
    "duration": 9,
    "start_time": "2023-04-05T18:26:04.655Z"
   },
   {
    "duration": 19,
    "start_time": "2023-04-05T18:26:04.667Z"
   },
   {
    "duration": 11,
    "start_time": "2023-04-05T18:26:04.687Z"
   },
   {
    "duration": 24,
    "start_time": "2023-04-05T18:26:04.700Z"
   },
   {
    "duration": 7,
    "start_time": "2023-04-05T18:26:04.726Z"
   },
   {
    "duration": 4,
    "start_time": "2023-04-05T18:26:04.734Z"
   },
   {
    "duration": 22,
    "start_time": "2023-04-05T18:26:04.740Z"
   },
   {
    "duration": 3,
    "start_time": "2023-04-05T18:26:04.766Z"
   },
   {
    "duration": 8,
    "start_time": "2023-04-05T18:26:04.771Z"
   },
   {
    "duration": 6,
    "start_time": "2023-04-05T18:26:04.780Z"
   },
   {
    "duration": 5,
    "start_time": "2023-04-05T18:26:04.788Z"
   },
   {
    "duration": 24,
    "start_time": "2023-04-05T18:26:04.795Z"
   },
   {
    "duration": 12,
    "start_time": "2023-04-05T18:26:04.821Z"
   },
   {
    "duration": 6,
    "start_time": "2023-04-05T18:26:04.835Z"
   },
   {
    "duration": 9,
    "start_time": "2023-04-05T18:26:04.843Z"
   },
   {
    "duration": 11,
    "start_time": "2023-04-05T18:26:04.854Z"
   },
   {
    "duration": 14,
    "start_time": "2023-04-05T18:26:04.866Z"
   },
   {
    "duration": 4,
    "start_time": "2023-04-05T18:26:04.881Z"
   },
   {
    "duration": 5,
    "start_time": "2023-04-05T18:26:04.887Z"
   },
   {
    "duration": 1064,
    "start_time": "2023-04-05T18:26:04.893Z"
   },
   {
    "duration": 1202,
    "start_time": "2023-04-05T18:26:05.959Z"
   },
   {
    "duration": 435,
    "start_time": "2023-04-05T18:26:07.163Z"
   },
   {
    "duration": 5,
    "start_time": "2023-04-05T18:26:07.600Z"
   },
   {
    "duration": 82107,
    "start_time": "2023-04-05T18:26:07.607Z"
   },
   {
    "duration": 96413,
    "start_time": "2023-04-05T18:27:29.716Z"
   },
   {
    "duration": 4,
    "start_time": "2023-04-05T18:29:06.132Z"
   },
   {
    "duration": 39,
    "start_time": "2023-04-05T18:29:06.137Z"
   },
   {
    "duration": 183,
    "start_time": "2023-04-05T18:29:06.178Z"
   },
   {
    "duration": 13,
    "start_time": "2023-04-05T18:29:06.363Z"
   },
   {
    "duration": 187,
    "start_time": "2023-04-05T18:29:06.378Z"
   },
   {
    "duration": 196,
    "start_time": "2023-04-05T18:29:06.567Z"
   },
   {
    "duration": 14,
    "start_time": "2023-04-05T18:29:06.764Z"
   },
   {
    "duration": 5942,
    "start_time": "2023-04-05T18:29:06.780Z"
   },
   {
    "duration": 200,
    "start_time": "2023-04-05T18:29:12.724Z"
   },
   {
    "duration": 6,
    "start_time": "2023-04-05T18:29:12.926Z"
   },
   {
    "duration": 4,
    "start_time": "2023-04-05T18:34:44.482Z"
   },
   {
    "duration": 20726,
    "start_time": "2023-04-05T18:34:45.440Z"
   },
   {
    "duration": 27320,
    "start_time": "2023-04-05T18:35:06.169Z"
   },
   {
    "duration": 4,
    "start_time": "2023-04-05T18:39:36.190Z"
   },
   {
    "duration": 3,
    "start_time": "2023-04-05T18:39:48.345Z"
   },
   {
    "duration": 5,
    "start_time": "2023-04-05T18:41:03.593Z"
   },
   {
    "duration": 5,
    "start_time": "2023-04-05T18:41:15.547Z"
   },
   {
    "duration": 5,
    "start_time": "2023-04-05T18:41:23.405Z"
   },
   {
    "duration": 5,
    "start_time": "2023-04-05T18:41:31.029Z"
   },
   {
    "duration": 4,
    "start_time": "2023-04-05T18:41:39.329Z"
   },
   {
    "duration": 5,
    "start_time": "2023-04-05T18:41:56.723Z"
   },
   {
    "duration": 4,
    "start_time": "2023-04-05T18:42:02.251Z"
   },
   {
    "duration": 5,
    "start_time": "2023-04-05T18:42:15.165Z"
   },
   {
    "duration": 6,
    "start_time": "2023-04-05T18:42:20.681Z"
   },
   {
    "duration": 4,
    "start_time": "2023-04-05T18:42:34.085Z"
   },
   {
    "duration": 5,
    "start_time": "2023-04-05T19:38:23.453Z"
   },
   {
    "duration": 3,
    "start_time": "2023-04-05T19:38:42.873Z"
   },
   {
    "duration": 4,
    "start_time": "2023-04-05T19:39:04.437Z"
   },
   {
    "duration": 4,
    "start_time": "2023-04-05T19:39:53.046Z"
   },
   {
    "duration": 98,
    "start_time": "2023-04-05T19:41:14.599Z"
   },
   {
    "duration": 11,
    "start_time": "2023-04-05T19:41:19.413Z"
   },
   {
    "duration": 10,
    "start_time": "2023-04-05T19:41:23.276Z"
   },
   {
    "duration": 10,
    "start_time": "2023-04-05T19:41:28.706Z"
   },
   {
    "duration": 5,
    "start_time": "2023-04-05T19:42:29.476Z"
   },
   {
    "duration": 4,
    "start_time": "2023-04-05T19:42:39.901Z"
   },
   {
    "duration": 4,
    "start_time": "2023-04-05T19:42:45.891Z"
   },
   {
    "duration": 5,
    "start_time": "2023-04-05T19:43:19.694Z"
   },
   {
    "duration": 4,
    "start_time": "2023-04-05T19:43:27.145Z"
   },
   {
    "duration": 4,
    "start_time": "2023-04-05T19:44:36.164Z"
   },
   {
    "duration": 5,
    "start_time": "2023-04-05T19:44:51.979Z"
   },
   {
    "duration": 7,
    "start_time": "2023-04-05T20:01:36.590Z"
   },
   {
    "duration": 6,
    "start_time": "2023-04-05T20:01:46.714Z"
   },
   {
    "duration": 1187,
    "start_time": "2023-04-05T20:01:50.840Z"
   },
   {
    "duration": 1456,
    "start_time": "2023-04-05T20:01:54.648Z"
   },
   {
    "duration": 606,
    "start_time": "2023-04-05T20:01:56.106Z"
   },
   {
    "duration": 5,
    "start_time": "2023-04-05T20:02:22.922Z"
   },
   {
    "duration": 22099,
    "start_time": "2023-04-05T20:02:26.103Z"
   },
   {
    "duration": 26539,
    "start_time": "2023-04-05T20:02:58.376Z"
   },
   {
    "duration": 4,
    "start_time": "2023-04-05T20:04:15.241Z"
   },
   {
    "duration": 3,
    "start_time": "2023-04-05T20:04:25.727Z"
   },
   {
    "duration": 30,
    "start_time": "2023-04-05T20:04:30.975Z"
   },
   {
    "duration": 117,
    "start_time": "2023-04-05T20:04:35.332Z"
   },
   {
    "duration": 17,
    "start_time": "2023-04-05T20:04:38.919Z"
   },
   {
    "duration": 219,
    "start_time": "2023-04-05T20:04:39.992Z"
   },
   {
    "duration": 229,
    "start_time": "2023-04-05T20:04:41.336Z"
   },
   {
    "duration": 4,
    "start_time": "2023-04-05T20:04:55.048Z"
   },
   {
    "duration": 26,
    "start_time": "2023-04-05T20:04:59.197Z"
   },
   {
    "duration": 185,
    "start_time": "2023-04-05T20:05:00.451Z"
   },
   {
    "duration": 15,
    "start_time": "2023-04-05T20:05:04.295Z"
   },
   {
    "duration": 226,
    "start_time": "2023-04-05T20:05:05.101Z"
   },
   {
    "duration": 247,
    "start_time": "2023-04-05T20:05:06.174Z"
   },
   {
    "duration": 5,
    "start_time": "2023-04-05T20:05:42.605Z"
   },
   {
    "duration": 1123,
    "start_time": "2023-04-05T20:05:46.524Z"
   },
   {
    "duration": 1387,
    "start_time": "2023-04-05T20:05:51.452Z"
   },
   {
    "duration": 570,
    "start_time": "2023-04-05T20:05:52.841Z"
   },
   {
    "duration": 5,
    "start_time": "2023-04-05T20:06:05.204Z"
   },
   {
    "duration": 1272,
    "start_time": "2023-04-05T20:06:08.727Z"
   },
   {
    "duration": 1497,
    "start_time": "2023-04-05T20:06:10.001Z"
   },
   {
    "duration": 612,
    "start_time": "2023-04-05T20:06:11.500Z"
   },
   {
    "duration": 6,
    "start_time": "2023-04-05T20:06:22.828Z"
   },
   {
    "duration": 1186,
    "start_time": "2023-04-05T20:06:23.733Z"
   },
   {
    "duration": 1385,
    "start_time": "2023-04-05T20:06:24.921Z"
   },
   {
    "duration": 521,
    "start_time": "2023-04-05T20:06:26.307Z"
   },
   {
    "duration": 6,
    "start_time": "2023-04-05T20:07:25.786Z"
   },
   {
    "duration": 23200,
    "start_time": "2023-04-05T20:07:27.889Z"
   },
   {
    "duration": 27420,
    "start_time": "2023-04-05T20:07:51.094Z"
   },
   {
    "duration": 4,
    "start_time": "2023-04-05T20:31:57.534Z"
   },
   {
    "duration": 15,
    "start_time": "2023-04-05T20:33:50.740Z"
   },
   {
    "duration": 13,
    "start_time": "2023-04-05T20:34:09.009Z"
   },
   {
    "duration": 8,
    "start_time": "2023-04-05T20:35:22.271Z"
   },
   {
    "duration": 5,
    "start_time": "2023-04-05T20:39:10.228Z"
   },
   {
    "duration": 17,
    "start_time": "2023-04-05T20:39:13.042Z"
   },
   {
    "duration": 6,
    "start_time": "2023-04-05T20:40:36.347Z"
   },
   {
    "duration": 1152,
    "start_time": "2023-04-05T20:40:37.418Z"
   },
   {
    "duration": 5,
    "start_time": "2023-04-05T20:41:00.855Z"
   },
   {
    "duration": 1043,
    "start_time": "2023-04-05T20:41:01.463Z"
   },
   {
    "duration": 6,
    "start_time": "2023-04-05T20:41:16.792Z"
   },
   {
    "duration": 1004,
    "start_time": "2023-04-05T20:41:17.408Z"
   },
   {
    "duration": 6,
    "start_time": "2023-04-05T20:41:31.568Z"
   },
   {
    "duration": 1053,
    "start_time": "2023-04-05T20:41:32.787Z"
   },
   {
    "duration": 5,
    "start_time": "2023-04-05T20:43:32.538Z"
   },
   {
    "duration": 1029,
    "start_time": "2023-04-05T20:43:33.964Z"
   },
   {
    "duration": 5,
    "start_time": "2023-04-05T20:43:41.783Z"
   },
   {
    "duration": 1016,
    "start_time": "2023-04-05T20:43:42.241Z"
   },
   {
    "duration": 5,
    "start_time": "2023-04-05T20:43:55.703Z"
   },
   {
    "duration": 1073,
    "start_time": "2023-04-05T20:43:57.174Z"
   },
   {
    "duration": 6,
    "start_time": "2023-04-05T20:44:10.170Z"
   },
   {
    "duration": 5,
    "start_time": "2023-04-05T20:44:22.927Z"
   },
   {
    "duration": 986,
    "start_time": "2023-04-05T20:44:24.771Z"
   },
   {
    "duration": 6,
    "start_time": "2023-04-05T20:44:30.725Z"
   },
   {
    "duration": 1172,
    "start_time": "2023-04-05T20:44:30.733Z"
   },
   {
    "duration": 6,
    "start_time": "2023-04-05T20:44:38.882Z"
   },
   {
    "duration": 1023,
    "start_time": "2023-04-05T20:44:40.305Z"
   },
   {
    "duration": 1223,
    "start_time": "2023-04-05T20:44:46.716Z"
   },
   {
    "duration": 490,
    "start_time": "2023-04-05T20:44:47.941Z"
   },
   {
    "duration": 6,
    "start_time": "2023-04-05T20:45:04.554Z"
   },
   {
    "duration": 1037,
    "start_time": "2023-04-05T20:45:05.471Z"
   },
   {
    "duration": 1266,
    "start_time": "2023-04-05T20:45:06.510Z"
   },
   {
    "duration": 478,
    "start_time": "2023-04-05T20:45:07.778Z"
   },
   {
    "duration": 7,
    "start_time": "2023-04-05T20:45:21.558Z"
   },
   {
    "duration": 1070,
    "start_time": "2023-04-05T20:45:22.609Z"
   },
   {
    "duration": 1182,
    "start_time": "2023-04-05T20:45:26.737Z"
   },
   {
    "duration": 445,
    "start_time": "2023-04-05T20:45:27.922Z"
   },
   {
    "duration": 5,
    "start_time": "2023-04-05T20:46:28.675Z"
   },
   {
    "duration": 30,
    "start_time": "2023-04-05T20:46:29.468Z"
   },
   {
    "duration": 23,
    "start_time": "2023-04-05T20:46:30.065Z"
   },
   {
    "duration": 5,
    "start_time": "2023-04-05T20:46:56.867Z"
   },
   {
    "duration": 33,
    "start_time": "2023-04-05T20:46:57.205Z"
   },
   {
    "duration": 25,
    "start_time": "2023-04-05T20:46:58.338Z"
   },
   {
    "duration": 5,
    "start_time": "2023-04-05T20:47:34.941Z"
   },
   {
    "duration": 27,
    "start_time": "2023-04-05T20:47:36.195Z"
   },
   {
    "duration": 6,
    "start_time": "2023-04-05T20:47:58.312Z"
   },
   {
    "duration": 23,
    "start_time": "2023-04-05T20:47:59.118Z"
   },
   {
    "duration": 5,
    "start_time": "2023-04-05T20:48:51.316Z"
   },
   {
    "duration": 19906,
    "start_time": "2023-04-05T20:48:51.707Z"
   },
   {
    "duration": 24124,
    "start_time": "2023-04-05T20:49:11.615Z"
   },
   {
    "duration": 5,
    "start_time": "2023-04-05T20:49:36.374Z"
   },
   {
    "duration": 39,
    "start_time": "2023-04-05T20:49:38.060Z"
   },
   {
    "duration": 4,
    "start_time": "2023-04-05T20:50:04.417Z"
   },
   {
    "duration": 37,
    "start_time": "2023-04-05T20:50:07.545Z"
   },
   {
    "duration": 197,
    "start_time": "2023-04-05T20:50:10.278Z"
   },
   {
    "duration": 5,
    "start_time": "2023-04-05T20:50:21.401Z"
   },
   {
    "duration": 28,
    "start_time": "2023-04-05T20:50:22.407Z"
   },
   {
    "duration": 182,
    "start_time": "2023-04-05T20:50:22.841Z"
   },
   {
    "duration": 12,
    "start_time": "2023-04-05T20:50:23.210Z"
   },
   {
    "duration": 167,
    "start_time": "2023-04-05T20:50:23.528Z"
   },
   {
    "duration": 227,
    "start_time": "2023-04-05T20:50:23.873Z"
   },
   {
    "duration": 10,
    "start_time": "2023-04-06T13:40:35.646Z"
   },
   {
    "duration": 47,
    "start_time": "2023-04-06T13:40:36.474Z"
   },
   {
    "duration": 1253,
    "start_time": "2023-04-06T13:40:45.734Z"
   },
   {
    "duration": 61,
    "start_time": "2023-04-06T13:40:46.989Z"
   },
   {
    "duration": 9,
    "start_time": "2023-04-06T13:40:47.052Z"
   },
   {
    "duration": 21,
    "start_time": "2023-04-06T13:40:47.064Z"
   },
   {
    "duration": 13,
    "start_time": "2023-04-06T13:40:47.088Z"
   },
   {
    "duration": 15,
    "start_time": "2023-04-06T13:40:47.103Z"
   },
   {
    "duration": 7,
    "start_time": "2023-04-06T13:40:47.120Z"
   },
   {
    "duration": 21,
    "start_time": "2023-04-06T13:40:47.129Z"
   },
   {
    "duration": 12,
    "start_time": "2023-04-06T13:40:47.152Z"
   },
   {
    "duration": 11,
    "start_time": "2023-04-06T13:40:47.166Z"
   },
   {
    "duration": 5,
    "start_time": "2023-04-06T13:40:47.179Z"
   },
   {
    "duration": 5,
    "start_time": "2023-04-06T13:40:47.186Z"
   },
   {
    "duration": 3,
    "start_time": "2023-04-06T13:40:47.193Z"
   },
   {
    "duration": 2,
    "start_time": "2023-04-06T13:40:47.201Z"
   },
   {
    "duration": 2,
    "start_time": "2023-04-06T13:40:47.224Z"
   },
   {
    "duration": 7,
    "start_time": "2023-04-06T13:40:47.228Z"
   },
   {
    "duration": 4,
    "start_time": "2023-04-06T13:40:47.237Z"
   },
   {
    "duration": 6,
    "start_time": "2023-04-06T13:40:47.243Z"
   },
   {
    "duration": 9,
    "start_time": "2023-04-06T13:40:47.251Z"
   },
   {
    "duration": 6,
    "start_time": "2023-04-06T13:40:47.262Z"
   },
   {
    "duration": 8,
    "start_time": "2023-04-06T13:40:47.270Z"
   },
   {
    "duration": 43,
    "start_time": "2023-04-06T13:40:47.280Z"
   },
   {
    "duration": 8,
    "start_time": "2023-04-06T13:40:47.325Z"
   },
   {
    "duration": 1086,
    "start_time": "2023-04-06T13:40:47.335Z"
   },
   {
    "duration": 1399,
    "start_time": "2023-04-06T13:40:48.423Z"
   },
   {
    "duration": 479,
    "start_time": "2023-04-06T13:40:49.824Z"
   },
   {
    "duration": 6,
    "start_time": "2023-04-06T13:40:50.305Z"
   },
   {
    "duration": 22045,
    "start_time": "2023-04-06T13:40:50.323Z"
   },
   {
    "duration": 27624,
    "start_time": "2023-04-06T13:41:12.369Z"
   },
   {
    "duration": 4,
    "start_time": "2023-04-06T13:41:39.995Z"
   },
   {
    "duration": 53,
    "start_time": "2023-04-06T13:41:40.001Z"
   },
   {
    "duration": 133,
    "start_time": "2023-04-06T13:41:40.055Z"
   },
   {
    "duration": 11,
    "start_time": "2023-04-06T13:41:40.190Z"
   },
   {
    "duration": 272,
    "start_time": "2023-04-06T13:41:40.202Z"
   },
   {
    "duration": 284,
    "start_time": "2023-04-06T13:41:40.476Z"
   },
   {
    "duration": 20,
    "start_time": "2023-04-06T13:41:40.763Z"
   },
   {
    "duration": 6586,
    "start_time": "2023-04-06T13:41:40.785Z"
   },
   {
    "duration": 126,
    "start_time": "2023-04-06T13:41:47.373Z"
   },
   {
    "duration": 6,
    "start_time": "2023-04-06T13:41:47.501Z"
   },
   {
    "duration": 78,
    "start_time": "2023-04-06T13:41:47.530Z"
   },
   {
    "duration": 0,
    "start_time": "2023-04-06T13:41:47.610Z"
   },
   {
    "duration": 1,
    "start_time": "2023-04-06T13:41:47.611Z"
   },
   {
    "duration": 3,
    "start_time": "2023-04-06T13:41:57.360Z"
   },
   {
    "duration": 34,
    "start_time": "2023-04-06T13:41:57.365Z"
   },
   {
    "duration": 3,
    "start_time": "2023-04-06T13:41:57.401Z"
   },
   {
    "duration": 11,
    "start_time": "2023-04-06T13:41:57.406Z"
   },
   {
    "duration": 12,
    "start_time": "2023-04-06T13:41:57.419Z"
   },
   {
    "duration": 15,
    "start_time": "2023-04-06T13:41:57.432Z"
   },
   {
    "duration": 6,
    "start_time": "2023-04-06T13:41:57.449Z"
   },
   {
    "duration": 9,
    "start_time": "2023-04-06T13:41:57.456Z"
   },
   {
    "duration": 5,
    "start_time": "2023-04-06T13:41:57.467Z"
   },
   {
    "duration": 16,
    "start_time": "2023-04-06T13:41:57.473Z"
   },
   {
    "duration": 4,
    "start_time": "2023-04-06T13:41:57.490Z"
   },
   {
    "duration": 7,
    "start_time": "2023-04-06T13:41:57.495Z"
   },
   {
    "duration": 5,
    "start_time": "2023-04-06T13:41:57.522Z"
   },
   {
    "duration": 6,
    "start_time": "2023-04-06T13:41:57.530Z"
   },
   {
    "duration": 7,
    "start_time": "2023-04-06T13:41:57.538Z"
   },
   {
    "duration": 8,
    "start_time": "2023-04-06T13:41:57.547Z"
   },
   {
    "duration": 5,
    "start_time": "2023-04-06T13:41:57.556Z"
   },
   {
    "duration": 6,
    "start_time": "2023-04-06T13:41:57.563Z"
   },
   {
    "duration": 8,
    "start_time": "2023-04-06T13:41:57.570Z"
   },
   {
    "duration": 78,
    "start_time": "2023-04-06T13:42:02.876Z"
   },
   {
    "duration": 6,
    "start_time": "2023-04-06T13:42:10.316Z"
   },
   {
    "duration": 8,
    "start_time": "2023-04-06T13:42:11.228Z"
   },
   {
    "duration": 4,
    "start_time": "2023-04-06T13:42:12.549Z"
   },
   {
    "duration": 20,
    "start_time": "2023-04-06T13:44:16.813Z"
   },
   {
    "duration": 9,
    "start_time": "2023-04-06T13:44:29.184Z"
   },
   {
    "duration": 6,
    "start_time": "2023-04-06T13:44:37.632Z"
   },
   {
    "duration": 14,
    "start_time": "2023-04-06T13:44:45.405Z"
   },
   {
    "duration": 1596,
    "start_time": "2023-04-06T13:45:46.608Z"
   },
   {
    "duration": 1338,
    "start_time": "2023-04-06T13:46:17.021Z"
   },
   {
    "duration": 5,
    "start_time": "2023-04-06T13:46:36.951Z"
   },
   {
    "duration": 928,
    "start_time": "2023-04-06T13:47:54.512Z"
   },
   {
    "duration": 1169,
    "start_time": "2023-04-06T13:48:01.721Z"
   },
   {
    "duration": 1149,
    "start_time": "2023-04-06T13:48:16.779Z"
   },
   {
    "duration": 6,
    "start_time": "2023-04-06T13:48:24.385Z"
   },
   {
    "duration": 8,
    "start_time": "2023-04-06T13:49:00.248Z"
   },
   {
    "duration": 7,
    "start_time": "2023-04-06T13:49:04.407Z"
   },
   {
    "duration": 5,
    "start_time": "2023-04-06T13:49:09.684Z"
   },
   {
    "duration": 6,
    "start_time": "2023-04-06T13:49:26.009Z"
   },
   {
    "duration": 6,
    "start_time": "2023-04-06T13:49:42.969Z"
   },
   {
    "duration": 5,
    "start_time": "2023-04-06T13:50:08.746Z"
   },
   {
    "duration": 5,
    "start_time": "2023-04-06T13:50:11.683Z"
   },
   {
    "duration": 8,
    "start_time": "2023-04-06T13:50:12.587Z"
   },
   {
    "duration": 4,
    "start_time": "2023-04-06T13:50:13.829Z"
   },
   {
    "duration": 7,
    "start_time": "2023-04-06T13:50:15.101Z"
   },
   {
    "duration": 4,
    "start_time": "2023-04-06T13:51:11.009Z"
   },
   {
    "duration": 8,
    "start_time": "2023-04-06T13:51:11.316Z"
   },
   {
    "duration": 5,
    "start_time": "2023-04-06T13:51:11.635Z"
   },
   {
    "duration": 7,
    "start_time": "2023-04-06T13:51:12.320Z"
   },
   {
    "duration": 4,
    "start_time": "2023-04-06T13:51:40.009Z"
   },
   {
    "duration": 7,
    "start_time": "2023-04-06T13:51:40.389Z"
   },
   {
    "duration": 5,
    "start_time": "2023-04-06T13:51:40.745Z"
   },
   {
    "duration": 7,
    "start_time": "2023-04-06T13:51:41.196Z"
   },
   {
    "duration": 7,
    "start_time": "2023-04-06T13:52:43.886Z"
   },
   {
    "duration": 6,
    "start_time": "2023-04-06T13:52:56.472Z"
   },
   {
    "duration": 7,
    "start_time": "2023-04-06T13:53:04.289Z"
   },
   {
    "duration": 6,
    "start_time": "2023-04-06T13:53:12.451Z"
   },
   {
    "duration": 5,
    "start_time": "2023-04-06T13:53:28.614Z"
   },
   {
    "duration": 5,
    "start_time": "2023-04-06T13:53:45.830Z"
   },
   {
    "duration": 7,
    "start_time": "2023-04-06T13:53:46.088Z"
   },
   {
    "duration": 5,
    "start_time": "2023-04-06T13:53:46.367Z"
   },
   {
    "duration": 6,
    "start_time": "2023-04-06T13:53:46.883Z"
   },
   {
    "duration": 7,
    "start_time": "2023-04-06T13:54:22.865Z"
   },
   {
    "duration": 10,
    "start_time": "2023-04-06T13:54:23.172Z"
   },
   {
    "duration": 5,
    "start_time": "2023-04-06T13:54:23.551Z"
   },
   {
    "duration": 5,
    "start_time": "2023-04-06T13:54:24.243Z"
   },
   {
    "duration": 6,
    "start_time": "2023-04-06T13:54:56.044Z"
   },
   {
    "duration": 1104,
    "start_time": "2023-04-06T13:55:10.861Z"
   },
   {
    "duration": 1317,
    "start_time": "2023-04-06T13:55:18.474Z"
   },
   {
    "duration": 530,
    "start_time": "2023-04-06T13:55:22.830Z"
   },
   {
    "duration": 7,
    "start_time": "2023-04-06T13:55:35.948Z"
   },
   {
    "duration": 21779,
    "start_time": "2023-04-06T13:55:42.205Z"
   },
   {
    "duration": 26064,
    "start_time": "2023-04-06T13:56:57.515Z"
   },
   {
    "duration": 4,
    "start_time": "2023-04-06T13:57:37.422Z"
   },
   {
    "duration": 38,
    "start_time": "2023-04-06T13:57:41.925Z"
   },
   {
    "duration": 120,
    "start_time": "2023-04-06T13:57:46.285Z"
   },
   {
    "duration": 11,
    "start_time": "2023-04-06T13:57:49.999Z"
   },
   {
    "duration": 182,
    "start_time": "2023-04-06T13:57:51.590Z"
   },
   {
    "duration": 213,
    "start_time": "2023-04-06T13:57:53.321Z"
   },
   {
    "duration": 4,
    "start_time": "2023-04-06T13:59:28.451Z"
   },
   {
    "duration": 47973,
    "start_time": "2023-04-06T13:59:31.945Z"
   },
   {
    "duration": 57977,
    "start_time": "2023-04-06T14:00:19.920Z"
   },
   {
    "duration": 1287,
    "start_time": "2023-04-06T18:49:29.663Z"
   },
   {
    "duration": 70,
    "start_time": "2023-04-06T18:49:30.952Z"
   },
   {
    "duration": 12,
    "start_time": "2023-04-06T18:49:31.024Z"
   },
   {
    "duration": 36,
    "start_time": "2023-04-06T18:49:31.038Z"
   },
   {
    "duration": 37,
    "start_time": "2023-04-06T18:49:31.077Z"
   },
   {
    "duration": 32,
    "start_time": "2023-04-06T18:49:31.116Z"
   },
   {
    "duration": 33,
    "start_time": "2023-04-06T18:49:31.150Z"
   },
   {
    "duration": 29,
    "start_time": "2023-04-06T18:49:31.185Z"
   },
   {
    "duration": 97,
    "start_time": "2023-04-06T18:49:31.216Z"
   },
   {
    "duration": 31,
    "start_time": "2023-04-06T18:49:31.316Z"
   },
   {
    "duration": 26,
    "start_time": "2023-04-06T18:49:31.349Z"
   },
   {
    "duration": 57,
    "start_time": "2023-04-06T18:49:31.377Z"
   },
   {
    "duration": 26,
    "start_time": "2023-04-06T18:49:31.436Z"
   },
   {
    "duration": 27,
    "start_time": "2023-04-06T18:49:31.466Z"
   },
   {
    "duration": 44,
    "start_time": "2023-04-06T18:49:31.495Z"
   },
   {
    "duration": 27,
    "start_time": "2023-04-06T18:49:31.541Z"
   },
   {
    "duration": 22,
    "start_time": "2023-04-06T18:49:31.570Z"
   },
   {
    "duration": 47,
    "start_time": "2023-04-06T18:49:31.594Z"
   },
   {
    "duration": 56,
    "start_time": "2023-04-06T18:49:31.642Z"
   },
   {
    "duration": 40,
    "start_time": "2023-04-06T18:49:31.701Z"
   },
   {
    "duration": 45,
    "start_time": "2023-04-06T18:49:31.743Z"
   },
   {
    "duration": 24,
    "start_time": "2023-04-06T18:49:31.790Z"
   },
   {
    "duration": 15,
    "start_time": "2023-04-06T18:49:31.816Z"
   },
   {
    "duration": 30,
    "start_time": "2023-04-06T18:49:31.833Z"
   },
   {
    "duration": 1083,
    "start_time": "2023-04-06T18:49:31.865Z"
   },
   {
    "duration": 1316,
    "start_time": "2023-04-06T18:49:32.950Z"
   },
   {
    "duration": 505,
    "start_time": "2023-04-06T18:49:34.268Z"
   },
   {
    "duration": 5,
    "start_time": "2023-04-06T18:49:34.775Z"
   },
   {
    "duration": 46351,
    "start_time": "2023-04-06T18:49:34.782Z"
   },
   {
    "duration": 55418,
    "start_time": "2023-04-06T18:50:21.135Z"
   },
   {
    "duration": 4,
    "start_time": "2023-04-06T18:51:16.555Z"
   },
   {
    "duration": 45,
    "start_time": "2023-04-06T18:51:16.562Z"
   },
   {
    "duration": 131,
    "start_time": "2023-04-06T18:51:16.610Z"
   },
   {
    "duration": 19,
    "start_time": "2023-04-06T18:51:16.743Z"
   },
   {
    "duration": 188,
    "start_time": "2023-04-06T18:51:16.764Z"
   },
   {
    "duration": 251,
    "start_time": "2023-04-06T18:51:16.954Z"
   },
   {
    "duration": 15,
    "start_time": "2023-04-06T18:51:17.207Z"
   },
   {
    "duration": 6012,
    "start_time": "2023-04-06T18:51:17.224Z"
   },
   {
    "duration": 125,
    "start_time": "2023-04-06T18:51:23.238Z"
   },
   {
    "duration": 5,
    "start_time": "2023-04-06T18:51:23.365Z"
   },
   {
    "duration": 145,
    "start_time": "2023-04-06T19:09:52.810Z"
   },
   {
    "duration": 11,
    "start_time": "2023-04-06T19:10:30.627Z"
   },
   {
    "duration": 13,
    "start_time": "2023-04-06T19:10:47.286Z"
   },
   {
    "duration": 3,
    "start_time": "2023-04-06T19:11:37.489Z"
   }
  ],
  "kernelspec": {
   "display_name": "Python 3 (ipykernel)",
   "language": "python",
   "name": "python3"
  },
  "language_info": {
   "codemirror_mode": {
    "name": "ipython",
    "version": 3
   },
   "file_extension": ".py",
   "mimetype": "text/x-python",
   "name": "python",
   "nbconvert_exporter": "python",
   "pygments_lexer": "ipython3",
   "version": "3.12.7"
  },
  "toc": {
   "base_numbering": 1,
   "nav_menu": {},
   "number_sections": true,
   "sideBar": true,
   "skip_h1_title": true,
   "title_cell": "Table of Contents",
   "title_sidebar": "Contents",
   "toc_cell": false,
   "toc_position": {},
   "toc_section_display": true,
   "toc_window_display": true
  }
 },
 "nbformat": 4,
 "nbformat_minor": 4
}
