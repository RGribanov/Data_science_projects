{
 "cells": [
  {
   "cell_type": "markdown",
   "id": "7c56da94",
   "metadata": {
    "deletable": false,
    "editable": false,
    "id": "c81daeeb"
   },
   "source": [
    "# Исследование надежности заемщиков\n"
   ]
  },
  {
   "cell_type": "markdown",
   "id": "a037bd04",
   "metadata": {
    "deletable": false,
    "editable": false,
    "id": "827c20bf"
   },
   "source": [
    "Во второй части проекта вы выполните шаги 3 и 4. Их вручную проверит ревьюер.\n",
    "Чтобы вам не пришлось писать код заново для шагов 1 и 2, мы добавили авторские решения в ячейки с кодом. \n",
    "\n"
   ]
  },
  {
   "cell_type": "markdown",
   "id": "d21abe92",
   "metadata": {
    "deletable": false,
    "editable": false,
    "id": "744d7639"
   },
   "source": [
    "## Откроем таблицу и изучим общую информацию о данных"
   ]
  },
  {
   "cell_type": "markdown",
   "id": "2d1fe7f2",
   "metadata": {
    "deletable": false,
    "editable": false,
    "id": "e7a14c31"
   },
   "source": [
    "**1. Импортируем библиотеку pandas. Прочитаем данные из csv-файла в датафрейм и сохраним в переменную `data`. Путь к файлу:**\n",
    "\n",
    "`/data/data.csv`"
   ]
  },
  {
   "cell_type": "code",
   "execution_count": 1,
   "id": "5d0cf297",
   "metadata": {
    "deletable": false,
    "id": "7bcf75c9"
   },
   "outputs": [],
   "source": [
    "import pandas as pd\n",
    "\n",
    "try:\n",
    "    data = pd.read_csv('/data/data.csv')\n",
    "except:\n",
    "    data = pd.read_csv('https://code.s3.yandex.net/datasets/data.csv')"
   ]
  },
  {
   "cell_type": "markdown",
   "id": "562e265e",
   "metadata": {
    "deletable": false,
    "editable": false,
    "id": "b8038fe3"
   },
   "source": [
    "**2. Выведеv первые 20 строчек датафрейма `data` на экран.**"
   ]
  },
  {
   "cell_type": "code",
   "execution_count": 2,
   "id": "bd488c52",
   "metadata": {
    "deletable": false,
    "id": "2a7cab99",
    "outputId": "1a8f3ef2-d323-4ec2-ddf7-89670b5944c4"
   },
   "outputs": [
    {
     "data": {
      "text/html": [
       "<div>\n",
       "<style scoped>\n",
       "    .dataframe tbody tr th:only-of-type {\n",
       "        vertical-align: middle;\n",
       "    }\n",
       "\n",
       "    .dataframe tbody tr th {\n",
       "        vertical-align: top;\n",
       "    }\n",
       "\n",
       "    .dataframe thead th {\n",
       "        text-align: right;\n",
       "    }\n",
       "</style>\n",
       "<table border=\"1\" class=\"dataframe\">\n",
       "  <thead>\n",
       "    <tr style=\"text-align: right;\">\n",
       "      <th></th>\n",
       "      <th>children</th>\n",
       "      <th>days_employed</th>\n",
       "      <th>dob_years</th>\n",
       "      <th>education</th>\n",
       "      <th>education_id</th>\n",
       "      <th>family_status</th>\n",
       "      <th>family_status_id</th>\n",
       "      <th>gender</th>\n",
       "      <th>income_type</th>\n",
       "      <th>debt</th>\n",
       "      <th>total_income</th>\n",
       "      <th>purpose</th>\n",
       "    </tr>\n",
       "  </thead>\n",
       "  <tbody>\n",
       "    <tr>\n",
       "      <th>0</th>\n",
       "      <td>1</td>\n",
       "      <td>-8437.673028</td>\n",
       "      <td>42</td>\n",
       "      <td>высшее</td>\n",
       "      <td>0</td>\n",
       "      <td>женат / замужем</td>\n",
       "      <td>0</td>\n",
       "      <td>F</td>\n",
       "      <td>сотрудник</td>\n",
       "      <td>0</td>\n",
       "      <td>253875.639453</td>\n",
       "      <td>покупка жилья</td>\n",
       "    </tr>\n",
       "    <tr>\n",
       "      <th>1</th>\n",
       "      <td>1</td>\n",
       "      <td>-4024.803754</td>\n",
       "      <td>36</td>\n",
       "      <td>среднее</td>\n",
       "      <td>1</td>\n",
       "      <td>женат / замужем</td>\n",
       "      <td>0</td>\n",
       "      <td>F</td>\n",
       "      <td>сотрудник</td>\n",
       "      <td>0</td>\n",
       "      <td>112080.014102</td>\n",
       "      <td>приобретение автомобиля</td>\n",
       "    </tr>\n",
       "    <tr>\n",
       "      <th>2</th>\n",
       "      <td>0</td>\n",
       "      <td>-5623.422610</td>\n",
       "      <td>33</td>\n",
       "      <td>Среднее</td>\n",
       "      <td>1</td>\n",
       "      <td>женат / замужем</td>\n",
       "      <td>0</td>\n",
       "      <td>M</td>\n",
       "      <td>сотрудник</td>\n",
       "      <td>0</td>\n",
       "      <td>145885.952297</td>\n",
       "      <td>покупка жилья</td>\n",
       "    </tr>\n",
       "    <tr>\n",
       "      <th>3</th>\n",
       "      <td>3</td>\n",
       "      <td>-4124.747207</td>\n",
       "      <td>32</td>\n",
       "      <td>среднее</td>\n",
       "      <td>1</td>\n",
       "      <td>женат / замужем</td>\n",
       "      <td>0</td>\n",
       "      <td>M</td>\n",
       "      <td>сотрудник</td>\n",
       "      <td>0</td>\n",
       "      <td>267628.550329</td>\n",
       "      <td>дополнительное образование</td>\n",
       "    </tr>\n",
       "    <tr>\n",
       "      <th>4</th>\n",
       "      <td>0</td>\n",
       "      <td>340266.072047</td>\n",
       "      <td>53</td>\n",
       "      <td>среднее</td>\n",
       "      <td>1</td>\n",
       "      <td>гражданский брак</td>\n",
       "      <td>1</td>\n",
       "      <td>F</td>\n",
       "      <td>пенсионер</td>\n",
       "      <td>0</td>\n",
       "      <td>158616.077870</td>\n",
       "      <td>сыграть свадьбу</td>\n",
       "    </tr>\n",
       "    <tr>\n",
       "      <th>5</th>\n",
       "      <td>0</td>\n",
       "      <td>-926.185831</td>\n",
       "      <td>27</td>\n",
       "      <td>высшее</td>\n",
       "      <td>0</td>\n",
       "      <td>гражданский брак</td>\n",
       "      <td>1</td>\n",
       "      <td>M</td>\n",
       "      <td>компаньон</td>\n",
       "      <td>0</td>\n",
       "      <td>255763.565419</td>\n",
       "      <td>покупка жилья</td>\n",
       "    </tr>\n",
       "    <tr>\n",
       "      <th>6</th>\n",
       "      <td>0</td>\n",
       "      <td>-2879.202052</td>\n",
       "      <td>43</td>\n",
       "      <td>высшее</td>\n",
       "      <td>0</td>\n",
       "      <td>женат / замужем</td>\n",
       "      <td>0</td>\n",
       "      <td>F</td>\n",
       "      <td>компаньон</td>\n",
       "      <td>0</td>\n",
       "      <td>240525.971920</td>\n",
       "      <td>операции с жильем</td>\n",
       "    </tr>\n",
       "    <tr>\n",
       "      <th>7</th>\n",
       "      <td>0</td>\n",
       "      <td>-152.779569</td>\n",
       "      <td>50</td>\n",
       "      <td>СРЕДНЕЕ</td>\n",
       "      <td>1</td>\n",
       "      <td>женат / замужем</td>\n",
       "      <td>0</td>\n",
       "      <td>M</td>\n",
       "      <td>сотрудник</td>\n",
       "      <td>0</td>\n",
       "      <td>135823.934197</td>\n",
       "      <td>образование</td>\n",
       "    </tr>\n",
       "    <tr>\n",
       "      <th>8</th>\n",
       "      <td>2</td>\n",
       "      <td>-6929.865299</td>\n",
       "      <td>35</td>\n",
       "      <td>ВЫСШЕЕ</td>\n",
       "      <td>0</td>\n",
       "      <td>гражданский брак</td>\n",
       "      <td>1</td>\n",
       "      <td>F</td>\n",
       "      <td>сотрудник</td>\n",
       "      <td>0</td>\n",
       "      <td>95856.832424</td>\n",
       "      <td>на проведение свадьбы</td>\n",
       "    </tr>\n",
       "    <tr>\n",
       "      <th>9</th>\n",
       "      <td>0</td>\n",
       "      <td>-2188.756445</td>\n",
       "      <td>41</td>\n",
       "      <td>среднее</td>\n",
       "      <td>1</td>\n",
       "      <td>женат / замужем</td>\n",
       "      <td>0</td>\n",
       "      <td>M</td>\n",
       "      <td>сотрудник</td>\n",
       "      <td>0</td>\n",
       "      <td>144425.938277</td>\n",
       "      <td>покупка жилья для семьи</td>\n",
       "    </tr>\n",
       "    <tr>\n",
       "      <th>10</th>\n",
       "      <td>2</td>\n",
       "      <td>-4171.483647</td>\n",
       "      <td>36</td>\n",
       "      <td>высшее</td>\n",
       "      <td>0</td>\n",
       "      <td>женат / замужем</td>\n",
       "      <td>0</td>\n",
       "      <td>M</td>\n",
       "      <td>компаньон</td>\n",
       "      <td>0</td>\n",
       "      <td>113943.491460</td>\n",
       "      <td>покупка недвижимости</td>\n",
       "    </tr>\n",
       "    <tr>\n",
       "      <th>11</th>\n",
       "      <td>0</td>\n",
       "      <td>-792.701887</td>\n",
       "      <td>40</td>\n",
       "      <td>среднее</td>\n",
       "      <td>1</td>\n",
       "      <td>женат / замужем</td>\n",
       "      <td>0</td>\n",
       "      <td>F</td>\n",
       "      <td>сотрудник</td>\n",
       "      <td>0</td>\n",
       "      <td>77069.234271</td>\n",
       "      <td>покупка коммерческой недвижимости</td>\n",
       "    </tr>\n",
       "    <tr>\n",
       "      <th>12</th>\n",
       "      <td>0</td>\n",
       "      <td>NaN</td>\n",
       "      <td>65</td>\n",
       "      <td>среднее</td>\n",
       "      <td>1</td>\n",
       "      <td>гражданский брак</td>\n",
       "      <td>1</td>\n",
       "      <td>M</td>\n",
       "      <td>пенсионер</td>\n",
       "      <td>0</td>\n",
       "      <td>NaN</td>\n",
       "      <td>сыграть свадьбу</td>\n",
       "    </tr>\n",
       "    <tr>\n",
       "      <th>13</th>\n",
       "      <td>0</td>\n",
       "      <td>-1846.641941</td>\n",
       "      <td>54</td>\n",
       "      <td>неоконченное высшее</td>\n",
       "      <td>2</td>\n",
       "      <td>женат / замужем</td>\n",
       "      <td>0</td>\n",
       "      <td>F</td>\n",
       "      <td>сотрудник</td>\n",
       "      <td>0</td>\n",
       "      <td>130458.228857</td>\n",
       "      <td>приобретение автомобиля</td>\n",
       "    </tr>\n",
       "    <tr>\n",
       "      <th>14</th>\n",
       "      <td>0</td>\n",
       "      <td>-1844.956182</td>\n",
       "      <td>56</td>\n",
       "      <td>высшее</td>\n",
       "      <td>0</td>\n",
       "      <td>гражданский брак</td>\n",
       "      <td>1</td>\n",
       "      <td>F</td>\n",
       "      <td>компаньон</td>\n",
       "      <td>1</td>\n",
       "      <td>165127.911772</td>\n",
       "      <td>покупка жилой недвижимости</td>\n",
       "    </tr>\n",
       "    <tr>\n",
       "      <th>15</th>\n",
       "      <td>1</td>\n",
       "      <td>-972.364419</td>\n",
       "      <td>26</td>\n",
       "      <td>среднее</td>\n",
       "      <td>1</td>\n",
       "      <td>женат / замужем</td>\n",
       "      <td>0</td>\n",
       "      <td>F</td>\n",
       "      <td>сотрудник</td>\n",
       "      <td>0</td>\n",
       "      <td>116820.904450</td>\n",
       "      <td>строительство собственной недвижимости</td>\n",
       "    </tr>\n",
       "    <tr>\n",
       "      <th>16</th>\n",
       "      <td>0</td>\n",
       "      <td>-1719.934226</td>\n",
       "      <td>35</td>\n",
       "      <td>среднее</td>\n",
       "      <td>1</td>\n",
       "      <td>женат / замужем</td>\n",
       "      <td>0</td>\n",
       "      <td>F</td>\n",
       "      <td>сотрудник</td>\n",
       "      <td>0</td>\n",
       "      <td>289202.704229</td>\n",
       "      <td>недвижимость</td>\n",
       "    </tr>\n",
       "    <tr>\n",
       "      <th>17</th>\n",
       "      <td>0</td>\n",
       "      <td>-2369.999720</td>\n",
       "      <td>33</td>\n",
       "      <td>высшее</td>\n",
       "      <td>0</td>\n",
       "      <td>гражданский брак</td>\n",
       "      <td>1</td>\n",
       "      <td>M</td>\n",
       "      <td>сотрудник</td>\n",
       "      <td>0</td>\n",
       "      <td>90410.586745</td>\n",
       "      <td>строительство недвижимости</td>\n",
       "    </tr>\n",
       "    <tr>\n",
       "      <th>18</th>\n",
       "      <td>0</td>\n",
       "      <td>400281.136913</td>\n",
       "      <td>53</td>\n",
       "      <td>среднее</td>\n",
       "      <td>1</td>\n",
       "      <td>вдовец / вдова</td>\n",
       "      <td>2</td>\n",
       "      <td>F</td>\n",
       "      <td>пенсионер</td>\n",
       "      <td>0</td>\n",
       "      <td>56823.777243</td>\n",
       "      <td>на покупку подержанного автомобиля</td>\n",
       "    </tr>\n",
       "    <tr>\n",
       "      <th>19</th>\n",
       "      <td>0</td>\n",
       "      <td>-10038.818549</td>\n",
       "      <td>48</td>\n",
       "      <td>СРЕДНЕЕ</td>\n",
       "      <td>1</td>\n",
       "      <td>в разводе</td>\n",
       "      <td>3</td>\n",
       "      <td>F</td>\n",
       "      <td>сотрудник</td>\n",
       "      <td>0</td>\n",
       "      <td>242831.107982</td>\n",
       "      <td>на покупку своего автомобиля</td>\n",
       "    </tr>\n",
       "  </tbody>\n",
       "</table>\n",
       "</div>"
      ],
      "text/plain": [
       "    children  days_employed  dob_years            education  education_id  \\\n",
       "0          1   -8437.673028         42               высшее             0   \n",
       "1          1   -4024.803754         36              среднее             1   \n",
       "2          0   -5623.422610         33              Среднее             1   \n",
       "3          3   -4124.747207         32              среднее             1   \n",
       "4          0  340266.072047         53              среднее             1   \n",
       "5          0    -926.185831         27               высшее             0   \n",
       "6          0   -2879.202052         43               высшее             0   \n",
       "7          0    -152.779569         50              СРЕДНЕЕ             1   \n",
       "8          2   -6929.865299         35               ВЫСШЕЕ             0   \n",
       "9          0   -2188.756445         41              среднее             1   \n",
       "10         2   -4171.483647         36               высшее             0   \n",
       "11         0    -792.701887         40              среднее             1   \n",
       "12         0            NaN         65              среднее             1   \n",
       "13         0   -1846.641941         54  неоконченное высшее             2   \n",
       "14         0   -1844.956182         56               высшее             0   \n",
       "15         1    -972.364419         26              среднее             1   \n",
       "16         0   -1719.934226         35              среднее             1   \n",
       "17         0   -2369.999720         33               высшее             0   \n",
       "18         0  400281.136913         53              среднее             1   \n",
       "19         0  -10038.818549         48              СРЕДНЕЕ             1   \n",
       "\n",
       "       family_status  family_status_id gender income_type  debt  \\\n",
       "0    женат / замужем                 0      F   сотрудник     0   \n",
       "1    женат / замужем                 0      F   сотрудник     0   \n",
       "2    женат / замужем                 0      M   сотрудник     0   \n",
       "3    женат / замужем                 0      M   сотрудник     0   \n",
       "4   гражданский брак                 1      F   пенсионер     0   \n",
       "5   гражданский брак                 1      M   компаньон     0   \n",
       "6    женат / замужем                 0      F   компаньон     0   \n",
       "7    женат / замужем                 0      M   сотрудник     0   \n",
       "8   гражданский брак                 1      F   сотрудник     0   \n",
       "9    женат / замужем                 0      M   сотрудник     0   \n",
       "10   женат / замужем                 0      M   компаньон     0   \n",
       "11   женат / замужем                 0      F   сотрудник     0   \n",
       "12  гражданский брак                 1      M   пенсионер     0   \n",
       "13   женат / замужем                 0      F   сотрудник     0   \n",
       "14  гражданский брак                 1      F   компаньон     1   \n",
       "15   женат / замужем                 0      F   сотрудник     0   \n",
       "16   женат / замужем                 0      F   сотрудник     0   \n",
       "17  гражданский брак                 1      M   сотрудник     0   \n",
       "18    вдовец / вдова                 2      F   пенсионер     0   \n",
       "19         в разводе                 3      F   сотрудник     0   \n",
       "\n",
       "     total_income                                 purpose  \n",
       "0   253875.639453                           покупка жилья  \n",
       "1   112080.014102                 приобретение автомобиля  \n",
       "2   145885.952297                           покупка жилья  \n",
       "3   267628.550329              дополнительное образование  \n",
       "4   158616.077870                         сыграть свадьбу  \n",
       "5   255763.565419                           покупка жилья  \n",
       "6   240525.971920                       операции с жильем  \n",
       "7   135823.934197                             образование  \n",
       "8    95856.832424                   на проведение свадьбы  \n",
       "9   144425.938277                 покупка жилья для семьи  \n",
       "10  113943.491460                    покупка недвижимости  \n",
       "11   77069.234271       покупка коммерческой недвижимости  \n",
       "12            NaN                         сыграть свадьбу  \n",
       "13  130458.228857                 приобретение автомобиля  \n",
       "14  165127.911772              покупка жилой недвижимости  \n",
       "15  116820.904450  строительство собственной недвижимости  \n",
       "16  289202.704229                            недвижимость  \n",
       "17   90410.586745              строительство недвижимости  \n",
       "18   56823.777243      на покупку подержанного автомобиля  \n",
       "19  242831.107982            на покупку своего автомобиля  "
      ]
     },
     "execution_count": 2,
     "metadata": {},
     "output_type": "execute_result"
    }
   ],
   "source": [
    "data.head(20)"
   ]
  },
  {
   "cell_type": "markdown",
   "id": "53fe5ee5",
   "metadata": {
    "deletable": false,
    "editable": false,
    "id": "1c12e233"
   },
   "source": [
    "**3. Выведем основную информацию о датафрейме с помощью метода `info()`.**"
   ]
  },
  {
   "cell_type": "code",
   "execution_count": 3,
   "id": "1169350f",
   "metadata": {
    "deletable": false,
    "id": "2b757bca",
    "outputId": "15376089-8dad-46c9-b520-c05248d43158"
   },
   "outputs": [
    {
     "name": "stdout",
     "output_type": "stream",
     "text": [
      "<class 'pandas.core.frame.DataFrame'>\n",
      "RangeIndex: 21525 entries, 0 to 21524\n",
      "Data columns (total 12 columns):\n",
      " #   Column            Non-Null Count  Dtype  \n",
      "---  ------            --------------  -----  \n",
      " 0   children          21525 non-null  int64  \n",
      " 1   days_employed     19351 non-null  float64\n",
      " 2   dob_years         21525 non-null  int64  \n",
      " 3   education         21525 non-null  object \n",
      " 4   education_id      21525 non-null  int64  \n",
      " 5   family_status     21525 non-null  object \n",
      " 6   family_status_id  21525 non-null  int64  \n",
      " 7   gender            21525 non-null  object \n",
      " 8   income_type       21525 non-null  object \n",
      " 9   debt              21525 non-null  int64  \n",
      " 10  total_income      19351 non-null  float64\n",
      " 11  purpose           21525 non-null  object \n",
      "dtypes: float64(2), int64(5), object(5)\n",
      "memory usage: 2.0+ MB\n"
     ]
    }
   ],
   "source": [
    "data.info()"
   ]
  },
  {
   "cell_type": "markdown",
   "id": "0b96003d",
   "metadata": {
    "deletable": false,
    "editable": false,
    "id": "333ec665"
   },
   "source": [
    "## Предобработка данных"
   ]
  },
  {
   "cell_type": "markdown",
   "id": "20b7fa0d",
   "metadata": {
    "deletable": false,
    "editable": false,
    "id": "02d92d53"
   },
   "source": [
    "### Удаление пропусков"
   ]
  },
  {
   "cell_type": "markdown",
   "id": "ea37c28c",
   "metadata": {
    "deletable": false,
    "editable": false,
    "id": "cd84967c"
   },
   "source": [
    "**4. Выведем количество пропущенных значений для каждого столбца. Для достижения нужного результата будем использовать комбинацию двух методов.**"
   ]
  },
  {
   "cell_type": "code",
   "execution_count": 4,
   "id": "9492cc4e",
   "metadata": {
    "deletable": false,
    "id": "7f9b2309",
    "outputId": "81f4d817-781c-465c-ed15-91ce4446810d"
   },
   "outputs": [
    {
     "data": {
      "text/plain": [
       "children               0\n",
       "days_employed       2174\n",
       "dob_years              0\n",
       "education              0\n",
       "education_id           0\n",
       "family_status          0\n",
       "family_status_id       0\n",
       "gender                 0\n",
       "income_type            0\n",
       "debt                   0\n",
       "total_income        2174\n",
       "purpose                0\n",
       "dtype: int64"
      ]
     },
     "execution_count": 4,
     "metadata": {},
     "output_type": "execute_result"
    }
   ],
   "source": [
    "data.isna().sum()"
   ]
  },
  {
   "cell_type": "markdown",
   "id": "0746b347",
   "metadata": {
    "deletable": false,
    "editable": false,
    "id": "db86e27b"
   },
   "source": [
    "**5. В двух столбцах есть пропущенные значения. Один из них — `days_employed`. Пропуски в этом столбце обработаем на следующем этапе. Другой столбец с пропущенными значениями — `total_income` — хранит данные о доходах. На сумму дохода сильнее всего влияет тип занятости, поэтому заполнять пропуски в этом столбце нужно медианным значением по каждому типу из столбца `income_type`.**\n",
    "\n",
    "_Например, у человека с типом занятости `сотрудник` пропуск в столбце `total_income` должен быть заполнен медианным доходом среди всех записей с тем же типом._"
   ]
  },
  {
   "cell_type": "code",
   "execution_count": 5,
   "id": "2c835899",
   "metadata": {
    "deletable": false,
    "id": "42006a93"
   },
   "outputs": [],
   "source": [
    "# Для получения уникальных значений в столбце 'income_type' используем метод \"unique()\"\n",
    "for t in data['income_type'].unique():\n",
    "    # 1. Для доступа к конкретным строкам используем метод \".loc\"\n",
    "    # 2. Так же используя метод \".loc\" получаем доступ к значениям столбца 'income_type' и используя метод \"median()\" рассчитываем среднее значение \n",
    "    data.loc[(data['income_type'] == t) & (data['total_income'].isna()), 'total_income'] = \\\n",
    "    data.loc[(data['income_type'] == t), 'total_income'].median()"
   ]
  },
  {
   "cell_type": "markdown",
   "id": "020b8283",
   "metadata": {
    "deletable": false,
    "editable": false,
    "id": "89da5ece"
   },
   "source": [
    "### Обработка аномальных значений"
   ]
  },
  {
   "cell_type": "markdown",
   "id": "2e8b4c63",
   "metadata": {
    "deletable": false,
    "editable": false,
    "id": "57964554"
   },
   "source": [
    "**6. В данных могут встречаться артефакты (аномалии) — значения, которые не отражают действительность и появились по какой-то ошибке. Таким артефактом будет отрицательное количество дней трудового стажа в столбце `days_employed`. Для реальных данных это нормально. Обработаем значения в этом столбце: заменим все отрицательные значения положительными с помощью метода `abs()`.**"
   ]
  },
  {
   "cell_type": "code",
   "execution_count": 6,
   "id": "66d04da9",
   "metadata": {
    "deletable": false,
    "id": "f6f055bf"
   },
   "outputs": [],
   "source": [
    "data['days_employed'] = data['days_employed'].abs()"
   ]
  },
  {
   "cell_type": "markdown",
   "id": "9560e685",
   "metadata": {
    "deletable": false,
    "editable": false,
    "id": "6107dd2f"
   },
   "source": [
    "**7. Для каждого типа занятости выведем медианное значение трудового стажа `days_employed` в днях.**"
   ]
  },
  {
   "cell_type": "code",
   "execution_count": 7,
   "id": "beffa5e6",
   "metadata": {
    "deletable": false,
    "id": "85a5faf6",
    "outputId": "801ef80e-522b-4668-f34e-565af7432bcf"
   },
   "outputs": [
    {
     "data": {
      "text/plain": [
       "income_type\n",
       "безработный        366413.652744\n",
       "в декрете            3296.759962\n",
       "госслужащий          2689.368353\n",
       "компаньон            1547.382223\n",
       "пенсионер          365213.306266\n",
       "предприниматель       520.848083\n",
       "сотрудник            1574.202821\n",
       "студент               578.751554\n",
       "Name: days_employed, dtype: float64"
      ]
     },
     "execution_count": 7,
     "metadata": {},
     "output_type": "execute_result"
    }
   ],
   "source": [
    "# Гля группировки данных используем \"groupby\" и для получения медианного значения применяем метод \"median\"\n",
    "data.groupby('income_type')['days_employed'].agg('median')"
   ]
  },
  {
   "cell_type": "markdown",
   "id": "f309d1a2",
   "metadata": {
    "deletable": false,
    "editable": false,
    "id": "38d1a030"
   },
   "source": [
    "У двух типов (безработные и пенсионеры) получатся аномально большие значения. Исправить такие значения сложно, поэтому в рамках этой задачи оставим их как есть. Тем более этот столбец не понадобится для дальнейшего исследования."
   ]
  },
  {
   "cell_type": "markdown",
   "id": "458be21f",
   "metadata": {
    "deletable": false,
    "editable": false,
    "id": "d8a9f147"
   },
   "source": [
    "**8. Выведем перечень уникальных значений столбца `children`.**"
   ]
  },
  {
   "cell_type": "code",
   "execution_count": 8,
   "id": "bd9f2eb6",
   "metadata": {
    "deletable": false,
    "id": "ef5056eb",
    "outputId": "6975b15c-7f95-4697-d16d-a0c79b657b03"
   },
   "outputs": [
    {
     "data": {
      "text/plain": [
       "array([ 1,  0,  3,  2, -1,  4, 20,  5])"
      ]
     },
     "execution_count": 8,
     "metadata": {},
     "output_type": "execute_result"
    }
   ],
   "source": [
    "# Применяем метод \"unique()\" для получения уникальных значений данных по столбцу\n",
    "data['children'].unique()"
   ]
  },
  {
   "cell_type": "markdown",
   "id": "04abaef0",
   "metadata": {
    "deletable": false,
    "editable": false,
    "id": "40b9ebf2"
   },
   "source": [
    "**9. В столбце `children` есть два аномальных значения. Удалим строки, в которых встречаются такие аномальные значения из датафрейма `data`.**"
   ]
  },
  {
   "cell_type": "code",
   "execution_count": 9,
   "id": "ae9f39ca",
   "metadata": {
    "deletable": false,
    "id": "3ff9801d"
   },
   "outputs": [],
   "source": [
    "data = data[(data['children'] != -1) & (data['children'] != 20)]"
   ]
  },
  {
   "cell_type": "markdown",
   "id": "b1f4016c",
   "metadata": {
    "deletable": false,
    "editable": false,
    "id": "bbc4d0ce"
   },
   "source": [
    "**10. Ещё раз выведем перечень уникальных значений столбца `children`, чтобы убедиться, что артефакты удалены.**"
   ]
  },
  {
   "cell_type": "code",
   "execution_count": 10,
   "id": "6c671674",
   "metadata": {
    "deletable": false,
    "id": "ad4fa8b7",
    "outputId": "b2097101-d49d-44d9-901b-32a65c9463d1"
   },
   "outputs": [
    {
     "data": {
      "text/plain": [
       "array([1, 0, 3, 2, 4, 5])"
      ]
     },
     "execution_count": 10,
     "metadata": {},
     "output_type": "execute_result"
    }
   ],
   "source": [
    "data['children'].unique()"
   ]
  },
  {
   "cell_type": "markdown",
   "id": "b1d43f37",
   "metadata": {
    "deletable": false,
    "editable": false,
    "id": "75440b63"
   },
   "source": [
    "### Удаление пропусков (продолжение)"
   ]
  },
  {
   "cell_type": "markdown",
   "id": "0600dfbe",
   "metadata": {
    "deletable": false,
    "editable": false,
    "id": "f4ea573f"
   },
   "source": [
    "**11. Заполняем пропуски в столбце `days_employed` медианными значениями, для каждого типа занятости `income_type`.**"
   ]
  },
  {
   "cell_type": "code",
   "execution_count": 11,
   "id": "33d7dde8",
   "metadata": {
    "deletable": false,
    "id": "af6b1a7e"
   },
   "outputs": [],
   "source": [
    "for t in data['income_type'].unique():\n",
    "    data.loc[(data['income_type'] == t) & (data['days_employed'].isna()), 'days_employed'] = \\\n",
    "    data.loc[(data['income_type'] == t), 'days_employed'].median()"
   ]
  },
  {
   "cell_type": "markdown",
   "id": "99285c33",
   "metadata": {
    "deletable": false,
    "editable": false,
    "id": "2753f40d"
   },
   "source": [
    "**12. Убедимся, что все пропуски заполнены. Проверим всё ещё раз и выведем количество пропущенных значений для каждого столбца с помощью двух методов.**"
   ]
  },
  {
   "cell_type": "code",
   "execution_count": 12,
   "id": "e0a58f21",
   "metadata": {
    "deletable": false,
    "id": "55f78bc2",
    "outputId": "8da1e4e1-358e-4e87-98c9-f261bce0a7b2"
   },
   "outputs": [
    {
     "data": {
      "text/plain": [
       "children            0\n",
       "days_employed       0\n",
       "dob_years           0\n",
       "education           0\n",
       "education_id        0\n",
       "family_status       0\n",
       "family_status_id    0\n",
       "gender              0\n",
       "income_type         0\n",
       "debt                0\n",
       "total_income        0\n",
       "purpose             0\n",
       "dtype: int64"
      ]
     },
     "execution_count": 12,
     "metadata": {},
     "output_type": "execute_result"
    }
   ],
   "source": [
    "data.isna().sum()"
   ]
  },
  {
   "cell_type": "markdown",
   "id": "0052d9be",
   "metadata": {
    "deletable": false,
    "editable": false,
    "id": "ddc81e43"
   },
   "source": [
    "### Изменение типов данных"
   ]
  },
  {
   "cell_type": "markdown",
   "id": "b1df4169",
   "metadata": {
    "deletable": false,
    "editable": false,
    "id": "42d19d24"
   },
   "source": [
    "**13. Заменим вещественный тип данных в столбце `total_income` на целочисленный с помощью метода `astype()`.**"
   ]
  },
  {
   "cell_type": "code",
   "execution_count": 13,
   "id": "1341b136",
   "metadata": {
    "deletable": false,
    "id": "920b65ad"
   },
   "outputs": [],
   "source": [
    "data['total_income'] = data['total_income'].astype(int)"
   ]
  },
  {
   "cell_type": "markdown",
   "id": "e005dfe4",
   "metadata": {
    "deletable": false,
    "editable": false,
    "id": "80c420ba"
   },
   "source": [
    "### Обработка дубликатов"
   ]
  },
  {
   "cell_type": "markdown",
   "id": "e6ab86a1",
   "metadata": {
    "deletable": false,
    "editable": false
   },
   "source": [
    "**14. Обработаем неявные дубликаты в столбце `education`. В этом столбце есть одни и те же значения, но записанные по-разному: с использованием заглавных и строчных букв. Приведём их к нижнему регистру и проверем остальные столбцы.**"
   ]
  },
  {
   "cell_type": "code",
   "execution_count": 14,
   "id": "cf6972e3",
   "metadata": {
    "deletable": false
   },
   "outputs": [],
   "source": [
    "data['education'] = data['education'].str.lower()"
   ]
  },
  {
   "cell_type": "markdown",
   "id": "c5b1581f",
   "metadata": {
    "deletable": false,
    "editable": false,
    "id": "dc587695"
   },
   "source": [
    "**15. Выведем на экран количество строк-дубликатов в данных. Если такие строки присутствуют, удалим их.**"
   ]
  },
  {
   "cell_type": "code",
   "execution_count": 15,
   "id": "f9a5da8d",
   "metadata": {
    "deletable": false,
    "id": "3ee445e4",
    "outputId": "9684deba-1934-42d1-99e1-cda61740f822"
   },
   "outputs": [
    {
     "data": {
      "text/plain": [
       "np.int64(71)"
      ]
     },
     "execution_count": 15,
     "metadata": {},
     "output_type": "execute_result"
    }
   ],
   "source": [
    "data.duplicated().sum()"
   ]
  },
  {
   "cell_type": "code",
   "execution_count": 16,
   "id": "49b93009",
   "metadata": {
    "deletable": false,
    "id": "8575fe05"
   },
   "outputs": [],
   "source": [
    "data = data.drop_duplicates()"
   ]
  },
  {
   "cell_type": "markdown",
   "id": "1d9dbd9f",
   "metadata": {
    "deletable": false,
    "editable": false,
    "id": "9904cf55"
   },
   "source": [
    "### Категоризация данных"
   ]
  },
  {
   "cell_type": "markdown",
   "id": "f4ad41a1",
   "metadata": {
    "deletable": false,
    "editable": false,
    "id": "72fcc8a2"
   },
   "source": [
    "**16. На основании диапазонов, приведённых ниже, создадим в датафрейме `data` столбец `total_income_category` с категориями:**\n",
    "\n",
    "- 0–30000 — `'E'`;\n",
    "- 30001–50000 — `'D'`;\n",
    "- 50001–200000 — `'C'`;\n",
    "- 200001–1000000 — `'B'`;\n",
    "- 1000001 и выше — `'A'`.\n",
    "\n",
    "\n",
    "**_Например, кредитополучателю с доходом 25000 назначим категорию `'E'`, а клиенту, получающему 235000, — `'B'`. Для реализации подобного подхода, создадим собственную функцию с именем `categorize_income()` и применим метод `apply()` для её вызова._**"
   ]
  },
  {
   "cell_type": "code",
   "execution_count": 17,
   "id": "c4fef040",
   "metadata": {
    "deletable": false,
    "id": "e1771346"
   },
   "outputs": [],
   "source": [
    "# Создаём функцию, для реализации указанного выше алгоритма\n",
    "def categorize_income(income):\n",
    "    try:\n",
    "        if 0 <= income <= 30000:\n",
    "            return 'E'\n",
    "        elif 30001 <= income <= 50000:\n",
    "            return 'D'\n",
    "        elif 50001 <= income <= 200000:\n",
    "            return 'C'\n",
    "        elif 200001 <= income <= 1000000:\n",
    "            return 'B'\n",
    "        elif income >= 1000001:\n",
    "            return 'A'\n",
    "    except:\n",
    "        pass"
   ]
  },
  {
   "cell_type": "code",
   "execution_count": 18,
   "id": "83eec5c3",
   "metadata": {
    "deletable": false,
    "id": "d5f3586d"
   },
   "outputs": [],
   "source": [
    "# Вызываем собственную функцию для получения новых данных. Создаём новый столбец и наполняем его данными из функции.\n",
    "data['total_income_category'] = data['total_income'].apply(categorize_income)"
   ]
  },
  {
   "cell_type": "markdown",
   "id": "d9ecca92",
   "metadata": {
    "deletable": false,
    "editable": false,
    "id": "dde49b5c"
   },
   "source": [
    "**17. Выведем на экран перечень уникальных целей взятия кредита из столбца `purpose`.**"
   ]
  },
  {
   "cell_type": "code",
   "execution_count": 19,
   "id": "73353b7f",
   "metadata": {
    "deletable": false,
    "id": "f67ce9b3",
    "outputId": "673c12d9-7d7e-4ae0-9812-c622c89dd244"
   },
   "outputs": [
    {
     "data": {
      "text/plain": [
       "array(['покупка жилья', 'приобретение автомобиля',\n",
       "       'дополнительное образование', 'сыграть свадьбу',\n",
       "       'операции с жильем', 'образование', 'на проведение свадьбы',\n",
       "       'покупка жилья для семьи', 'покупка недвижимости',\n",
       "       'покупка коммерческой недвижимости', 'покупка жилой недвижимости',\n",
       "       'строительство собственной недвижимости', 'недвижимость',\n",
       "       'строительство недвижимости', 'на покупку подержанного автомобиля',\n",
       "       'на покупку своего автомобиля',\n",
       "       'операции с коммерческой недвижимостью',\n",
       "       'строительство жилой недвижимости', 'жилье',\n",
       "       'операции со своей недвижимостью', 'автомобили',\n",
       "       'заняться образованием', 'сделка с подержанным автомобилем',\n",
       "       'получение образования', 'автомобиль', 'свадьба',\n",
       "       'получение дополнительного образования', 'покупка своего жилья',\n",
       "       'операции с недвижимостью', 'получение высшего образования',\n",
       "       'свой автомобиль', 'сделка с автомобилем',\n",
       "       'профильное образование', 'высшее образование',\n",
       "       'покупка жилья для сдачи', 'на покупку автомобиля', 'ремонт жилью',\n",
       "       'заняться высшим образованием'], dtype=object)"
      ]
     },
     "execution_count": 19,
     "metadata": {},
     "output_type": "execute_result"
    }
   ],
   "source": [
    "data['purpose'].unique()"
   ]
  },
  {
   "cell_type": "markdown",
   "id": "4176a9f8",
   "metadata": {
    "deletable": false,
    "editable": false,
    "id": "85d0aef0"
   },
   "source": [
    "**18. Необходимо создать функцию, которая на основании данных из столбца `purpose` сформирует новый столбец `purpose_category`, в который войдут следующие категории:**\n",
    "\n",
    "- `'операции с автомобилем'`,\n",
    "- `'операции с недвижимостью'`,\n",
    "- `'проведение свадьбы'`,\n",
    "- `'получение образования'`.\n",
    "\n",
    "**Например, если в столбце `purpose` находится подстрока `'на покупку автомобиля'`, то в столбце `purpose_category` должна появиться строка `'операции с автомобилем'`.**\n",
    "\n",
    "**Для реализации указанного подхода, создадим собственную функцию с именем `categorize_purpose()` и применим метод `apply()` для её вызова. Изучим данные в столбце `purpose` и определим, какие подстроки помогут нам правильно определить категорию.**"
   ]
  },
  {
   "cell_type": "code",
   "execution_count": 20,
   "id": "a34b1118",
   "metadata": {
    "deletable": false,
    "id": "e149fab4"
   },
   "outputs": [],
   "source": [
    "# Создаём функцию, для реализации указанного выше алгоритма\n",
    "def categorize_purpose(row):\n",
    "    try:\n",
    "        if 'автом' in row:\n",
    "            return 'операции с автомобилем'\n",
    "        elif 'жил' in row or 'недвиж' in row:\n",
    "            return 'операции с недвижимостью'\n",
    "        elif 'свад' in row:\n",
    "            return 'проведение свадьбы'\n",
    "        elif 'образов' in row:\n",
    "            return 'получение образования'\n",
    "    except:\n",
    "        return 'нет категории'"
   ]
  },
  {
   "cell_type": "code",
   "execution_count": 21,
   "id": "b8c312f0",
   "metadata": {
    "deletable": false,
    "id": "bf36e69b"
   },
   "outputs": [],
   "source": [
    "# Вызываем собственную функцию для получения новых данных. Создаём новый столбец и наполняем его данными из функции.\n",
    "data['purpose_category'] = data['purpose'].apply(categorize_purpose)"
   ]
  },
  {
   "cell_type": "markdown",
   "id": "1e20d4f5",
   "metadata": {
    "deletable": false,
    "editable": false,
    "id": "09b242bf"
   },
   "source": [
    "### Шаг 3. Исследуем данные"
   ]
  },
  {
   "cell_type": "markdown",
   "id": "afbd3f1d",
   "metadata": {
    "deletable": false,
    "editable": false,
    "id": "c5d66278"
   },
   "source": [
    "#### 3.1 Есть ли зависимость между количеством детей и возвратом кредита в срок?"
   ]
  },
  {
   "cell_type": "code",
   "execution_count": 22,
   "id": "0ce15f71",
   "metadata": {
    "deletable": false,
    "id": "2cacfc4a"
   },
   "outputs": [
    {
     "data": {
      "text/html": [
       "<div>\n",
       "<style scoped>\n",
       "    .dataframe tbody tr th:only-of-type {\n",
       "        vertical-align: middle;\n",
       "    }\n",
       "\n",
       "    .dataframe tbody tr th {\n",
       "        vertical-align: top;\n",
       "    }\n",
       "\n",
       "    .dataframe thead th {\n",
       "        text-align: right;\n",
       "    }\n",
       "</style>\n",
       "<table border=\"1\" class=\"dataframe\">\n",
       "  <thead>\n",
       "    <tr style=\"text-align: right;\">\n",
       "      <th></th>\n",
       "      <th>debt</th>\n",
       "      <th>debt_sum</th>\n",
       "      <th>percent</th>\n",
       "    </tr>\n",
       "    <tr>\n",
       "      <th>children</th>\n",
       "      <th></th>\n",
       "      <th></th>\n",
       "      <th></th>\n",
       "    </tr>\n",
       "  </thead>\n",
       "  <tbody>\n",
       "    <tr>\n",
       "      <th>0</th>\n",
       "      <td>14091</td>\n",
       "      <td>1063</td>\n",
       "      <td>7.543822</td>\n",
       "    </tr>\n",
       "    <tr>\n",
       "      <th>1</th>\n",
       "      <td>4808</td>\n",
       "      <td>444</td>\n",
       "      <td>9.234609</td>\n",
       "    </tr>\n",
       "    <tr>\n",
       "      <th>2</th>\n",
       "      <td>2052</td>\n",
       "      <td>194</td>\n",
       "      <td>9.454191</td>\n",
       "    </tr>\n",
       "    <tr>\n",
       "      <th>3</th>\n",
       "      <td>330</td>\n",
       "      <td>27</td>\n",
       "      <td>8.181818</td>\n",
       "    </tr>\n",
       "    <tr>\n",
       "      <th>4</th>\n",
       "      <td>41</td>\n",
       "      <td>4</td>\n",
       "      <td>9.756098</td>\n",
       "    </tr>\n",
       "    <tr>\n",
       "      <th>5</th>\n",
       "      <td>9</td>\n",
       "      <td>0</td>\n",
       "      <td>0.000000</td>\n",
       "    </tr>\n",
       "  </tbody>\n",
       "</table>\n",
       "</div>"
      ],
      "text/plain": [
       "           debt  debt_sum   percent\n",
       "children                           \n",
       "0         14091      1063  7.543822\n",
       "1          4808       444  9.234609\n",
       "2          2052       194  9.454191\n",
       "3           330        27  8.181818\n",
       "4            41         4  9.756098\n",
       "5             9         0  0.000000"
      ]
     },
     "execution_count": 22,
     "metadata": {},
     "output_type": "execute_result"
    }
   ],
   "source": [
    "# Производим группировку df по столбцу \"debt\" и считаем общее количество операций\n",
    "grouped = data.groupby('children').count()[['debt']]\n",
    "\n",
    "# Производим группировку df по столбцу \"debt\", подсчитывая количество операций имеющих задолженность  и добавляем данные в df\n",
    "grouped['debt_sum'] = data.groupby('children').sum()[['debt']]\n",
    "\n",
    "# Производим расчёт доли операций имеющих задолженность\n",
    "grouped['percent'] = grouped['debt_sum'] / grouped['debt'] * 100\n",
    "grouped"
   ]
  },
  {
   "cell_type": "code",
   "execution_count": 23,
   "id": "fa515050",
   "metadata": {},
   "outputs": [
    {
     "data": {
      "text/html": [
       "<div>\n",
       "<style scoped>\n",
       "    .dataframe tbody tr th:only-of-type {\n",
       "        vertical-align: middle;\n",
       "    }\n",
       "\n",
       "    .dataframe tbody tr th {\n",
       "        vertical-align: top;\n",
       "    }\n",
       "\n",
       "    .dataframe thead th {\n",
       "        text-align: right;\n",
       "    }\n",
       "</style>\n",
       "<table border=\"1\" class=\"dataframe\">\n",
       "  <thead>\n",
       "    <tr style=\"text-align: right;\">\n",
       "      <th></th>\n",
       "      <th>debt</th>\n",
       "      <th>debt_sum</th>\n",
       "      <th>percent</th>\n",
       "    </tr>\n",
       "    <tr>\n",
       "      <th>children</th>\n",
       "      <th></th>\n",
       "      <th></th>\n",
       "      <th></th>\n",
       "    </tr>\n",
       "  </thead>\n",
       "  <tbody>\n",
       "    <tr>\n",
       "      <th>4</th>\n",
       "      <td>41</td>\n",
       "      <td>4</td>\n",
       "      <td>9.756098</td>\n",
       "    </tr>\n",
       "    <tr>\n",
       "      <th>2</th>\n",
       "      <td>2052</td>\n",
       "      <td>194</td>\n",
       "      <td>9.454191</td>\n",
       "    </tr>\n",
       "    <tr>\n",
       "      <th>1</th>\n",
       "      <td>4808</td>\n",
       "      <td>444</td>\n",
       "      <td>9.234609</td>\n",
       "    </tr>\n",
       "    <tr>\n",
       "      <th>3</th>\n",
       "      <td>330</td>\n",
       "      <td>27</td>\n",
       "      <td>8.181818</td>\n",
       "    </tr>\n",
       "    <tr>\n",
       "      <th>0</th>\n",
       "      <td>14091</td>\n",
       "      <td>1063</td>\n",
       "      <td>7.543822</td>\n",
       "    </tr>\n",
       "    <tr>\n",
       "      <th>5</th>\n",
       "      <td>9</td>\n",
       "      <td>0</td>\n",
       "      <td>0.000000</td>\n",
       "    </tr>\n",
       "  </tbody>\n",
       "</table>\n",
       "</div>"
      ],
      "text/plain": [
       "           debt  debt_sum   percent\n",
       "children                           \n",
       "4            41         4  9.756098\n",
       "2          2052       194  9.454191\n",
       "1          4808       444  9.234609\n",
       "3           330        27  8.181818\n",
       "0         14091      1063  7.543822\n",
       "5             9         0  0.000000"
      ]
     },
     "execution_count": 23,
     "metadata": {},
     "output_type": "execute_result"
    }
   ],
   "source": [
    "# Производим сортировку (по убыванию) по столбцу 'percen'\n",
    "grouped.sort_values('percent', ascending=False)"
   ]
  },
  {
   "cell_type": "code",
   "execution_count": 24,
   "id": "26e094c5",
   "metadata": {},
   "outputs": [
    {
     "data": {
      "text/html": [
       "<style type=\"text/css\">\n",
       "</style>\n",
       "<table id=\"T_22e8f\">\n",
       "  <thead>\n",
       "    <tr>\n",
       "      <th class=\"blank level0\" >&nbsp;</th>\n",
       "      <th id=\"T_22e8f_level0_col0\" class=\"col_heading level0 col0\" >count</th>\n",
       "      <th id=\"T_22e8f_level0_col1\" class=\"col_heading level0 col1\" >sum</th>\n",
       "      <th id=\"T_22e8f_level0_col2\" class=\"col_heading level0 col2\" >mean</th>\n",
       "    </tr>\n",
       "    <tr>\n",
       "      <th class=\"blank level1\" >&nbsp;</th>\n",
       "      <th id=\"T_22e8f_level1_col0\" class=\"col_heading level1 col0\" >debt</th>\n",
       "      <th id=\"T_22e8f_level1_col1\" class=\"col_heading level1 col1\" >debt</th>\n",
       "      <th id=\"T_22e8f_level1_col2\" class=\"col_heading level1 col2\" >debt</th>\n",
       "    </tr>\n",
       "    <tr>\n",
       "      <th class=\"index_name level0\" >children</th>\n",
       "      <th class=\"blank col0\" >&nbsp;</th>\n",
       "      <th class=\"blank col1\" >&nbsp;</th>\n",
       "      <th class=\"blank col2\" >&nbsp;</th>\n",
       "    </tr>\n",
       "  </thead>\n",
       "  <tbody>\n",
       "    <tr>\n",
       "      <th id=\"T_22e8f_level0_row0\" class=\"row_heading level0 row0\" >4</th>\n",
       "      <td id=\"T_22e8f_row0_col0\" class=\"data row0 col0\" >41</td>\n",
       "      <td id=\"T_22e8f_row0_col1\" class=\"data row0 col1\" >4</td>\n",
       "      <td id=\"T_22e8f_row0_col2\" class=\"data row0 col2\" >9.76%</td>\n",
       "    </tr>\n",
       "    <tr>\n",
       "      <th id=\"T_22e8f_level0_row1\" class=\"row_heading level0 row1\" >2</th>\n",
       "      <td id=\"T_22e8f_row1_col0\" class=\"data row1 col0\" >2052</td>\n",
       "      <td id=\"T_22e8f_row1_col1\" class=\"data row1 col1\" >194</td>\n",
       "      <td id=\"T_22e8f_row1_col2\" class=\"data row1 col2\" >9.45%</td>\n",
       "    </tr>\n",
       "    <tr>\n",
       "      <th id=\"T_22e8f_level0_row2\" class=\"row_heading level0 row2\" >1</th>\n",
       "      <td id=\"T_22e8f_row2_col0\" class=\"data row2 col0\" >4808</td>\n",
       "      <td id=\"T_22e8f_row2_col1\" class=\"data row2 col1\" >444</td>\n",
       "      <td id=\"T_22e8f_row2_col2\" class=\"data row2 col2\" >9.23%</td>\n",
       "    </tr>\n",
       "    <tr>\n",
       "      <th id=\"T_22e8f_level0_row3\" class=\"row_heading level0 row3\" >3</th>\n",
       "      <td id=\"T_22e8f_row3_col0\" class=\"data row3 col0\" >330</td>\n",
       "      <td id=\"T_22e8f_row3_col1\" class=\"data row3 col1\" >27</td>\n",
       "      <td id=\"T_22e8f_row3_col2\" class=\"data row3 col2\" >8.18%</td>\n",
       "    </tr>\n",
       "    <tr>\n",
       "      <th id=\"T_22e8f_level0_row4\" class=\"row_heading level0 row4\" >0</th>\n",
       "      <td id=\"T_22e8f_row4_col0\" class=\"data row4 col0\" >14091</td>\n",
       "      <td id=\"T_22e8f_row4_col1\" class=\"data row4 col1\" >1063</td>\n",
       "      <td id=\"T_22e8f_row4_col2\" class=\"data row4 col2\" >7.54%</td>\n",
       "    </tr>\n",
       "    <tr>\n",
       "      <th id=\"T_22e8f_level0_row5\" class=\"row_heading level0 row5\" >5</th>\n",
       "      <td id=\"T_22e8f_row5_col0\" class=\"data row5 col0\" >9</td>\n",
       "      <td id=\"T_22e8f_row5_col1\" class=\"data row5 col1\" >0</td>\n",
       "      <td id=\"T_22e8f_row5_col2\" class=\"data row5 col2\" >0.00%</td>\n",
       "    </tr>\n",
       "  </tbody>\n",
       "</table>\n"
      ],
      "text/plain": [
       "<pandas.io.formats.style.Styler at 0x1dc1f254230>"
      ]
     },
     "execution_count": 24,
     "metadata": {},
     "output_type": "execute_result"
    }
   ],
   "source": [
    "# Используя метод создания сводной таблицы \"pivot_table\", получим аналогичное решение по выводу сводной информации, выше приведённому коду\n",
    "data.pivot_table(index = 'children', values = 'debt', aggfunc = ['count', 'sum', 'mean'])\\\n",
    "    .sort_values(by = ('mean', 'debt'), ascending = False)\\\n",
    "    .style.format({('mean', 'debt') : '{:.2%}'})"
   ]
  },
  {
   "cell_type": "markdown",
   "id": "56221ec9",
   "metadata": {
    "deletable": false,
    "id": "3a6b99ec"
   },
   "source": [
    "**Вывод:** \n",
    "\n",
    "1. Заёмщики с 4-мя детьми, являются самыми `не надежними` по платёжной дисциплине (9,8%).\n",
    "2. Самыми `надёжными` по возврату кредитов являются заёмщики не имеющие детей (7,5%).\n",
    "\n",
    "- Обращает на себя тот факт что у заёмщиков которые имеют 5 детей, просрочка отсутсвтует. Однако, с учётом доли просрочек заёмщиков с 4-мя детьми, будет ошибочным полагать, что у заёмщиков с 5-ю детьми доля просрочек будет сильно отличаться. Предполагаем, что такие показатели у заёмщиков с 5 детьми, обусловлено недостаточным количеством данных о выданных кредитов."
   ]
  },
  {
   "cell_type": "markdown",
   "id": "0ae05ee4",
   "metadata": {
    "deletable": false,
    "editable": false,
    "id": "97be82ca"
   },
   "source": [
    "#### 3.2 Есть ли зависимость между семейным положением и возвратом кредита в срок?"
   ]
  },
  {
   "cell_type": "code",
   "execution_count": 25,
   "id": "1f85ffb7",
   "metadata": {
    "deletable": false,
    "id": "dc3f7ee8"
   },
   "outputs": [
    {
     "data": {
      "text/plain": [
       "array(['женат / замужем', 'гражданский брак', 'вдовец / вдова',\n",
       "       'в разводе', 'Не женат / не замужем'], dtype=object)"
      ]
     },
     "execution_count": 25,
     "metadata": {},
     "output_type": "execute_result"
    }
   ],
   "source": [
    "# Выводим уникальные значения стутусов в df\n",
    "data['family_status'].unique()"
   ]
  },
  {
   "cell_type": "code",
   "execution_count": 26,
   "id": "ce253f83",
   "metadata": {},
   "outputs": [],
   "source": [
    "def law_family_status(row):\n",
    "    '''\n",
    "    Функция обрабатываеи входящие данные и производит замену на стандартизированные формулировки\n",
    "    '''\n",
    "    try:\n",
    "        status = row['family_status']\n",
    "        if 'не ' in status or 'развод' in status:\n",
    "            return 'В браке не состоит'\n",
    "        if 'вдов' in status:\n",
    "            return 'Вдовцы'\n",
    "        if 'граждан' in status:\n",
    "            return 'Гражданский брак'\n",
    "        return 'Состоит в браке'\n",
    "    except:\n",
    "        return 'Нет категории'"
   ]
  },
  {
   "cell_type": "code",
   "execution_count": 27,
   "id": "95747070",
   "metadata": {},
   "outputs": [],
   "source": [
    "# Вызываем функцию и передаём ей весь df построчно\n",
    "data['family_status'] = data.apply(law_family_status, axis=1)"
   ]
  },
  {
   "cell_type": "code",
   "execution_count": 28,
   "id": "27086400",
   "metadata": {},
   "outputs": [
    {
     "data": {
      "text/plain": [
       "array(['Состоит в браке', 'Гражданский брак', 'Вдовцы',\n",
       "       'В браке не состоит'], dtype=object)"
      ]
     },
     "execution_count": 28,
     "metadata": {},
     "output_type": "execute_result"
    }
   ],
   "source": [
    "data['family_status'].unique()"
   ]
  },
  {
   "cell_type": "code",
   "execution_count": 29,
   "id": "4b19bfa3",
   "metadata": {},
   "outputs": [],
   "source": [
    "# Производим группировку df по столбцу \"debt\" и считаем общее количество операций\n",
    "law_family = data.groupby('family_status').count()[['debt']]\n",
    "\n",
    "# Производим группировку df по столбцу \"debt\", подсчитывая количество операций имеющих задолженность  и добавляем данные в df\n",
    "law_family['debt_sum'] = data.groupby('family_status').sum()[['debt']]\n",
    "\n",
    "# Производим расчёт доли операций имеющих задолженность\n",
    "law_family['percent'] = law_family['debt_sum'] / law_family['debt'] * 100"
   ]
  },
  {
   "cell_type": "code",
   "execution_count": 30,
   "id": "35d5bb63",
   "metadata": {},
   "outputs": [
    {
     "data": {
      "text/html": [
       "<div>\n",
       "<style scoped>\n",
       "    .dataframe tbody tr th:only-of-type {\n",
       "        vertical-align: middle;\n",
       "    }\n",
       "\n",
       "    .dataframe tbody tr th {\n",
       "        vertical-align: top;\n",
       "    }\n",
       "\n",
       "    .dataframe thead th {\n",
       "        text-align: right;\n",
       "    }\n",
       "</style>\n",
       "<table border=\"1\" class=\"dataframe\">\n",
       "  <thead>\n",
       "    <tr style=\"text-align: right;\">\n",
       "      <th></th>\n",
       "      <th>debt</th>\n",
       "      <th>debt_sum</th>\n",
       "      <th>percent</th>\n",
       "    </tr>\n",
       "    <tr>\n",
       "      <th>family_status</th>\n",
       "      <th></th>\n",
       "      <th></th>\n",
       "      <th></th>\n",
       "    </tr>\n",
       "  </thead>\n",
       "  <tbody>\n",
       "    <tr>\n",
       "      <th>Гражданский брак</th>\n",
       "      <td>4134</td>\n",
       "      <td>385</td>\n",
       "      <td>9.313014</td>\n",
       "    </tr>\n",
       "    <tr>\n",
       "      <th>В браке не состоит</th>\n",
       "      <td>3985</td>\n",
       "      <td>357</td>\n",
       "      <td>8.958595</td>\n",
       "    </tr>\n",
       "    <tr>\n",
       "      <th>Состоит в браке</th>\n",
       "      <td>12261</td>\n",
       "      <td>927</td>\n",
       "      <td>7.560558</td>\n",
       "    </tr>\n",
       "    <tr>\n",
       "      <th>Вдовцы</th>\n",
       "      <td>951</td>\n",
       "      <td>63</td>\n",
       "      <td>6.624606</td>\n",
       "    </tr>\n",
       "  </tbody>\n",
       "</table>\n",
       "</div>"
      ],
      "text/plain": [
       "                     debt  debt_sum   percent\n",
       "family_status                                \n",
       "Гражданский брак     4134       385  9.313014\n",
       "В браке не состоит   3985       357  8.958595\n",
       "Состоит в браке     12261       927  7.560558\n",
       "Вдовцы                951        63  6.624606"
      ]
     },
     "execution_count": 30,
     "metadata": {},
     "output_type": "execute_result"
    }
   ],
   "source": [
    "# Производим сортировку (по убыванию) по столбцу 'percen'\n",
    "law_family.sort_values('percent', ascending=False)"
   ]
  },
  {
   "cell_type": "markdown",
   "id": "b79added",
   "metadata": {
    "deletable": false,
    "id": "1cef7837"
   },
   "source": [
    "**Вывод:** \n",
    "1. Овдовевшие заёмщики, чаще остальных категорий (6,6%), своевременно погашают кредиты.\n",
    "2. Заёмщиков, состоящие в `Гражданском браке`, являются самыми не надёжными по возврату заёмных средств (9,3%).\n",
    "\n",
    "- Обращает на себя тот факт, что в предыдущем исследовании, самыми надёжными являлись заёмщики не имеющие детей. С учётом дополнительно полученных сведений, формируется вывод о том, что надёжный заёмщик не имеет детей и состоит в браке."
   ]
  },
  {
   "cell_type": "markdown",
   "id": "32cb678c",
   "metadata": {
    "deletable": false,
    "editable": false,
    "id": "1e8b2fca"
   },
   "source": [
    "#### 3.3 Есть ли зависимость между уровнем дохода и возвратом кредита в срок?"
   ]
  },
  {
   "cell_type": "code",
   "execution_count": 31,
   "id": "d817ab6a",
   "metadata": {
    "deletable": false,
    "id": "cd7e3720"
   },
   "outputs": [
    {
     "data": {
      "text/plain": [
       "count      21331.00\n",
       "mean      165342.75\n",
       "std        98313.99\n",
       "min        20667.00\n",
       "25%       107507.00\n",
       "50%       142594.00\n",
       "75%       195842.00\n",
       "max      2265604.00\n",
       "Name: total_income, dtype: object"
      ]
     },
     "execution_count": 31,
     "metadata": {},
     "output_type": "execute_result"
    }
   ],
   "source": [
    "# Выводим описательную часть по стобцу \"total_income\"\n",
    "data['total_income'].describe().apply(\"{0:.2f}\".format)"
   ]
  },
  {
   "cell_type": "markdown",
   "id": "c531202b",
   "metadata": {},
   "source": [
    "На основании полученных данных формируем вывод о необходимости категоризации данных по столбцу `\"total_income\"`\n",
    "- Необходимо создать функцию с присвоением категории \n",
    "- Полученные категории необходимо сохранить в новый столбец df"
   ]
  },
  {
   "cell_type": "code",
   "execution_count": 32,
   "id": "d1c5eedf",
   "metadata": {},
   "outputs": [],
   "source": [
    "def total_income(row):\n",
    "    \"\"\"\n",
    "    Функция обрабатываеи входящие данные и производит категоризацию данных. Разбивает данные на диапазоны. \n",
    "    \"\"\"\n",
    "    income = row['total_income']\n",
    "    try:\n",
    "        if 0 <= income <= 30000:\n",
    "            return 'E'\n",
    "        elif 30001 <= income <= 50000:\n",
    "            return 'D'\n",
    "        elif 50001 <= income <= 200000:\n",
    "            return 'C'\n",
    "        elif 200001 <= income <= 1000000:\n",
    "            return 'B'\n",
    "        elif income >= 1000001:\n",
    "            return 'A'\n",
    "    except:\n",
    "        pass"
   ]
  },
  {
   "cell_type": "code",
   "execution_count": 33,
   "id": "5e185d68",
   "metadata": {},
   "outputs": [],
   "source": [
    "# Вызываем функцию, передавая ей df и создаём новый столбец наполняя его новыми данными\n",
    "data['income_category'] = data.apply(total_income, axis=1)"
   ]
  },
  {
   "cell_type": "code",
   "execution_count": 34,
   "id": "bb179680",
   "metadata": {},
   "outputs": [
    {
     "data": {
      "text/plain": [
       "array(['B', 'C', 'D', 'E', 'A'], dtype=object)"
      ]
     },
     "execution_count": 34,
     "metadata": {},
     "output_type": "execute_result"
    }
   ],
   "source": [
    "# проверяем новый столбец на наличие уникальных значений\n",
    "data['income_category'].unique()"
   ]
  },
  {
   "cell_type": "code",
   "execution_count": 35,
   "id": "fa7e4369",
   "metadata": {},
   "outputs": [],
   "source": [
    "# Производим группировку df по столбцу \"debt\" и считаем общее количество операций\n",
    "type_income = data.groupby('income_category').count()[['debt']]\n",
    "\n",
    "# Производим группировку df по столбцу \"debt\", подсчитывая количество операций имеющих задолженность  и добавляем данные в df\n",
    "type_income['debt_sum'] = data.groupby('income_category').sum()[['debt']]\n",
    "\n",
    "# Производим расчёт доли операций имеющих задолженность\n",
    "type_income['percent'] = type_income['debt_sum'] / type_income['debt'] * 100"
   ]
  },
  {
   "cell_type": "code",
   "execution_count": 36,
   "id": "f646db19",
   "metadata": {},
   "outputs": [
    {
     "data": {
      "text/html": [
       "<div>\n",
       "<style scoped>\n",
       "    .dataframe tbody tr th:only-of-type {\n",
       "        vertical-align: middle;\n",
       "    }\n",
       "\n",
       "    .dataframe tbody tr th {\n",
       "        vertical-align: top;\n",
       "    }\n",
       "\n",
       "    .dataframe thead th {\n",
       "        text-align: right;\n",
       "    }\n",
       "</style>\n",
       "<table border=\"1\" class=\"dataframe\">\n",
       "  <thead>\n",
       "    <tr style=\"text-align: right;\">\n",
       "      <th></th>\n",
       "      <th>debt</th>\n",
       "      <th>debt_sum</th>\n",
       "      <th>percent</th>\n",
       "    </tr>\n",
       "    <tr>\n",
       "      <th>income_category</th>\n",
       "      <th></th>\n",
       "      <th></th>\n",
       "      <th></th>\n",
       "    </tr>\n",
       "  </thead>\n",
       "  <tbody>\n",
       "    <tr>\n",
       "      <th>E</th>\n",
       "      <td>22</td>\n",
       "      <td>2</td>\n",
       "      <td>9.090909</td>\n",
       "    </tr>\n",
       "    <tr>\n",
       "      <th>C</th>\n",
       "      <td>15921</td>\n",
       "      <td>1353</td>\n",
       "      <td>8.498210</td>\n",
       "    </tr>\n",
       "    <tr>\n",
       "      <th>A</th>\n",
       "      <td>25</td>\n",
       "      <td>2</td>\n",
       "      <td>8.000000</td>\n",
       "    </tr>\n",
       "    <tr>\n",
       "      <th>B</th>\n",
       "      <td>5014</td>\n",
       "      <td>354</td>\n",
       "      <td>7.060231</td>\n",
       "    </tr>\n",
       "    <tr>\n",
       "      <th>D</th>\n",
       "      <td>349</td>\n",
       "      <td>21</td>\n",
       "      <td>6.017192</td>\n",
       "    </tr>\n",
       "  </tbody>\n",
       "</table>\n",
       "</div>"
      ],
      "text/plain": [
       "                  debt  debt_sum   percent\n",
       "income_category                           \n",
       "E                   22         2  9.090909\n",
       "C                15921      1353  8.498210\n",
       "A                   25         2  8.000000\n",
       "B                 5014       354  7.060231\n",
       "D                  349        21  6.017192"
      ]
     },
     "execution_count": 36,
     "metadata": {},
     "output_type": "execute_result"
    }
   ],
   "source": [
    "# Производим сортировку (по убыванию) по столбцу 'percen'\n",
    "type_income.sort_values('percent', ascending=False)"
   ]
  },
  {
   "cell_type": "markdown",
   "id": "e3eeffdc",
   "metadata": {
    "deletable": false,
    "id": "e8593def"
   },
   "source": [
    "**Вывод:** \n",
    "- Заёмщики относящиеся категории \"B\" и \"C\" и имеющие доход от 50 т.р. до 1 млн., являются самыми активными участниками рынка кредитования и составляют основную долю заёщиков банка\n",
    "- Заёмщикам относящимся к категории \"C\" выдано в 3 раза больше кредитов чем относящимся к категории \"B\", при этом, количество просроченных кредитов выше только на 20,3%. Это может указывать на ранее просчитанные риски Банка и принятые решения о расширении Банка своего влияние на конкретном сегменте рынке.\n",
    "- Кредитные продукты Банка массово ориентированы на заёмщиков с доходами от 50 т. до 1 млн. и отсутсвтует достаточное количество банковских продуктов ориентированных на более состоятельных заёмщиков <i>(категория \"A\" доля выданных кредитов <b>менее 0,1%</b>)</i>, тем самым упускают экономическую выгоду от привлечения новых состоятельных клиентов.\n",
    "- Самая `высокая доля просрочек` у заёмщиков категории \"E\", с доходом до 30000 рублей\n",
    "- Самая `низкая доля просрочек` у заёмщиков категории \"D\", с доходом от 30001 до 50000 рублей\n",
    "\n",
    "Предположение о наличии зависимости возвратов кредита от уровня дохода заёмщиков, не подтверждается. Заёмщики с уровнем дохода от 50001 до 200000 склонны к неоплате задолженности так же, как и заёмщики с уровнем дохода до 30000 рублей"
   ]
  },
  {
   "cell_type": "markdown",
   "id": "30069046",
   "metadata": {
    "deletable": false,
    "editable": false,
    "id": "99ecbd1f"
   },
   "source": [
    "#### 3.4 Как разные цели кредита влияют на его возврат в срок?"
   ]
  },
  {
   "cell_type": "code",
   "execution_count": 37,
   "id": "4b7df44b",
   "metadata": {
    "deletable": false,
    "id": "2b687290"
   },
   "outputs": [
    {
     "data": {
      "text/plain": [
       "array(['операции с недвижимостью', 'операции с автомобилем',\n",
       "       'получение образования', 'проведение свадьбы'], dtype=object)"
      ]
     },
     "execution_count": 37,
     "metadata": {},
     "output_type": "execute_result"
    }
   ],
   "source": [
    "data['purpose_category'].unique()"
   ]
  },
  {
   "cell_type": "code",
   "execution_count": 38,
   "id": "0af7c60c",
   "metadata": {},
   "outputs": [],
   "source": [
    "# Производим группировку df по столбцу \"debt\" и считаем общее количество операций\n",
    "purpose_of_loan = data.groupby('purpose_category').count()[['debt']]\n",
    "\n",
    "# Производим группировку df по столбцу \"debt\", подсчитывая количество операций имеющих задолженность  и добавляем данные в df\n",
    "purpose_of_loan['debt_sum'] = data.groupby('purpose_category').sum()[['debt']]\n",
    "\n",
    "# Производим расчёт доли операций имеющих задолженность\n",
    "purpose_of_loan['percent'] = purpose_of_loan['debt_sum'] / purpose_of_loan['debt'] * 100"
   ]
  },
  {
   "cell_type": "code",
   "execution_count": 39,
   "id": "7ec52c78",
   "metadata": {},
   "outputs": [
    {
     "data": {
      "text/html": [
       "<div>\n",
       "<style scoped>\n",
       "    .dataframe tbody tr th:only-of-type {\n",
       "        vertical-align: middle;\n",
       "    }\n",
       "\n",
       "    .dataframe tbody tr th {\n",
       "        vertical-align: top;\n",
       "    }\n",
       "\n",
       "    .dataframe thead th {\n",
       "        text-align: right;\n",
       "    }\n",
       "</style>\n",
       "<table border=\"1\" class=\"dataframe\">\n",
       "  <thead>\n",
       "    <tr style=\"text-align: right;\">\n",
       "      <th></th>\n",
       "      <th>debt</th>\n",
       "      <th>debt_sum</th>\n",
       "      <th>percent</th>\n",
       "    </tr>\n",
       "    <tr>\n",
       "      <th>purpose_category</th>\n",
       "      <th></th>\n",
       "      <th></th>\n",
       "      <th></th>\n",
       "    </tr>\n",
       "  </thead>\n",
       "  <tbody>\n",
       "    <tr>\n",
       "      <th>операции с автомобилем</th>\n",
       "      <td>4279</td>\n",
       "      <td>400</td>\n",
       "      <td>9.347978</td>\n",
       "    </tr>\n",
       "    <tr>\n",
       "      <th>получение образования</th>\n",
       "      <td>3988</td>\n",
       "      <td>369</td>\n",
       "      <td>9.252758</td>\n",
       "    </tr>\n",
       "    <tr>\n",
       "      <th>проведение свадьбы</th>\n",
       "      <td>2313</td>\n",
       "      <td>183</td>\n",
       "      <td>7.911803</td>\n",
       "    </tr>\n",
       "    <tr>\n",
       "      <th>операции с недвижимостью</th>\n",
       "      <td>10751</td>\n",
       "      <td>780</td>\n",
       "      <td>7.255139</td>\n",
       "    </tr>\n",
       "  </tbody>\n",
       "</table>\n",
       "</div>"
      ],
      "text/plain": [
       "                           debt  debt_sum   percent\n",
       "purpose_category                                   \n",
       "операции с автомобилем     4279       400  9.347978\n",
       "получение образования      3988       369  9.252758\n",
       "проведение свадьбы         2313       183  7.911803\n",
       "операции с недвижимостью  10751       780  7.255139"
      ]
     },
     "execution_count": 39,
     "metadata": {},
     "output_type": "execute_result"
    }
   ],
   "source": [
    "# Производим сортировку (по убыванию) по столбцу 'percen'\n",
    "purpose_of_loan.sort_values('percent', ascending=False)"
   ]
  },
  {
   "cell_type": "markdown",
   "id": "940e04f1",
   "metadata": {
    "deletable": false,
    "id": "b4bb2ce6"
   },
   "source": [
    "**Вывод:** \n",
    "- Наиболее подвержены риску не возврата средств, кредитование на цели `приобретения автомобиля` (9,3%) и кредиты на `получение образования` (9,3%);\n",
    "- Меньше всего рисков по не возврата средств, приходится кредитование `сделок с недвижимостью` (7,3%);"
   ]
  },
  {
   "cell_type": "markdown",
   "id": "e1fa32b4",
   "metadata": {
    "deletable": false,
    "editable": false,
    "id": "09c3ac4c"
   },
   "source": [
    "#### 3.5 Возможные причины появления пропусков в исходных данных."
   ]
  },
  {
   "cell_type": "markdown",
   "id": "a14d335b",
   "metadata": {
    "deletable": false,
    "id": "9da2ceda"
   },
   "source": [
    "- Столбцы `days_employed` и `total_income` - имеют пустые значения, более 10% выборки данных, с учётом факта отсутствия данных в одних и тех же строках, данные пропуски могли появиться в следствии добавления в базу данных двух новых столбцов `days_employed` и `total_income`, либо при миграции данных между базами данных, либо в необязательности указания данных при первичном вводе. \n",
    "- `days_employed` - отрицательные значения в количественной переменной, является следствием неправильной настройки миграции данных.\n",
    "- `children` - имеет отрицательное значение и значение 20 детей. Является ошибкой при вводе данных в систему.\n",
    "- `education` - разный регистр заполнения категорийной переменной. Является ошибкой при вводе данных в систему.\n",
    "- Саботаж со стороны сотрудников компании имеющих доступ к серверу.\n",
    "- Случайные повреждения данных молодыми сотрудниками компании, не имеющих достаточного опыта работы с БД и запросами к базе и тем не менее допущенными к \"боевой\" базе без должного опыта.\n",
    "\n",
    "Для корректности ввода первичных данных в систему, рекомендуется ввести проверку вводимых данных"
   ]
  },
  {
   "cell_type": "markdown",
   "id": "d3dc589a",
   "metadata": {
    "deletable": false,
    "editable": false,
    "id": "7b0487d6"
   },
   "source": [
    "#### 3.6 Причины, почему заполнить пропуски медианным значением — лучшее решение для количественных переменных."
   ]
  },
  {
   "cell_type": "markdown",
   "id": "d46943e2",
   "metadata": {
    "deletable": false,
    "id": "7ecf2b8e"
   },
   "source": [
    "Медианное значение выбрано для использования, т.к. эффективнее отрабатывает аномальные отклонения верхних и нижних значений выборки данных, по сравнению со средним значением."
   ]
  },
  {
   "cell_type": "markdown",
   "id": "e4bac5cd",
   "metadata": {
    "deletable": false,
    "editable": false,
    "id": "6db5255a"
   },
   "source": [
    "### 4: общий вывод."
   ]
  },
  {
   "cell_type": "markdown",
   "id": "4f50f58a",
   "metadata": {
    "deletable": false,
    "id": "bad65432"
   },
   "source": [
    "Наименее рискованные заёмщики для банка, являются клиенты, которые соответствуют следующим критериям:\n",
    "- Клиент обращается в банк за кредитом на приобретения недвижимости;\n",
    "- У клиента уровень дохода относится к категории \"D\", с заработком от 30 т.р. до 50 т.р.;\n",
    "- Состоит в законном браке или является вдовой/вдовцом и не имеет детей. "
   ]
  },
  {
   "cell_type": "markdown",
   "id": "24300107",
   "metadata": {},
   "source": [
    "### 5: В рамках реализации исследования были проведены следующие работы:</p>\n",
    "- Произведён анализ полученных данных на предмет их целостности и возможности применения в исследовании.\n",
    "- Произведена работа по нормализации информации (устранение выявленных аномалий, отклонений и дубликаты в данных, которые оказывали прямое влияние на качество и точность проводимого исследования).\n",
    "- Произведено обогащение данными, необходимыми для повышения качества исследования.\n",
    "- Проведён анализ влияющих факторов <i>(количество детей; семейное положение; уровень дохода и цели кредита)</i> на возврат кредита в срок.\n",
    "- Произведено формирование качественных и количественных выводов исследования."
   ]
  }
 ],
 "metadata": {
  "ExecuteTimeLog": [
   {
    "duration": 524,
    "start_time": "2023-02-03T19:57:43.846Z"
   },
   {
    "duration": 28,
    "start_time": "2023-02-03T19:57:44.373Z"
   },
   {
    "duration": 21,
    "start_time": "2023-02-03T19:57:44.402Z"
   },
   {
    "duration": 13,
    "start_time": "2023-02-03T19:57:44.426Z"
   },
   {
    "duration": 31,
    "start_time": "2023-02-03T19:57:44.440Z"
   },
   {
    "duration": 27,
    "start_time": "2023-02-03T19:57:44.473Z"
   },
   {
    "duration": 10,
    "start_time": "2023-02-03T19:57:44.502Z"
   },
   {
    "duration": 7,
    "start_time": "2023-02-03T19:57:44.514Z"
   },
   {
    "duration": 9,
    "start_time": "2023-02-03T19:57:44.523Z"
   },
   {
    "duration": 4,
    "start_time": "2023-02-03T19:57:44.535Z"
   },
   {
    "duration": 63,
    "start_time": "2023-02-03T19:57:44.541Z"
   },
   {
    "duration": 10,
    "start_time": "2023-02-03T19:57:44.606Z"
   },
   {
    "duration": 7,
    "start_time": "2023-02-03T19:57:44.617Z"
   },
   {
    "duration": 17,
    "start_time": "2023-02-03T19:57:44.625Z"
   },
   {
    "duration": 24,
    "start_time": "2023-02-03T19:57:44.643Z"
   },
   {
    "duration": 39,
    "start_time": "2023-02-03T19:57:44.669Z"
   },
   {
    "duration": 5,
    "start_time": "2023-02-03T19:57:44.710Z"
   },
   {
    "duration": 36,
    "start_time": "2023-02-03T19:57:44.717Z"
   },
   {
    "duration": 10,
    "start_time": "2023-02-03T19:57:44.755Z"
   },
   {
    "duration": 4,
    "start_time": "2023-02-03T19:57:44.767Z"
   },
   {
    "duration": 14,
    "start_time": "2023-02-03T19:57:44.773Z"
   },
   {
    "duration": 62,
    "start_time": "2023-02-03T19:57:44.789Z"
   },
   {
    "duration": 18,
    "start_time": "2023-02-03T19:57:44.853Z"
   },
   {
    "duration": 14,
    "start_time": "2023-02-03T19:57:44.873Z"
   },
   {
    "duration": 9,
    "start_time": "2023-02-03T19:57:44.890Z"
   },
   {
    "duration": 513,
    "start_time": "2023-02-05T07:41:47.197Z"
   },
   {
    "duration": 23,
    "start_time": "2023-02-05T07:41:47.712Z"
   },
   {
    "duration": 20,
    "start_time": "2023-02-05T07:41:47.736Z"
   },
   {
    "duration": 11,
    "start_time": "2023-02-05T07:41:47.760Z"
   },
   {
    "duration": 40,
    "start_time": "2023-02-05T07:41:47.774Z"
   },
   {
    "duration": 27,
    "start_time": "2023-02-05T07:41:47.816Z"
   },
   {
    "duration": 15,
    "start_time": "2023-02-05T07:41:47.848Z"
   },
   {
    "duration": 5,
    "start_time": "2023-02-05T07:41:47.865Z"
   },
   {
    "duration": 10,
    "start_time": "2023-02-05T07:41:47.871Z"
   },
   {
    "duration": 8,
    "start_time": "2023-02-05T07:41:47.884Z"
   },
   {
    "duration": 33,
    "start_time": "2023-02-05T07:41:47.893Z"
   },
   {
    "duration": 26,
    "start_time": "2023-02-05T07:41:47.928Z"
   },
   {
    "duration": 9,
    "start_time": "2023-02-05T07:41:47.955Z"
   },
   {
    "duration": 17,
    "start_time": "2023-02-05T07:41:47.965Z"
   },
   {
    "duration": 26,
    "start_time": "2023-02-05T07:41:47.983Z"
   },
   {
    "duration": 18,
    "start_time": "2023-02-05T07:41:48.010Z"
   },
   {
    "duration": 11,
    "start_time": "2023-02-05T07:41:48.030Z"
   },
   {
    "duration": 18,
    "start_time": "2023-02-05T07:41:48.045Z"
   },
   {
    "duration": 5,
    "start_time": "2023-02-05T07:41:48.065Z"
   },
   {
    "duration": 7,
    "start_time": "2023-02-05T07:41:48.071Z"
   },
   {
    "duration": 15,
    "start_time": "2023-02-05T07:41:48.079Z"
   },
   {
    "duration": 2,
    "start_time": "2023-02-05T07:41:48.096Z"
   },
   {
    "duration": 5,
    "start_time": "2023-02-05T07:41:48.099Z"
   },
   {
    "duration": 8,
    "start_time": "2023-02-05T07:41:48.106Z"
   },
   {
    "duration": 11,
    "start_time": "2023-02-05T07:41:48.115Z"
   },
   {
    "duration": 21,
    "start_time": "2023-02-05T07:43:21.747Z"
   },
   {
    "duration": 98,
    "start_time": "2023-02-05T07:46:11.677Z"
   },
   {
    "duration": 7,
    "start_time": "2023-02-05T07:46:29.358Z"
   },
   {
    "duration": 93,
    "start_time": "2023-02-05T07:48:05.117Z"
   },
   {
    "duration": 75,
    "start_time": "2023-02-05T07:49:02.361Z"
   },
   {
    "duration": 116,
    "start_time": "2023-02-05T07:49:15.203Z"
   },
   {
    "duration": 24,
    "start_time": "2023-02-05T07:50:52.494Z"
   },
   {
    "duration": 17,
    "start_time": "2023-02-05T07:51:00.853Z"
   },
   {
    "duration": 13,
    "start_time": "2023-02-05T07:51:07.965Z"
   },
   {
    "duration": 21,
    "start_time": "2023-02-05T07:51:12.958Z"
   },
   {
    "duration": 26,
    "start_time": "2023-02-05T07:52:05.183Z"
   },
   {
    "duration": 8,
    "start_time": "2023-02-05T07:52:32.852Z"
   },
   {
    "duration": 7,
    "start_time": "2023-02-05T07:52:51.467Z"
   },
   {
    "duration": 4,
    "start_time": "2023-02-05T07:57:40.422Z"
   },
   {
    "duration": 10,
    "start_time": "2023-02-05T07:58:40.777Z"
   },
   {
    "duration": 9,
    "start_time": "2023-02-05T07:58:57.494Z"
   },
   {
    "duration": 9,
    "start_time": "2023-02-05T07:59:28.410Z"
   },
   {
    "duration": 9,
    "start_time": "2023-02-05T08:00:41.514Z"
   },
   {
    "duration": 15,
    "start_time": "2023-02-05T08:01:04.704Z"
   },
   {
    "duration": 22,
    "start_time": "2023-02-05T08:02:55.561Z"
   },
   {
    "duration": 21,
    "start_time": "2023-02-05T08:03:04.826Z"
   },
   {
    "duration": 19,
    "start_time": "2023-02-05T08:03:07.376Z"
   },
   {
    "duration": 14,
    "start_time": "2023-02-05T08:03:36.280Z"
   },
   {
    "duration": 13,
    "start_time": "2023-02-05T08:03:57.018Z"
   },
   {
    "duration": 11,
    "start_time": "2023-02-05T08:04:07.499Z"
   },
   {
    "duration": 20,
    "start_time": "2023-02-05T08:08:16.124Z"
   },
   {
    "duration": 14,
    "start_time": "2023-02-05T08:08:45.712Z"
   },
   {
    "duration": 14,
    "start_time": "2023-02-05T08:09:16.362Z"
   },
   {
    "duration": 15,
    "start_time": "2023-02-05T08:09:39.427Z"
   },
   {
    "duration": 17,
    "start_time": "2023-02-05T08:11:09.954Z"
   },
   {
    "duration": 13,
    "start_time": "2023-02-05T08:12:55.663Z"
   },
   {
    "duration": 25,
    "start_time": "2023-02-05T08:14:46.205Z"
   },
   {
    "duration": 32,
    "start_time": "2023-02-05T08:15:20.552Z"
   },
   {
    "duration": 33,
    "start_time": "2023-02-05T08:15:30.976Z"
   },
   {
    "duration": 18,
    "start_time": "2023-02-05T08:16:11.512Z"
   },
   {
    "duration": 13,
    "start_time": "2023-02-05T08:16:41.801Z"
   },
   {
    "duration": 18,
    "start_time": "2023-02-05T08:16:53.329Z"
   },
   {
    "duration": 32,
    "start_time": "2023-02-05T08:17:03.552Z"
   },
   {
    "duration": 31,
    "start_time": "2023-02-05T08:17:41.295Z"
   },
   {
    "duration": 45,
    "start_time": "2023-02-05T08:17:49.150Z"
   },
   {
    "duration": 55,
    "start_time": "2023-02-05T08:18:09.091Z"
   },
   {
    "duration": 16,
    "start_time": "2023-02-05T08:18:40.710Z"
   },
   {
    "duration": 19,
    "start_time": "2023-02-05T08:18:46.285Z"
   },
   {
    "duration": 17,
    "start_time": "2023-02-05T08:19:19.005Z"
   },
   {
    "duration": 16,
    "start_time": "2023-02-05T08:21:29.388Z"
   },
   {
    "duration": 17,
    "start_time": "2023-02-05T08:21:41.193Z"
   },
   {
    "duration": 1102,
    "start_time": "2023-02-05T08:27:48.342Z"
   },
   {
    "duration": 1202,
    "start_time": "2023-02-05T08:28:22.675Z"
   },
   {
    "duration": 1080,
    "start_time": "2023-02-05T08:28:32.217Z"
   },
   {
    "duration": 1150,
    "start_time": "2023-02-05T08:28:38.265Z"
   },
   {
    "duration": 1170,
    "start_time": "2023-02-05T08:28:50.072Z"
   },
   {
    "duration": 1184,
    "start_time": "2023-02-05T08:29:02.433Z"
   },
   {
    "duration": 13,
    "start_time": "2023-02-05T08:29:26.895Z"
   },
   {
    "duration": 17,
    "start_time": "2023-02-05T08:29:34.740Z"
   },
   {
    "duration": 14,
    "start_time": "2023-02-05T08:31:55.650Z"
   },
   {
    "duration": 14,
    "start_time": "2023-02-05T08:32:24.363Z"
   },
   {
    "duration": 13,
    "start_time": "2023-02-05T08:32:40.805Z"
   },
   {
    "duration": 13,
    "start_time": "2023-02-05T08:32:46.802Z"
   },
   {
    "duration": 12,
    "start_time": "2023-02-05T08:32:54.427Z"
   },
   {
    "duration": 11,
    "start_time": "2023-02-05T08:33:12.863Z"
   },
   {
    "duration": 11,
    "start_time": "2023-02-05T08:33:24.239Z"
   },
   {
    "duration": 1110,
    "start_time": "2023-02-05T08:33:36.955Z"
   },
   {
    "duration": 12,
    "start_time": "2023-02-05T08:33:47.033Z"
   },
   {
    "duration": 12,
    "start_time": "2023-02-05T08:33:56.399Z"
   },
   {
    "duration": 14,
    "start_time": "2023-02-05T08:35:37.668Z"
   },
   {
    "duration": 15,
    "start_time": "2023-02-05T08:35:45.605Z"
   },
   {
    "duration": 13,
    "start_time": "2023-02-05T08:35:52.299Z"
   },
   {
    "duration": 1390,
    "start_time": "2023-02-05T08:37:42.023Z"
   },
   {
    "duration": 7,
    "start_time": "2023-02-05T08:37:50.003Z"
   },
   {
    "duration": 11,
    "start_time": "2023-02-05T08:37:57.138Z"
   },
   {
    "duration": 7,
    "start_time": "2023-02-05T08:39:46.909Z"
   },
   {
    "duration": 7,
    "start_time": "2023-02-05T08:40:28.421Z"
   },
   {
    "duration": 11,
    "start_time": "2023-02-05T08:40:39.364Z"
   },
   {
    "duration": 10,
    "start_time": "2023-02-05T08:40:56.205Z"
   },
   {
    "duration": 11,
    "start_time": "2023-02-05T08:54:15.657Z"
   },
   {
    "duration": 9,
    "start_time": "2023-02-05T08:58:20.332Z"
   },
   {
    "duration": 5,
    "start_time": "2023-02-05T08:58:26.316Z"
   },
   {
    "duration": 18,
    "start_time": "2023-02-05T08:58:42.778Z"
   },
   {
    "duration": 15,
    "start_time": "2023-02-05T08:59:18.465Z"
   },
   {
    "duration": 20,
    "start_time": "2023-02-05T08:59:27.750Z"
   },
   {
    "duration": 13,
    "start_time": "2023-02-05T08:59:46.746Z"
   },
   {
    "duration": 20,
    "start_time": "2023-02-05T09:00:18.897Z"
   },
   {
    "duration": 18,
    "start_time": "2023-02-05T09:00:52.048Z"
   },
   {
    "duration": 28,
    "start_time": "2023-02-05T09:01:00.820Z"
   },
   {
    "duration": 21,
    "start_time": "2023-02-05T09:01:27.580Z"
   },
   {
    "duration": 27,
    "start_time": "2023-02-05T09:02:35.091Z"
   },
   {
    "duration": 21,
    "start_time": "2023-02-05T09:03:06.571Z"
   },
   {
    "duration": 22,
    "start_time": "2023-02-05T09:03:19.233Z"
   },
   {
    "duration": 69,
    "start_time": "2023-02-05T09:04:07.151Z"
   },
   {
    "duration": 77,
    "start_time": "2023-02-05T09:07:26.944Z"
   },
   {
    "duration": 77,
    "start_time": "2023-02-05T09:07:32.801Z"
   },
   {
    "duration": 24,
    "start_time": "2023-02-05T09:08:31.590Z"
   },
   {
    "duration": 65,
    "start_time": "2023-02-05T09:11:43.103Z"
   },
   {
    "duration": 21,
    "start_time": "2023-02-05T09:12:19.288Z"
   },
   {
    "duration": 23,
    "start_time": "2023-02-05T09:12:34.041Z"
   },
   {
    "duration": 12,
    "start_time": "2023-02-05T09:13:18.279Z"
   },
   {
    "duration": 23,
    "start_time": "2023-02-05T09:13:32.229Z"
   },
   {
    "duration": 23,
    "start_time": "2023-02-05T09:19:09.033Z"
   },
   {
    "duration": 27,
    "start_time": "2023-02-05T09:19:50.833Z"
   },
   {
    "duration": 23,
    "start_time": "2023-02-05T09:22:58.204Z"
   },
   {
    "duration": 26,
    "start_time": "2023-02-05T09:23:45.855Z"
   },
   {
    "duration": 22,
    "start_time": "2023-02-05T09:24:28.511Z"
   },
   {
    "duration": 8,
    "start_time": "2023-02-05T09:24:31.390Z"
   },
   {
    "duration": 5,
    "start_time": "2023-02-05T09:54:36.295Z"
   },
   {
    "duration": 4,
    "start_time": "2023-02-05T09:54:45.836Z"
   },
   {
    "duration": 3,
    "start_time": "2023-02-05T10:07:33.752Z"
   },
   {
    "duration": 831,
    "start_time": "2023-02-05T10:09:14.151Z"
   },
   {
    "duration": 879,
    "start_time": "2023-02-05T10:11:05.430Z"
   },
   {
    "duration": 4,
    "start_time": "2023-02-05T10:11:27.356Z"
   },
   {
    "duration": 874,
    "start_time": "2023-02-05T10:11:28.662Z"
   },
   {
    "duration": 3,
    "start_time": "2023-02-05T10:11:58.287Z"
   },
   {
    "duration": 839,
    "start_time": "2023-02-05T10:11:59.330Z"
   },
   {
    "duration": 4,
    "start_time": "2023-02-05T10:12:51.275Z"
   },
   {
    "duration": 921,
    "start_time": "2023-02-05T10:12:52.234Z"
   },
   {
    "duration": 3,
    "start_time": "2023-02-05T10:13:19.540Z"
   },
   {
    "duration": 11,
    "start_time": "2023-02-05T10:13:20.184Z"
   },
   {
    "duration": 2,
    "start_time": "2023-02-05T10:13:27.336Z"
   },
   {
    "duration": 40,
    "start_time": "2023-02-05T10:13:28.930Z"
   },
   {
    "duration": 3,
    "start_time": "2023-02-05T10:13:40.140Z"
   },
   {
    "duration": 8,
    "start_time": "2023-02-05T10:13:42.049Z"
   },
   {
    "duration": 3,
    "start_time": "2023-02-05T10:13:51.085Z"
   },
   {
    "duration": 861,
    "start_time": "2023-02-05T10:13:52.108Z"
   },
   {
    "duration": 3,
    "start_time": "2023-02-05T10:14:20.927Z"
   },
   {
    "duration": 18,
    "start_time": "2023-02-05T10:14:23.835Z"
   },
   {
    "duration": 3,
    "start_time": "2023-02-05T10:15:57.484Z"
   },
   {
    "duration": 18,
    "start_time": "2023-02-05T10:15:58.210Z"
   },
   {
    "duration": 2,
    "start_time": "2023-02-05T10:16:23.103Z"
   },
   {
    "duration": 14082,
    "start_time": "2023-02-05T10:16:24.197Z"
   },
   {
    "duration": 3,
    "start_time": "2023-02-05T10:17:21.508Z"
   },
   {
    "duration": 2670,
    "start_time": "2023-02-05T10:17:22.280Z"
   },
   {
    "duration": 5,
    "start_time": "2023-02-05T10:18:12.767Z"
   },
   {
    "duration": 7,
    "start_time": "2023-02-05T10:18:37.848Z"
   },
   {
    "duration": 6,
    "start_time": "2023-02-05T10:18:49.231Z"
   },
   {
    "duration": 14,
    "start_time": "2023-02-05T10:19:07.498Z"
   },
   {
    "duration": 14,
    "start_time": "2023-02-05T10:19:45.663Z"
   },
   {
    "duration": 68,
    "start_time": "2023-02-05T10:20:02.479Z"
   },
   {
    "duration": 20,
    "start_time": "2023-02-05T10:20:02.549Z"
   },
   {
    "duration": 34,
    "start_time": "2023-02-05T10:20:02.571Z"
   },
   {
    "duration": 18,
    "start_time": "2023-02-05T10:20:02.607Z"
   },
   {
    "duration": 56,
    "start_time": "2023-02-05T10:20:02.626Z"
   },
   {
    "duration": 6,
    "start_time": "2023-02-05T10:20:02.684Z"
   },
   {
    "duration": 42,
    "start_time": "2023-02-05T10:20:02.691Z"
   },
   {
    "duration": 22,
    "start_time": "2023-02-05T10:20:02.734Z"
   },
   {
    "duration": 26,
    "start_time": "2023-02-05T10:20:02.757Z"
   },
   {
    "duration": 24,
    "start_time": "2023-02-05T10:20:02.785Z"
   },
   {
    "duration": 43,
    "start_time": "2023-02-05T10:20:02.810Z"
   },
   {
    "duration": 8,
    "start_time": "2023-02-05T10:20:02.855Z"
   },
   {
    "duration": 10,
    "start_time": "2023-02-05T10:20:02.864Z"
   },
   {
    "duration": 20,
    "start_time": "2023-02-05T10:20:02.876Z"
   },
   {
    "duration": 50,
    "start_time": "2023-02-05T10:20:02.897Z"
   },
   {
    "duration": 32,
    "start_time": "2023-02-05T10:20:02.949Z"
   },
   {
    "duration": 5,
    "start_time": "2023-02-05T10:20:02.983Z"
   },
   {
    "duration": 34,
    "start_time": "2023-02-05T10:20:02.989Z"
   },
   {
    "duration": 23,
    "start_time": "2023-02-05T10:20:03.024Z"
   },
   {
    "duration": 13,
    "start_time": "2023-02-05T10:20:03.049Z"
   },
   {
    "duration": 12,
    "start_time": "2023-02-05T10:20:03.064Z"
   },
   {
    "duration": 51,
    "start_time": "2023-02-05T10:20:03.078Z"
   },
   {
    "duration": 7,
    "start_time": "2023-02-05T10:20:03.130Z"
   },
   {
    "duration": 15,
    "start_time": "2023-02-05T10:20:03.138Z"
   },
   {
    "duration": 33,
    "start_time": "2023-02-05T10:20:03.154Z"
   },
   {
    "duration": 21,
    "start_time": "2023-02-05T10:20:03.189Z"
   },
   {
    "duration": 2661,
    "start_time": "2023-02-05T10:20:03.211Z"
   },
   {
    "duration": 2,
    "start_time": "2023-02-05T10:20:05.875Z"
   },
   {
    "duration": 10,
    "start_time": "2023-02-05T10:20:05.878Z"
   },
   {
    "duration": 3,
    "start_time": "2023-02-05T10:20:19.949Z"
   },
   {
    "duration": 16,
    "start_time": "2023-02-05T10:20:20.831Z"
   },
   {
    "duration": 3,
    "start_time": "2023-02-05T10:20:34.950Z"
   },
   {
    "duration": 2586,
    "start_time": "2023-02-05T10:20:35.796Z"
   },
   {
    "duration": 3,
    "start_time": "2023-02-05T10:20:51.339Z"
   },
   {
    "duration": 66,
    "start_time": "2023-02-05T10:21:00.461Z"
   },
   {
    "duration": 17,
    "start_time": "2023-02-05T10:21:00.529Z"
   },
   {
    "duration": 52,
    "start_time": "2023-02-05T10:21:00.547Z"
   },
   {
    "duration": 17,
    "start_time": "2023-02-05T10:21:00.602Z"
   },
   {
    "duration": 45,
    "start_time": "2023-02-05T10:21:00.621Z"
   },
   {
    "duration": 5,
    "start_time": "2023-02-05T10:21:00.668Z"
   },
   {
    "duration": 28,
    "start_time": "2023-02-05T10:21:00.674Z"
   },
   {
    "duration": 11,
    "start_time": "2023-02-05T10:21:00.704Z"
   },
   {
    "duration": 22,
    "start_time": "2023-02-05T10:21:00.717Z"
   },
   {
    "duration": 10,
    "start_time": "2023-02-05T10:21:00.743Z"
   },
   {
    "duration": 43,
    "start_time": "2023-02-05T10:21:00.755Z"
   },
   {
    "duration": 9,
    "start_time": "2023-02-05T10:21:00.799Z"
   },
   {
    "duration": 9,
    "start_time": "2023-02-05T10:21:00.810Z"
   },
   {
    "duration": 31,
    "start_time": "2023-02-05T10:21:00.821Z"
   },
   {
    "duration": 22,
    "start_time": "2023-02-05T10:21:00.853Z"
   },
   {
    "duration": 16,
    "start_time": "2023-02-05T10:21:00.877Z"
   },
   {
    "duration": 5,
    "start_time": "2023-02-05T10:21:00.895Z"
   },
   {
    "duration": 33,
    "start_time": "2023-02-05T10:21:00.901Z"
   },
   {
    "duration": 18,
    "start_time": "2023-02-05T10:21:00.936Z"
   },
   {
    "duration": 9,
    "start_time": "2023-02-05T10:21:00.956Z"
   },
   {
    "duration": 34,
    "start_time": "2023-02-05T10:21:00.967Z"
   },
   {
    "duration": 48,
    "start_time": "2023-02-05T10:21:01.003Z"
   },
   {
    "duration": 8,
    "start_time": "2023-02-05T10:21:01.053Z"
   },
   {
    "duration": 19,
    "start_time": "2023-02-05T10:21:01.062Z"
   },
   {
    "duration": 44,
    "start_time": "2023-02-05T10:21:01.082Z"
   },
   {
    "duration": 2769,
    "start_time": "2023-02-05T10:21:01.127Z"
   },
   {
    "duration": 2,
    "start_time": "2023-02-05T10:21:03.898Z"
   },
   {
    "duration": 35,
    "start_time": "2023-02-05T10:21:03.903Z"
   },
   {
    "duration": 3,
    "start_time": "2023-02-05T10:21:13.925Z"
   },
   {
    "duration": 14,
    "start_time": "2023-02-05T10:21:14.882Z"
   },
   {
    "duration": 60,
    "start_time": "2023-02-05T10:21:19.416Z"
   },
   {
    "duration": 14,
    "start_time": "2023-02-05T10:21:19.478Z"
   },
   {
    "duration": 16,
    "start_time": "2023-02-05T10:21:19.493Z"
   },
   {
    "duration": 27,
    "start_time": "2023-02-05T10:21:19.511Z"
   },
   {
    "duration": 30,
    "start_time": "2023-02-05T10:21:19.539Z"
   },
   {
    "duration": 2,
    "start_time": "2023-02-05T10:21:19.571Z"
   },
   {
    "duration": 10,
    "start_time": "2023-02-05T10:21:19.575Z"
   },
   {
    "duration": 5,
    "start_time": "2023-02-05T10:21:19.586Z"
   },
   {
    "duration": 7,
    "start_time": "2023-02-05T10:21:19.593Z"
   },
   {
    "duration": 4,
    "start_time": "2023-02-05T10:21:19.602Z"
   },
   {
    "duration": 30,
    "start_time": "2023-02-05T10:21:19.637Z"
   },
   {
    "duration": 10,
    "start_time": "2023-02-05T10:21:19.668Z"
   },
   {
    "duration": 4,
    "start_time": "2023-02-05T10:21:19.679Z"
   },
   {
    "duration": 10,
    "start_time": "2023-02-05T10:21:19.685Z"
   },
   {
    "duration": 45,
    "start_time": "2023-02-05T10:21:19.697Z"
   },
   {
    "duration": 16,
    "start_time": "2023-02-05T10:21:19.743Z"
   },
   {
    "duration": 4,
    "start_time": "2023-02-05T10:21:19.760Z"
   },
   {
    "duration": 11,
    "start_time": "2023-02-05T10:21:19.765Z"
   },
   {
    "duration": 5,
    "start_time": "2023-02-05T10:21:19.777Z"
   },
   {
    "duration": 3,
    "start_time": "2023-02-05T10:21:19.783Z"
   },
   {
    "duration": 12,
    "start_time": "2023-02-05T10:21:19.788Z"
   },
   {
    "duration": 48,
    "start_time": "2023-02-05T10:21:19.801Z"
   },
   {
    "duration": 6,
    "start_time": "2023-02-05T10:21:19.851Z"
   },
   {
    "duration": 7,
    "start_time": "2023-02-05T10:21:19.859Z"
   },
   {
    "duration": 3,
    "start_time": "2023-02-05T10:21:19.868Z"
   },
   {
    "duration": 138,
    "start_time": "2023-02-05T10:21:19.872Z"
   },
   {
    "duration": 2,
    "start_time": "2023-02-05T10:21:20.012Z"
   },
   {
    "duration": 8,
    "start_time": "2023-02-05T10:21:20.016Z"
   },
   {
    "duration": 5,
    "start_time": "2023-02-05T10:22:20.952Z"
   },
   {
    "duration": 6,
    "start_time": "2023-02-05T10:23:20.530Z"
   },
   {
    "duration": 3,
    "start_time": "2023-02-05T10:23:21.217Z"
   },
   {
    "duration": 120,
    "start_time": "2023-02-05T10:23:21.749Z"
   },
   {
    "duration": 5,
    "start_time": "2023-02-05T10:23:22.233Z"
   },
   {
    "duration": 5,
    "start_time": "2023-02-05T10:23:28.900Z"
   },
   {
    "duration": 3,
    "start_time": "2023-02-05T10:23:29.523Z"
   },
   {
    "duration": 140,
    "start_time": "2023-02-05T10:23:30.043Z"
   },
   {
    "duration": 6,
    "start_time": "2023-02-05T10:23:30.646Z"
   },
   {
    "duration": 66,
    "start_time": "2023-02-05T10:23:36.550Z"
   },
   {
    "duration": 14,
    "start_time": "2023-02-05T10:23:36.618Z"
   },
   {
    "duration": 15,
    "start_time": "2023-02-05T10:23:36.634Z"
   },
   {
    "duration": 8,
    "start_time": "2023-02-05T10:23:36.651Z"
   },
   {
    "duration": 36,
    "start_time": "2023-02-05T10:23:36.661Z"
   },
   {
    "duration": 3,
    "start_time": "2023-02-05T10:23:36.699Z"
   },
   {
    "duration": 13,
    "start_time": "2023-02-05T10:23:36.703Z"
   },
   {
    "duration": 21,
    "start_time": "2023-02-05T10:23:36.717Z"
   },
   {
    "duration": 13,
    "start_time": "2023-02-05T10:23:36.740Z"
   },
   {
    "duration": 4,
    "start_time": "2023-02-05T10:23:36.755Z"
   },
   {
    "duration": 30,
    "start_time": "2023-02-05T10:23:36.761Z"
   },
   {
    "duration": 9,
    "start_time": "2023-02-05T10:23:36.793Z"
   },
   {
    "duration": 7,
    "start_time": "2023-02-05T10:23:36.803Z"
   },
   {
    "duration": 32,
    "start_time": "2023-02-05T10:23:36.811Z"
   },
   {
    "duration": 19,
    "start_time": "2023-02-05T10:23:36.844Z"
   },
   {
    "duration": 16,
    "start_time": "2023-02-05T10:23:36.865Z"
   },
   {
    "duration": 3,
    "start_time": "2023-02-05T10:23:36.883Z"
   },
   {
    "duration": 13,
    "start_time": "2023-02-05T10:23:36.887Z"
   },
   {
    "duration": 9,
    "start_time": "2023-02-05T10:23:36.902Z"
   },
   {
    "duration": 6,
    "start_time": "2023-02-05T10:23:36.912Z"
   },
   {
    "duration": 23,
    "start_time": "2023-02-05T10:23:36.919Z"
   },
   {
    "duration": 24,
    "start_time": "2023-02-05T10:23:36.944Z"
   },
   {
    "duration": 7,
    "start_time": "2023-02-05T10:23:36.970Z"
   },
   {
    "duration": 10,
    "start_time": "2023-02-05T10:23:36.978Z"
   },
   {
    "duration": 4,
    "start_time": "2023-02-05T10:23:36.989Z"
   },
   {
    "duration": 146,
    "start_time": "2023-02-05T10:23:36.995Z"
   },
   {
    "duration": 5,
    "start_time": "2023-02-05T10:23:37.143Z"
   },
   {
    "duration": 3,
    "start_time": "2023-02-05T10:23:37.150Z"
   },
   {
    "duration": 9,
    "start_time": "2023-02-05T10:23:37.155Z"
   },
   {
    "duration": 24,
    "start_time": "2023-02-05T10:25:13.501Z"
   },
   {
    "duration": 8,
    "start_time": "2023-02-05T10:25:15.798Z"
   },
   {
    "duration": 5,
    "start_time": "2023-02-05T10:25:20.610Z"
   },
   {
    "duration": 3,
    "start_time": "2023-02-05T10:25:20.999Z"
   },
   {
    "duration": 122,
    "start_time": "2023-02-05T10:25:24.454Z"
   },
   {
    "duration": 6,
    "start_time": "2023-02-05T10:25:24.968Z"
   },
   {
    "duration": 21,
    "start_time": "2023-02-05T10:25:26.187Z"
   },
   {
    "duration": 66,
    "start_time": "2023-02-05T10:25:34.101Z"
   },
   {
    "duration": 16,
    "start_time": "2023-02-05T10:25:34.169Z"
   },
   {
    "duration": 20,
    "start_time": "2023-02-05T10:25:34.187Z"
   },
   {
    "duration": 28,
    "start_time": "2023-02-05T10:25:34.210Z"
   },
   {
    "duration": 30,
    "start_time": "2023-02-05T10:25:34.240Z"
   },
   {
    "duration": 4,
    "start_time": "2023-02-05T10:25:34.271Z"
   },
   {
    "duration": 15,
    "start_time": "2023-02-05T10:25:34.276Z"
   },
   {
    "duration": 5,
    "start_time": "2023-02-05T10:25:34.292Z"
   },
   {
    "duration": 7,
    "start_time": "2023-02-05T10:25:34.298Z"
   },
   {
    "duration": 4,
    "start_time": "2023-02-05T10:25:34.308Z"
   },
   {
    "duration": 38,
    "start_time": "2023-02-05T10:25:34.336Z"
   },
   {
    "duration": 12,
    "start_time": "2023-02-05T10:25:34.376Z"
   },
   {
    "duration": 4,
    "start_time": "2023-02-05T10:25:34.389Z"
   },
   {
    "duration": 14,
    "start_time": "2023-02-05T10:25:34.395Z"
   },
   {
    "duration": 40,
    "start_time": "2023-02-05T10:25:34.410Z"
   },
   {
    "duration": 17,
    "start_time": "2023-02-05T10:25:34.451Z"
   },
   {
    "duration": 3,
    "start_time": "2023-02-05T10:25:34.469Z"
   },
   {
    "duration": 12,
    "start_time": "2023-02-05T10:25:34.474Z"
   },
   {
    "duration": 5,
    "start_time": "2023-02-05T10:25:34.487Z"
   },
   {
    "duration": 4,
    "start_time": "2023-02-05T10:25:34.494Z"
   },
   {
    "duration": 10,
    "start_time": "2023-02-05T10:25:34.499Z"
   },
   {
    "duration": 23,
    "start_time": "2023-02-05T10:25:34.537Z"
   },
   {
    "duration": 7,
    "start_time": "2023-02-05T10:25:34.561Z"
   },
   {
    "duration": 10,
    "start_time": "2023-02-05T10:25:34.569Z"
   },
   {
    "duration": 5,
    "start_time": "2023-02-05T10:25:34.581Z"
   },
   {
    "duration": 149,
    "start_time": "2023-02-05T10:25:34.587Z"
   },
   {
    "duration": 4,
    "start_time": "2023-02-05T10:25:34.738Z"
   },
   {
    "duration": 22,
    "start_time": "2023-02-05T10:25:34.745Z"
   },
   {
    "duration": 2,
    "start_time": "2023-02-05T10:25:34.769Z"
   },
   {
    "duration": 7,
    "start_time": "2023-02-05T10:25:34.772Z"
   },
   {
    "duration": 32,
    "start_time": "2023-02-05T10:25:54.892Z"
   },
   {
    "duration": 67,
    "start_time": "2023-02-05T10:26:04.349Z"
   },
   {
    "duration": 15,
    "start_time": "2023-02-05T10:26:04.418Z"
   },
   {
    "duration": 14,
    "start_time": "2023-02-05T10:26:04.435Z"
   },
   {
    "duration": 12,
    "start_time": "2023-02-05T10:26:04.451Z"
   },
   {
    "duration": 30,
    "start_time": "2023-02-05T10:26:04.465Z"
   },
   {
    "duration": 3,
    "start_time": "2023-02-05T10:26:04.497Z"
   },
   {
    "duration": 9,
    "start_time": "2023-02-05T10:26:04.502Z"
   },
   {
    "duration": 5,
    "start_time": "2023-02-05T10:26:04.513Z"
   },
   {
    "duration": 21,
    "start_time": "2023-02-05T10:26:04.519Z"
   },
   {
    "duration": 8,
    "start_time": "2023-02-05T10:26:04.542Z"
   },
   {
    "duration": 34,
    "start_time": "2023-02-05T10:26:04.552Z"
   },
   {
    "duration": 10,
    "start_time": "2023-02-05T10:26:04.587Z"
   },
   {
    "duration": 4,
    "start_time": "2023-02-05T10:26:04.598Z"
   },
   {
    "duration": 10,
    "start_time": "2023-02-05T10:26:04.603Z"
   },
   {
    "duration": 32,
    "start_time": "2023-02-05T10:26:04.615Z"
   },
   {
    "duration": 16,
    "start_time": "2023-02-05T10:26:04.648Z"
   },
   {
    "duration": 3,
    "start_time": "2023-02-05T10:26:04.665Z"
   },
   {
    "duration": 13,
    "start_time": "2023-02-05T10:26:04.670Z"
   },
   {
    "duration": 6,
    "start_time": "2023-02-05T10:26:04.684Z"
   },
   {
    "duration": 4,
    "start_time": "2023-02-05T10:26:04.691Z"
   },
   {
    "duration": 10,
    "start_time": "2023-02-05T10:26:04.696Z"
   },
   {
    "duration": 45,
    "start_time": "2023-02-05T10:26:04.707Z"
   },
   {
    "duration": 7,
    "start_time": "2023-02-05T10:26:04.754Z"
   },
   {
    "duration": 7,
    "start_time": "2023-02-05T10:26:04.762Z"
   },
   {
    "duration": 5,
    "start_time": "2023-02-05T10:26:04.771Z"
   },
   {
    "duration": 148,
    "start_time": "2023-02-05T10:26:04.777Z"
   },
   {
    "duration": 6,
    "start_time": "2023-02-05T10:26:04.927Z"
   },
   {
    "duration": 24,
    "start_time": "2023-02-05T10:26:04.938Z"
   },
   {
    "duration": 3,
    "start_time": "2023-02-05T10:26:04.963Z"
   },
   {
    "duration": 4,
    "start_time": "2023-02-05T10:26:04.968Z"
   },
   {
    "duration": 8,
    "start_time": "2023-02-05T10:26:51.183Z"
   },
   {
    "duration": 8,
    "start_time": "2023-02-05T10:27:01.561Z"
   },
   {
    "duration": 3,
    "start_time": "2023-02-05T10:30:19.104Z"
   },
   {
    "duration": 71,
    "start_time": "2023-02-05T10:30:39.965Z"
   },
   {
    "duration": 14,
    "start_time": "2023-02-05T10:30:40.038Z"
   },
   {
    "duration": 19,
    "start_time": "2023-02-05T10:30:40.053Z"
   },
   {
    "duration": 8,
    "start_time": "2023-02-05T10:30:40.073Z"
   },
   {
    "duration": 30,
    "start_time": "2023-02-05T10:30:40.083Z"
   },
   {
    "duration": 3,
    "start_time": "2023-02-05T10:30:40.115Z"
   },
   {
    "duration": 8,
    "start_time": "2023-02-05T10:30:40.137Z"
   },
   {
    "duration": 5,
    "start_time": "2023-02-05T10:30:40.147Z"
   },
   {
    "duration": 7,
    "start_time": "2023-02-05T10:30:40.153Z"
   },
   {
    "duration": 5,
    "start_time": "2023-02-05T10:30:40.163Z"
   },
   {
    "duration": 30,
    "start_time": "2023-02-05T10:30:40.169Z"
   },
   {
    "duration": 8,
    "start_time": "2023-02-05T10:30:40.200Z"
   },
   {
    "duration": 30,
    "start_time": "2023-02-05T10:30:40.209Z"
   },
   {
    "duration": 9,
    "start_time": "2023-02-05T10:30:40.240Z"
   },
   {
    "duration": 23,
    "start_time": "2023-02-05T10:30:40.250Z"
   },
   {
    "duration": 16,
    "start_time": "2023-02-05T10:30:40.274Z"
   },
   {
    "duration": 3,
    "start_time": "2023-02-05T10:30:40.292Z"
   },
   {
    "duration": 51,
    "start_time": "2023-02-05T10:30:40.296Z"
   },
   {
    "duration": 20,
    "start_time": "2023-02-05T10:30:40.348Z"
   },
   {
    "duration": 48,
    "start_time": "2023-02-05T10:30:40.370Z"
   },
   {
    "duration": 25,
    "start_time": "2023-02-05T10:30:40.420Z"
   },
   {
    "duration": 27,
    "start_time": "2023-02-05T10:30:40.447Z"
   },
   {
    "duration": 6,
    "start_time": "2023-02-05T10:30:40.476Z"
   },
   {
    "duration": 8,
    "start_time": "2023-02-05T10:30:40.484Z"
   },
   {
    "duration": 11,
    "start_time": "2023-02-05T10:30:40.493Z"
   },
   {
    "duration": 131,
    "start_time": "2023-02-05T10:30:40.506Z"
   },
   {
    "duration": 5,
    "start_time": "2023-02-05T10:30:40.638Z"
   },
   {
    "duration": 23,
    "start_time": "2023-02-05T10:30:40.646Z"
   },
   {
    "duration": 6,
    "start_time": "2023-02-05T10:30:40.671Z"
   },
   {
    "duration": 5,
    "start_time": "2023-02-05T10:30:40.679Z"
   },
   {
    "duration": 10,
    "start_time": "2023-02-05T10:30:40.685Z"
   },
   {
    "duration": 5,
    "start_time": "2023-02-05T10:30:40.697Z"
   },
   {
    "duration": 121,
    "start_time": "2023-02-05T10:31:10.671Z"
   },
   {
    "duration": 28,
    "start_time": "2023-02-05T10:31:32.308Z"
   },
   {
    "duration": 22,
    "start_time": "2023-02-05T10:33:09.107Z"
   },
   {
    "duration": 3,
    "start_time": "2023-02-05T10:33:36.900Z"
   },
   {
    "duration": 118,
    "start_time": "2023-02-05T10:33:37.526Z"
   },
   {
    "duration": 22,
    "start_time": "2023-02-05T10:33:38.088Z"
   },
   {
    "duration": 62,
    "start_time": "2023-02-05T10:33:42.799Z"
   },
   {
    "duration": 13,
    "start_time": "2023-02-05T10:33:42.863Z"
   },
   {
    "duration": 16,
    "start_time": "2023-02-05T10:33:42.878Z"
   },
   {
    "duration": 7,
    "start_time": "2023-02-05T10:33:42.896Z"
   },
   {
    "duration": 44,
    "start_time": "2023-02-05T10:33:42.905Z"
   },
   {
    "duration": 3,
    "start_time": "2023-02-05T10:33:42.951Z"
   },
   {
    "duration": 15,
    "start_time": "2023-02-05T10:33:42.955Z"
   },
   {
    "duration": 4,
    "start_time": "2023-02-05T10:33:42.972Z"
   },
   {
    "duration": 7,
    "start_time": "2023-02-05T10:33:42.978Z"
   },
   {
    "duration": 14,
    "start_time": "2023-02-05T10:33:42.987Z"
   },
   {
    "duration": 33,
    "start_time": "2023-02-05T10:33:43.002Z"
   },
   {
    "duration": 8,
    "start_time": "2023-02-05T10:33:43.036Z"
   },
   {
    "duration": 5,
    "start_time": "2023-02-05T10:33:43.046Z"
   },
   {
    "duration": 17,
    "start_time": "2023-02-05T10:33:43.054Z"
   },
   {
    "duration": 19,
    "start_time": "2023-02-05T10:33:43.073Z"
   },
   {
    "duration": 16,
    "start_time": "2023-02-05T10:33:43.093Z"
   },
   {
    "duration": 4,
    "start_time": "2023-02-05T10:33:43.111Z"
   },
   {
    "duration": 26,
    "start_time": "2023-02-05T10:33:43.116Z"
   },
   {
    "duration": 6,
    "start_time": "2023-02-05T10:33:43.143Z"
   },
   {
    "duration": 4,
    "start_time": "2023-02-05T10:33:43.151Z"
   },
   {
    "duration": 9,
    "start_time": "2023-02-05T10:33:43.156Z"
   },
   {
    "duration": 23,
    "start_time": "2023-02-05T10:33:43.167Z"
   },
   {
    "duration": 8,
    "start_time": "2023-02-05T10:33:43.192Z"
   },
   {
    "duration": 38,
    "start_time": "2023-02-05T10:33:43.201Z"
   },
   {
    "duration": 4,
    "start_time": "2023-02-05T10:33:43.241Z"
   },
   {
    "duration": 156,
    "start_time": "2023-02-05T10:33:43.246Z"
   },
   {
    "duration": 6,
    "start_time": "2023-02-05T10:33:43.404Z"
   },
   {
    "duration": 43,
    "start_time": "2023-02-05T10:33:43.412Z"
   },
   {
    "duration": 9,
    "start_time": "2023-02-05T10:33:43.457Z"
   },
   {
    "duration": 17,
    "start_time": "2023-02-05T10:33:43.467Z"
   },
   {
    "duration": 152,
    "start_time": "2023-02-05T10:33:43.486Z"
   },
   {
    "duration": 23,
    "start_time": "2023-02-05T10:33:43.640Z"
   },
   {
    "duration": 0,
    "start_time": "2023-02-05T10:33:43.665Z"
   },
   {
    "duration": 0,
    "start_time": "2023-02-05T10:33:43.666Z"
   },
   {
    "duration": 24,
    "start_time": "2023-02-05T10:34:06.604Z"
   },
   {
    "duration": 68,
    "start_time": "2023-02-05T10:34:11.412Z"
   },
   {
    "duration": 14,
    "start_time": "2023-02-05T10:34:11.483Z"
   },
   {
    "duration": 22,
    "start_time": "2023-02-05T10:34:11.499Z"
   },
   {
    "duration": 19,
    "start_time": "2023-02-05T10:34:11.523Z"
   },
   {
    "duration": 37,
    "start_time": "2023-02-05T10:34:11.543Z"
   },
   {
    "duration": 3,
    "start_time": "2023-02-05T10:34:11.582Z"
   },
   {
    "duration": 20,
    "start_time": "2023-02-05T10:34:11.587Z"
   },
   {
    "duration": 5,
    "start_time": "2023-02-05T10:34:11.608Z"
   },
   {
    "duration": 8,
    "start_time": "2023-02-05T10:34:11.615Z"
   },
   {
    "duration": 6,
    "start_time": "2023-02-05T10:34:11.625Z"
   },
   {
    "duration": 36,
    "start_time": "2023-02-05T10:34:11.632Z"
   },
   {
    "duration": 7,
    "start_time": "2023-02-05T10:34:11.670Z"
   },
   {
    "duration": 3,
    "start_time": "2023-02-05T10:34:11.679Z"
   },
   {
    "duration": 10,
    "start_time": "2023-02-05T10:34:11.684Z"
   },
   {
    "duration": 15,
    "start_time": "2023-02-05T10:34:11.696Z"
   },
   {
    "duration": 34,
    "start_time": "2023-02-05T10:34:11.712Z"
   },
   {
    "duration": 4,
    "start_time": "2023-02-05T10:34:11.747Z"
   },
   {
    "duration": 13,
    "start_time": "2023-02-05T10:34:11.752Z"
   },
   {
    "duration": 5,
    "start_time": "2023-02-05T10:34:11.766Z"
   },
   {
    "duration": 3,
    "start_time": "2023-02-05T10:34:11.772Z"
   },
   {
    "duration": 10,
    "start_time": "2023-02-05T10:34:11.776Z"
   },
   {
    "duration": 21,
    "start_time": "2023-02-05T10:34:11.787Z"
   },
   {
    "duration": 31,
    "start_time": "2023-02-05T10:34:11.810Z"
   },
   {
    "duration": 11,
    "start_time": "2023-02-05T10:34:11.842Z"
   },
   {
    "duration": 5,
    "start_time": "2023-02-05T10:34:11.854Z"
   },
   {
    "duration": 133,
    "start_time": "2023-02-05T10:34:11.860Z"
   },
   {
    "duration": 5,
    "start_time": "2023-02-05T10:34:11.995Z"
   },
   {
    "duration": 35,
    "start_time": "2023-02-05T10:34:12.003Z"
   },
   {
    "duration": 8,
    "start_time": "2023-02-05T10:34:12.040Z"
   },
   {
    "duration": 8,
    "start_time": "2023-02-05T10:34:12.049Z"
   },
   {
    "duration": 140,
    "start_time": "2023-02-05T10:34:12.058Z"
   },
   {
    "duration": 23,
    "start_time": "2023-02-05T10:34:12.200Z"
   },
   {
    "duration": 2,
    "start_time": "2023-02-05T10:34:12.225Z"
   },
   {
    "duration": 2,
    "start_time": "2023-02-05T10:34:12.236Z"
   },
   {
    "duration": 62,
    "start_time": "2023-02-05T10:35:06.889Z"
   },
   {
    "duration": 14,
    "start_time": "2023-02-05T10:35:06.952Z"
   },
   {
    "duration": 15,
    "start_time": "2023-02-05T10:35:06.967Z"
   },
   {
    "duration": 10,
    "start_time": "2023-02-05T10:35:06.984Z"
   },
   {
    "duration": 51,
    "start_time": "2023-02-05T10:35:06.996Z"
   },
   {
    "duration": 3,
    "start_time": "2023-02-05T10:35:07.049Z"
   },
   {
    "duration": 17,
    "start_time": "2023-02-05T10:35:07.054Z"
   },
   {
    "duration": 5,
    "start_time": "2023-02-05T10:35:07.072Z"
   },
   {
    "duration": 15,
    "start_time": "2023-02-05T10:35:07.078Z"
   },
   {
    "duration": 5,
    "start_time": "2023-02-05T10:35:07.097Z"
   },
   {
    "duration": 36,
    "start_time": "2023-02-05T10:35:07.103Z"
   },
   {
    "duration": 8,
    "start_time": "2023-02-05T10:35:07.140Z"
   },
   {
    "duration": 4,
    "start_time": "2023-02-05T10:35:07.150Z"
   },
   {
    "duration": 17,
    "start_time": "2023-02-05T10:35:07.155Z"
   },
   {
    "duration": 17,
    "start_time": "2023-02-05T10:35:07.174Z"
   },
   {
    "duration": 15,
    "start_time": "2023-02-05T10:35:07.193Z"
   },
   {
    "duration": 3,
    "start_time": "2023-02-05T10:35:07.209Z"
   },
   {
    "duration": 31,
    "start_time": "2023-02-05T10:35:07.214Z"
   },
   {
    "duration": 6,
    "start_time": "2023-02-05T10:35:07.247Z"
   },
   {
    "duration": 14,
    "start_time": "2023-02-05T10:35:07.255Z"
   },
   {
    "duration": 18,
    "start_time": "2023-02-05T10:35:07.271Z"
   },
   {
    "duration": 34,
    "start_time": "2023-02-05T10:35:07.291Z"
   },
   {
    "duration": 7,
    "start_time": "2023-02-05T10:35:07.326Z"
   },
   {
    "duration": 15,
    "start_time": "2023-02-05T10:35:07.334Z"
   },
   {
    "duration": 9,
    "start_time": "2023-02-05T10:35:07.350Z"
   },
   {
    "duration": 123,
    "start_time": "2023-02-05T10:35:07.361Z"
   },
   {
    "duration": 6,
    "start_time": "2023-02-05T10:35:07.486Z"
   },
   {
    "duration": 24,
    "start_time": "2023-02-05T10:35:07.495Z"
   },
   {
    "duration": 22,
    "start_time": "2023-02-05T10:35:07.521Z"
   },
   {
    "duration": 11,
    "start_time": "2023-02-05T10:35:07.545Z"
   },
   {
    "duration": 130,
    "start_time": "2023-02-05T10:35:07.557Z"
   },
   {
    "duration": 23,
    "start_time": "2023-02-05T10:35:07.689Z"
   },
   {
    "duration": 2,
    "start_time": "2023-02-05T10:35:07.714Z"
   },
   {
    "duration": 5,
    "start_time": "2023-02-05T10:35:07.717Z"
   },
   {
    "duration": 3,
    "start_time": "2023-02-05T10:36:07.701Z"
   },
   {
    "duration": 142,
    "start_time": "2023-02-05T10:36:08.266Z"
   },
   {
    "duration": 6,
    "start_time": "2023-02-05T10:36:08.764Z"
   },
   {
    "duration": 24,
    "start_time": "2023-02-05T10:36:09.203Z"
   },
   {
    "duration": 61,
    "start_time": "2023-02-05T10:36:13.831Z"
   },
   {
    "duration": 13,
    "start_time": "2023-02-05T10:36:13.894Z"
   },
   {
    "duration": 16,
    "start_time": "2023-02-05T10:36:13.909Z"
   },
   {
    "duration": 16,
    "start_time": "2023-02-05T10:36:13.927Z"
   },
   {
    "duration": 36,
    "start_time": "2023-02-05T10:36:13.945Z"
   },
   {
    "duration": 3,
    "start_time": "2023-02-05T10:36:13.983Z"
   },
   {
    "duration": 10,
    "start_time": "2023-02-05T10:36:13.987Z"
   },
   {
    "duration": 4,
    "start_time": "2023-02-05T10:36:13.999Z"
   },
   {
    "duration": 32,
    "start_time": "2023-02-05T10:36:14.005Z"
   },
   {
    "duration": 5,
    "start_time": "2023-02-05T10:36:14.041Z"
   },
   {
    "duration": 35,
    "start_time": "2023-02-05T10:36:14.047Z"
   },
   {
    "duration": 9,
    "start_time": "2023-02-05T10:36:14.084Z"
   },
   {
    "duration": 3,
    "start_time": "2023-02-05T10:36:14.095Z"
   },
   {
    "duration": 10,
    "start_time": "2023-02-05T10:36:14.099Z"
   },
   {
    "duration": 40,
    "start_time": "2023-02-05T10:36:14.111Z"
   },
   {
    "duration": 16,
    "start_time": "2023-02-05T10:36:14.152Z"
   },
   {
    "duration": 3,
    "start_time": "2023-02-05T10:36:14.169Z"
   },
   {
    "duration": 13,
    "start_time": "2023-02-05T10:36:14.173Z"
   },
   {
    "duration": 5,
    "start_time": "2023-02-05T10:36:14.187Z"
   },
   {
    "duration": 3,
    "start_time": "2023-02-05T10:36:14.194Z"
   },
   {
    "duration": 11,
    "start_time": "2023-02-05T10:36:14.198Z"
   },
   {
    "duration": 48,
    "start_time": "2023-02-05T10:36:14.210Z"
   },
   {
    "duration": 8,
    "start_time": "2023-02-05T10:36:14.259Z"
   },
   {
    "duration": 5,
    "start_time": "2023-02-05T10:36:14.269Z"
   },
   {
    "duration": 4,
    "start_time": "2023-02-05T10:36:14.276Z"
   },
   {
    "duration": 149,
    "start_time": "2023-02-05T10:36:14.282Z"
   },
   {
    "duration": 8,
    "start_time": "2023-02-05T10:36:14.433Z"
   },
   {
    "duration": 23,
    "start_time": "2023-02-05T10:36:14.444Z"
   },
   {
    "duration": 7,
    "start_time": "2023-02-05T10:36:14.469Z"
   },
   {
    "duration": 7,
    "start_time": "2023-02-05T10:36:14.478Z"
   },
   {
    "duration": 145,
    "start_time": "2023-02-05T10:36:14.487Z"
   },
   {
    "duration": 23,
    "start_time": "2023-02-05T10:36:14.633Z"
   },
   {
    "duration": 2,
    "start_time": "2023-02-05T10:36:14.657Z"
   },
   {
    "duration": 6,
    "start_time": "2023-02-05T10:36:14.661Z"
   },
   {
    "duration": 3,
    "start_time": "2023-02-05T10:37:02.042Z"
   },
   {
    "duration": 137,
    "start_time": "2023-02-05T10:37:02.544Z"
   },
   {
    "duration": 5,
    "start_time": "2023-02-05T10:37:03.008Z"
   },
   {
    "duration": 24,
    "start_time": "2023-02-05T10:37:04.267Z"
   },
   {
    "duration": 7,
    "start_time": "2023-02-05T10:37:05.222Z"
   },
   {
    "duration": 3,
    "start_time": "2023-02-05T10:37:06.662Z"
   },
   {
    "duration": 61,
    "start_time": "2023-02-05T10:37:10.251Z"
   },
   {
    "duration": 15,
    "start_time": "2023-02-05T10:37:10.314Z"
   },
   {
    "duration": 15,
    "start_time": "2023-02-05T10:37:10.330Z"
   },
   {
    "duration": 9,
    "start_time": "2023-02-05T10:37:10.347Z"
   },
   {
    "duration": 35,
    "start_time": "2023-02-05T10:37:10.358Z"
   },
   {
    "duration": 3,
    "start_time": "2023-02-05T10:37:10.395Z"
   },
   {
    "duration": 10,
    "start_time": "2023-02-05T10:37:10.399Z"
   },
   {
    "duration": 26,
    "start_time": "2023-02-05T10:37:10.411Z"
   },
   {
    "duration": 4,
    "start_time": "2023-02-05T10:37:10.439Z"
   },
   {
    "duration": 6,
    "start_time": "2023-02-05T10:37:10.446Z"
   },
   {
    "duration": 33,
    "start_time": "2023-02-05T10:37:10.453Z"
   },
   {
    "duration": 8,
    "start_time": "2023-02-05T10:37:10.488Z"
   },
   {
    "duration": 4,
    "start_time": "2023-02-05T10:37:10.498Z"
   },
   {
    "duration": 34,
    "start_time": "2023-02-05T10:37:10.503Z"
   },
   {
    "duration": 19,
    "start_time": "2023-02-05T10:37:10.538Z"
   },
   {
    "duration": 16,
    "start_time": "2023-02-05T10:37:10.558Z"
   },
   {
    "duration": 3,
    "start_time": "2023-02-05T10:37:10.576Z"
   },
   {
    "duration": 13,
    "start_time": "2023-02-05T10:37:10.581Z"
   },
   {
    "duration": 6,
    "start_time": "2023-02-05T10:37:10.595Z"
   },
   {
    "duration": 8,
    "start_time": "2023-02-05T10:37:10.602Z"
   },
   {
    "duration": 29,
    "start_time": "2023-02-05T10:37:10.612Z"
   },
   {
    "duration": 24,
    "start_time": "2023-02-05T10:37:10.642Z"
   },
   {
    "duration": 7,
    "start_time": "2023-02-05T10:37:10.667Z"
   },
   {
    "duration": 8,
    "start_time": "2023-02-05T10:37:10.676Z"
   },
   {
    "duration": 5,
    "start_time": "2023-02-05T10:37:10.686Z"
   },
   {
    "duration": 152,
    "start_time": "2023-02-05T10:37:10.692Z"
   },
   {
    "duration": 5,
    "start_time": "2023-02-05T10:37:10.846Z"
   },
   {
    "duration": 23,
    "start_time": "2023-02-05T10:37:10.853Z"
   },
   {
    "duration": 7,
    "start_time": "2023-02-05T10:37:10.877Z"
   },
   {
    "duration": 10,
    "start_time": "2023-02-05T10:37:10.885Z"
   },
   {
    "duration": 135,
    "start_time": "2023-02-05T10:37:10.897Z"
   },
   {
    "duration": 23,
    "start_time": "2023-02-05T10:37:11.033Z"
   },
   {
    "duration": 2,
    "start_time": "2023-02-05T10:37:11.057Z"
   },
   {
    "duration": 5,
    "start_time": "2023-02-05T10:37:11.060Z"
   },
   {
    "duration": 68,
    "start_time": "2023-02-05T10:38:32.650Z"
   },
   {
    "duration": 15,
    "start_time": "2023-02-05T10:38:32.719Z"
   },
   {
    "duration": 14,
    "start_time": "2023-02-05T10:38:32.735Z"
   },
   {
    "duration": 8,
    "start_time": "2023-02-05T10:38:32.751Z"
   },
   {
    "duration": 35,
    "start_time": "2023-02-05T10:38:32.761Z"
   },
   {
    "duration": 4,
    "start_time": "2023-02-05T10:38:32.798Z"
   },
   {
    "duration": 13,
    "start_time": "2023-02-05T10:38:32.803Z"
   },
   {
    "duration": 23,
    "start_time": "2023-02-05T10:38:32.817Z"
   },
   {
    "duration": 15,
    "start_time": "2023-02-05T10:38:32.842Z"
   },
   {
    "duration": 4,
    "start_time": "2023-02-05T10:38:32.859Z"
   },
   {
    "duration": 30,
    "start_time": "2023-02-05T10:38:32.864Z"
   },
   {
    "duration": 8,
    "start_time": "2023-02-05T10:38:32.896Z"
   },
   {
    "duration": 5,
    "start_time": "2023-02-05T10:38:32.905Z"
   },
   {
    "duration": 26,
    "start_time": "2023-02-05T10:38:32.911Z"
   },
   {
    "duration": 15,
    "start_time": "2023-02-05T10:38:32.938Z"
   },
   {
    "duration": 15,
    "start_time": "2023-02-05T10:38:32.955Z"
   },
   {
    "duration": 3,
    "start_time": "2023-02-05T10:38:32.971Z"
   },
   {
    "duration": 18,
    "start_time": "2023-02-05T10:38:32.975Z"
   },
   {
    "duration": 5,
    "start_time": "2023-02-05T10:38:32.994Z"
   },
   {
    "duration": 3,
    "start_time": "2023-02-05T10:38:33.000Z"
   },
   {
    "duration": 10,
    "start_time": "2023-02-05T10:38:33.005Z"
   },
   {
    "duration": 41,
    "start_time": "2023-02-05T10:38:33.016Z"
   },
   {
    "duration": 7,
    "start_time": "2023-02-05T10:38:33.059Z"
   },
   {
    "duration": 10,
    "start_time": "2023-02-05T10:38:33.067Z"
   },
   {
    "duration": 8,
    "start_time": "2023-02-05T10:38:33.079Z"
   },
   {
    "duration": 141,
    "start_time": "2023-02-05T10:38:33.088Z"
   },
   {
    "duration": 0,
    "start_time": "2023-02-05T10:38:33.230Z"
   },
   {
    "duration": 0,
    "start_time": "2023-02-05T10:38:33.231Z"
   },
   {
    "duration": 0,
    "start_time": "2023-02-05T10:38:33.237Z"
   },
   {
    "duration": 0,
    "start_time": "2023-02-05T10:38:33.238Z"
   },
   {
    "duration": 0,
    "start_time": "2023-02-05T10:38:33.239Z"
   },
   {
    "duration": 0,
    "start_time": "2023-02-05T10:38:33.239Z"
   },
   {
    "duration": 0,
    "start_time": "2023-02-05T10:38:33.240Z"
   },
   {
    "duration": 0,
    "start_time": "2023-02-05T10:38:33.241Z"
   },
   {
    "duration": 65,
    "start_time": "2023-02-05T10:38:56.444Z"
   },
   {
    "duration": 15,
    "start_time": "2023-02-05T10:38:56.510Z"
   },
   {
    "duration": 14,
    "start_time": "2023-02-05T10:38:56.527Z"
   },
   {
    "duration": 8,
    "start_time": "2023-02-05T10:38:56.543Z"
   },
   {
    "duration": 28,
    "start_time": "2023-02-05T10:38:56.553Z"
   },
   {
    "duration": 3,
    "start_time": "2023-02-05T10:38:56.583Z"
   },
   {
    "duration": 27,
    "start_time": "2023-02-05T10:38:56.587Z"
   },
   {
    "duration": 8,
    "start_time": "2023-02-05T10:38:56.616Z"
   },
   {
    "duration": 11,
    "start_time": "2023-02-05T10:38:56.626Z"
   },
   {
    "duration": 4,
    "start_time": "2023-02-05T10:38:56.640Z"
   },
   {
    "duration": 33,
    "start_time": "2023-02-05T10:38:56.645Z"
   },
   {
    "duration": 9,
    "start_time": "2023-02-05T10:38:56.679Z"
   },
   {
    "duration": 5,
    "start_time": "2023-02-05T10:38:56.689Z"
   },
   {
    "duration": 12,
    "start_time": "2023-02-05T10:38:56.695Z"
   },
   {
    "duration": 36,
    "start_time": "2023-02-05T10:38:56.708Z"
   },
   {
    "duration": 16,
    "start_time": "2023-02-05T10:38:56.746Z"
   },
   {
    "duration": 4,
    "start_time": "2023-02-05T10:38:56.763Z"
   },
   {
    "duration": 11,
    "start_time": "2023-02-05T10:38:56.768Z"
   },
   {
    "duration": 9,
    "start_time": "2023-02-05T10:38:56.780Z"
   },
   {
    "duration": 4,
    "start_time": "2023-02-05T10:38:56.790Z"
   },
   {
    "duration": 13,
    "start_time": "2023-02-05T10:38:56.795Z"
   },
   {
    "duration": 50,
    "start_time": "2023-02-05T10:38:56.809Z"
   },
   {
    "duration": 7,
    "start_time": "2023-02-05T10:38:56.861Z"
   },
   {
    "duration": 7,
    "start_time": "2023-02-05T10:38:56.870Z"
   },
   {
    "duration": 3,
    "start_time": "2023-02-05T10:38:56.878Z"
   },
   {
    "duration": 138,
    "start_time": "2023-02-05T10:38:56.882Z"
   },
   {
    "duration": 844,
    "start_time": "2023-02-05T10:38:57.021Z"
   },
   {
    "duration": 0,
    "start_time": "2023-02-05T10:38:57.867Z"
   },
   {
    "duration": 0,
    "start_time": "2023-02-05T10:38:57.869Z"
   },
   {
    "duration": 0,
    "start_time": "2023-02-05T10:38:57.870Z"
   },
   {
    "duration": 0,
    "start_time": "2023-02-05T10:38:57.872Z"
   },
   {
    "duration": 0,
    "start_time": "2023-02-05T10:38:57.874Z"
   },
   {
    "duration": 0,
    "start_time": "2023-02-05T10:38:57.875Z"
   },
   {
    "duration": 0,
    "start_time": "2023-02-05T10:38:57.876Z"
   },
   {
    "duration": 7,
    "start_time": "2023-02-05T10:39:26.185Z"
   },
   {
    "duration": 5,
    "start_time": "2023-02-05T10:39:58.255Z"
   },
   {
    "duration": 5176,
    "start_time": "2023-02-05T10:40:10.536Z"
   },
   {
    "duration": 0,
    "start_time": "2023-02-05T10:40:15.714Z"
   },
   {
    "duration": 0,
    "start_time": "2023-02-05T10:40:15.715Z"
   },
   {
    "duration": 65,
    "start_time": "2023-02-05T10:40:24.036Z"
   },
   {
    "duration": 14,
    "start_time": "2023-02-05T10:40:24.103Z"
   },
   {
    "duration": 22,
    "start_time": "2023-02-05T10:40:24.119Z"
   },
   {
    "duration": 8,
    "start_time": "2023-02-05T10:40:24.143Z"
   },
   {
    "duration": 31,
    "start_time": "2023-02-05T10:40:24.153Z"
   },
   {
    "duration": 3,
    "start_time": "2023-02-05T10:40:24.186Z"
   },
   {
    "duration": 18,
    "start_time": "2023-02-05T10:40:24.190Z"
   },
   {
    "duration": 5,
    "start_time": "2023-02-05T10:40:24.209Z"
   },
   {
    "duration": 22,
    "start_time": "2023-02-05T10:40:24.215Z"
   },
   {
    "duration": 4,
    "start_time": "2023-02-05T10:40:24.239Z"
   },
   {
    "duration": 35,
    "start_time": "2023-02-05T10:40:24.244Z"
   },
   {
    "duration": 9,
    "start_time": "2023-02-05T10:40:24.280Z"
   },
   {
    "duration": 5,
    "start_time": "2023-02-05T10:40:24.290Z"
   },
   {
    "duration": 11,
    "start_time": "2023-02-05T10:40:24.297Z"
   },
   {
    "duration": 38,
    "start_time": "2023-02-05T10:40:24.309Z"
   },
   {
    "duration": 19,
    "start_time": "2023-02-05T10:40:24.348Z"
   },
   {
    "duration": 4,
    "start_time": "2023-02-05T10:40:24.368Z"
   },
   {
    "duration": 20,
    "start_time": "2023-02-05T10:40:24.373Z"
   },
   {
    "duration": 5,
    "start_time": "2023-02-05T10:40:24.395Z"
   },
   {
    "duration": 4,
    "start_time": "2023-02-05T10:40:24.401Z"
   },
   {
    "duration": 31,
    "start_time": "2023-02-05T10:40:24.406Z"
   },
   {
    "duration": 24,
    "start_time": "2023-02-05T10:40:24.438Z"
   },
   {
    "duration": 7,
    "start_time": "2023-02-05T10:40:24.464Z"
   },
   {
    "duration": 8,
    "start_time": "2023-02-05T10:40:24.472Z"
   },
   {
    "duration": 4,
    "start_time": "2023-02-05T10:40:24.481Z"
   },
   {
    "duration": 149,
    "start_time": "2023-02-05T10:40:24.487Z"
   },
   {
    "duration": 910,
    "start_time": "2023-02-05T10:40:24.637Z"
   },
   {
    "duration": 0,
    "start_time": "2023-02-05T10:40:25.549Z"
   },
   {
    "duration": 0,
    "start_time": "2023-02-05T10:40:25.550Z"
   },
   {
    "duration": 0,
    "start_time": "2023-02-05T10:40:25.551Z"
   },
   {
    "duration": 0,
    "start_time": "2023-02-05T10:40:25.552Z"
   },
   {
    "duration": 0,
    "start_time": "2023-02-05T10:40:25.553Z"
   },
   {
    "duration": 0,
    "start_time": "2023-02-05T10:40:25.554Z"
   },
   {
    "duration": 0,
    "start_time": "2023-02-05T10:40:25.555Z"
   },
   {
    "duration": 71,
    "start_time": "2023-02-05T10:41:43.404Z"
   },
   {
    "duration": 16,
    "start_time": "2023-02-05T10:41:43.477Z"
   },
   {
    "duration": 14,
    "start_time": "2023-02-05T10:41:43.495Z"
   },
   {
    "duration": 13,
    "start_time": "2023-02-05T10:41:43.511Z"
   },
   {
    "duration": 36,
    "start_time": "2023-02-05T10:41:43.538Z"
   },
   {
    "duration": 4,
    "start_time": "2023-02-05T10:41:43.576Z"
   },
   {
    "duration": 17,
    "start_time": "2023-02-05T10:41:43.582Z"
   },
   {
    "duration": 5,
    "start_time": "2023-02-05T10:41:43.601Z"
   },
   {
    "duration": 30,
    "start_time": "2023-02-05T10:41:43.607Z"
   },
   {
    "duration": 4,
    "start_time": "2023-02-05T10:41:43.640Z"
   },
   {
    "duration": 41,
    "start_time": "2023-02-05T10:41:43.646Z"
   },
   {
    "duration": 10,
    "start_time": "2023-02-05T10:41:43.689Z"
   },
   {
    "duration": 5,
    "start_time": "2023-02-05T10:41:43.700Z"
   },
   {
    "duration": 32,
    "start_time": "2023-02-05T10:41:43.706Z"
   },
   {
    "duration": 16,
    "start_time": "2023-02-05T10:41:43.740Z"
   },
   {
    "duration": 16,
    "start_time": "2023-02-05T10:41:43.758Z"
   },
   {
    "duration": 4,
    "start_time": "2023-02-05T10:41:43.775Z"
   },
   {
    "duration": 15,
    "start_time": "2023-02-05T10:41:43.780Z"
   },
   {
    "duration": 6,
    "start_time": "2023-02-05T10:41:43.796Z"
   },
   {
    "duration": 6,
    "start_time": "2023-02-05T10:41:43.803Z"
   },
   {
    "duration": 30,
    "start_time": "2023-02-05T10:41:43.811Z"
   },
   {
    "duration": 26,
    "start_time": "2023-02-05T10:41:43.843Z"
   },
   {
    "duration": 8,
    "start_time": "2023-02-05T10:41:43.871Z"
   },
   {
    "duration": 10,
    "start_time": "2023-02-05T10:41:43.881Z"
   },
   {
    "duration": 21,
    "start_time": "2023-02-05T10:41:43.892Z"
   },
   {
    "duration": 4,
    "start_time": "2023-02-05T10:41:43.914Z"
   },
   {
    "duration": 140,
    "start_time": "2023-02-05T10:41:43.920Z"
   },
   {
    "duration": 5,
    "start_time": "2023-02-05T10:41:44.064Z"
   },
   {
    "duration": 24,
    "start_time": "2023-02-05T10:41:44.071Z"
   },
   {
    "duration": 7,
    "start_time": "2023-02-05T10:41:44.097Z"
   },
   {
    "duration": 32,
    "start_time": "2023-02-05T10:41:44.106Z"
   },
   {
    "duration": 128,
    "start_time": "2023-02-05T10:41:44.140Z"
   },
   {
    "duration": 25,
    "start_time": "2023-02-05T10:41:44.270Z"
   },
   {
    "duration": 2,
    "start_time": "2023-02-05T10:41:44.297Z"
   },
   {
    "duration": 6,
    "start_time": "2023-02-05T10:41:44.301Z"
   },
   {
    "duration": 5,
    "start_time": "2023-02-05T10:43:33.777Z"
   },
   {
    "duration": 5,
    "start_time": "2023-02-05T10:47:05.068Z"
   },
   {
    "duration": 63,
    "start_time": "2023-02-05T10:49:12.849Z"
   },
   {
    "duration": 13,
    "start_time": "2023-02-05T10:49:12.914Z"
   },
   {
    "duration": 19,
    "start_time": "2023-02-05T10:49:12.929Z"
   },
   {
    "duration": 24,
    "start_time": "2023-02-05T10:49:12.949Z"
   },
   {
    "duration": 34,
    "start_time": "2023-02-05T10:49:12.975Z"
   },
   {
    "duration": 4,
    "start_time": "2023-02-05T10:49:13.011Z"
   },
   {
    "duration": 18,
    "start_time": "2023-02-05T10:49:13.016Z"
   },
   {
    "duration": 19,
    "start_time": "2023-02-05T10:49:13.035Z"
   },
   {
    "duration": 10,
    "start_time": "2023-02-05T10:49:13.056Z"
   },
   {
    "duration": 7,
    "start_time": "2023-02-05T10:49:13.067Z"
   },
   {
    "duration": 33,
    "start_time": "2023-02-05T10:49:13.075Z"
   },
   {
    "duration": 8,
    "start_time": "2023-02-05T10:49:13.109Z"
   },
   {
    "duration": 4,
    "start_time": "2023-02-05T10:49:13.119Z"
   },
   {
    "duration": 17,
    "start_time": "2023-02-05T10:49:13.126Z"
   },
   {
    "duration": 27,
    "start_time": "2023-02-05T10:49:13.144Z"
   },
   {
    "duration": 17,
    "start_time": "2023-02-05T10:49:13.172Z"
   },
   {
    "duration": 3,
    "start_time": "2023-02-05T10:49:13.191Z"
   },
   {
    "duration": 9,
    "start_time": "2023-02-05T10:49:13.196Z"
   },
   {
    "duration": 5,
    "start_time": "2023-02-05T10:49:13.207Z"
   },
   {
    "duration": 8,
    "start_time": "2023-02-05T10:49:13.213Z"
   },
   {
    "duration": 41,
    "start_time": "2023-02-05T10:49:13.222Z"
   },
   {
    "duration": 31,
    "start_time": "2023-02-05T10:49:13.265Z"
   },
   {
    "duration": 7,
    "start_time": "2023-02-05T10:49:13.297Z"
   },
   {
    "duration": 14,
    "start_time": "2023-02-05T10:49:13.306Z"
   },
   {
    "duration": 6,
    "start_time": "2023-02-05T10:49:13.322Z"
   },
   {
    "duration": 38,
    "start_time": "2023-02-05T10:49:13.330Z"
   },
   {
    "duration": 126,
    "start_time": "2023-02-05T10:49:13.370Z"
   },
   {
    "duration": 5,
    "start_time": "2023-02-05T10:49:13.497Z"
   },
   {
    "duration": 28,
    "start_time": "2023-02-05T10:49:13.503Z"
   },
   {
    "duration": 11,
    "start_time": "2023-02-05T10:49:13.532Z"
   },
   {
    "duration": 23,
    "start_time": "2023-02-05T10:49:13.544Z"
   },
   {
    "duration": 14,
    "start_time": "2023-02-05T10:49:13.569Z"
   },
   {
    "duration": 135,
    "start_time": "2023-02-05T10:49:13.584Z"
   },
   {
    "duration": 4,
    "start_time": "2023-02-05T10:49:13.721Z"
   },
   {
    "duration": 32,
    "start_time": "2023-02-05T10:49:13.727Z"
   },
   {
    "duration": 2,
    "start_time": "2023-02-05T10:49:13.761Z"
   },
   {
    "duration": 8,
    "start_time": "2023-02-05T10:49:13.765Z"
   },
   {
    "duration": 3,
    "start_time": "2023-02-05T10:50:35.152Z"
   },
   {
    "duration": 4,
    "start_time": "2023-02-05T10:50:40.446Z"
   },
   {
    "duration": 118,
    "start_time": "2023-02-05T10:50:42.827Z"
   },
   {
    "duration": 6,
    "start_time": "2023-02-05T10:50:43.430Z"
   },
   {
    "duration": 5,
    "start_time": "2023-02-05T10:51:12.286Z"
   },
   {
    "duration": 66,
    "start_time": "2023-02-05T10:51:38.023Z"
   },
   {
    "duration": 14,
    "start_time": "2023-02-05T10:51:38.091Z"
   },
   {
    "duration": 15,
    "start_time": "2023-02-05T10:51:38.107Z"
   },
   {
    "duration": 9,
    "start_time": "2023-02-05T10:51:38.138Z"
   },
   {
    "duration": 30,
    "start_time": "2023-02-05T10:51:38.149Z"
   },
   {
    "duration": 3,
    "start_time": "2023-02-05T10:51:38.181Z"
   },
   {
    "duration": 9,
    "start_time": "2023-02-05T10:51:38.186Z"
   },
   {
    "duration": 4,
    "start_time": "2023-02-05T10:51:38.197Z"
   },
   {
    "duration": 36,
    "start_time": "2023-02-05T10:51:38.203Z"
   },
   {
    "duration": 5,
    "start_time": "2023-02-05T10:51:38.242Z"
   },
   {
    "duration": 31,
    "start_time": "2023-02-05T10:51:38.249Z"
   },
   {
    "duration": 9,
    "start_time": "2023-02-05T10:51:38.281Z"
   },
   {
    "duration": 4,
    "start_time": "2023-02-05T10:51:38.292Z"
   },
   {
    "duration": 42,
    "start_time": "2023-02-05T10:51:38.297Z"
   },
   {
    "duration": 19,
    "start_time": "2023-02-05T10:51:38.341Z"
   },
   {
    "duration": 16,
    "start_time": "2023-02-05T10:51:38.361Z"
   },
   {
    "duration": 3,
    "start_time": "2023-02-05T10:51:38.379Z"
   },
   {
    "duration": 24,
    "start_time": "2023-02-05T10:51:38.384Z"
   },
   {
    "duration": 10,
    "start_time": "2023-02-05T10:51:38.410Z"
   },
   {
    "duration": 3,
    "start_time": "2023-02-05T10:51:38.422Z"
   },
   {
    "duration": 17,
    "start_time": "2023-02-05T10:51:38.427Z"
   },
   {
    "duration": 23,
    "start_time": "2023-02-05T10:51:38.446Z"
   },
   {
    "duration": 7,
    "start_time": "2023-02-05T10:51:38.470Z"
   },
   {
    "duration": 8,
    "start_time": "2023-02-05T10:51:38.479Z"
   },
   {
    "duration": 4,
    "start_time": "2023-02-05T10:51:38.488Z"
   },
   {
    "duration": 5,
    "start_time": "2023-02-05T10:51:38.493Z"
   },
   {
    "duration": 146,
    "start_time": "2023-02-05T10:51:38.499Z"
   },
   {
    "duration": 5,
    "start_time": "2023-02-05T10:51:38.648Z"
   },
   {
    "duration": 25,
    "start_time": "2023-02-05T10:51:38.654Z"
   },
   {
    "duration": 7,
    "start_time": "2023-02-05T10:51:38.680Z"
   },
   {
    "duration": 4,
    "start_time": "2023-02-05T10:51:38.689Z"
   },
   {
    "duration": 7,
    "start_time": "2023-02-05T10:51:38.695Z"
   },
   {
    "duration": 146,
    "start_time": "2023-02-05T10:51:38.703Z"
   },
   {
    "duration": 4,
    "start_time": "2023-02-05T10:51:38.851Z"
   },
   {
    "duration": 3,
    "start_time": "2023-02-05T10:51:38.857Z"
   },
   {
    "duration": 4,
    "start_time": "2023-02-05T10:51:38.861Z"
   },
   {
    "duration": 60,
    "start_time": "2023-02-05T10:52:19.856Z"
   },
   {
    "duration": 14,
    "start_time": "2023-02-05T10:52:19.918Z"
   },
   {
    "duration": 14,
    "start_time": "2023-02-05T10:52:19.934Z"
   },
   {
    "duration": 9,
    "start_time": "2023-02-05T10:52:19.950Z"
   },
   {
    "duration": 60,
    "start_time": "2023-02-05T10:52:19.961Z"
   },
   {
    "duration": 4,
    "start_time": "2023-02-05T10:52:20.023Z"
   },
   {
    "duration": 19,
    "start_time": "2023-02-05T10:52:20.029Z"
   },
   {
    "duration": 30,
    "start_time": "2023-02-05T10:52:20.050Z"
   },
   {
    "duration": 12,
    "start_time": "2023-02-05T10:52:20.082Z"
   },
   {
    "duration": 8,
    "start_time": "2023-02-05T10:52:20.097Z"
   },
   {
    "duration": 32,
    "start_time": "2023-02-05T10:52:20.107Z"
   },
   {
    "duration": 10,
    "start_time": "2023-02-05T10:52:20.140Z"
   },
   {
    "duration": 10,
    "start_time": "2023-02-05T10:52:20.151Z"
   },
   {
    "duration": 10,
    "start_time": "2023-02-05T10:52:20.163Z"
   },
   {
    "duration": 16,
    "start_time": "2023-02-05T10:52:20.175Z"
   },
   {
    "duration": 16,
    "start_time": "2023-02-05T10:52:20.193Z"
   },
   {
    "duration": 3,
    "start_time": "2023-02-05T10:52:20.211Z"
   },
   {
    "duration": 9,
    "start_time": "2023-02-05T10:52:20.237Z"
   },
   {
    "duration": 7,
    "start_time": "2023-02-05T10:52:20.248Z"
   },
   {
    "duration": 2,
    "start_time": "2023-02-05T10:52:20.257Z"
   },
   {
    "duration": 19,
    "start_time": "2023-02-05T10:52:20.261Z"
   },
   {
    "duration": 24,
    "start_time": "2023-02-05T10:52:20.281Z"
   },
   {
    "duration": 7,
    "start_time": "2023-02-05T10:52:20.306Z"
   },
   {
    "duration": 25,
    "start_time": "2023-02-05T10:52:20.314Z"
   },
   {
    "duration": 18,
    "start_time": "2023-02-05T10:52:20.341Z"
   },
   {
    "duration": 11,
    "start_time": "2023-02-05T10:52:20.361Z"
   },
   {
    "duration": 131,
    "start_time": "2023-02-05T10:52:20.374Z"
   },
   {
    "duration": 5,
    "start_time": "2023-02-05T10:52:20.509Z"
   },
   {
    "duration": 39,
    "start_time": "2023-02-05T10:52:20.516Z"
   },
   {
    "duration": 7,
    "start_time": "2023-02-05T10:52:20.557Z"
   },
   {
    "duration": 19,
    "start_time": "2023-02-05T10:52:20.565Z"
   },
   {
    "duration": 12,
    "start_time": "2023-02-05T10:52:20.586Z"
   },
   {
    "duration": 122,
    "start_time": "2023-02-05T10:52:20.599Z"
   },
   {
    "duration": 14,
    "start_time": "2023-02-05T10:52:20.723Z"
   },
   {
    "duration": 2,
    "start_time": "2023-02-05T10:52:20.739Z"
   },
   {
    "duration": 5,
    "start_time": "2023-02-05T10:52:20.742Z"
   },
   {
    "duration": 3,
    "start_time": "2023-02-05T10:52:49.209Z"
   },
   {
    "duration": 3,
    "start_time": "2023-02-05T10:52:50.806Z"
   },
   {
    "duration": 138,
    "start_time": "2023-02-05T10:52:55.246Z"
   },
   {
    "duration": 5,
    "start_time": "2023-02-05T10:52:57.586Z"
   },
   {
    "duration": 24,
    "start_time": "2023-02-05T10:52:59.615Z"
   },
   {
    "duration": 10,
    "start_time": "2023-02-05T10:53:00.622Z"
   },
   {
    "duration": 3,
    "start_time": "2023-02-05T10:53:02.830Z"
   },
   {
    "duration": 5,
    "start_time": "2023-02-05T10:53:03.916Z"
   },
   {
    "duration": 123,
    "start_time": "2023-02-05T10:53:05.462Z"
   },
   {
    "duration": 6,
    "start_time": "2023-02-05T10:53:06.022Z"
   },
   {
    "duration": 5,
    "start_time": "2023-02-05T10:53:47.350Z"
   },
   {
    "duration": 5,
    "start_time": "2023-02-05T10:54:13.550Z"
   },
   {
    "duration": 2,
    "start_time": "2023-02-05T10:54:18.251Z"
   },
   {
    "duration": 64,
    "start_time": "2023-02-05T10:54:29.531Z"
   },
   {
    "duration": 15,
    "start_time": "2023-02-05T10:54:29.597Z"
   },
   {
    "duration": 17,
    "start_time": "2023-02-05T10:54:29.613Z"
   },
   {
    "duration": 11,
    "start_time": "2023-02-05T10:54:29.632Z"
   },
   {
    "duration": 30,
    "start_time": "2023-02-05T10:54:29.645Z"
   },
   {
    "duration": 3,
    "start_time": "2023-02-05T10:54:29.677Z"
   },
   {
    "duration": 10,
    "start_time": "2023-02-05T10:54:29.681Z"
   },
   {
    "duration": 4,
    "start_time": "2023-02-05T10:54:29.693Z"
   },
   {
    "duration": 11,
    "start_time": "2023-02-05T10:54:29.698Z"
   },
   {
    "duration": 29,
    "start_time": "2023-02-05T10:54:29.711Z"
   },
   {
    "duration": 32,
    "start_time": "2023-02-05T10:54:29.741Z"
   },
   {
    "duration": 8,
    "start_time": "2023-02-05T10:54:29.774Z"
   },
   {
    "duration": 4,
    "start_time": "2023-02-05T10:54:29.784Z"
   },
   {
    "duration": 12,
    "start_time": "2023-02-05T10:54:29.789Z"
   },
   {
    "duration": 39,
    "start_time": "2023-02-05T10:54:29.802Z"
   },
   {
    "duration": 18,
    "start_time": "2023-02-05T10:54:29.843Z"
   },
   {
    "duration": 4,
    "start_time": "2023-02-05T10:54:29.862Z"
   },
   {
    "duration": 12,
    "start_time": "2023-02-05T10:54:29.867Z"
   },
   {
    "duration": 5,
    "start_time": "2023-02-05T10:54:29.881Z"
   },
   {
    "duration": 3,
    "start_time": "2023-02-05T10:54:29.888Z"
   },
   {
    "duration": 12,
    "start_time": "2023-02-05T10:54:29.893Z"
   },
   {
    "duration": 53,
    "start_time": "2023-02-05T10:54:29.906Z"
   },
   {
    "duration": 8,
    "start_time": "2023-02-05T10:54:29.960Z"
   },
   {
    "duration": 8,
    "start_time": "2023-02-05T10:54:29.969Z"
   },
   {
    "duration": 4,
    "start_time": "2023-02-05T10:54:29.978Z"
   },
   {
    "duration": 4,
    "start_time": "2023-02-05T10:54:39.555Z"
   },
   {
    "duration": 122,
    "start_time": "2023-02-05T10:54:40.508Z"
   },
   {
    "duration": 5,
    "start_time": "2023-02-05T10:54:41.495Z"
   },
   {
    "duration": 27,
    "start_time": "2023-02-05T10:54:43.437Z"
   },
   {
    "duration": 8,
    "start_time": "2023-02-05T10:54:44.734Z"
   },
   {
    "duration": 6,
    "start_time": "2023-02-05T10:54:47.053Z"
   },
   {
    "duration": 4,
    "start_time": "2023-02-05T10:55:50.763Z"
   },
   {
    "duration": 66,
    "start_time": "2023-02-05T10:56:04.179Z"
   },
   {
    "duration": 16,
    "start_time": "2023-02-05T10:56:04.247Z"
   },
   {
    "duration": 20,
    "start_time": "2023-02-05T10:56:04.265Z"
   },
   {
    "duration": 10,
    "start_time": "2023-02-05T10:56:04.287Z"
   },
   {
    "duration": 46,
    "start_time": "2023-02-05T10:56:04.299Z"
   },
   {
    "duration": 4,
    "start_time": "2023-02-05T10:56:04.346Z"
   },
   {
    "duration": 18,
    "start_time": "2023-02-05T10:56:04.351Z"
   },
   {
    "duration": 6,
    "start_time": "2023-02-05T10:56:04.371Z"
   },
   {
    "duration": 8,
    "start_time": "2023-02-05T10:56:04.378Z"
   },
   {
    "duration": 12,
    "start_time": "2023-02-05T10:56:04.388Z"
   },
   {
    "duration": 37,
    "start_time": "2023-02-05T10:56:04.401Z"
   },
   {
    "duration": 9,
    "start_time": "2023-02-05T10:56:04.439Z"
   },
   {
    "duration": 5,
    "start_time": "2023-02-05T10:56:04.449Z"
   },
   {
    "duration": 13,
    "start_time": "2023-02-05T10:56:04.455Z"
   },
   {
    "duration": 20,
    "start_time": "2023-02-05T10:56:04.469Z"
   },
   {
    "duration": 17,
    "start_time": "2023-02-05T10:56:04.491Z"
   },
   {
    "duration": 27,
    "start_time": "2023-02-05T10:56:04.510Z"
   },
   {
    "duration": 9,
    "start_time": "2023-02-05T10:56:04.539Z"
   },
   {
    "duration": 5,
    "start_time": "2023-02-05T10:56:04.550Z"
   },
   {
    "duration": 6,
    "start_time": "2023-02-05T10:56:04.557Z"
   },
   {
    "duration": 13,
    "start_time": "2023-02-05T10:56:04.565Z"
   },
   {
    "duration": 24,
    "start_time": "2023-02-05T10:56:04.579Z"
   },
   {
    "duration": 34,
    "start_time": "2023-02-05T10:56:04.605Z"
   },
   {
    "duration": 7,
    "start_time": "2023-02-05T10:56:04.641Z"
   },
   {
    "duration": 5,
    "start_time": "2023-02-05T10:56:04.650Z"
   },
   {
    "duration": 8,
    "start_time": "2023-02-05T10:56:04.656Z"
   },
   {
    "duration": 5,
    "start_time": "2023-02-05T10:56:41.490Z"
   },
   {
    "duration": 4,
    "start_time": "2023-02-05T10:57:02.524Z"
   },
   {
    "duration": 5,
    "start_time": "2023-02-05T10:57:06.285Z"
   },
   {
    "duration": 3,
    "start_time": "2023-02-05T10:57:07.942Z"
   },
   {
    "duration": 129,
    "start_time": "2023-02-05T10:57:08.742Z"
   },
   {
    "duration": 5,
    "start_time": "2023-02-05T10:57:09.338Z"
   },
   {
    "duration": 26,
    "start_time": "2023-02-05T10:57:10.305Z"
   },
   {
    "duration": 8,
    "start_time": "2023-02-05T10:57:11.312Z"
   },
   {
    "duration": 5,
    "start_time": "2023-02-05T10:57:13.215Z"
   },
   {
    "duration": 3,
    "start_time": "2023-02-05T10:57:14.136Z"
   },
   {
    "duration": 5,
    "start_time": "2023-02-05T10:57:23.590Z"
   },
   {
    "duration": 127,
    "start_time": "2023-02-05T10:57:24.218Z"
   },
   {
    "duration": 4,
    "start_time": "2023-02-05T10:57:24.776Z"
   },
   {
    "duration": 5,
    "start_time": "2023-02-05T10:59:54.774Z"
   },
   {
    "duration": 5,
    "start_time": "2023-02-05T11:00:04.015Z"
   },
   {
    "duration": 66,
    "start_time": "2023-02-05T11:00:11.574Z"
   },
   {
    "duration": 15,
    "start_time": "2023-02-05T11:00:11.642Z"
   },
   {
    "duration": 33,
    "start_time": "2023-02-05T11:00:11.659Z"
   },
   {
    "duration": 14,
    "start_time": "2023-02-05T11:00:11.694Z"
   },
   {
    "duration": 30,
    "start_time": "2023-02-05T11:00:11.709Z"
   },
   {
    "duration": 2,
    "start_time": "2023-02-05T11:00:11.741Z"
   },
   {
    "duration": 13,
    "start_time": "2023-02-05T11:00:11.744Z"
   },
   {
    "duration": 14,
    "start_time": "2023-02-05T11:00:11.758Z"
   },
   {
    "duration": 16,
    "start_time": "2023-02-05T11:00:11.774Z"
   },
   {
    "duration": 50,
    "start_time": "2023-02-05T11:00:11.792Z"
   },
   {
    "duration": 30,
    "start_time": "2023-02-05T11:00:11.843Z"
   },
   {
    "duration": 9,
    "start_time": "2023-02-05T11:00:11.875Z"
   },
   {
    "duration": 21,
    "start_time": "2023-02-05T11:00:11.885Z"
   },
   {
    "duration": 21,
    "start_time": "2023-02-05T11:00:11.907Z"
   },
   {
    "duration": 32,
    "start_time": "2023-02-05T11:00:11.930Z"
   },
   {
    "duration": 16,
    "start_time": "2023-02-05T11:00:11.964Z"
   },
   {
    "duration": 3,
    "start_time": "2023-02-05T11:00:11.982Z"
   },
   {
    "duration": 14,
    "start_time": "2023-02-05T11:00:11.987Z"
   },
   {
    "duration": 5,
    "start_time": "2023-02-05T11:00:12.002Z"
   },
   {
    "duration": 3,
    "start_time": "2023-02-05T11:00:12.009Z"
   },
   {
    "duration": 25,
    "start_time": "2023-02-05T11:00:12.013Z"
   },
   {
    "duration": 27,
    "start_time": "2023-02-05T11:00:12.039Z"
   },
   {
    "duration": 8,
    "start_time": "2023-02-05T11:00:12.068Z"
   },
   {
    "duration": 5,
    "start_time": "2023-02-05T11:00:12.077Z"
   },
   {
    "duration": 8,
    "start_time": "2023-02-05T11:00:12.084Z"
   },
   {
    "duration": 7,
    "start_time": "2023-02-05T11:00:12.094Z"
   },
   {
    "duration": 8,
    "start_time": "2023-02-05T11:00:12.102Z"
   },
   {
    "duration": 6,
    "start_time": "2023-02-05T11:01:51.019Z"
   },
   {
    "duration": 64,
    "start_time": "2023-02-05T11:01:57.739Z"
   },
   {
    "duration": 14,
    "start_time": "2023-02-05T11:01:57.805Z"
   },
   {
    "duration": 24,
    "start_time": "2023-02-05T11:01:57.820Z"
   },
   {
    "duration": 10,
    "start_time": "2023-02-05T11:01:57.846Z"
   },
   {
    "duration": 35,
    "start_time": "2023-02-05T11:01:57.858Z"
   },
   {
    "duration": 4,
    "start_time": "2023-02-05T11:01:57.895Z"
   },
   {
    "duration": 10,
    "start_time": "2023-02-05T11:01:57.900Z"
   },
   {
    "duration": 26,
    "start_time": "2023-02-05T11:01:57.911Z"
   },
   {
    "duration": 5,
    "start_time": "2023-02-05T11:01:57.939Z"
   },
   {
    "duration": 4,
    "start_time": "2023-02-05T11:01:57.948Z"
   },
   {
    "duration": 31,
    "start_time": "2023-02-05T11:01:57.953Z"
   },
   {
    "duration": 8,
    "start_time": "2023-02-05T11:01:57.986Z"
   },
   {
    "duration": 6,
    "start_time": "2023-02-05T11:01:57.996Z"
   },
   {
    "duration": 33,
    "start_time": "2023-02-05T11:01:58.004Z"
   },
   {
    "duration": 17,
    "start_time": "2023-02-05T11:01:58.039Z"
   },
   {
    "duration": 16,
    "start_time": "2023-02-05T11:01:58.057Z"
   },
   {
    "duration": 3,
    "start_time": "2023-02-05T11:01:58.075Z"
   },
   {
    "duration": 12,
    "start_time": "2023-02-05T11:01:58.079Z"
   },
   {
    "duration": 6,
    "start_time": "2023-02-05T11:01:58.092Z"
   },
   {
    "duration": 5,
    "start_time": "2023-02-05T11:01:58.099Z"
   },
   {
    "duration": 39,
    "start_time": "2023-02-05T11:01:58.105Z"
   },
   {
    "duration": 27,
    "start_time": "2023-02-05T11:01:58.145Z"
   },
   {
    "duration": 7,
    "start_time": "2023-02-05T11:01:58.174Z"
   },
   {
    "duration": 8,
    "start_time": "2023-02-05T11:01:58.183Z"
   },
   {
    "duration": 8,
    "start_time": "2023-02-05T11:01:58.193Z"
   },
   {
    "duration": 4,
    "start_time": "2023-02-05T11:01:58.202Z"
   },
   {
    "duration": 30,
    "start_time": "2023-02-05T11:01:58.208Z"
   },
   {
    "duration": 130,
    "start_time": "2023-02-05T11:01:58.241Z"
   },
   {
    "duration": 5,
    "start_time": "2023-02-05T11:01:58.373Z"
   },
   {
    "duration": 8,
    "start_time": "2023-02-05T11:01:58.379Z"
   },
   {
    "duration": 26,
    "start_time": "2023-02-05T11:01:58.388Z"
   },
   {
    "duration": 22,
    "start_time": "2023-02-05T11:01:58.416Z"
   },
   {
    "duration": 7,
    "start_time": "2023-02-05T11:01:58.440Z"
   },
   {
    "duration": 4,
    "start_time": "2023-02-05T11:01:58.448Z"
   },
   {
    "duration": 8,
    "start_time": "2023-02-05T11:01:58.454Z"
   },
   {
    "duration": 147,
    "start_time": "2023-02-05T11:01:58.463Z"
   },
   {
    "duration": 5,
    "start_time": "2023-02-05T11:01:58.611Z"
   },
   {
    "duration": 6,
    "start_time": "2023-02-05T11:01:58.618Z"
   },
   {
    "duration": 13,
    "start_time": "2023-02-05T11:01:58.626Z"
   },
   {
    "duration": 72,
    "start_time": "2023-02-05T11:03:32.542Z"
   },
   {
    "duration": 20,
    "start_time": "2023-02-05T11:03:32.617Z"
   },
   {
    "duration": 25,
    "start_time": "2023-02-05T11:03:32.640Z"
   },
   {
    "duration": 13,
    "start_time": "2023-02-05T11:03:32.668Z"
   },
   {
    "duration": 45,
    "start_time": "2023-02-05T11:03:32.682Z"
   },
   {
    "duration": 9,
    "start_time": "2023-02-05T11:03:32.729Z"
   },
   {
    "duration": 12,
    "start_time": "2023-02-05T11:03:32.740Z"
   },
   {
    "duration": 7,
    "start_time": "2023-02-05T11:03:32.754Z"
   },
   {
    "duration": 9,
    "start_time": "2023-02-05T11:03:32.762Z"
   },
   {
    "duration": 5,
    "start_time": "2023-02-05T11:03:32.773Z"
   },
   {
    "duration": 32,
    "start_time": "2023-02-05T11:03:32.779Z"
   },
   {
    "duration": 25,
    "start_time": "2023-02-05T11:03:32.812Z"
   },
   {
    "duration": 4,
    "start_time": "2023-02-05T11:03:32.838Z"
   },
   {
    "duration": 11,
    "start_time": "2023-02-05T11:03:32.844Z"
   },
   {
    "duration": 17,
    "start_time": "2023-02-05T11:03:32.856Z"
   },
   {
    "duration": 15,
    "start_time": "2023-02-05T11:03:32.875Z"
   },
   {
    "duration": 4,
    "start_time": "2023-02-05T11:03:32.891Z"
   },
   {
    "duration": 13,
    "start_time": "2023-02-05T11:03:32.896Z"
   },
   {
    "duration": 28,
    "start_time": "2023-02-05T11:03:32.910Z"
   },
   {
    "duration": 3,
    "start_time": "2023-02-05T11:03:32.940Z"
   },
   {
    "duration": 14,
    "start_time": "2023-02-05T11:03:32.945Z"
   },
   {
    "duration": 23,
    "start_time": "2023-02-05T11:03:32.961Z"
   },
   {
    "duration": 9,
    "start_time": "2023-02-05T11:03:32.985Z"
   },
   {
    "duration": 12,
    "start_time": "2023-02-05T11:03:32.995Z"
   },
   {
    "duration": 28,
    "start_time": "2023-02-05T11:03:33.009Z"
   },
   {
    "duration": 129,
    "start_time": "2023-02-05T11:03:33.039Z"
   },
   {
    "duration": 6,
    "start_time": "2023-02-05T11:03:33.170Z"
   },
   {
    "duration": 5,
    "start_time": "2023-02-05T11:03:33.180Z"
   },
   {
    "duration": 23,
    "start_time": "2023-02-05T11:03:33.187Z"
   },
   {
    "duration": 30,
    "start_time": "2023-02-05T11:03:33.212Z"
   },
   {
    "duration": 7,
    "start_time": "2023-02-05T11:03:33.244Z"
   },
   {
    "duration": 4,
    "start_time": "2023-02-05T11:03:33.252Z"
   },
   {
    "duration": 138,
    "start_time": "2023-02-05T11:03:33.258Z"
   },
   {
    "duration": 5,
    "start_time": "2023-02-05T11:03:33.398Z"
   },
   {
    "duration": 3,
    "start_time": "2023-02-05T11:03:33.405Z"
   },
   {
    "duration": 3,
    "start_time": "2023-02-05T11:03:33.410Z"
   },
   {
    "duration": 24,
    "start_time": "2023-02-05T11:05:25.033Z"
   },
   {
    "duration": 8,
    "start_time": "2023-02-05T11:05:56.852Z"
   },
   {
    "duration": 66,
    "start_time": "2023-02-05T11:06:08.620Z"
   },
   {
    "duration": 15,
    "start_time": "2023-02-05T11:06:08.687Z"
   },
   {
    "duration": 14,
    "start_time": "2023-02-05T11:06:08.703Z"
   },
   {
    "duration": 9,
    "start_time": "2023-02-05T11:06:08.738Z"
   },
   {
    "duration": 32,
    "start_time": "2023-02-05T11:06:08.748Z"
   },
   {
    "duration": 3,
    "start_time": "2023-02-05T11:06:08.782Z"
   },
   {
    "duration": 12,
    "start_time": "2023-02-05T11:06:08.786Z"
   },
   {
    "duration": 4,
    "start_time": "2023-02-05T11:06:08.799Z"
   },
   {
    "duration": 5,
    "start_time": "2023-02-05T11:06:08.805Z"
   },
   {
    "duration": 4,
    "start_time": "2023-02-05T11:06:08.837Z"
   },
   {
    "duration": 32,
    "start_time": "2023-02-05T11:06:08.842Z"
   },
   {
    "duration": 8,
    "start_time": "2023-02-05T11:06:08.875Z"
   },
   {
    "duration": 4,
    "start_time": "2023-02-05T11:06:08.885Z"
   },
   {
    "duration": 10,
    "start_time": "2023-02-05T11:06:08.891Z"
   },
   {
    "duration": 36,
    "start_time": "2023-02-05T11:06:08.903Z"
   },
   {
    "duration": 16,
    "start_time": "2023-02-05T11:06:08.941Z"
   },
   {
    "duration": 3,
    "start_time": "2023-02-05T11:06:08.958Z"
   },
   {
    "duration": 11,
    "start_time": "2023-02-05T11:06:08.963Z"
   },
   {
    "duration": 5,
    "start_time": "2023-02-05T11:06:08.976Z"
   },
   {
    "duration": 3,
    "start_time": "2023-02-05T11:06:08.982Z"
   },
   {
    "duration": 19,
    "start_time": "2023-02-05T11:06:08.987Z"
   },
   {
    "duration": 45,
    "start_time": "2023-02-05T11:06:09.008Z"
   },
   {
    "duration": 6,
    "start_time": "2023-02-05T11:06:09.055Z"
   },
   {
    "duration": 10,
    "start_time": "2023-02-05T11:06:09.063Z"
   },
   {
    "duration": 4,
    "start_time": "2023-02-05T11:06:09.074Z"
   },
   {
    "duration": 137,
    "start_time": "2023-02-05T11:06:09.079Z"
   },
   {
    "duration": 5,
    "start_time": "2023-02-05T11:06:09.218Z"
   },
   {
    "duration": 13,
    "start_time": "2023-02-05T11:06:09.225Z"
   },
   {
    "duration": 26,
    "start_time": "2023-02-05T11:06:09.239Z"
   },
   {
    "duration": 7,
    "start_time": "2023-02-05T11:06:09.267Z"
   },
   {
    "duration": 6,
    "start_time": "2023-02-05T11:06:09.276Z"
   },
   {
    "duration": 5,
    "start_time": "2023-02-05T11:06:09.284Z"
   },
   {
    "duration": 149,
    "start_time": "2023-02-05T11:06:09.290Z"
   },
   {
    "duration": 6,
    "start_time": "2023-02-05T11:06:09.440Z"
   },
   {
    "duration": 24,
    "start_time": "2023-02-05T11:06:09.448Z"
   },
   {
    "duration": 7,
    "start_time": "2023-02-05T11:06:09.474Z"
   },
   {
    "duration": 5,
    "start_time": "2023-02-05T11:06:09.483Z"
   },
   {
    "duration": 4,
    "start_time": "2023-02-05T11:06:09.489Z"
   },
   {
    "duration": 5,
    "start_time": "2023-02-05T11:07:10.556Z"
   },
   {
    "duration": 3,
    "start_time": "2023-02-05T11:07:52.020Z"
   },
   {
    "duration": 67,
    "start_time": "2023-02-05T11:07:56.004Z"
   },
   {
    "duration": 14,
    "start_time": "2023-02-05T11:07:56.073Z"
   },
   {
    "duration": 13,
    "start_time": "2023-02-05T11:07:56.089Z"
   },
   {
    "duration": 34,
    "start_time": "2023-02-05T11:07:56.105Z"
   },
   {
    "duration": 43,
    "start_time": "2023-02-05T11:07:56.141Z"
   },
   {
    "duration": 3,
    "start_time": "2023-02-05T11:07:56.185Z"
   },
   {
    "duration": 9,
    "start_time": "2023-02-05T11:07:56.190Z"
   },
   {
    "duration": 3,
    "start_time": "2023-02-05T11:07:56.200Z"
   },
   {
    "duration": 32,
    "start_time": "2023-02-05T11:07:56.205Z"
   },
   {
    "duration": 4,
    "start_time": "2023-02-05T11:07:56.239Z"
   },
   {
    "duration": 37,
    "start_time": "2023-02-05T11:07:56.245Z"
   },
   {
    "duration": 9,
    "start_time": "2023-02-05T11:07:56.283Z"
   },
   {
    "duration": 9,
    "start_time": "2023-02-05T11:07:56.294Z"
   },
   {
    "duration": 21,
    "start_time": "2023-02-05T11:07:56.305Z"
   },
   {
    "duration": 20,
    "start_time": "2023-02-05T11:07:56.336Z"
   },
   {
    "duration": 21,
    "start_time": "2023-02-05T11:07:56.358Z"
   },
   {
    "duration": 5,
    "start_time": "2023-02-05T11:07:56.380Z"
   },
   {
    "duration": 10,
    "start_time": "2023-02-05T11:07:56.387Z"
   },
   {
    "duration": 5,
    "start_time": "2023-02-05T11:07:56.399Z"
   },
   {
    "duration": 4,
    "start_time": "2023-02-05T11:07:56.406Z"
   },
   {
    "duration": 12,
    "start_time": "2023-02-05T11:07:56.436Z"
   },
   {
    "duration": 31,
    "start_time": "2023-02-05T11:07:56.450Z"
   },
   {
    "duration": 7,
    "start_time": "2023-02-05T11:07:56.482Z"
   },
   {
    "duration": 4,
    "start_time": "2023-02-05T11:07:56.491Z"
   },
   {
    "duration": 8,
    "start_time": "2023-02-05T11:07:56.497Z"
   },
   {
    "duration": 30,
    "start_time": "2023-02-05T11:07:56.507Z"
   },
   {
    "duration": 130,
    "start_time": "2023-02-05T11:07:56.539Z"
   },
   {
    "duration": 5,
    "start_time": "2023-02-05T11:07:56.673Z"
   },
   {
    "duration": 8,
    "start_time": "2023-02-05T11:07:56.680Z"
   },
   {
    "duration": 25,
    "start_time": "2023-02-05T11:07:56.690Z"
   },
   {
    "duration": 26,
    "start_time": "2023-02-05T11:07:56.717Z"
   },
   {
    "duration": 10,
    "start_time": "2023-02-05T11:07:56.745Z"
   },
   {
    "duration": 3,
    "start_time": "2023-02-05T11:07:56.756Z"
   },
   {
    "duration": 135,
    "start_time": "2023-02-05T11:07:56.761Z"
   },
   {
    "duration": 5,
    "start_time": "2023-02-05T11:07:56.898Z"
   },
   {
    "duration": 36,
    "start_time": "2023-02-05T11:07:56.904Z"
   },
   {
    "duration": 7,
    "start_time": "2023-02-05T11:07:56.942Z"
   },
   {
    "duration": 4,
    "start_time": "2023-02-05T11:07:56.951Z"
   },
   {
    "duration": 8,
    "start_time": "2023-02-05T11:07:56.956Z"
   },
   {
    "duration": 5,
    "start_time": "2023-02-05T11:08:37.787Z"
   },
   {
    "duration": 8,
    "start_time": "2023-02-05T11:08:42.330Z"
   },
   {
    "duration": 131,
    "start_time": "2023-02-05T11:08:42.892Z"
   },
   {
    "duration": 65,
    "start_time": "2023-02-05T11:08:47.063Z"
   },
   {
    "duration": 14,
    "start_time": "2023-02-05T11:08:47.131Z"
   },
   {
    "duration": 25,
    "start_time": "2023-02-05T11:08:47.147Z"
   },
   {
    "duration": 8,
    "start_time": "2023-02-05T11:08:47.174Z"
   },
   {
    "duration": 31,
    "start_time": "2023-02-05T11:08:47.184Z"
   },
   {
    "duration": 4,
    "start_time": "2023-02-05T11:08:47.216Z"
   },
   {
    "duration": 19,
    "start_time": "2023-02-05T11:08:47.221Z"
   },
   {
    "duration": 8,
    "start_time": "2023-02-05T11:08:47.241Z"
   },
   {
    "duration": 12,
    "start_time": "2023-02-05T11:08:47.250Z"
   },
   {
    "duration": 10,
    "start_time": "2023-02-05T11:08:47.264Z"
   },
   {
    "duration": 31,
    "start_time": "2023-02-05T11:08:47.275Z"
   },
   {
    "duration": 9,
    "start_time": "2023-02-05T11:08:47.308Z"
   },
   {
    "duration": 19,
    "start_time": "2023-02-05T11:08:47.318Z"
   },
   {
    "duration": 16,
    "start_time": "2023-02-05T11:08:47.339Z"
   },
   {
    "duration": 19,
    "start_time": "2023-02-05T11:08:47.356Z"
   },
   {
    "duration": 16,
    "start_time": "2023-02-05T11:08:47.377Z"
   },
   {
    "duration": 3,
    "start_time": "2023-02-05T11:08:47.395Z"
   },
   {
    "duration": 21,
    "start_time": "2023-02-05T11:08:47.399Z"
   },
   {
    "duration": 16,
    "start_time": "2023-02-05T11:08:47.421Z"
   },
   {
    "duration": 3,
    "start_time": "2023-02-05T11:08:47.439Z"
   },
   {
    "duration": 18,
    "start_time": "2023-02-05T11:08:47.443Z"
   },
   {
    "duration": 35,
    "start_time": "2023-02-05T11:08:47.463Z"
   },
   {
    "duration": 7,
    "start_time": "2023-02-05T11:08:47.499Z"
   },
   {
    "duration": 15,
    "start_time": "2023-02-05T11:08:47.508Z"
   },
   {
    "duration": 21,
    "start_time": "2023-02-05T11:08:47.525Z"
   },
   {
    "duration": 147,
    "start_time": "2023-02-05T11:08:47.547Z"
   },
   {
    "duration": 5,
    "start_time": "2023-02-05T11:08:47.696Z"
   },
   {
    "duration": 5,
    "start_time": "2023-02-05T11:08:47.704Z"
   },
   {
    "duration": 30,
    "start_time": "2023-02-05T11:08:47.710Z"
   },
   {
    "duration": 7,
    "start_time": "2023-02-05T11:08:47.741Z"
   },
   {
    "duration": 8,
    "start_time": "2023-02-05T11:08:47.749Z"
   },
   {
    "duration": 4,
    "start_time": "2023-02-05T11:08:47.758Z"
   },
   {
    "duration": 133,
    "start_time": "2023-02-05T11:08:47.764Z"
   },
   {
    "duration": 5,
    "start_time": "2023-02-05T11:08:47.899Z"
   },
   {
    "duration": 40,
    "start_time": "2023-02-05T11:08:47.905Z"
   },
   {
    "duration": 7,
    "start_time": "2023-02-05T11:08:47.946Z"
   },
   {
    "duration": 8,
    "start_time": "2023-02-05T11:08:47.955Z"
   },
   {
    "duration": 6,
    "start_time": "2023-02-05T11:08:47.964Z"
   },
   {
    "duration": 4,
    "start_time": "2023-02-05T11:09:13.553Z"
   },
   {
    "duration": 65,
    "start_time": "2023-02-05T11:09:23.773Z"
   },
   {
    "duration": 14,
    "start_time": "2023-02-05T11:09:23.839Z"
   },
   {
    "duration": 15,
    "start_time": "2023-02-05T11:09:23.855Z"
   },
   {
    "duration": 8,
    "start_time": "2023-02-05T11:09:23.872Z"
   },
   {
    "duration": 32,
    "start_time": "2023-02-05T11:09:23.881Z"
   },
   {
    "duration": 3,
    "start_time": "2023-02-05T11:09:23.915Z"
   },
   {
    "duration": 23,
    "start_time": "2023-02-05T11:09:23.919Z"
   },
   {
    "duration": 3,
    "start_time": "2023-02-05T11:09:23.944Z"
   },
   {
    "duration": 8,
    "start_time": "2023-02-05T11:09:23.949Z"
   },
   {
    "duration": 3,
    "start_time": "2023-02-05T11:09:23.960Z"
   },
   {
    "duration": 31,
    "start_time": "2023-02-05T11:09:23.965Z"
   },
   {
    "duration": 9,
    "start_time": "2023-02-05T11:09:23.997Z"
   },
   {
    "duration": 30,
    "start_time": "2023-02-05T11:09:24.007Z"
   },
   {
    "duration": 9,
    "start_time": "2023-02-05T11:09:24.039Z"
   },
   {
    "duration": 20,
    "start_time": "2023-02-05T11:09:24.049Z"
   },
   {
    "duration": 18,
    "start_time": "2023-02-05T11:09:24.070Z"
   },
   {
    "duration": 3,
    "start_time": "2023-02-05T11:09:24.090Z"
   },
   {
    "duration": 14,
    "start_time": "2023-02-05T11:09:24.095Z"
   },
   {
    "duration": 27,
    "start_time": "2023-02-05T11:09:24.111Z"
   },
   {
    "duration": 3,
    "start_time": "2023-02-05T11:09:24.139Z"
   },
   {
    "duration": 14,
    "start_time": "2023-02-05T11:09:24.143Z"
   },
   {
    "duration": 28,
    "start_time": "2023-02-05T11:09:24.158Z"
   },
   {
    "duration": 7,
    "start_time": "2023-02-05T11:09:24.187Z"
   },
   {
    "duration": 7,
    "start_time": "2023-02-05T11:09:24.195Z"
   },
   {
    "duration": 70,
    "start_time": "2023-02-05T11:10:25.196Z"
   },
   {
    "duration": 16,
    "start_time": "2023-02-05T11:10:25.268Z"
   },
   {
    "duration": 15,
    "start_time": "2023-02-05T11:10:25.286Z"
   },
   {
    "duration": 8,
    "start_time": "2023-02-05T11:10:25.303Z"
   },
   {
    "duration": 51,
    "start_time": "2023-02-05T11:10:25.313Z"
   },
   {
    "duration": 4,
    "start_time": "2023-02-05T11:10:25.366Z"
   },
   {
    "duration": 11,
    "start_time": "2023-02-05T11:10:25.371Z"
   },
   {
    "duration": 6,
    "start_time": "2023-02-05T11:10:25.383Z"
   },
   {
    "duration": 5,
    "start_time": "2023-02-05T11:10:25.391Z"
   },
   {
    "duration": 6,
    "start_time": "2023-02-05T11:10:25.399Z"
   },
   {
    "duration": 58,
    "start_time": "2023-02-05T11:10:25.407Z"
   },
   {
    "duration": 10,
    "start_time": "2023-02-05T11:10:25.467Z"
   },
   {
    "duration": 4,
    "start_time": "2023-02-05T11:10:25.479Z"
   },
   {
    "duration": 16,
    "start_time": "2023-02-05T11:10:25.485Z"
   },
   {
    "duration": 39,
    "start_time": "2023-02-05T11:10:25.502Z"
   },
   {
    "duration": 18,
    "start_time": "2023-02-05T11:10:25.543Z"
   },
   {
    "duration": 3,
    "start_time": "2023-02-05T11:10:25.563Z"
   },
   {
    "duration": 12,
    "start_time": "2023-02-05T11:10:25.567Z"
   },
   {
    "duration": 6,
    "start_time": "2023-02-05T11:10:25.580Z"
   },
   {
    "duration": 3,
    "start_time": "2023-02-05T11:10:25.587Z"
   },
   {
    "duration": 10,
    "start_time": "2023-02-05T11:10:25.592Z"
   },
   {
    "duration": 58,
    "start_time": "2023-02-05T11:10:25.604Z"
   },
   {
    "duration": 9,
    "start_time": "2023-02-05T11:10:25.664Z"
   },
   {
    "duration": 12,
    "start_time": "2023-02-05T11:10:25.675Z"
   },
   {
    "duration": 4,
    "start_time": "2023-02-05T11:10:25.688Z"
   },
   {
    "duration": 146,
    "start_time": "2023-02-05T11:10:25.693Z"
   },
   {
    "duration": 5,
    "start_time": "2023-02-05T11:10:25.840Z"
   },
   {
    "duration": 25,
    "start_time": "2023-02-05T11:10:25.847Z"
   },
   {
    "duration": 6,
    "start_time": "2023-02-05T11:10:25.873Z"
   },
   {
    "duration": 3,
    "start_time": "2023-02-05T11:10:25.881Z"
   },
   {
    "duration": 3,
    "start_time": "2023-02-05T11:10:25.886Z"
   },
   {
    "duration": 20,
    "start_time": "2023-02-05T11:10:50.756Z"
   },
   {
    "duration": 8,
    "start_time": "2023-02-05T11:10:51.888Z"
   },
   {
    "duration": 221,
    "start_time": "2023-02-05T12:35:02.137Z"
   },
   {
    "duration": 122,
    "start_time": "2023-02-05T12:35:03.264Z"
   },
   {
    "duration": 5,
    "start_time": "2023-02-05T12:35:04.002Z"
   },
   {
    "duration": 20,
    "start_time": "2023-02-05T12:35:04.699Z"
   },
   {
    "duration": 7,
    "start_time": "2023-02-05T12:35:05.416Z"
   },
   {
    "duration": 64,
    "start_time": "2023-02-05T12:35:10.057Z"
   },
   {
    "duration": 15,
    "start_time": "2023-02-05T12:35:10.123Z"
   },
   {
    "duration": 24,
    "start_time": "2023-02-05T12:35:10.139Z"
   },
   {
    "duration": 8,
    "start_time": "2023-02-05T12:35:10.165Z"
   },
   {
    "duration": 35,
    "start_time": "2023-02-05T12:35:10.175Z"
   },
   {
    "duration": 4,
    "start_time": "2023-02-05T12:35:10.212Z"
   },
   {
    "duration": 24,
    "start_time": "2023-02-05T12:35:10.217Z"
   },
   {
    "duration": 4,
    "start_time": "2023-02-05T12:35:10.243Z"
   },
   {
    "duration": 9,
    "start_time": "2023-02-05T12:35:10.248Z"
   },
   {
    "duration": 4,
    "start_time": "2023-02-05T12:35:10.260Z"
   },
   {
    "duration": 32,
    "start_time": "2023-02-05T12:35:10.265Z"
   },
   {
    "duration": 9,
    "start_time": "2023-02-05T12:35:10.298Z"
   },
   {
    "duration": 4,
    "start_time": "2023-02-05T12:35:10.309Z"
   },
   {
    "duration": 36,
    "start_time": "2023-02-05T12:35:10.314Z"
   },
   {
    "duration": 33,
    "start_time": "2023-02-05T12:35:10.351Z"
   },
   {
    "duration": 17,
    "start_time": "2023-02-05T12:35:10.385Z"
   },
   {
    "duration": 3,
    "start_time": "2023-02-05T12:35:10.404Z"
   },
   {
    "duration": 13,
    "start_time": "2023-02-05T12:35:10.408Z"
   },
   {
    "duration": 5,
    "start_time": "2023-02-05T12:35:10.422Z"
   },
   {
    "duration": 3,
    "start_time": "2023-02-05T12:35:10.447Z"
   },
   {
    "duration": 13,
    "start_time": "2023-02-05T12:35:10.452Z"
   },
   {
    "duration": 23,
    "start_time": "2023-02-05T12:35:10.467Z"
   },
   {
    "duration": 7,
    "start_time": "2023-02-05T12:35:10.491Z"
   },
   {
    "duration": 10,
    "start_time": "2023-02-05T12:35:10.499Z"
   },
   {
    "duration": 238,
    "start_time": "2023-02-05T12:35:10.510Z"
   },
   {
    "duration": 0,
    "start_time": "2023-02-05T12:35:10.750Z"
   },
   {
    "duration": 0,
    "start_time": "2023-02-05T12:35:10.751Z"
   },
   {
    "duration": 0,
    "start_time": "2023-02-05T12:35:10.753Z"
   },
   {
    "duration": 0,
    "start_time": "2023-02-05T12:35:10.755Z"
   },
   {
    "duration": 72,
    "start_time": "2023-02-05T12:35:27.654Z"
   },
   {
    "duration": 3,
    "start_time": "2023-02-05T12:35:41.928Z"
   },
   {
    "duration": 146,
    "start_time": "2023-02-05T12:35:43.610Z"
   },
   {
    "duration": 5,
    "start_time": "2023-02-05T12:35:43.758Z"
   },
   {
    "duration": 19,
    "start_time": "2023-02-05T12:35:44.178Z"
   },
   {
    "duration": 8,
    "start_time": "2023-02-05T12:35:44.476Z"
   },
   {
    "duration": 13,
    "start_time": "2023-02-05T13:03:10.764Z"
   },
   {
    "duration": 12,
    "start_time": "2023-02-05T13:05:01.269Z"
   },
   {
    "duration": 11,
    "start_time": "2023-02-05T13:05:17.899Z"
   },
   {
    "duration": 6,
    "start_time": "2023-02-05T13:06:01.647Z"
   },
   {
    "duration": 8,
    "start_time": "2023-02-05T13:06:55.563Z"
   },
   {
    "duration": 7,
    "start_time": "2023-02-05T13:07:40.717Z"
   },
   {
    "duration": 4,
    "start_time": "2023-02-05T13:08:06.619Z"
   },
   {
    "duration": 4,
    "start_time": "2023-02-05T13:08:44.789Z"
   },
   {
    "duration": 4,
    "start_time": "2023-02-05T13:09:44.092Z"
   },
   {
    "duration": 4,
    "start_time": "2023-02-05T13:09:45.882Z"
   },
   {
    "duration": 6,
    "start_time": "2023-02-05T13:09:52.422Z"
   },
   {
    "duration": 6,
    "start_time": "2023-02-05T13:10:02.037Z"
   },
   {
    "duration": 4,
    "start_time": "2023-02-05T13:10:16.184Z"
   },
   {
    "duration": 5,
    "start_time": "2023-02-05T13:11:23.139Z"
   },
   {
    "duration": 8,
    "start_time": "2023-02-05T13:12:10.976Z"
   },
   {
    "duration": 4,
    "start_time": "2023-02-05T13:12:21.775Z"
   },
   {
    "duration": 9,
    "start_time": "2023-02-05T13:13:01.102Z"
   },
   {
    "duration": 31,
    "start_time": "2023-02-05T13:13:32.290Z"
   },
   {
    "duration": 9,
    "start_time": "2023-02-05T13:13:47.592Z"
   },
   {
    "duration": 8,
    "start_time": "2023-02-05T13:16:27.964Z"
   },
   {
    "duration": 8,
    "start_time": "2023-02-05T13:16:37.504Z"
   },
   {
    "duration": 8,
    "start_time": "2023-02-05T13:18:11.517Z"
   },
   {
    "duration": 9,
    "start_time": "2023-02-05T13:23:06.223Z"
   },
   {
    "duration": 3,
    "start_time": "2023-02-05T13:34:49.523Z"
   },
   {
    "duration": 846,
    "start_time": "2023-02-05T13:36:46.063Z"
   },
   {
    "duration": 4,
    "start_time": "2023-02-05T13:36:49.470Z"
   },
   {
    "duration": 783,
    "start_time": "2023-02-05T13:36:50.741Z"
   },
   {
    "duration": 4,
    "start_time": "2023-02-05T13:37:37.420Z"
   },
   {
    "duration": 828,
    "start_time": "2023-02-05T13:37:38.212Z"
   },
   {
    "duration": 17,
    "start_time": "2023-02-05T13:38:08.815Z"
   },
   {
    "duration": 3,
    "start_time": "2023-02-05T13:38:19.399Z"
   },
   {
    "duration": 17,
    "start_time": "2023-02-05T13:38:20.175Z"
   },
   {
    "duration": 4,
    "start_time": "2023-02-05T13:38:46.132Z"
   },
   {
    "duration": 120,
    "start_time": "2023-02-05T13:38:46.854Z"
   },
   {
    "duration": 5,
    "start_time": "2023-02-05T13:39:21.168Z"
   },
   {
    "duration": 129,
    "start_time": "2023-02-05T13:40:21.764Z"
   },
   {
    "duration": 5,
    "start_time": "2023-02-05T13:40:22.437Z"
   },
   {
    "duration": 5,
    "start_time": "2023-02-05T13:40:53.798Z"
   },
   {
    "duration": 22,
    "start_time": "2023-02-05T13:43:10.339Z"
   },
   {
    "duration": 8,
    "start_time": "2023-02-05T13:43:33.539Z"
   },
   {
    "duration": 10,
    "start_time": "2023-02-05T13:44:04.420Z"
   },
   {
    "duration": 7,
    "start_time": "2023-02-05T13:44:16.499Z"
   },
   {
    "duration": 4,
    "start_time": "2023-02-05T13:45:56.850Z"
   },
   {
    "duration": 120,
    "start_time": "2023-02-05T13:45:57.880Z"
   },
   {
    "duration": 5,
    "start_time": "2023-02-05T13:45:58.505Z"
   },
   {
    "duration": 21,
    "start_time": "2023-02-05T13:46:00.126Z"
   },
   {
    "duration": 8,
    "start_time": "2023-02-05T13:46:00.996Z"
   },
   {
    "duration": 5,
    "start_time": "2023-02-05T13:47:30.988Z"
   },
   {
    "duration": 142,
    "start_time": "2023-02-05T13:47:31.772Z"
   },
   {
    "duration": 5,
    "start_time": "2023-02-05T13:47:32.232Z"
   },
   {
    "duration": 24,
    "start_time": "2023-02-05T13:47:32.986Z"
   },
   {
    "duration": 10,
    "start_time": "2023-02-05T13:47:33.975Z"
   },
   {
    "duration": 3,
    "start_time": "2023-02-05T13:48:45.180Z"
   },
   {
    "duration": 127,
    "start_time": "2023-02-05T13:48:45.704Z"
   },
   {
    "duration": 5,
    "start_time": "2023-02-05T13:48:46.132Z"
   },
   {
    "duration": 20,
    "start_time": "2023-02-05T13:48:46.772Z"
   },
   {
    "duration": 8,
    "start_time": "2023-02-05T13:48:47.461Z"
   },
   {
    "duration": 3,
    "start_time": "2023-02-05T13:54:29.486Z"
   },
   {
    "duration": 157,
    "start_time": "2023-02-05T13:54:30.215Z"
   },
   {
    "duration": 5,
    "start_time": "2023-02-05T13:54:30.755Z"
   },
   {
    "duration": 19,
    "start_time": "2023-02-05T13:54:31.754Z"
   },
   {
    "duration": 10,
    "start_time": "2023-02-05T13:54:32.483Z"
   },
   {
    "duration": 67,
    "start_time": "2023-02-05T13:55:22.263Z"
   },
   {
    "duration": 72,
    "start_time": "2023-02-05T13:56:16.330Z"
   },
   {
    "duration": 71,
    "start_time": "2023-02-05T13:56:26.564Z"
   },
   {
    "duration": 90,
    "start_time": "2023-02-05T13:56:34.677Z"
   },
   {
    "duration": 77,
    "start_time": "2023-02-05T13:56:48.411Z"
   },
   {
    "duration": 75,
    "start_time": "2023-02-05T13:56:55.700Z"
   },
   {
    "duration": 21,
    "start_time": "2023-02-05T13:57:13.142Z"
   },
   {
    "duration": 7,
    "start_time": "2023-02-05T13:57:13.776Z"
   },
   {
    "duration": 5,
    "start_time": "2023-02-05T14:07:45.427Z"
   },
   {
    "duration": 16,
    "start_time": "2023-02-05T14:08:20.289Z"
   },
   {
    "duration": 6,
    "start_time": "2023-02-05T14:08:47.647Z"
   },
   {
    "duration": 21,
    "start_time": "2023-02-05T14:10:39.460Z"
   },
   {
    "duration": 8,
    "start_time": "2023-02-05T14:11:02.128Z"
   },
   {
    "duration": 21,
    "start_time": "2023-02-05T14:11:20.274Z"
   },
   {
    "duration": 58,
    "start_time": "2023-02-05T14:11:34.587Z"
   },
   {
    "duration": 14,
    "start_time": "2023-02-05T14:11:34.647Z"
   },
   {
    "duration": 14,
    "start_time": "2023-02-05T14:11:34.662Z"
   },
   {
    "duration": 8,
    "start_time": "2023-02-05T14:11:34.678Z"
   },
   {
    "duration": 32,
    "start_time": "2023-02-05T14:11:34.687Z"
   },
   {
    "duration": 18,
    "start_time": "2023-02-05T14:11:34.720Z"
   },
   {
    "duration": 11,
    "start_time": "2023-02-05T14:11:34.739Z"
   },
   {
    "duration": 4,
    "start_time": "2023-02-05T14:11:34.752Z"
   },
   {
    "duration": 12,
    "start_time": "2023-02-05T14:11:34.757Z"
   },
   {
    "duration": 4,
    "start_time": "2023-02-05T14:11:34.771Z"
   },
   {
    "duration": 40,
    "start_time": "2023-02-05T14:11:34.776Z"
   },
   {
    "duration": 20,
    "start_time": "2023-02-05T14:11:34.818Z"
   },
   {
    "duration": 4,
    "start_time": "2023-02-05T14:11:34.839Z"
   },
   {
    "duration": 14,
    "start_time": "2023-02-05T14:11:34.844Z"
   },
   {
    "duration": 21,
    "start_time": "2023-02-05T14:11:34.859Z"
   },
   {
    "duration": 16,
    "start_time": "2023-02-05T14:11:34.882Z"
   },
   {
    "duration": 7,
    "start_time": "2023-02-05T14:11:34.900Z"
   },
   {
    "duration": 29,
    "start_time": "2023-02-05T14:11:34.909Z"
   },
   {
    "duration": 22,
    "start_time": "2023-02-05T14:11:34.939Z"
   },
   {
    "duration": 4,
    "start_time": "2023-02-05T14:11:34.963Z"
   },
   {
    "duration": 19,
    "start_time": "2023-02-05T14:11:34.968Z"
   },
   {
    "duration": 25,
    "start_time": "2023-02-05T14:11:34.989Z"
   },
   {
    "duration": 8,
    "start_time": "2023-02-05T14:11:35.015Z"
   },
   {
    "duration": 20,
    "start_time": "2023-02-05T14:11:35.024Z"
   },
   {
    "duration": 10,
    "start_time": "2023-02-05T14:11:35.045Z"
   },
   {
    "duration": 144,
    "start_time": "2023-02-05T14:11:35.056Z"
   },
   {
    "duration": 5,
    "start_time": "2023-02-05T14:11:35.202Z"
   },
   {
    "duration": 27,
    "start_time": "2023-02-05T14:11:35.210Z"
   },
   {
    "duration": 8,
    "start_time": "2023-02-05T14:11:35.239Z"
   },
   {
    "duration": 13,
    "start_time": "2023-02-05T14:11:35.248Z"
   },
   {
    "duration": 4,
    "start_time": "2023-02-05T14:11:35.262Z"
   },
   {
    "duration": 139,
    "start_time": "2023-02-05T14:11:35.268Z"
   },
   {
    "duration": 4,
    "start_time": "2023-02-05T14:11:35.409Z"
   },
   {
    "duration": 31,
    "start_time": "2023-02-05T14:11:35.415Z"
   },
   {
    "duration": 8,
    "start_time": "2023-02-05T14:11:35.447Z"
   },
   {
    "duration": 8,
    "start_time": "2023-02-05T14:11:35.456Z"
   },
   {
    "duration": 35,
    "start_time": "2023-02-05T14:11:35.465Z"
   },
   {
    "duration": 7,
    "start_time": "2023-02-05T14:11:35.502Z"
   },
   {
    "duration": 9,
    "start_time": "2023-02-05T14:57:43.940Z"
   },
   {
    "duration": 19,
    "start_time": "2023-02-05T14:57:59.900Z"
   },
   {
    "duration": 1072,
    "start_time": "2023-02-05T14:58:51.397Z"
   },
   {
    "duration": 10,
    "start_time": "2023-02-05T14:59:08.874Z"
   },
   {
    "duration": 9,
    "start_time": "2023-02-05T15:00:02.821Z"
   },
   {
    "duration": 15,
    "start_time": "2023-02-05T15:00:10.469Z"
   },
   {
    "duration": 15,
    "start_time": "2023-02-05T15:00:24.103Z"
   },
   {
    "duration": 21,
    "start_time": "2023-02-05T15:00:53.226Z"
   },
   {
    "duration": 5,
    "start_time": "2023-02-05T15:01:06.394Z"
   },
   {
    "duration": 8,
    "start_time": "2023-02-05T15:01:23.601Z"
   },
   {
    "duration": 17,
    "start_time": "2023-02-05T15:01:41.979Z"
   },
   {
    "duration": 8,
    "start_time": "2023-02-05T15:01:50.997Z"
   },
   {
    "duration": 9,
    "start_time": "2023-02-05T15:02:24.535Z"
   },
   {
    "duration": 8,
    "start_time": "2023-02-05T15:02:48.064Z"
   },
   {
    "duration": 9,
    "start_time": "2023-02-05T15:02:52.965Z"
   },
   {
    "duration": 61,
    "start_time": "2023-02-05T15:03:04.519Z"
   },
   {
    "duration": 14,
    "start_time": "2023-02-05T15:03:04.582Z"
   },
   {
    "duration": 15,
    "start_time": "2023-02-05T15:03:04.598Z"
   },
   {
    "duration": 26,
    "start_time": "2023-02-05T15:03:04.615Z"
   },
   {
    "duration": 30,
    "start_time": "2023-02-05T15:03:04.642Z"
   },
   {
    "duration": 3,
    "start_time": "2023-02-05T15:03:04.674Z"
   },
   {
    "duration": 12,
    "start_time": "2023-02-05T15:03:04.678Z"
   },
   {
    "duration": 4,
    "start_time": "2023-02-05T15:03:04.692Z"
   },
   {
    "duration": 6,
    "start_time": "2023-02-05T15:03:04.698Z"
   },
   {
    "duration": 4,
    "start_time": "2023-02-05T15:03:04.707Z"
   },
   {
    "duration": 30,
    "start_time": "2023-02-05T15:03:04.737Z"
   },
   {
    "duration": 9,
    "start_time": "2023-02-05T15:03:04.769Z"
   },
   {
    "duration": 4,
    "start_time": "2023-02-05T15:03:04.780Z"
   },
   {
    "duration": 20,
    "start_time": "2023-02-05T15:03:04.785Z"
   },
   {
    "duration": 37,
    "start_time": "2023-02-05T15:03:04.807Z"
   },
   {
    "duration": 16,
    "start_time": "2023-02-05T15:03:04.845Z"
   },
   {
    "duration": 3,
    "start_time": "2023-02-05T15:03:04.863Z"
   },
   {
    "duration": 27,
    "start_time": "2023-02-05T15:03:04.867Z"
   },
   {
    "duration": 6,
    "start_time": "2023-02-05T15:03:04.895Z"
   },
   {
    "duration": 18,
    "start_time": "2023-02-05T15:03:04.902Z"
   },
   {
    "duration": 20,
    "start_time": "2023-02-05T15:03:04.921Z"
   },
   {
    "duration": 24,
    "start_time": "2023-02-05T15:03:04.943Z"
   },
   {
    "duration": 7,
    "start_time": "2023-02-05T15:03:04.969Z"
   },
   {
    "duration": 7,
    "start_time": "2023-02-05T15:03:04.978Z"
   },
   {
    "duration": 3,
    "start_time": "2023-02-05T15:03:04.987Z"
   },
   {
    "duration": 146,
    "start_time": "2023-02-05T15:03:04.991Z"
   },
   {
    "duration": 6,
    "start_time": "2023-02-05T15:03:05.138Z"
   },
   {
    "duration": 22,
    "start_time": "2023-02-05T15:03:05.148Z"
   },
   {
    "duration": 9,
    "start_time": "2023-02-05T15:03:05.171Z"
   },
   {
    "duration": 17,
    "start_time": "2023-02-05T15:03:05.181Z"
   },
   {
    "duration": 3,
    "start_time": "2023-02-05T15:03:05.199Z"
   },
   {
    "duration": 143,
    "start_time": "2023-02-05T15:03:05.203Z"
   },
   {
    "duration": 4,
    "start_time": "2023-02-05T15:03:05.348Z"
   },
   {
    "duration": 24,
    "start_time": "2023-02-05T15:03:05.354Z"
   },
   {
    "duration": 7,
    "start_time": "2023-02-05T15:03:05.379Z"
   },
   {
    "duration": 19,
    "start_time": "2023-02-05T15:03:05.388Z"
   },
   {
    "duration": 23,
    "start_time": "2023-02-05T15:03:05.409Z"
   },
   {
    "duration": 7,
    "start_time": "2023-02-05T15:03:05.436Z"
   },
   {
    "duration": 8,
    "start_time": "2023-02-05T15:22:13.164Z"
   },
   {
    "duration": 8,
    "start_time": "2023-02-05T15:22:20.970Z"
   },
   {
    "duration": 12,
    "start_time": "2023-02-05T15:23:01.332Z"
   },
   {
    "duration": 60,
    "start_time": "2023-02-05T15:23:09.364Z"
   },
   {
    "duration": 14,
    "start_time": "2023-02-05T15:23:10.946Z"
   },
   {
    "duration": 16,
    "start_time": "2023-02-05T15:23:12.416Z"
   },
   {
    "duration": 16,
    "start_time": "2023-02-05T15:23:26.828Z"
   },
   {
    "duration": 20,
    "start_time": "2023-02-05T15:23:40.711Z"
   },
   {
    "duration": 65,
    "start_time": "2023-02-05T15:23:54.457Z"
   },
   {
    "duration": 14,
    "start_time": "2023-02-05T15:23:54.524Z"
   },
   {
    "duration": 14,
    "start_time": "2023-02-05T15:23:54.539Z"
   },
   {
    "duration": 10,
    "start_time": "2023-02-05T15:23:54.555Z"
   },
   {
    "duration": 32,
    "start_time": "2023-02-05T15:23:54.567Z"
   },
   {
    "duration": 4,
    "start_time": "2023-02-05T15:23:54.600Z"
   },
   {
    "duration": 12,
    "start_time": "2023-02-05T15:23:54.605Z"
   },
   {
    "duration": 4,
    "start_time": "2023-02-05T15:23:54.638Z"
   },
   {
    "duration": 8,
    "start_time": "2023-02-05T15:23:54.643Z"
   },
   {
    "duration": 4,
    "start_time": "2023-02-05T15:23:54.653Z"
   },
   {
    "duration": 31,
    "start_time": "2023-02-05T15:23:54.658Z"
   },
   {
    "duration": 9,
    "start_time": "2023-02-05T15:23:54.690Z"
   },
   {
    "duration": 4,
    "start_time": "2023-02-05T15:23:54.700Z"
   },
   {
    "duration": 10,
    "start_time": "2023-02-05T15:23:54.738Z"
   },
   {
    "duration": 19,
    "start_time": "2023-02-05T15:23:54.749Z"
   },
   {
    "duration": 17,
    "start_time": "2023-02-05T15:23:54.770Z"
   },
   {
    "duration": 4,
    "start_time": "2023-02-05T15:23:54.789Z"
   },
   {
    "duration": 24,
    "start_time": "2023-02-05T15:23:54.794Z"
   },
   {
    "duration": 20,
    "start_time": "2023-02-05T15:23:54.820Z"
   },
   {
    "duration": 5,
    "start_time": "2023-02-05T15:23:54.842Z"
   },
   {
    "duration": 12,
    "start_time": "2023-02-05T15:23:54.848Z"
   },
   {
    "duration": 26,
    "start_time": "2023-02-05T15:23:54.861Z"
   },
   {
    "duration": 8,
    "start_time": "2023-02-05T15:23:54.888Z"
   },
   {
    "duration": 12,
    "start_time": "2023-02-05T15:23:54.897Z"
   },
   {
    "duration": 28,
    "start_time": "2023-02-05T15:23:54.910Z"
   },
   {
    "duration": 134,
    "start_time": "2023-02-05T15:23:54.940Z"
   },
   {
    "duration": 5,
    "start_time": "2023-02-05T15:23:55.077Z"
   },
   {
    "duration": 24,
    "start_time": "2023-02-05T15:23:55.084Z"
   },
   {
    "duration": 7,
    "start_time": "2023-02-05T15:23:55.110Z"
   },
   {
    "duration": 9,
    "start_time": "2023-02-05T15:23:55.137Z"
   },
   {
    "duration": 3,
    "start_time": "2023-02-05T15:23:55.148Z"
   },
   {
    "duration": 148,
    "start_time": "2023-02-05T15:23:55.153Z"
   },
   {
    "duration": 5,
    "start_time": "2023-02-05T15:23:55.303Z"
   },
   {
    "duration": 37,
    "start_time": "2023-02-05T15:23:55.309Z"
   },
   {
    "duration": 8,
    "start_time": "2023-02-05T15:23:55.348Z"
   },
   {
    "duration": 7,
    "start_time": "2023-02-05T15:23:55.358Z"
   },
   {
    "duration": 23,
    "start_time": "2023-02-05T15:23:55.367Z"
   },
   {
    "duration": 8,
    "start_time": "2023-02-05T15:23:55.391Z"
   },
   {
    "duration": 9,
    "start_time": "2023-02-05T15:37:06.960Z"
   },
   {
    "duration": 68,
    "start_time": "2023-02-05T15:37:12.404Z"
   },
   {
    "duration": 15,
    "start_time": "2023-02-05T15:37:13.648Z"
   },
   {
    "duration": 18,
    "start_time": "2023-02-05T15:37:14.365Z"
   },
   {
    "duration": 72,
    "start_time": "2023-02-05T15:39:14.432Z"
   },
   {
    "duration": 13,
    "start_time": "2023-02-05T15:39:14.506Z"
   },
   {
    "duration": 16,
    "start_time": "2023-02-05T15:39:14.521Z"
   },
   {
    "duration": 9,
    "start_time": "2023-02-05T15:39:14.538Z"
   },
   {
    "duration": 34,
    "start_time": "2023-02-05T15:39:14.548Z"
   },
   {
    "duration": 3,
    "start_time": "2023-02-05T15:39:14.584Z"
   },
   {
    "duration": 9,
    "start_time": "2023-02-05T15:39:14.589Z"
   },
   {
    "duration": 4,
    "start_time": "2023-02-05T15:39:14.599Z"
   },
   {
    "duration": 8,
    "start_time": "2023-02-05T15:39:14.604Z"
   },
   {
    "duration": 5,
    "start_time": "2023-02-05T15:39:14.636Z"
   },
   {
    "duration": 32,
    "start_time": "2023-02-05T15:39:14.642Z"
   },
   {
    "duration": 8,
    "start_time": "2023-02-05T15:39:14.675Z"
   },
   {
    "duration": 31,
    "start_time": "2023-02-05T15:39:14.684Z"
   },
   {
    "duration": 10,
    "start_time": "2023-02-05T15:39:14.716Z"
   },
   {
    "duration": 22,
    "start_time": "2023-02-05T15:39:14.728Z"
   },
   {
    "duration": 19,
    "start_time": "2023-02-05T15:39:14.752Z"
   },
   {
    "duration": 3,
    "start_time": "2023-02-05T15:39:14.772Z"
   },
   {
    "duration": 14,
    "start_time": "2023-02-05T15:39:14.777Z"
   },
   {
    "duration": 5,
    "start_time": "2023-02-05T15:39:14.792Z"
   },
   {
    "duration": 20,
    "start_time": "2023-02-05T15:39:14.799Z"
   },
   {
    "duration": 10,
    "start_time": "2023-02-05T15:39:14.821Z"
   },
   {
    "duration": 24,
    "start_time": "2023-02-05T15:39:14.832Z"
   },
   {
    "duration": 6,
    "start_time": "2023-02-05T15:39:14.858Z"
   },
   {
    "duration": 20,
    "start_time": "2023-02-05T15:39:14.865Z"
   },
   {
    "duration": 6,
    "start_time": "2023-02-05T15:39:14.886Z"
   },
   {
    "duration": 130,
    "start_time": "2023-02-05T15:39:14.893Z"
   },
   {
    "duration": 4,
    "start_time": "2023-02-05T15:39:15.025Z"
   },
   {
    "duration": 21,
    "start_time": "2023-02-05T15:39:15.038Z"
   },
   {
    "duration": 9,
    "start_time": "2023-02-05T15:39:15.061Z"
   },
   {
    "duration": 21,
    "start_time": "2023-02-05T15:39:15.072Z"
   },
   {
    "duration": 8,
    "start_time": "2023-02-05T15:39:15.094Z"
   },
   {
    "duration": 133,
    "start_time": "2023-02-05T15:39:15.103Z"
   },
   {
    "duration": 5,
    "start_time": "2023-02-05T15:39:15.237Z"
   },
   {
    "duration": 33,
    "start_time": "2023-02-05T15:39:15.243Z"
   },
   {
    "duration": 7,
    "start_time": "2023-02-05T15:39:15.278Z"
   },
   {
    "duration": 10,
    "start_time": "2023-02-05T15:39:15.286Z"
   },
   {
    "duration": 20,
    "start_time": "2023-02-05T15:39:15.297Z"
   },
   {
    "duration": 20,
    "start_time": "2023-02-05T15:39:15.318Z"
   },
   {
    "duration": 701,
    "start_time": "2023-02-07T07:13:20.294Z"
   },
   {
    "duration": 20,
    "start_time": "2023-02-07T07:13:20.997Z"
   },
   {
    "duration": 15,
    "start_time": "2023-02-07T07:13:21.019Z"
   },
   {
    "duration": 10,
    "start_time": "2023-02-07T07:13:21.036Z"
   },
   {
    "duration": 31,
    "start_time": "2023-02-07T07:13:21.048Z"
   },
   {
    "duration": 4,
    "start_time": "2023-02-07T07:13:21.080Z"
   },
   {
    "duration": 13,
    "start_time": "2023-02-07T07:13:21.085Z"
   },
   {
    "duration": 4,
    "start_time": "2023-02-07T07:13:21.099Z"
   },
   {
    "duration": 8,
    "start_time": "2023-02-07T07:13:21.104Z"
   },
   {
    "duration": 4,
    "start_time": "2023-02-07T07:13:21.114Z"
   },
   {
    "duration": 53,
    "start_time": "2023-02-07T07:13:21.120Z"
   },
   {
    "duration": 9,
    "start_time": "2023-02-07T07:13:21.174Z"
   },
   {
    "duration": 7,
    "start_time": "2023-02-07T07:13:21.185Z"
   },
   {
    "duration": 16,
    "start_time": "2023-02-07T07:13:21.194Z"
   },
   {
    "duration": 32,
    "start_time": "2023-02-07T07:13:21.211Z"
   },
   {
    "duration": 14,
    "start_time": "2023-02-07T07:13:21.244Z"
   },
   {
    "duration": 3,
    "start_time": "2023-02-07T07:13:21.260Z"
   },
   {
    "duration": 13,
    "start_time": "2023-02-07T07:13:21.264Z"
   },
   {
    "duration": 6,
    "start_time": "2023-02-07T07:13:21.278Z"
   },
   {
    "duration": 3,
    "start_time": "2023-02-07T07:13:21.285Z"
   },
   {
    "duration": 13,
    "start_time": "2023-02-07T07:13:21.290Z"
   },
   {
    "duration": 43,
    "start_time": "2023-02-07T07:13:21.304Z"
   },
   {
    "duration": 8,
    "start_time": "2023-02-07T07:13:21.348Z"
   },
   {
    "duration": 9,
    "start_time": "2023-02-07T07:13:21.358Z"
   },
   {
    "duration": 5,
    "start_time": "2023-02-07T07:13:21.369Z"
   },
   {
    "duration": 148,
    "start_time": "2023-02-07T07:13:21.376Z"
   },
   {
    "duration": 5,
    "start_time": "2023-02-07T07:13:21.526Z"
   },
   {
    "duration": 20,
    "start_time": "2023-02-07T07:13:21.543Z"
   },
   {
    "duration": 13,
    "start_time": "2023-02-07T07:13:21.564Z"
   },
   {
    "duration": 17,
    "start_time": "2023-02-07T07:13:21.579Z"
   },
   {
    "duration": 3,
    "start_time": "2023-02-07T07:13:21.598Z"
   },
   {
    "duration": 138,
    "start_time": "2023-02-07T07:13:21.602Z"
   },
   {
    "duration": 7,
    "start_time": "2023-02-07T07:13:21.744Z"
   },
   {
    "duration": 22,
    "start_time": "2023-02-07T07:13:21.752Z"
   },
   {
    "duration": 8,
    "start_time": "2023-02-07T07:13:21.776Z"
   },
   {
    "duration": 10,
    "start_time": "2023-02-07T07:13:21.785Z"
   },
   {
    "duration": 20,
    "start_time": "2023-02-07T07:13:21.796Z"
   },
   {
    "duration": 27,
    "start_time": "2023-02-07T07:13:21.818Z"
   }
  ],
  "colab": {
   "name": "dpp_template_part2.ipynb",
   "provenance": []
  },
  "kernelspec": {
   "display_name": "notebook-7.2.2",
   "language": "python",
   "name": "python3"
  },
  "language_info": {
   "codemirror_mode": {
    "name": "ipython",
    "version": 3
   },
   "file_extension": ".py",
   "mimetype": "text/x-python",
   "name": "python",
   "nbconvert_exporter": "python",
   "pygments_lexer": "ipython3",
   "version": "3.12.8"
  },
  "toc": {
   "base_numbering": 1,
   "nav_menu": {},
   "number_sections": true,
   "sideBar": true,
   "skip_h1_title": true,
   "title_cell": "Table of Contents",
   "title_sidebar": "Contents",
   "toc_cell": false,
   "toc_position": {},
   "toc_section_display": true,
   "toc_window_display": true
  }
 },
 "nbformat": 4,
 "nbformat_minor": 5
}
